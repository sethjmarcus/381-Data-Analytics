{
 "cells": [
  {
   "cell_type": "markdown",
   "metadata": {},
   "source": [
    "# DA_HW_3 Support Vector Machine and Decision Trees\n",
    "\n",
    "# Due on 5/10 23:59 pm"
   ]
  },
  {
   "cell_type": "code",
   "execution_count": 1,
   "metadata": {},
   "outputs": [],
   "source": [
    "import pandas as pd\n",
    "import numpy as np\n",
    "import matplotlib.pyplot as plt\n",
    "import seaborn as sns\n",
    "import warnings\n",
    "import random\n",
    "from sklearn import svm\n",
    "from sklearn import tree\n",
    "from sklearn.linear_model import LinearRegression\n",
    "from sklearn.model_selection import train_test_split\n",
    "from sklearn.metrics import classification_report,confusion_matrix,accuracy_score\n",
    "from sklearn import metrics\n",
    "from sklearn.tree import DecisionTreeClassifier\n",
    "from sklearn.ensemble import RandomForestClassifier\n",
    "warnings.filterwarnings('ignore')"
   ]
  },
  {
   "cell_type": "markdown",
   "metadata": {},
   "source": [
    "## We will use the same affair dataset from HW2, but will skip the EDA phrase we have done enough of it"
   ]
  },
  {
   "cell_type": "markdown",
   "metadata": {},
   "source": [
    "#### Everything removing outliers, create dummies variabes had been done for you"
   ]
  },
  {
   "cell_type": "code",
   "execution_count": 2,
   "metadata": {},
   "outputs": [
    {
     "data": {
      "text/html": [
       "<div>\n",
       "<style scoped>\n",
       "    .dataframe tbody tr th:only-of-type {\n",
       "        vertical-align: middle;\n",
       "    }\n",
       "\n",
       "    .dataframe tbody tr th {\n",
       "        vertical-align: top;\n",
       "    }\n",
       "\n",
       "    .dataframe thead th {\n",
       "        text-align: right;\n",
       "    }\n",
       "</style>\n",
       "<table border=\"1\" class=\"dataframe\">\n",
       "  <thead>\n",
       "    <tr style=\"text-align: right;\">\n",
       "      <th></th>\n",
       "      <th>rate_marriage</th>\n",
       "      <th>age</th>\n",
       "      <th>yrs_married</th>\n",
       "      <th>children</th>\n",
       "      <th>religious</th>\n",
       "      <th>educ</th>\n",
       "      <th>had_affair</th>\n",
       "      <th>occ2</th>\n",
       "      <th>occ3</th>\n",
       "      <th>occ4</th>\n",
       "      <th>occ5</th>\n",
       "      <th>occ6</th>\n",
       "    </tr>\n",
       "  </thead>\n",
       "  <tbody>\n",
       "    <tr>\n",
       "      <th>0</th>\n",
       "      <td>3.0</td>\n",
       "      <td>32.0</td>\n",
       "      <td>9.0</td>\n",
       "      <td>3.0</td>\n",
       "      <td>3.0</td>\n",
       "      <td>17.0</td>\n",
       "      <td>1</td>\n",
       "      <td>1</td>\n",
       "      <td>0</td>\n",
       "      <td>0</td>\n",
       "      <td>0</td>\n",
       "      <td>0</td>\n",
       "    </tr>\n",
       "    <tr>\n",
       "      <th>1</th>\n",
       "      <td>3.0</td>\n",
       "      <td>27.0</td>\n",
       "      <td>13.0</td>\n",
       "      <td>3.0</td>\n",
       "      <td>1.0</td>\n",
       "      <td>14.0</td>\n",
       "      <td>1</td>\n",
       "      <td>0</td>\n",
       "      <td>1</td>\n",
       "      <td>0</td>\n",
       "      <td>0</td>\n",
       "      <td>0</td>\n",
       "    </tr>\n",
       "    <tr>\n",
       "      <th>2</th>\n",
       "      <td>4.0</td>\n",
       "      <td>22.0</td>\n",
       "      <td>2.5</td>\n",
       "      <td>0.0</td>\n",
       "      <td>1.0</td>\n",
       "      <td>16.0</td>\n",
       "      <td>1</td>\n",
       "      <td>0</td>\n",
       "      <td>1</td>\n",
       "      <td>0</td>\n",
       "      <td>0</td>\n",
       "      <td>0</td>\n",
       "    </tr>\n",
       "    <tr>\n",
       "      <th>3</th>\n",
       "      <td>4.0</td>\n",
       "      <td>37.0</td>\n",
       "      <td>16.5</td>\n",
       "      <td>4.0</td>\n",
       "      <td>3.0</td>\n",
       "      <td>16.0</td>\n",
       "      <td>1</td>\n",
       "      <td>0</td>\n",
       "      <td>0</td>\n",
       "      <td>0</td>\n",
       "      <td>1</td>\n",
       "      <td>0</td>\n",
       "    </tr>\n",
       "    <tr>\n",
       "      <th>4</th>\n",
       "      <td>5.0</td>\n",
       "      <td>27.0</td>\n",
       "      <td>9.0</td>\n",
       "      <td>1.0</td>\n",
       "      <td>1.0</td>\n",
       "      <td>14.0</td>\n",
       "      <td>1</td>\n",
       "      <td>0</td>\n",
       "      <td>1</td>\n",
       "      <td>0</td>\n",
       "      <td>0</td>\n",
       "      <td>0</td>\n",
       "    </tr>\n",
       "  </tbody>\n",
       "</table>\n",
       "</div>"
      ],
      "text/plain": [
       "   rate_marriage   age  yrs_married  children  religious  educ  had_affair  \\\n",
       "0            3.0  32.0          9.0       3.0        3.0  17.0           1   \n",
       "1            3.0  27.0         13.0       3.0        1.0  14.0           1   \n",
       "2            4.0  22.0          2.5       0.0        1.0  16.0           1   \n",
       "3            4.0  37.0         16.5       4.0        3.0  16.0           1   \n",
       "4            5.0  27.0          9.0       1.0        1.0  14.0           1   \n",
       "\n",
       "   occ2  occ3  occ4  occ5  occ6  \n",
       "0     1     0     0     0     0  \n",
       "1     0     1     0     0     0  \n",
       "2     0     1     0     0     0  \n",
       "3     0     0     0     1     0  \n",
       "4     0     1     0     0     0  "
      ]
     },
     "execution_count": 2,
     "metadata": {},
     "output_type": "execute_result"
    }
   ],
   "source": [
    "# Remember the affair data set from HW3, we will use that dataset again\n",
    "# but we will directly load it from the API\n",
    "orig_df = pd.read_csv(\"affairs2.csv\")\n",
    "# Set up our target class label\n",
    "orig_df['had_affair'] = orig_df['affairs'].apply(lambda x: 1 if x != 0 else 0)\n",
    "orig_df = orig_df.drop('affairs',axis=1)\n",
    "# remove NA\n",
    "orig_df.dropna(inplace=True)\n",
    "# create dummies variable for occupation\n",
    "occ = pd.get_dummies(orig_df['occupation'],drop_first=True)\n",
    "# we include rate_marriage feature as well. In HW3, we did not include that variable\n",
    "features = ['rate_marriage','age','yrs_married','children','religious','educ', 'had_affair']\n",
    "df = orig_df\n",
    "df = pd.concat([orig_df[features], occ], axis=1)\n",
    "df.head()"
   ]
  },
  {
   "cell_type": "code",
   "execution_count": 3,
   "metadata": {},
   "outputs": [
    {
     "data": {
      "text/plain": [
       "rate_marriage    0\n",
       "age              0\n",
       "yrs_married      0\n",
       "children         0\n",
       "religious        0\n",
       "educ             0\n",
       "had_affair       0\n",
       "occ2             0\n",
       "occ3             0\n",
       "occ4             0\n",
       "occ5             0\n",
       "occ6             0\n",
       "dtype: int64"
      ]
     },
     "execution_count": 3,
     "metadata": {},
     "output_type": "execute_result"
    }
   ],
   "source": [
    "# make sure there is no missing values\n",
    "df.isnull().sum()"
   ]
  },
  {
   "cell_type": "markdown",
   "metadata": {},
   "source": [
    "### Now we are ready to build models"
   ]
  },
  {
   "cell_type": "markdown",
   "metadata": {},
   "source": [
    "### Question 1: Build a classification model using SVC using linear kernel without specifying the C-parameter"
   ]
  },
  {
   "cell_type": "code",
   "execution_count": 4,
   "metadata": {
    "scrolled": false
   },
   "outputs": [
    {
     "data": {
      "text/html": [
       "<div>\n",
       "<style scoped>\n",
       "    .dataframe tbody tr th:only-of-type {\n",
       "        vertical-align: middle;\n",
       "    }\n",
       "\n",
       "    .dataframe tbody tr th {\n",
       "        vertical-align: top;\n",
       "    }\n",
       "\n",
       "    .dataframe thead th {\n",
       "        text-align: right;\n",
       "    }\n",
       "</style>\n",
       "<table border=\"1\" class=\"dataframe\">\n",
       "  <thead>\n",
       "    <tr style=\"text-align: right;\">\n",
       "      <th></th>\n",
       "      <th>had_affair</th>\n",
       "    </tr>\n",
       "  </thead>\n",
       "  <tbody>\n",
       "    <tr>\n",
       "      <th>had_affair</th>\n",
       "      <td>1.000000</td>\n",
       "    </tr>\n",
       "    <tr>\n",
       "      <th>yrs_married</th>\n",
       "      <td>0.203109</td>\n",
       "    </tr>\n",
       "    <tr>\n",
       "      <th>children</th>\n",
       "      <td>0.159833</td>\n",
       "    </tr>\n",
       "    <tr>\n",
       "      <th>age</th>\n",
       "      <td>0.146519</td>\n",
       "    </tr>\n",
       "    <tr>\n",
       "      <th>occ5</th>\n",
       "      <td>0.073766</td>\n",
       "    </tr>\n",
       "    <tr>\n",
       "      <th>occ3</th>\n",
       "      <td>0.045729</td>\n",
       "    </tr>\n",
       "    <tr>\n",
       "      <th>occ6</th>\n",
       "      <td>0.012559</td>\n",
       "    </tr>\n",
       "    <tr>\n",
       "      <th>occ2</th>\n",
       "      <td>-0.024613</td>\n",
       "    </tr>\n",
       "    <tr>\n",
       "      <th>educ</th>\n",
       "      <td>-0.075280</td>\n",
       "    </tr>\n",
       "    <tr>\n",
       "      <th>occ4</th>\n",
       "      <td>-0.082706</td>\n",
       "    </tr>\n",
       "    <tr>\n",
       "      <th>religious</th>\n",
       "      <td>-0.129299</td>\n",
       "    </tr>\n",
       "    <tr>\n",
       "      <th>rate_marriage</th>\n",
       "      <td>-0.331776</td>\n",
       "    </tr>\n",
       "  </tbody>\n",
       "</table>\n",
       "</div>"
      ],
      "text/plain": [
       "               had_affair\n",
       "had_affair       1.000000\n",
       "yrs_married      0.203109\n",
       "children         0.159833\n",
       "age              0.146519\n",
       "occ5             0.073766\n",
       "occ3             0.045729\n",
       "occ6             0.012559\n",
       "occ2            -0.024613\n",
       "educ            -0.075280\n",
       "occ4            -0.082706\n",
       "religious       -0.129299\n",
       "rate_marriage   -0.331776"
      ]
     },
     "execution_count": 4,
     "metadata": {},
     "output_type": "execute_result"
    }
   ],
   "source": [
    "df.corr().filter(items=['had_affair']).sort_values('had_affair', ascending=False)"
   ]
  },
  {
   "cell_type": "markdown",
   "metadata": {},
   "source": [
    "#### Let's use the top 4 attributes in terms of absolute correlation (negative correlation can be just as useful as poitive correlation)"
   ]
  },
  {
   "cell_type": "code",
   "execution_count": 5,
   "metadata": {},
   "outputs": [],
   "source": [
    "X = df[['rate_marriage','yrs_married','children','age']].to_numpy()\n",
    "Y = df['had_affair'].to_numpy()"
   ]
  },
  {
   "cell_type": "code",
   "execution_count": 35,
   "metadata": {},
   "outputs": [],
   "source": [
    "X_train, X_test, Y_train, Y_test = train_test_split(X, Y, test_size=0.2, random_state=0)"
   ]
  },
  {
   "cell_type": "code",
   "execution_count": 7,
   "metadata": {},
   "outputs": [
    {
     "data": {
      "text/plain": [
       "SVC(kernel='linear')"
      ]
     },
     "execution_count": 7,
     "metadata": {},
     "output_type": "execute_result"
    }
   ],
   "source": [
    "svc = svm.SVC(kernel='linear')\n",
    "svc.fit(X_train, Y_train)"
   ]
  },
  {
   "cell_type": "code",
   "execution_count": 8,
   "metadata": {},
   "outputs": [
    {
     "data": {
      "text/plain": [
       "array([[838,  47],\n",
       "       [297,  92]], dtype=int64)"
      ]
     },
     "execution_count": 8,
     "metadata": {},
     "output_type": "execute_result"
    }
   ],
   "source": [
    "Y_pred = svc.predict(X_test)\n",
    "confusion_matrix(Y_test, Y_pred)"
   ]
  },
  {
   "cell_type": "code",
   "execution_count": 9,
   "metadata": {
    "scrolled": true
   },
   "outputs": [
    {
     "name": "stdout",
     "output_type": "stream",
     "text": [
      "              precision    recall  f1-score   support\n",
      "\n",
      "           0       0.74      0.95      0.83       885\n",
      "           1       0.66      0.24      0.35       389\n",
      "\n",
      "    accuracy                           0.73      1274\n",
      "   macro avg       0.70      0.59      0.59      1274\n",
      "weighted avg       0.71      0.73      0.68      1274\n",
      "\n",
      "0.7299843014128728\n"
     ]
    }
   ],
   "source": [
    "print(classification_report(Y_test,Y_pred))\n",
    "print(svc.score(X_test, Y_test))"
   ]
  },
  {
   "cell_type": "code",
   "execution_count": 10,
   "metadata": {
    "scrolled": true
   },
   "outputs": [
    {
     "name": "stdout",
     "output_type": "stream",
     "text": [
      "Mean Absolute Error: 0.27001569858712715\n",
      "Mean Squared Error: 0.27001569858712715\n",
      "Root Mean Squared Error: 0.5196303480235995\n",
      "R-squared: -0.2730193310385898\n"
     ]
    }
   ],
   "source": [
    "print('Mean Absolute Error:', metrics.mean_absolute_error(Y_test, Y_pred))\n",
    "print('Mean Squared Error:', metrics.mean_squared_error(Y_test, Y_pred))\n",
    "print('Root Mean Squared Error:', np.sqrt(metrics.mean_squared_error(Y_test, Y_pred)))\n",
    "print('R-squared:', metrics.r2_score(Y_test, Y_pred))"
   ]
  },
  {
   "cell_type": "code",
   "execution_count": 11,
   "metadata": {
    "scrolled": true
   },
   "outputs": [
    {
     "data": {
      "text/plain": [
       "<AxesSubplot:xlabel='trial'>"
      ]
     },
     "execution_count": 11,
     "metadata": {},
     "output_type": "execute_result"
    },
    {
     "data": {
      "image/png": "[encoded data removed]",
      "text/plain": [
       "<Figure size 432x288 with 1 Axes>"
      ]
     },
     "metadata": {
      "needs_background": "light"
     },
     "output_type": "display_data"
    }
   ],
   "source": [
    "rsquare = []\n",
    "for i in range(10):\n",
    "    X_train, X_test, Y_train, Y_test = train_test_split(X, Y, test_size=0.2, random_state = random.randint(1,1000))\n",
    "    model = svm.SVC(kernel='linear')\n",
    "    model.fit(X_train, Y_train)\n",
    "    Y_pred = model.predict(X_test)\n",
    "    rsquare.append(metrics.r2_score(Y_test, Y_pred))\n",
    "    \n",
    "rdf = pd.DataFrame( {'trial': range(10), 'Rsquare': rsquare})\n",
    "rdf.plot.bar(x='trial', y='Rsquare')"
   ]
  },
  {
   "cell_type": "markdown",
   "metadata": {},
   "source": [
    "#### The model looks to be pretty good for determining did not have affair (0) with an f1 score of 0.81, but it isn't so good for determining did have an affair(1) with an f1 score of 0.25. The r squared is also very low which indicates that it isn't such great a model either. It does pass 10 fold cross validation so at least we know we have consistency. It's good at detecting when there isn't cheating, but really bad, worse than flipping a coin, of determining if someone cheated. This is not a good model for predicting if someone will cheat, but good at prediciting if someone won't/didn't cheat. But the r squrat is still really bad, so this is not a good model overall."
   ]
  },
  {
   "cell_type": "markdown",
   "metadata": {},
   "source": [
    "### Question 2. Now try different value of C-parameter and rerun your model"
   ]
  },
  {
   "cell_type": "markdown",
   "metadata": {},
   "source": [
    "### Large C"
   ]
  },
  {
   "cell_type": "code",
   "execution_count": 12,
   "metadata": {},
   "outputs": [
    {
     "data": {
      "text/plain": [
       "SVC(C=32, kernel='linear')"
      ]
     },
     "execution_count": 12,
     "metadata": {},
     "output_type": "execute_result"
    }
   ],
   "source": [
    "svc = svm.SVC(kernel='linear', C=2**5)\n",
    "svc.fit(X_train, Y_train)"
   ]
  },
  {
   "cell_type": "code",
   "execution_count": 13,
   "metadata": {},
   "outputs": [
    {
     "data": {
      "text/plain": [
       "array([[803,  35],\n",
       "       [346,  90]], dtype=int64)"
      ]
     },
     "execution_count": 13,
     "metadata": {},
     "output_type": "execute_result"
    }
   ],
   "source": [
    "Y_pred = svc.predict(X_test)\n",
    "confusion_matrix(Y_test, Y_pred)"
   ]
  },
  {
   "cell_type": "code",
   "execution_count": 14,
   "metadata": {},
   "outputs": [
    {
     "name": "stdout",
     "output_type": "stream",
     "text": [
      "              precision    recall  f1-score   support\n",
      "\n",
      "           0       0.70      0.96      0.81       838\n",
      "           1       0.72      0.21      0.32       436\n",
      "\n",
      "    accuracy                           0.70      1274\n",
      "   macro avg       0.71      0.58      0.56      1274\n",
      "weighted avg       0.71      0.70      0.64      1274\n",
      "\n",
      "0.7009419152276295\n"
     ]
    }
   ],
   "source": [
    "print(classification_report(Y_test,Y_pred))\n",
    "print(model.score(X_test, Y_test))"
   ]
  },
  {
   "cell_type": "code",
   "execution_count": 15,
   "metadata": {},
   "outputs": [
    {
     "name": "stdout",
     "output_type": "stream",
     "text": [
      "Mean Absolute Error: 0.2990580847723705\n",
      "Mean Squared Error: 0.2990580847723705\n",
      "Root Mean Squared Error: 0.5468620344953291\n",
      "R-squared: -0.32850714895666844\n"
     ]
    }
   ],
   "source": [
    "print('Mean Absolute Error:', metrics.mean_absolute_error(Y_test, Y_pred))\n",
    "print('Mean Squared Error:', metrics.mean_squared_error(Y_test, Y_pred))\n",
    "print('Root Mean Squared Error:', np.sqrt(metrics.mean_squared_error(Y_test, Y_pred)))\n",
    "print('R-squared:', metrics.r2_score(Y_test, Y_pred))"
   ]
  },
  {
   "cell_type": "code",
   "execution_count": 16,
   "metadata": {},
   "outputs": [
    {
     "data": {
      "text/plain": [
       "<AxesSubplot:xlabel='trial'>"
      ]
     },
     "execution_count": 16,
     "metadata": {},
     "output_type": "execute_result"
    },
    {
     "data": {
      "image/png": "[encoded data removed]",
      "text/plain": [
       "<Figure size 432x288 with 1 Axes>"
      ]
     },
     "metadata": {
      "needs_background": "light"
     },
     "output_type": "display_data"
    }
   ],
   "source": [
    "rsquare = []\n",
    "for i in range(10):\n",
    "    X_train, X_test, Y_train, Y_test = train_test_split(X, Y, test_size=0.2, random_state = random.randint(1,1000))\n",
    "    model = svm.SVC()\n",
    "    model.fit(X_train, Y_train)\n",
    "    Y_pred = model.predict(X_test)\n",
    "    rsquare.append(metrics.r2_score(Y_test, Y_pred))\n",
    "    \n",
    "rdf = pd.DataFrame( {'trial': range(10), 'Rsquare': rsquare})\n",
    "rdf.plot.bar(x='trial', y='Rsquare')"
   ]
  },
  {
   "cell_type": "markdown",
   "metadata": {},
   "source": [
    "#### As before, the model looks to be pretty good for determining did not have affair with an f1 score of 0.82, but it isn't so good for determining did have an affair(1) with an f1 score of 0.35. The r squared is also very low which indicates that it isn't such great a model either. It does pass 10 fold cross validation so at least we know we have consistency. It's good at detecting when there isn't cheating, but really bad, worse than flipping a coin, of determining if someone cheated. This is not a good model for predicting if someone will cheat, but good at prediciting if someone won't/didn't cheat. But the r squrat is still really bad, so this is not a good model overall.¶The accuracy is pretty good overall, but the f1 scores indicate, it isn't so great overall (the really good 0 case makes it look okay. Important to look at details). I think raising the C parameter did not help since we are being more strict/higher penalty on the misclassifyings, but the data appears to be not clear cut (as opposed to the muffin case) and trying to find  a hyperplane in our data that is really accurate is going to be impossible/hard."
   ]
  },
  {
   "cell_type": "markdown",
   "metadata": {},
   "source": [
    "### Small C"
   ]
  },
  {
   "cell_type": "code",
   "execution_count": 17,
   "metadata": {},
   "outputs": [
    {
     "data": {
      "text/plain": [
       "SVC(C=0.03125, kernel='linear')"
      ]
     },
     "execution_count": 17,
     "metadata": {},
     "output_type": "execute_result"
    }
   ],
   "source": [
    "svc = svm.SVC(kernel='linear', C=2**-5)\n",
    "svc.fit(X_train, Y_train)"
   ]
  },
  {
   "cell_type": "code",
   "execution_count": 18,
   "metadata": {},
   "outputs": [
    {
     "data": {
      "text/plain": [
       "array([[815,  35],\n",
       "       [329,  95]], dtype=int64)"
      ]
     },
     "execution_count": 18,
     "metadata": {},
     "output_type": "execute_result"
    }
   ],
   "source": [
    "Y_pred = svc.predict(X_test)\n",
    "confusion_matrix(Y_test, Y_pred)"
   ]
  },
  {
   "cell_type": "code",
   "execution_count": 19,
   "metadata": {},
   "outputs": [
    {
     "name": "stdout",
     "output_type": "stream",
     "text": [
      "              precision    recall  f1-score   support\n",
      "\n",
      "           0       0.71      0.96      0.82       850\n",
      "           1       0.73      0.22      0.34       424\n",
      "\n",
      "    accuracy                           0.71      1274\n",
      "   macro avg       0.72      0.59      0.58      1274\n",
      "weighted avg       0.72      0.71      0.66      1274\n",
      "\n",
      "0.695447409733124\n"
     ]
    }
   ],
   "source": [
    "print(classification_report(Y_test,Y_pred))\n",
    "print(model.score(X_test, Y_test))"
   ]
  },
  {
   "cell_type": "code",
   "execution_count": 20,
   "metadata": {},
   "outputs": [
    {
     "name": "stdout",
     "output_type": "stream",
     "text": [
      "Mean Absolute Error: 0.2857142857142857\n",
      "Mean Squared Error: 0.2857142857142857\n",
      "Root Mean Squared Error: 0.5345224838248488\n",
      "R-squared: -0.2867258601553828\n"
     ]
    }
   ],
   "source": [
    "print('Mean Absolute Error:', metrics.mean_absolute_error(Y_test, Y_pred))\n",
    "print('Mean Squared Error:', metrics.mean_squared_error(Y_test, Y_pred))\n",
    "print('Root Mean Squared Error:', np.sqrt(metrics.mean_squared_error(Y_test, Y_pred)))\n",
    "print('R-squared:', metrics.r2_score(Y_test, Y_pred))"
   ]
  },
  {
   "cell_type": "code",
   "execution_count": 21,
   "metadata": {},
   "outputs": [
    {
     "data": {
      "text/plain": [
       "<AxesSubplot:xlabel='trial'>"
      ]
     },
     "execution_count": 21,
     "metadata": {},
     "output_type": "execute_result"
    },
    {
     "data": {
      "image/png": "[encoded data removed]",
      "text/plain": [
       "<Figure size 432x288 with 1 Axes>"
      ]
     },
     "metadata": {
      "needs_background": "light"
     },
     "output_type": "display_data"
    }
   ],
   "source": [
    "rsquare = []\n",
    "for i in range(10):\n",
    "    X_train, X_test, Y_train, Y_test = train_test_split(X, Y, test_size=0.2, random_state = random.randint(1,1000))\n",
    "    model = svm.SVC()\n",
    "    model.fit(X_train, Y_train)\n",
    "    Y_pred = model.predict(X_test)\n",
    "    rsquare.append(metrics.r2_score(Y_test, Y_pred))\n",
    "    \n",
    "rdf = pd.DataFrame( {'trial': range(10), 'Rsquare': rsquare})\n",
    "rdf.plot.bar(x='trial', y='Rsquare')"
   ]
  },
  {
   "cell_type": "markdown",
   "metadata": {},
   "source": [
    "#### As before, the model looks to be pretty good for determining did not have affair with an f1 score of 0.81, but it isn't so good for determining did have an affair(1) with an f1 score of 0.33. The r squared is also very low which indicates that it isn't such great a model either, but it is better than with a large C. It does pass 10 fold cross validation so at least we know we have consistency. It's good at detecting when there isn't cheating, but really bad, worse than flipping a coin, of determining if someone cheated. This is not a good model for predicting if someone will cheat, but good at prediciting if someone won't/didn't cheat. But the r squrat is still really bad, so this is not a good model overall.¶The accuracy is pretty good overall, but the f1 scores indicate, it isn't so great overall (the really good 0 case makes it look okay. Important to look at details). I think lowering the C parameter did not help a little since we are being less strict/lower penaty for misclassifying, and the data appears to be not clear cut (as opposed to the muffin case) and trying to find  a hyperplane in our data that is really accurate is going to be impossible/hard. If we lax on the classifying rules, we at least might get better classification overall."
   ]
  },
  {
   "cell_type": "markdown",
   "metadata": {},
   "source": [
    "### Question 3. Now use rbf as your kernel along with different value for Gamma and C"
   ]
  },
  {
   "cell_type": "code",
   "execution_count": 22,
   "metadata": {},
   "outputs": [],
   "source": [
    "gammas = [2**5, 2**-5]\n",
    "c_s = [10, 100, 1000]"
   ]
  },
  {
   "cell_type": "code",
   "execution_count": 23,
   "metadata": {
    "scrolled": true
   },
   "outputs": [
    {
     "name": "stdout",
     "output_type": "stream",
     "text": [
      "---------------------------------------\n",
      "c: 10\tgamma: 32\n",
      "\n",
      "[[779  87]\n",
      " [290 118]]\n",
      "              precision    recall  f1-score   support\n",
      "\n",
      "           0       0.73      0.90      0.81       866\n",
      "           1       0.58      0.29      0.38       408\n",
      "\n",
      "    accuracy                           0.70      1274\n",
      "   macro avg       0.65      0.59      0.60      1274\n",
      "weighted avg       0.68      0.70      0.67      1274\n",
      "\n",
      "Mean Absolute Error: 0.29591836734693877\n",
      "Mean Squared Error: 0.29591836734693877\n",
      "Root Mean Squared Error: 0.5439837932759934\n",
      "R-squared: -0.35935448082235233\n",
      "---------------------------------------\n",
      "c: 100\tgamma: 32\n",
      "\n",
      "[[770 125]\n",
      " [247 132]]\n",
      "              precision    recall  f1-score   support\n",
      "\n",
      "           0       0.76      0.86      0.81       895\n",
      "           1       0.51      0.35      0.42       379\n",
      "\n",
      "    accuracy                           0.71      1274\n",
      "   macro avg       0.64      0.60      0.61      1274\n",
      "weighted avg       0.68      0.71      0.69      1274\n",
      "\n",
      "Mean Absolute Error: 0.29199372056514916\n",
      "Mean Squared Error: 0.29199372056514916\n",
      "Root Mean Squared Error: 0.5403644331052416\n",
      "R-squared: -0.3971728011084743\n",
      "---------------------------------------\n",
      "c: 1000\tgamma: 32\n",
      "\n",
      "[[746 101]\n",
      " [285 142]]\n",
      "              precision    recall  f1-score   support\n",
      "\n",
      "           0       0.72      0.88      0.79       847\n",
      "           1       0.58      0.33      0.42       427\n",
      "\n",
      "    accuracy                           0.70      1274\n",
      "   macro avg       0.65      0.61      0.61      1274\n",
      "weighted avg       0.68      0.70      0.67      1274\n",
      "\n",
      "Mean Absolute Error: 0.3029827315541601\n",
      "Mean Squared Error: 0.3029827315541601\n",
      "Root Mean Squared Error: 0.5504386719282722\n",
      "R-squared: -0.3597073567267304\n",
      "---------------------------------------\n",
      "c: 10\tgamma: 0.03125\n",
      "\n",
      "[[809  80]\n",
      " [276 109]]\n",
      "              precision    recall  f1-score   support\n",
      "\n",
      "           0       0.75      0.91      0.82       889\n",
      "           1       0.58      0.28      0.38       385\n",
      "\n",
      "    accuracy                           0.72      1274\n",
      "   macro avg       0.66      0.60      0.60      1274\n",
      "weighted avg       0.69      0.72      0.69      1274\n",
      "\n",
      "Mean Absolute Error: 0.2794348508634223\n",
      "Mean Squared Error: 0.2794348508634223\n",
      "Root Mean Squared Error: 0.5286159767387117\n",
      "R-squared: -0.3251252684323549\n",
      "---------------------------------------\n",
      "c: 100\tgamma: 0.03125\n",
      "\n",
      "[[795  81]\n",
      " [275 123]]\n",
      "              precision    recall  f1-score   support\n",
      "\n",
      "           0       0.74      0.91      0.82       876\n",
      "           1       0.60      0.31      0.41       398\n",
      "\n",
      "    accuracy                           0.72      1274\n",
      "   macro avg       0.67      0.61      0.61      1274\n",
      "weighted avg       0.70      0.72      0.69      1274\n",
      "\n",
      "Mean Absolute Error: 0.2794348508634223\n",
      "Mean Squared Error: 0.2794348508634223\n",
      "Root Mean Squared Error: 0.5286159767387117\n",
      "R-squared: -0.30086505587297174\n",
      "---------------------------------------\n",
      "c: 1000\tgamma: 0.03125\n",
      "\n",
      "[[793  99]\n",
      " [272 110]]\n",
      "              precision    recall  f1-score   support\n",
      "\n",
      "           0       0.74      0.89      0.81       892\n",
      "           1       0.53      0.29      0.37       382\n",
      "\n",
      "    accuracy                           0.71      1274\n",
      "   macro avg       0.64      0.59      0.59      1274\n",
      "weighted avg       0.68      0.71      0.68      1274\n",
      "\n",
      "Mean Absolute Error: 0.29120879120879123\n",
      "Mean Squared Error: 0.29120879120879123\n",
      "Root Mean Squared Error: 0.539637648064691\n",
      "R-squared: -0.38712347099288635\n"
     ]
    },
    {
     "data": {
      "image/png": "[encoded data removed]",
      "text/plain": [
       "<Figure size 432x288 with 1 Axes>"
      ]
     },
     "metadata": {
      "needs_background": "light"
     },
     "output_type": "display_data"
    },
    {
     "data": {
      "image/png": "[encoded data removed]",
      "text/plain": [
       "<Figure size 432x288 with 1 Axes>"
      ]
     },
     "metadata": {
      "needs_background": "light"
     },
     "output_type": "display_data"
    },
    {
     "data": {
      "image/png": "[encoded data removed]",
      "text/plain": [
       "<Figure size 432x288 with 1 Axes>"
      ]
     },
     "metadata": {
      "needs_background": "light"
     },
     "output_type": "display_data"
    },
    {
     "data": {
      "image/png": "[encoded data removed]",
      "text/plain": [
       "<Figure size 432x288 with 1 Axes>"
      ]
     },
     "metadata": {
      "needs_background": "light"
     },
     "output_type": "display_data"
    },
    {
     "data": {
      "image/png": "[encoded data removed]",
      "text/plain": [
       "<Figure size 432x288 with 1 Axes>"
      ]
     },
     "metadata": {
      "needs_background": "light"
     },
     "output_type": "display_data"
    },
    {
     "data": {
      "image/png": "[encoded data removed]",
      "text/plain": [
       "<Figure size 432x288 with 1 Axes>"
      ]
     },
     "metadata": {
      "needs_background": "light"
     },
     "output_type": "display_data"
    }
   ],
   "source": [
    "for g in gammas:\n",
    "    for c in c_s:\n",
    "        svc = svm.SVC(kernel='rbf', probability=True, C=c, gamma=g)\n",
    "        svc.fit(X_train, Y_train)\n",
    "        Y_pred = svc.predict(X_test)\n",
    "        model.score(X_test, Y_test)\n",
    "        print('---------------------------------------')\n",
    "        print('c: ' + str(c) + '\\t' + 'gamma: ' +str(g) + '\\n')\n",
    "        model.score(X_test, Y_test)\n",
    "        print(confusion_matrix(Y_test, Y_pred))\n",
    "        print(classification_report(Y_test,Y_pred))\n",
    "        print('Mean Absolute Error:', metrics.mean_absolute_error(Y_test, Y_pred))\n",
    "        print('Mean Squared Error:', metrics.mean_squared_error(Y_test, Y_pred))\n",
    "        print('Root Mean Squared Error:', np.sqrt(metrics.mean_squared_error(Y_test, Y_pred)))\n",
    "        print('R-squared:', metrics.r2_score(Y_test, Y_pred))\n",
    "        rsquare = []\n",
    "        for i in range(10):\n",
    "            X_train, X_test, Y_train, Y_test = train_test_split(X, Y, test_size=0.2, random_state = random.randint(1,1000))\n",
    "            model = svm.SVC()\n",
    "            model.fit(X_train, Y_train)\n",
    "            Y_pred = model.predict(X_test)\n",
    "            rsquare.append(metrics.r2_score(Y_test, Y_pred))\n",
    "    \n",
    "        rdf = pd.DataFrame( {'trial': range(10), 'Rsquare': rsquare})\n",
    "        rdf.plot.bar(x='trial', y='Rsquare')"
   ]
  },
  {
   "cell_type": "markdown",
   "metadata": {},
   "source": [
    "### Question 4. So out of all the models you try in Question 2 and 3, what is the best choice for the kernel, C and gamma parameters? Comment on the effect of using different C and Gamma parameters"
   ]
  },
  {
   "cell_type": "markdown",
   "metadata": {},
   "source": [
    "### From the data here it appears that the best choice for the kernel is Radial basis function kernel with c=1000 and gamma = 2**-5. Since the data is not clean cut (unlike the muffin data from lecture), assigning a high penalty can force a better hyperplane and not let the model settle on a 'good enough' hyperplane. The low gamma means that we have much larger radii for the groups resulting in more points being grouped together. The f1 score of .71 is pretty good. The f1 score for predicting no affair is much better at 0.79 but for when there is an affair it is much lower at .45 (one of the better f1 scores for had an affair amongst all of our models).\n",
    "### In the model with a low C (10) and a high gamma (32), the model was about the same a linear model. The high gamma does mean that there is a lot of overfitting which is true of both the linear model and this model (rbf, c=10, gamma =32). The r squrared improves as the margin gets harder. This indicates that the model might be overfitting and can lead to invalid conclusions. All of the f1 scores are about the same interestingly enough. We also see that all of the r squared amongst our models are about the same (~-..3) indicating that there is a correlation amonst our data that should be worked upon."
   ]
  },
  {
   "cell_type": "markdown",
   "metadata": {},
   "source": [
    "# Now we will try to fit the same dataset with Decision Trees"
   ]
  },
  {
   "cell_type": "markdown",
   "metadata": {},
   "source": [
    "### Question 5. Build a Decision Tree Classifier using default parameter"
   ]
  },
  {
   "cell_type": "code",
   "execution_count": 24,
   "metadata": {},
   "outputs": [
    {
     "data": {
      "text/plain": [
       "DecisionTreeClassifier()"
      ]
     },
     "execution_count": 24,
     "metadata": {},
     "output_type": "execute_result"
    }
   ],
   "source": [
    "model = DecisionTreeClassifier()\n",
    "model.fit(X_train,Y_train)"
   ]
  },
  {
   "cell_type": "code",
   "execution_count": 25,
   "metadata": {},
   "outputs": [
    {
     "name": "stdout",
     "output_type": "stream",
     "text": [
      "[[763 116]\n",
      " [261 134]]\n",
      "              precision    recall  f1-score   support\n",
      "\n",
      "           0       0.75      0.87      0.80       879\n",
      "           1       0.54      0.34      0.42       395\n",
      "\n",
      "    accuracy                           0.70      1274\n",
      "   macro avg       0.64      0.60      0.61      1274\n",
      "weighted avg       0.68      0.70      0.68      1274\n",
      "\n",
      "0.7040816326530612\n"
     ]
    }
   ],
   "source": [
    "predictions = model.predict(X_test)\n",
    "print(confusion_matrix(Y_test,predictions))\n",
    "print(classification_report(Y_test,predictions))\n",
    "print(accuracy_score(Y_test, predictions))"
   ]
  },
  {
   "cell_type": "code",
   "execution_count": 26,
   "metadata": {},
   "outputs": [
    {
     "data": {
      "text/plain": [
       "[Text(135.0497609186747, 211.04470588235293, 'X[0] <= 3.5\\ngini = 0.439\\nsamples = 5092\\nvalue = [3434, 1658]'),\n",
       " Text(54.44596762048193, 198.25411764705882, 'X[1] <= 4.25\\ngini = 0.48\\nsamples = 1156\\nvalue = [461, 695]'),\n",
       " Text(10.512921686746989, 185.4635294117647, 'X[1] <= 1.5\\ngini = 0.499\\nsamples = 304\\nvalue = [157, 147]'),\n",
       " Text(3.226987951807229, 172.6729411764706, 'X[3] <= 29.5\\ngini = 0.32\\nsamples = 25\\nvalue = [20, 5]'),\n",
       " Text(2.420240963855422, 159.88235294117646, 'X[2] <= 0.5\\ngini = 0.287\\nsamples = 23\\nvalue = [19, 4]'),\n",
       " Text(1.6134939759036144, 147.09176470588235, 'X[0] <= 2.5\\ngini = 0.308\\nsamples = 21\\nvalue = [17, 4]'),\n",
       " Text(0.8067469879518072, 134.30117647058825, 'gini = 0.0\\nsamples = 2\\nvalue = [2, 0]'),\n",
       " Text(2.420240963855422, 134.30117647058825, 'X[3] <= 19.75\\ngini = 0.332\\nsamples = 19\\nvalue = [15, 4]'),\n",
       " Text(1.6134939759036144, 121.51058823529411, 'gini = 0.5\\nsamples = 2\\nvalue = [1, 1]'),\n",
       " Text(3.226987951807229, 121.51058823529411, 'X[3] <= 24.5\\ngini = 0.291\\nsamples = 17\\nvalue = [14, 3]'),\n",
       " Text(2.420240963855422, 108.72, 'gini = 0.245\\nsamples = 14\\nvalue = [12, 2]'),\n",
       " Text(4.033734939759036, 108.72, 'gini = 0.444\\nsamples = 3\\nvalue = [2, 1]'),\n",
       " Text(3.226987951807229, 147.09176470588235, 'gini = 0.0\\nsamples = 2\\nvalue = [2, 0]'),\n",
       " Text(4.033734939759036, 159.88235294117646, 'gini = 0.5\\nsamples = 2\\nvalue = [1, 1]'),\n",
       " Text(17.798855421686746, 172.6729411764706, 'X[3] <= 29.5\\ngini = 0.5\\nsamples = 279\\nvalue = [137, 142]'),\n",
       " Text(11.79867469879518, 159.88235294117646, 'X[3] <= 19.75\\ngini = 0.499\\nsamples = 269\\nvalue = [129, 140]'),\n",
       " Text(7.260722891566265, 147.09176470588235, 'X[2] <= 0.5\\ngini = 0.444\\nsamples = 12\\nvalue = [8, 4]'),\n",
       " Text(5.647228915662651, 134.30117647058825, 'X[0] <= 2.5\\ngini = 0.5\\nsamples = 6\\nvalue = [3, 3]'),\n",
       " Text(4.840481927710844, 121.51058823529411, 'gini = 0.0\\nsamples = 1\\nvalue = [0, 1]'),\n",
       " Text(6.453975903614458, 121.51058823529411, 'gini = 0.48\\nsamples = 5\\nvalue = [3, 2]'),\n",
       " Text(8.87421686746988, 134.30117647058825, 'X[0] <= 2.5\\ngini = 0.278\\nsamples = 6\\nvalue = [5, 1]'),\n",
       " Text(8.067469879518072, 121.51058823529411, 'X[2] <= 1.5\\ngini = 0.444\\nsamples = 3\\nvalue = [2, 1]'),\n",
       " Text(7.260722891566265, 108.72, 'gini = 0.5\\nsamples = 2\\nvalue = [1, 1]'),\n",
       " Text(8.87421686746988, 108.72, 'gini = 0.0\\nsamples = 1\\nvalue = [1, 0]'),\n",
       " Text(9.680963855421687, 121.51058823529411, 'gini = 0.0\\nsamples = 3\\nvalue = [3, 0]'),\n",
       " Text(16.336626506024096, 147.09176470588235, 'X[0] <= 1.5\\ngini = 0.498\\nsamples = 257\\nvalue = [121, 136]'),\n",
       " Text(12.101204819277108, 134.30117647058825, 'X[2] <= 0.5\\ngini = 0.42\\nsamples = 10\\nvalue = [3, 7]'),\n",
       " Text(11.294457831325301, 121.51058823529411, 'gini = 0.0\\nsamples = 2\\nvalue = [0, 2]'),\n",
       " Text(12.907951807228915, 121.51058823529411, 'X[3] <= 24.5\\ngini = 0.469\\nsamples = 8\\nvalue = [3, 5]'),\n",
       " Text(12.101204819277108, 108.72, 'gini = 0.49\\nsamples = 7\\nvalue = [3, 4]'),\n",
       " Text(13.714698795180723, 108.72, 'gini = 0.0\\nsamples = 1\\nvalue = [0, 1]'),\n",
       " Text(20.572048192771085, 134.30117647058825, 'X[2] <= 3.0\\ngini = 0.499\\nsamples = 247\\nvalue = [118, 129]'),\n",
       " Text(19.765301204819277, 121.51058823529411, 'X[2] <= 0.5\\ngini = 0.499\\nsamples = 246\\nvalue = [118, 128]'),\n",
       " Text(15.328192771084337, 108.72, 'X[0] <= 2.5\\ngini = 0.497\\nsamples = 149\\nvalue = [69, 80]'),\n",
       " Text(13.714698795180723, 95.92941176470588, 'X[3] <= 24.5\\ngini = 0.495\\nsamples = 31\\nvalue = [14, 17]'),\n",
       " Text(12.907951807228915, 83.13882352941175, 'gini = 0.497\\nsamples = 26\\nvalue = [12, 14]'),\n",
       " Text(14.52144578313253, 83.13882352941175, 'gini = 0.48\\nsamples = 5\\nvalue = [2, 3]'),\n",
       " Text(16.94168674698795, 95.92941176470588, 'X[3] <= 24.5\\ngini = 0.498\\nsamples = 118\\nvalue = [55, 63]'),\n",
       " Text(16.134939759036143, 83.13882352941175, 'gini = 0.497\\nsamples = 84\\nvalue = [39, 45]'),\n",
       " Text(17.74843373493976, 83.13882352941175, 'gini = 0.498\\nsamples = 34\\nvalue = [16, 18]'),\n",
       " Text(24.202409638554215, 108.72, 'X[2] <= 1.5\\ngini = 0.5\\nsamples = 97\\nvalue = [49, 48]'),\n",
       " Text(20.975421686746987, 95.92941176470588, 'X[3] <= 24.5\\ngini = 0.499\\nsamples = 81\\nvalue = [42, 39]'),\n",
       " Text(19.361927710843375, 83.13882352941175, 'X[0] <= 2.5\\ngini = 0.5\\nsamples = 56\\nvalue = [28, 28]'),\n",
       " Text(18.555180722891567, 70.34823529411764, 'gini = 0.5\\nsamples = 12\\nvalue = [6, 6]'),\n",
       " Text(20.16867469879518, 70.34823529411764, 'gini = 0.5\\nsamples = 44\\nvalue = [22, 22]'),\n",
       " Text(22.588915662650603, 83.13882352941175, 'X[0] <= 2.5\\ngini = 0.493\\nsamples = 25\\nvalue = [14, 11]'),\n",
       " Text(21.782168674698795, 70.34823529411764, 'gini = 0.494\\nsamples = 9\\nvalue = [5, 4]'),\n",
       " Text(23.39566265060241, 70.34823529411764, 'gini = 0.492\\nsamples = 16\\nvalue = [9, 7]'),\n",
       " Text(27.429397590361447, 95.92941176470588, 'X[3] <= 24.5\\ngini = 0.492\\nsamples = 16\\nvalue = [7, 9]'),\n",
       " Text(25.81590361445783, 83.13882352941175, 'X[0] <= 2.5\\ngini = 0.48\\nsamples = 10\\nvalue = [6, 4]'),\n",
       " Text(25.009156626506023, 70.34823529411764, 'gini = 0.48\\nsamples = 5\\nvalue = [3, 2]'),\n",
       " Text(26.62265060240964, 70.34823529411764, 'gini = 0.48\\nsamples = 5\\nvalue = [3, 2]'),\n",
       " Text(29.04289156626506, 83.13882352941175, 'X[0] <= 2.5\\ngini = 0.278\\nsamples = 6\\nvalue = [1, 5]'),\n",
       " Text(28.23614457831325, 70.34823529411764, 'gini = 0.5\\nsamples = 2\\nvalue = [1, 1]'),\n",
       " Text(29.849638554216867, 70.34823529411764, 'gini = 0.0\\nsamples = 4\\nvalue = [0, 4]'),\n",
       " Text(21.378795180722893, 121.51058823529411, 'gini = 0.0\\nsamples = 1\\nvalue = [0, 1]'),\n",
       " Text(23.799036144578313, 159.88235294117646, 'X[2] <= 0.5\\ngini = 0.32\\nsamples = 10\\nvalue = [8, 2]'),\n",
       " Text(22.992289156626505, 147.09176470588235, 'X[0] <= 2.5\\ngini = 0.48\\nsamples = 5\\nvalue = [3, 2]'),\n",
       " Text(22.185542168674697, 134.30117647058825, 'gini = 0.0\\nsamples = 1\\nvalue = [0, 1]'),\n",
       " Text(23.799036144578313, 134.30117647058825, 'X[3] <= 34.5\\ngini = 0.375\\nsamples = 4\\nvalue = [3, 1]'),\n",
       " Text(22.992289156626505, 121.51058823529411, 'gini = 0.444\\nsamples = 3\\nvalue = [2, 1]'),\n",
       " Text(24.60578313253012, 121.51058823529411, 'gini = 0.0\\nsamples = 1\\nvalue = [1, 0]'),\n",
       " Text(24.60578313253012, 147.09176470588235, 'gini = 0.0\\nsamples = 5\\nvalue = [5, 0]'),\n",
       " Text(98.37901355421687, 185.4635294117647, 'X[0] <= 2.5\\ngini = 0.459\\nsamples = 852\\nvalue = [304, 548]'),\n",
       " Text(62.06909638554217, 172.6729411764706, 'X[2] <= 3.5\\ngini = 0.417\\nsamples = 280\\nvalue = [83, 197]'),\n",
       " Text(45.076987951807226, 159.88235294117646, 'X[1] <= 7.5\\ngini = 0.394\\nsamples = 237\\nvalue = [64, 173]'),\n",
       " Text(37.816265060240966, 147.09176470588235, 'X[3] <= 29.5\\ngini = 0.46\\nsamples = 64\\nvalue = [23, 41]'),\n",
       " Text(34.48843373493976, 134.30117647058825, 'X[2] <= 1.5\\ngini = 0.428\\nsamples = 58\\nvalue = [18, 40]'),\n",
       " Text(31.866506024096385, 121.51058823529411, 'X[0] <= 1.5\\ngini = 0.493\\nsamples = 34\\nvalue = [15, 19]'),\n",
       " Text(29.849638554216867, 108.72, 'X[2] <= 0.5\\ngini = 0.444\\nsamples = 6\\nvalue = [4, 2]'),\n",
       " Text(29.04289156626506, 95.92941176470588, 'gini = 0.0\\nsamples = 1\\nvalue = [1, 0]'),\n",
       " Text(30.656385542168675, 95.92941176470588, 'gini = 0.48\\nsamples = 5\\nvalue = [3, 2]'),\n",
       " Text(33.8833734939759, 108.72, 'X[2] <= 0.5\\ngini = 0.477\\nsamples = 28\\nvalue = [11, 17]'),\n",
       " Text(32.26987951807229, 95.92941176470588, 'X[3] <= 24.5\\ngini = 0.444\\nsamples = 9\\nvalue = [3, 6]'),\n",
       " Text(31.463132530120482, 83.13882352941175, 'gini = 0.0\\nsamples = 2\\nvalue = [0, 2]'),\n",
       " Text(33.0766265060241, 83.13882352941175, 'gini = 0.49\\nsamples = 7\\nvalue = [3, 4]'),\n",
       " Text(35.49686746987952, 95.92941176470588, 'X[3] <= 24.5\\ngini = 0.488\\nsamples = 19\\nvalue = [8, 11]'),\n",
       " Text(34.69012048192771, 83.13882352941175, 'gini = 0.49\\nsamples = 7\\nvalue = [3, 4]'),\n",
       " Text(36.30361445783132, 83.13882352941175, 'gini = 0.486\\nsamples = 12\\nvalue = [5, 7]'),\n",
       " Text(37.110361445783134, 121.51058823529411, 'X[3] <= 24.5\\ngini = 0.219\\nsamples = 24\\nvalue = [3, 21]'),\n",
       " Text(36.30361445783132, 108.72, 'gini = 0.0\\nsamples = 8\\nvalue = [0, 8]'),\n",
       " Text(37.91710843373494, 108.72, 'X[0] <= 1.5\\ngini = 0.305\\nsamples = 16\\nvalue = [3, 13]'),\n",
       " Text(37.110361445783134, 95.92941176470588, 'gini = 0.0\\nsamples = 3\\nvalue = [0, 3]'),\n",
       " Text(38.72385542168675, 95.92941176470588, 'gini = 0.355\\nsamples = 13\\nvalue = [3, 10]'),\n",
       " Text(41.14409638554217, 134.30117647058825, 'X[2] <= 1.5\\ngini = 0.278\\nsamples = 6\\nvalue = [5, 1]'),\n",
       " Text(40.33734939759036, 121.51058823529411, 'X[2] <= 0.5\\ngini = 0.444\\nsamples = 3\\nvalue = [2, 1]'),\n",
       " Text(39.530602409638554, 108.72, 'gini = 0.0\\nsamples = 2\\nvalue = [2, 0]'),\n",
       " Text(41.14409638554217, 108.72, 'gini = 0.0\\nsamples = 1\\nvalue = [0, 1]'),\n",
       " Text(41.950843373493974, 121.51058823529411, 'gini = 0.0\\nsamples = 3\\nvalue = [3, 0]'),\n",
       " Text(52.33771084337349, 147.09176470588235, 'X[0] <= 1.5\\ngini = 0.362\\nsamples = 173\\nvalue = [41, 132]'),\n",
       " Text(46.387951807228916, 134.30117647058825, 'X[1] <= 14.75\\ngini = 0.223\\nsamples = 47\\nvalue = [6, 41]'),\n",
       " Text(44.371084337349394, 121.51058823529411, 'X[3] <= 34.5\\ngini = 0.36\\nsamples = 17\\nvalue = [4, 13]'),\n",
       " Text(42.757590361445786, 108.72, 'X[2] <= 1.5\\ngini = 0.142\\nsamples = 13\\nvalue = [1, 12]'),\n",
       " Text(41.950843373493974, 95.92941176470588, 'gini = 0.0\\nsamples = 3\\nvalue = [0, 3]'),\n",
       " Text(43.56433734939759, 95.92941176470588, 'X[2] <= 2.5\\ngini = 0.18\\nsamples = 10\\nvalue = [1, 9]'),\n",
       " Text(42.757590361445786, 83.13882352941175, 'X[3] <= 29.5\\ngini = 0.219\\nsamples = 8\\nvalue = [1, 7]'),\n",
       " Text(41.950843373493974, 70.34823529411764, 'gini = 0.0\\nsamples = 2\\nvalue = [0, 2]'),\n",
       " Text(43.56433734939759, 70.34823529411764, 'gini = 0.278\\nsamples = 6\\nvalue = [1, 5]'),\n",
       " Text(44.371084337349394, 83.13882352941175, 'gini = 0.0\\nsamples = 2\\nvalue = [0, 2]'),\n",
       " Text(45.98457831325301, 108.72, 'X[2] <= 1.5\\ngini = 0.375\\nsamples = 4\\nvalue = [3, 1]'),\n",
       " Text(45.177831325301206, 95.92941176470588, 'gini = 0.0\\nsamples = 1\\nvalue = [0, 1]'),\n",
       " Text(46.79132530120482, 95.92941176470588, 'gini = 0.0\\nsamples = 3\\nvalue = [3, 0]'),\n",
       " Text(48.40481927710843, 121.51058823529411, 'X[1] <= 19.75\\ngini = 0.124\\nsamples = 30\\nvalue = [2, 28]'),\n",
       " Text(47.598072289156626, 108.72, 'gini = 0.0\\nsamples = 14\\nvalue = [0, 14]'),\n",
       " Text(49.21156626506024, 108.72, 'X[2] <= 2.5\\ngini = 0.219\\nsamples = 16\\nvalue = [2, 14]'),\n",
       " Text(48.40481927710843, 95.92941176470588, 'gini = 0.198\\nsamples = 9\\nvalue = [1, 8]'),\n",
       " Text(50.018313253012046, 95.92941176470588, 'gini = 0.245\\nsamples = 7\\nvalue = [1, 6]'),\n",
       " Text(58.28746987951807, 134.30117647058825, 'X[3] <= 24.5\\ngini = 0.401\\nsamples = 126\\nvalue = [35, 91]'),\n",
       " Text(57.480722891566266, 121.51058823529411, 'gini = 0.0\\nsamples = 1\\nvalue = [1, 0]'),\n",
       " Text(59.09421686746988, 121.51058823529411, 'X[3] <= 29.5\\ngini = 0.396\\nsamples = 125\\nvalue = [34, 91]'),\n",
       " Text(52.438554216867466, 108.72, 'X[2] <= 1.5\\ngini = 0.18\\nsamples = 20\\nvalue = [2, 18]'),\n",
       " Text(51.63180722891566, 95.92941176470588, 'X[2] <= 0.5\\ngini = 0.375\\nsamples = 8\\nvalue = [2, 6]'),\n",
       " Text(50.82506024096386, 83.13882352941175, 'gini = 0.0\\nsamples = 2\\nvalue = [0, 2]'),\n",
       " Text(52.438554216867466, 83.13882352941175, 'X[1] <= 11.0\\ngini = 0.444\\nsamples = 6\\nvalue = [2, 4]'),\n",
       " Text(51.63180722891566, 70.34823529411764, 'gini = 0.48\\nsamples = 5\\nvalue = [2, 3]'),\n",
       " Text(53.24530120481928, 70.34823529411764, 'gini = 0.0\\nsamples = 1\\nvalue = [0, 1]'),\n",
       " Text(53.24530120481928, 95.92941176470588, 'gini = 0.0\\nsamples = 12\\nvalue = [0, 12]'),\n",
       " Text(65.74987951807229, 108.72, 'X[3] <= 39.5\\ngini = 0.424\\nsamples = 105\\nvalue = [32, 73]'),\n",
       " Text(59.69927710843373, 95.92941176470588, 'X[1] <= 19.75\\ngini = 0.4\\nsamples = 76\\nvalue = [21, 55]'),\n",
       " Text(58.89253012048193, 83.13882352941175, 'X[1] <= 11.0\\ngini = 0.423\\nsamples = 69\\nvalue = [21, 48]'),\n",
       " Text(54.85879518072289, 70.34823529411764, 'X[3] <= 34.5\\ngini = 0.375\\nsamples = 16\\nvalue = [4, 12]'),\n",
       " Text(54.05204819277108, 57.557647058823534, 'X[2] <= 2.5\\ngini = 0.32\\nsamples = 15\\nvalue = [3, 12]'),\n",
       " Text(53.24530120481928, 44.767058823529396, 'X[2] <= 1.5\\ngini = 0.245\\nsamples = 14\\nvalue = [2, 12]'),\n",
       " Text(52.438554216867466, 31.976470588235287, 'gini = 0.0\\nsamples = 5\\nvalue = [0, 5]'),\n",
       " Text(54.05204819277108, 31.976470588235287, 'gini = 0.346\\nsamples = 9\\nvalue = [2, 7]'),\n",
       " Text(54.85879518072289, 44.767058823529396, 'gini = 0.0\\nsamples = 1\\nvalue = [1, 0]'),\n",
       " Text(55.6655421686747, 57.557647058823534, 'gini = 0.0\\nsamples = 1\\nvalue = [1, 0]'),\n",
       " Text(62.926265060240965, 70.34823529411764, 'X[1] <= 14.75\\ngini = 0.436\\nsamples = 53\\nvalue = [17, 36]'),\n",
       " Text(58.48915662650602, 57.557647058823534, 'X[2] <= 2.5\\ngini = 0.457\\nsamples = 17\\nvalue = [6, 11]'),\n",
       " Text(57.68240963855422, 44.767058823529396, 'X[2] <= 0.5\\ngini = 0.497\\nsamples = 13\\nvalue = [6, 7]'),\n",
       " Text(55.6655421686747, 31.976470588235287, 'X[3] <= 34.5\\ngini = 0.375\\nsamples = 4\\nvalue = [1, 3]'),\n",
       " Text(54.85879518072289, 19.185882352941178, 'gini = 0.0\\nsamples = 2\\nvalue = [0, 2]'),\n",
       " Text(56.4722891566265, 19.185882352941178, 'gini = 0.5\\nsamples = 2\\nvalue = [1, 1]'),\n",
       " Text(59.69927710843373, 31.976470588235287, 'X[3] <= 34.5\\ngini = 0.494\\nsamples = 9\\nvalue = [5, 4]'),\n",
       " Text(58.08578313253012, 19.185882352941178, 'X[2] <= 1.5\\ngini = 0.444\\nsamples = 6\\nvalue = [4, 2]'),\n",
       " Text(57.27903614457831, 6.39529411764704, 'gini = 0.444\\nsamples = 3\\nvalue = [2, 1]'),\n",
       " Text(58.89253012048193, 6.39529411764704, 'gini = 0.444\\nsamples = 3\\nvalue = [2, 1]'),\n",
       " Text(61.31277108433735, 19.185882352941178, 'X[2] <= 1.5\\ngini = 0.444\\nsamples = 3\\nvalue = [1, 2]'),\n",
       " Text(60.50602409638554, 6.39529411764704, 'gini = 0.5\\nsamples = 2\\nvalue = [1, 1]'),\n",
       " Text(62.119518072289154, 6.39529411764704, 'gini = 0.0\\nsamples = 1\\nvalue = [0, 1]'),\n",
       " Text(59.29590361445783, 44.767058823529396, 'gini = 0.0\\nsamples = 4\\nvalue = [0, 4]'),\n",
       " Text(67.3633734939759, 57.557647058823534, 'X[2] <= 2.5\\ngini = 0.424\\nsamples = 36\\nvalue = [11, 25]'),\n",
       " Text(65.34650602409639, 44.767058823529396, 'X[2] <= 1.5\\ngini = 0.375\\nsamples = 20\\nvalue = [5, 15]'),\n",
       " Text(63.73301204819277, 31.976470588235287, 'X[3] <= 34.5\\ngini = 0.32\\nsamples = 5\\nvalue = [1, 4]'),\n",
       " Text(62.926265060240965, 19.185882352941178, 'gini = 0.375\\nsamples = 4\\nvalue = [1, 3]'),\n",
       " Text(64.53975903614457, 19.185882352941178, 'gini = 0.0\\nsamples = 1\\nvalue = [0, 1]'),\n",
       " Text(66.96, 31.976470588235287, 'X[3] <= 34.5\\ngini = 0.391\\nsamples = 15\\nvalue = [4, 11]'),\n",
       " Text(66.1532530120482, 19.185882352941178, 'gini = 0.375\\nsamples = 8\\nvalue = [2, 6]'),\n",
       " Text(67.7667469879518, 19.185882352941178, 'gini = 0.408\\nsamples = 7\\nvalue = [2, 5]'),\n",
       " Text(69.38024096385541, 44.767058823529396, 'X[3] <= 34.5\\ngini = 0.469\\nsamples = 16\\nvalue = [6, 10]'),\n",
       " Text(68.57349397590362, 31.976470588235287, 'gini = 0.49\\nsamples = 7\\nvalue = [3, 4]'),\n",
       " Text(70.18698795180723, 31.976470588235287, 'gini = 0.444\\nsamples = 9\\nvalue = [3, 6]'),\n",
       " Text(60.50602409638554, 83.13882352941175, 'gini = 0.0\\nsamples = 7\\nvalue = [0, 7]'),\n",
       " Text(71.80048192771085, 95.92941176470588, 'X[2] <= 2.5\\ngini = 0.471\\nsamples = 29\\nvalue = [11, 18]'),\n",
       " Text(70.18698795180723, 83.13882352941175, 'X[2] <= 0.5\\ngini = 0.5\\nsamples = 16\\nvalue = [8, 8]'),\n",
       " Text(69.38024096385541, 70.34823529411764, 'gini = 0.0\\nsamples = 1\\nvalue = [1, 0]'),\n",
       " Text(70.99373493975904, 70.34823529411764, 'X[2] <= 1.5\\ngini = 0.498\\nsamples = 15\\nvalue = [7, 8]'),\n",
       " Text(70.18698795180723, 57.557647058823534, 'gini = 0.0\\nsamples = 1\\nvalue = [0, 1]'),\n",
       " Text(71.80048192771085, 57.557647058823534, 'X[1] <= 19.75\\ngini = 0.5\\nsamples = 14\\nvalue = [7, 7]'),\n",
       " Text(70.99373493975904, 44.767058823529396, 'gini = 0.444\\nsamples = 3\\nvalue = [2, 1]'),\n",
       " Text(72.60722891566265, 44.767058823529396, 'gini = 0.496\\nsamples = 11\\nvalue = [5, 6]'),\n",
       " Text(73.41397590361446, 83.13882352941175, 'X[1] <= 19.75\\ngini = 0.355\\nsamples = 13\\nvalue = [3, 10]'),\n",
       " Text(72.60722891566265, 70.34823529411764, 'gini = 0.444\\nsamples = 3\\nvalue = [1, 2]'),\n",
       " Text(74.22072289156627, 70.34823529411764, 'gini = 0.32\\nsamples = 10\\nvalue = [2, 8]'),\n",
       " Text(79.06120481927711, 159.88235294117646, 'X[1] <= 14.75\\ngini = 0.493\\nsamples = 43\\nvalue = [19, 24]'),\n",
       " Text(78.2544578313253, 147.09176470588235, 'gini = 0.0\\nsamples = 3\\nvalue = [3, 0]'),\n",
       " Text(79.86795180722892, 147.09176470588235, 'X[3] <= 39.5\\ngini = 0.48\\nsamples = 40\\nvalue = [16, 24]'),\n",
       " Text(76.64096385542169, 134.30117647058825, 'X[2] <= 4.75\\ngini = 0.401\\nsamples = 18\\nvalue = [5, 13]'),\n",
       " Text(75.02746987951807, 121.51058823529411, 'X[3] <= 34.5\\ngini = 0.298\\nsamples = 11\\nvalue = [2, 9]'),\n",
       " Text(74.22072289156627, 108.72, 'X[0] <= 1.5\\ngini = 0.408\\nsamples = 7\\nvalue = [2, 5]'),\n",
       " Text(73.41397590361446, 95.92941176470588, 'gini = 0.5\\nsamples = 2\\nvalue = [1, 1]'),\n",
       " Text(75.02746987951807, 95.92941176470588, 'gini = 0.32\\nsamples = 5\\nvalue = [1, 4]'),\n",
       " Text(75.83421686746988, 108.72, 'gini = 0.0\\nsamples = 4\\nvalue = [0, 4]'),\n",
       " Text(78.2544578313253, 121.51058823529411, 'X[3] <= 34.5\\ngini = 0.49\\nsamples = 7\\nvalue = [3, 4]'),\n",
       " Text(77.4477108433735, 108.72, 'gini = 0.0\\nsamples = 1\\nvalue = [1, 0]'),\n",
       " Text(79.06120481927711, 108.72, 'X[0] <= 1.5\\ngini = 0.444\\nsamples = 6\\nvalue = [2, 4]'),\n",
       " Text(78.2544578313253, 95.92941176470588, 'gini = 0.0\\nsamples = 2\\nvalue = [0, 2]'),\n",
       " Text(79.86795180722892, 95.92941176470588, 'X[1] <= 19.75\\ngini = 0.5\\nsamples = 4\\nvalue = [2, 2]'),\n",
       " Text(79.06120481927711, 83.13882352941175, 'gini = 0.5\\nsamples = 2\\nvalue = [1, 1]'),\n",
       " Text(80.67469879518072, 83.13882352941175, 'gini = 0.5\\nsamples = 2\\nvalue = [1, 1]'),\n",
       " Text(83.09493975903614, 134.30117647058825, 'X[1] <= 19.75\\ngini = 0.5\\nsamples = 22\\nvalue = [11, 11]'),\n",
       " Text(82.28819277108434, 121.51058823529411, 'gini = 0.0\\nsamples = 1\\nvalue = [0, 1]'),\n",
       " Text(83.90168674698795, 121.51058823529411, 'X[2] <= 4.75\\ngini = 0.499\\nsamples = 21\\nvalue = [11, 10]'),\n",
       " Text(82.28819277108434, 108.72, 'X[0] <= 1.5\\ngini = 0.486\\nsamples = 12\\nvalue = [7, 5]'),\n",
       " Text(81.48144578313253, 95.92941176470588, 'gini = 0.444\\nsamples = 3\\nvalue = [2, 1]'),\n",
       " Text(83.09493975903614, 95.92941176470588, 'gini = 0.494\\nsamples = 9\\nvalue = [5, 4]'),\n",
       " Text(85.51518072289157, 108.72, 'X[0] <= 1.5\\ngini = 0.494\\nsamples = 9\\nvalue = [4, 5]'),\n",
       " Text(84.70843373493976, 95.92941176470588, 'gini = 0.444\\nsamples = 3\\nvalue = [1, 2]'),\n",
       " Text(86.32192771084337, 95.92941176470588, 'gini = 0.5\\nsamples = 6\\nvalue = [3, 3]'),\n",
       " Text(134.68893072289157, 172.6729411764706, 'X[3] <= 39.5\\ngini = 0.474\\nsamples = 572\\nvalue = [221, 351]'),\n",
       " Text(119.72629518072289, 159.88235294117646, 'X[1] <= 14.75\\ngini = 0.462\\nsamples = 456\\nvalue = [165, 291]'),\n",
       " Text(104.32246987951807, 147.09176470588235, 'X[3] <= 29.5\\ngini = 0.474\\nsamples = 322\\nvalue = [124, 198]'),\n",
       " Text(93.58265060240964, 134.30117647058825, 'X[2] <= 0.5\\ngini = 0.459\\nsamples = 227\\nvalue = [81, 146]'),\n",
       " Text(87.93542168674699, 121.51058823529411, 'X[3] <= 24.5\\ngini = 0.489\\nsamples = 47\\nvalue = [20, 27]'),\n",
       " Text(87.12867469879518, 108.72, 'gini = 0.0\\nsamples = 4\\nvalue = [0, 4]'),\n",
       " Text(88.74216867469879, 108.72, 'X[1] <= 7.5\\ngini = 0.498\\nsamples = 43\\nvalue = [20, 23]'),\n",
       " Text(87.93542168674699, 95.92941176470588, 'gini = 0.482\\nsamples = 32\\nvalue = [13, 19]'),\n",
       " Text(89.5489156626506, 95.92941176470588, 'X[1] <= 11.0\\ngini = 0.463\\nsamples = 11\\nvalue = [7, 4]'),\n",
       " Text(88.74216867469879, 83.13882352941175, 'gini = 0.48\\nsamples = 10\\nvalue = [6, 4]'),\n",
       " Text(90.35566265060241, 83.13882352941175, 'gini = 0.0\\nsamples = 1\\nvalue = [1, 0]'),\n",
       " Text(99.22987951807228, 121.51058823529411, 'X[1] <= 7.5\\ngini = 0.448\\nsamples = 180\\nvalue = [61, 119]'),\n",
       " Text(94.79277108433735, 108.72, 'X[2] <= 3.5\\ngini = 0.466\\nsamples = 103\\nvalue = [38, 65]'),\n",
       " Text(93.98602409638553, 95.92941176470588, 'X[2] <= 2.5\\ngini = 0.462\\nsamples = 102\\nvalue = [37, 65]'),\n",
       " Text(91.96915662650602, 83.13882352941175, 'X[2] <= 1.5\\ngini = 0.465\\nsamples = 95\\nvalue = [35, 60]'),\n",
       " Text(90.35566265060241, 70.34823529411764, 'X[3] <= 24.5\\ngini = 0.455\\nsamples = 60\\nvalue = [21, 39]'),\n",
       " Text(89.5489156626506, 57.557647058823534, 'gini = 0.494\\nsamples = 18\\nvalue = [8, 10]'),\n",
       " Text(91.16240963855421, 57.557647058823534, 'gini = 0.427\\nsamples = 42\\nvalue = [13, 29]'),\n",
       " Text(93.58265060240964, 70.34823529411764, 'X[3] <= 24.5\\ngini = 0.48\\nsamples = 35\\nvalue = [14, 21]'),\n",
       " Text(92.77590361445783, 57.557647058823534, 'gini = 0.245\\nsamples = 7\\nvalue = [1, 6]'),\n",
       " Text(94.38939759036144, 57.557647058823534, 'gini = 0.497\\nsamples = 28\\nvalue = [13, 15]'),\n",
       " Text(96.00289156626506, 83.13882352941175, 'X[3] <= 24.5\\ngini = 0.408\\nsamples = 7\\nvalue = [2, 5]'),\n",
       " Text(95.19614457831325, 70.34823529411764, 'gini = 0.5\\nsamples = 2\\nvalue = [1, 1]'),\n",
       " Text(96.80963855421686, 70.34823529411764, 'gini = 0.32\\nsamples = 5\\nvalue = [1, 4]'),\n",
       " Text(95.59951807228916, 95.92941176470588, 'gini = 0.0\\nsamples = 1\\nvalue = [1, 0]'),\n",
       " Text(103.66698795180723, 108.72, 'X[2] <= 2.5\\ngini = 0.419\\nsamples = 77\\nvalue = [23, 54]'),\n",
       " Text(100.8433734939759, 95.92941176470588, 'X[1] <= 11.0\\ngini = 0.398\\nsamples = 62\\nvalue = [17, 45]'),\n",
       " Text(99.22987951807228, 83.13882352941175, 'X[2] <= 1.5\\ngini = 0.413\\nsamples = 55\\nvalue = [16, 39]'),\n",
       " Text(98.42313253012048, 70.34823529411764, 'gini = 0.408\\nsamples = 21\\nvalue = [6, 15]'),\n",
       " Text(100.03662650602409, 70.34823529411764, 'gini = 0.415\\nsamples = 34\\nvalue = [10, 24]'),\n",
       " Text(102.45686746987951, 83.13882352941175, 'X[2] <= 1.5\\ngini = 0.245\\nsamples = 7\\nvalue = [1, 6]'),\n",
       " Text(101.65012048192771, 70.34823529411764, 'gini = 0.0\\nsamples = 2\\nvalue = [0, 2]'),\n",
       " Text(103.26361445783132, 70.34823529411764, 'gini = 0.32\\nsamples = 5\\nvalue = [1, 4]'),\n",
       " Text(106.49060240963856, 95.92941176470588, 'X[2] <= 3.5\\ngini = 0.48\\nsamples = 15\\nvalue = [6, 9]'),\n",
       " Text(105.68385542168674, 83.13882352941175, 'X[1] <= 11.0\\ngini = 0.49\\nsamples = 14\\nvalue = [6, 8]'),\n",
       " Text(104.87710843373493, 70.34823529411764, 'gini = 0.5\\nsamples = 8\\nvalue = [4, 4]'),\n",
       " Text(106.49060240963856, 70.34823529411764, 'gini = 0.444\\nsamples = 6\\nvalue = [2, 4]'),\n",
       " Text(107.29734939759037, 83.13882352941175, 'gini = 0.0\\nsamples = 1\\nvalue = [0, 1]'),\n",
       " Text(115.0622891566265, 134.30117647058825, 'X[1] <= 7.5\\ngini = 0.496\\nsamples = 95\\nvalue = [43, 52]'),\n",
       " Text(111.3310843373494, 121.51058823529411, 'X[2] <= 2.5\\ngini = 0.397\\nsamples = 11\\nvalue = [8, 3]'),\n",
       " Text(110.52433734939758, 108.72, 'X[2] <= 1.5\\ngini = 0.32\\nsamples = 10\\nvalue = [8, 2]'),\n",
       " Text(109.71759036144579, 95.92941176470588, 'X[2] <= 0.5\\ngini = 0.278\\nsamples = 6\\nvalue = [5, 1]'),\n",
       " Text(108.91084337349398, 83.13882352941175, 'gini = 0.32\\nsamples = 5\\nvalue = [4, 1]'),\n",
       " Text(110.52433734939758, 83.13882352941175, 'gini = 0.0\\nsamples = 1\\nvalue = [1, 0]'),\n",
       " Text(111.3310843373494, 95.92941176470588, 'gini = 0.375\\nsamples = 4\\nvalue = [3, 1]'),\n",
       " Text(112.1378313253012, 108.72, 'gini = 0.0\\nsamples = 1\\nvalue = [0, 1]'),\n",
       " Text(118.79349397590362, 121.51058823529411, 'X[1] <= 11.0\\ngini = 0.486\\nsamples = 84\\nvalue = [35, 49]'),\n",
       " Text(114.55807228915663, 108.72, 'X[3] <= 34.5\\ngini = 0.423\\nsamples = 23\\nvalue = [7, 16]'),\n",
       " Text(112.944578313253, 95.92941176470588, 'X[2] <= 0.5\\ngini = 0.375\\nsamples = 20\\nvalue = [5, 15]'),\n",
       " Text(112.1378313253012, 83.13882352941175, 'gini = 0.0\\nsamples = 3\\nvalue = [0, 3]'),\n",
       " Text(113.75132530120482, 83.13882352941175, 'X[2] <= 1.5\\ngini = 0.415\\nsamples = 17\\nvalue = [5, 12]'),\n",
       " Text(112.944578313253, 70.34823529411764, 'gini = 0.48\\nsamples = 5\\nvalue = [2, 3]'),\n",
       " Text(114.55807228915663, 70.34823529411764, 'X[2] <= 2.5\\ngini = 0.375\\nsamples = 12\\nvalue = [3, 9]'),\n",
       " Text(113.75132530120482, 57.557647058823534, 'gini = 0.245\\nsamples = 7\\nvalue = [1, 6]'),\n",
       " Text(115.36481927710844, 57.557647058823534, 'gini = 0.48\\nsamples = 5\\nvalue = [2, 3]'),\n",
       " Text(116.17156626506024, 95.92941176470588, 'X[2] <= 1.5\\ngini = 0.444\\nsamples = 3\\nvalue = [2, 1]'),\n",
       " Text(115.36481927710844, 83.13882352941175, 'gini = 0.0\\nsamples = 2\\nvalue = [2, 0]'),\n",
       " Text(116.97831325301205, 83.13882352941175, 'gini = 0.0\\nsamples = 1\\nvalue = [0, 1]'),\n",
       " Text(123.0289156626506, 108.72, 'X[2] <= 1.5\\ngini = 0.497\\nsamples = 61\\nvalue = [28, 33]'),\n",
       " Text(120.20530120481928, 95.92941176470588, 'X[2] <= 0.5\\ngini = 0.494\\nsamples = 18\\nvalue = [10, 8]'),\n",
       " Text(118.59180722891566, 83.13882352941175, 'X[3] <= 34.5\\ngini = 0.469\\nsamples = 8\\nvalue = [3, 5]'),\n",
       " Text(117.78506024096386, 70.34823529411764, 'gini = 0.444\\nsamples = 6\\nvalue = [2, 4]'),\n",
       " Text(119.39855421686747, 70.34823529411764, 'gini = 0.5\\nsamples = 2\\nvalue = [1, 1]'),\n",
       " Text(121.81879518072289, 83.13882352941175, 'X[3] <= 34.5\\ngini = 0.42\\nsamples = 10\\nvalue = [7, 3]'),\n",
       " Text(121.01204819277108, 70.34823529411764, 'gini = 0.444\\nsamples = 6\\nvalue = [4, 2]'),\n",
       " Text(122.6255421686747, 70.34823529411764, 'gini = 0.375\\nsamples = 4\\nvalue = [3, 1]'),\n",
       " Text(125.85253012048193, 95.92941176470588, 'X[3] <= 34.5\\ngini = 0.487\\nsamples = 43\\nvalue = [18, 25]'),\n",
       " Text(125.04578313253012, 83.13882352941175, 'X[2] <= 2.5\\ngini = 0.493\\nsamples = 41\\nvalue = [18, 23]'),\n",
       " Text(124.23903614457831, 70.34823529411764, 'gini = 0.471\\nsamples = 29\\nvalue = [11, 18]'),\n",
       " Text(125.85253012048193, 70.34823529411764, 'X[2] <= 3.5\\ngini = 0.486\\nsamples = 12\\nvalue = [7, 5]'),\n",
       " Text(125.04578313253012, 57.557647058823534, 'gini = 0.48\\nsamples = 10\\nvalue = [6, 4]'),\n",
       " Text(126.65927710843373, 57.557647058823534, 'gini = 0.5\\nsamples = 2\\nvalue = [1, 1]'),\n",
       " Text(126.65927710843373, 83.13882352941175, 'gini = 0.0\\nsamples = 2\\nvalue = [0, 2]'),\n",
       " Text(135.13012048192772, 147.09176470588235, 'X[3] <= 34.5\\ngini = 0.425\\nsamples = 134\\nvalue = [41, 93]'),\n",
       " Text(129.48289156626507, 134.30117647058825, 'X[2] <= 1.5\\ngini = 0.324\\nsamples = 54\\nvalue = [11, 43]'),\n",
       " Text(128.67614457831326, 121.51058823529411, 'gini = 0.5\\nsamples = 2\\nvalue = [1, 1]'),\n",
       " Text(130.28963855421688, 121.51058823529411, 'X[2] <= 2.5\\ngini = 0.311\\nsamples = 52\\nvalue = [10, 42]'),\n",
       " Text(128.27277108433734, 108.72, 'X[3] <= 29.5\\ngini = 0.227\\nsamples = 23\\nvalue = [3, 20]'),\n",
       " Text(127.46602409638554, 95.92941176470588, 'gini = 0.5\\nsamples = 2\\nvalue = [1, 1]'),\n",
       " Text(129.07951807228915, 95.92941176470588, 'gini = 0.172\\nsamples = 21\\nvalue = [2, 19]'),\n",
       " Text(132.3065060240964, 108.72, 'X[2] <= 3.5\\ngini = 0.366\\nsamples = 29\\nvalue = [7, 22]'),\n",
       " Text(130.69301204819277, 95.92941176470588, 'X[1] <= 19.75\\ngini = 0.397\\nsamples = 22\\nvalue = [6, 16]'),\n",
       " Text(129.88626506024096, 83.13882352941175, 'gini = 0.408\\nsamples = 21\\nvalue = [6, 15]'),\n",
       " Text(131.49975903614458, 83.13882352941175, 'gini = 0.0\\nsamples = 1\\nvalue = [0, 1]'),\n",
       " Text(133.92, 95.92941176470588, 'X[3] <= 29.5\\ngini = 0.245\\nsamples = 7\\nvalue = [1, 6]'),\n",
       " Text(133.1132530120482, 83.13882352941175, 'gini = 0.0\\nsamples = 1\\nvalue = [0, 1]'),\n",
       " Text(134.7267469879518, 83.13882352941175, 'X[2] <= 4.75\\ngini = 0.278\\nsamples = 6\\nvalue = [1, 5]'),\n",
       " Text(133.92, 70.34823529411764, 'gini = 0.32\\nsamples = 5\\nvalue = [1, 4]'),\n",
       " Text(135.5334939759036, 70.34823529411764, 'gini = 0.0\\nsamples = 1\\nvalue = [0, 1]'),\n",
       " Text(140.77734939759037, 134.30117647058825, 'X[1] <= 19.75\\ngini = 0.469\\nsamples = 80\\nvalue = [30, 50]'),\n",
       " Text(137.95373493975904, 121.51058823529411, 'X[2] <= 1.5\\ngini = 0.489\\nsamples = 54\\nvalue = [23, 31]'),\n",
       " Text(137.14698795180723, 108.72, 'gini = 0.444\\nsamples = 3\\nvalue = [2, 1]'),\n",
       " Text(138.76048192771083, 108.72, 'X[2] <= 3.5\\ngini = 0.484\\nsamples = 51\\nvalue = [21, 30]'),\n",
       " Text(137.14698795180723, 95.92941176470588, 'X[2] <= 2.5\\ngini = 0.467\\nsamples = 35\\nvalue = [13, 22]'),\n",
       " Text(136.34024096385542, 83.13882352941175, 'gini = 0.48\\nsamples = 15\\nvalue = [6, 9]'),\n",
       " Text(137.95373493975904, 83.13882352941175, 'gini = 0.455\\nsamples = 20\\nvalue = [7, 13]'),\n",
       " Text(140.37397590361445, 95.92941176470588, 'X[2] <= 4.75\\ngini = 0.5\\nsamples = 16\\nvalue = [8, 8]'),\n",
       " Text(139.56722891566264, 83.13882352941175, 'gini = 0.496\\nsamples = 11\\nvalue = [6, 5]'),\n",
       " Text(141.18072289156626, 83.13882352941175, 'gini = 0.48\\nsamples = 5\\nvalue = [2, 3]'),\n",
       " Text(143.6009638554217, 121.51058823529411, 'X[2] <= 4.75\\ngini = 0.393\\nsamples = 26\\nvalue = [7, 19]'),\n",
       " Text(142.79421686746988, 108.72, 'X[2] <= 2.5\\ngini = 0.34\\nsamples = 23\\nvalue = [5, 18]'),\n",
       " Text(141.98746987951807, 95.92941176470588, 'gini = 0.0\\nsamples = 3\\nvalue = [0, 3]'),\n",
       " Text(143.6009638554217, 95.92941176470588, 'X[2] <= 3.5\\ngini = 0.375\\nsamples = 20\\nvalue = [5, 15]'),\n",
       " Text(142.79421686746988, 83.13882352941175, 'gini = 0.444\\nsamples = 12\\nvalue = [4, 8]'),\n",
       " Text(144.40771084337348, 83.13882352941175, 'gini = 0.219\\nsamples = 8\\nvalue = [1, 7]'),\n",
       " Text(144.40771084337348, 108.72, 'gini = 0.444\\nsamples = 3\\nvalue = [2, 1]'),\n",
       " Text(149.65156626506024, 159.88235294117646, 'X[1] <= 14.75\\ngini = 0.499\\nsamples = 116\\nvalue = [56, 60]'),\n",
       " Text(146.8279518072289, 147.09176470588235, 'X[2] <= 0.5\\ngini = 0.48\\nsamples = 10\\nvalue = [6, 4]'),\n",
       " Text(146.0212048192771, 134.30117647058825, 'gini = 0.5\\nsamples = 6\\nvalue = [3, 3]'),\n",
       " Text(147.63469879518073, 134.30117647058825, 'X[1] <= 11.0\\ngini = 0.375\\nsamples = 4\\nvalue = [3, 1]'),\n",
       " Text(146.8279518072289, 121.51058823529411, 'X[2] <= 1.5\\ngini = 0.5\\nsamples = 2\\nvalue = [1, 1]'),\n",
       " Text(146.0212048192771, 108.72, 'gini = 0.0\\nsamples = 1\\nvalue = [1, 0]'),\n",
       " Text(147.63469879518073, 108.72, 'gini = 0.0\\nsamples = 1\\nvalue = [0, 1]'),\n",
       " Text(148.44144578313254, 121.51058823529411, 'gini = 0.0\\nsamples = 2\\nvalue = [2, 0]'),\n",
       " Text(152.47518072289157, 147.09176470588235, 'X[2] <= 1.5\\ngini = 0.498\\nsamples = 106\\nvalue = [50, 56]'),\n",
       " Text(150.86168674698794, 134.30117647058825, 'X[1] <= 19.75\\ngini = 0.375\\nsamples = 4\\nvalue = [1, 3]'),\n",
       " Text(150.05493975903613, 121.51058823529411, 'gini = 0.5\\nsamples = 2\\nvalue = [1, 1]'),\n",
       " Text(151.66843373493975, 121.51058823529411, 'gini = 0.0\\nsamples = 2\\nvalue = [0, 2]'),\n",
       " Text(154.0886746987952, 134.30117647058825, 'X[2] <= 4.75\\ngini = 0.499\\nsamples = 102\\nvalue = [49, 53]'),\n",
       " Text(153.28192771084338, 121.51058823529411, 'X[2] <= 2.5\\ngini = 0.5\\nsamples = 85\\nvalue = [42, 43]'),\n",
       " Text(151.26506024096386, 108.72, 'X[1] <= 19.75\\ngini = 0.495\\nsamples = 29\\nvalue = [13, 16]'),\n",
       " Text(150.45831325301205, 95.92941176470588, 'gini = 0.375\\nsamples = 4\\nvalue = [1, 3]'),\n",
       " Text(152.07180722891567, 95.92941176470588, 'gini = 0.499\\nsamples = 25\\nvalue = [12, 13]'),\n",
       " Text(155.2987951807229, 108.72, 'X[1] <= 19.75\\ngini = 0.499\\nsamples = 56\\nvalue = [29, 27]'),\n",
       " Text(153.68530120481927, 95.92941176470588, 'X[2] <= 3.5\\ngini = 0.444\\nsamples = 6\\nvalue = [4, 2]'),\n",
       " Text(152.87855421686746, 83.13882352941175, 'gini = 0.0\\nsamples = 3\\nvalue = [3, 0]'),\n",
       " Text(154.49204819277108, 83.13882352941175, 'gini = 0.444\\nsamples = 3\\nvalue = [1, 2]'),\n",
       " Text(156.9122891566265, 95.92941176470588, 'X[2] <= 3.5\\ngini = 0.5\\nsamples = 50\\nvalue = [25, 25]'),\n",
       " Text(156.1055421686747, 83.13882352941175, 'gini = 0.5\\nsamples = 33\\nvalue = [16, 17]'),\n",
       " Text(157.7190361445783, 83.13882352941175, 'gini = 0.498\\nsamples = 17\\nvalue = [9, 8]'),\n",
       " Text(154.895421686747, 121.51058823529411, 'gini = 0.484\\nsamples = 17\\nvalue = [7, 10]'),\n",
       " Text(215.65355421686746, 198.25411764705882, 'X[1] <= 4.25\\ngini = 0.37\\nsamples = 3936\\nvalue = [2973, 963]'),\n",
       " Text(172.16484939759036, 185.4635294117647, 'X[0] <= 4.5\\ngini = 0.24\\nsamples = 1622\\nvalue = [1396, 226]'),\n",
       " Text(165.18144578313252, 172.6729411764706, 'X[2] <= 3.5\\ngini = 0.314\\nsamples = 678\\nvalue = [546, 132]'),\n",
       " Text(164.37469879518073, 159.88235294117646, 'X[1] <= 1.5\\ngini = 0.311\\nsamples = 676\\nvalue = [546, 130]'),\n",
       " Text(160.13927710843373, 147.09176470588235, 'X[2] <= 0.5\\ngini = 0.185\\nsamples = 87\\nvalue = [78, 9]'),\n",
       " Text(159.33253012048192, 134.30117647058825, 'X[3] <= 24.5\\ngini = 0.189\\nsamples = 85\\nvalue = [76, 9]'),\n",
       " Text(157.7190361445783, 121.51058823529411, 'X[3] <= 19.75\\ngini = 0.18\\nsamples = 70\\nvalue = [63, 7]'),\n",
       " Text(156.9122891566265, 108.72, 'gini = 0.153\\nsamples = 12\\nvalue = [11, 1]'),\n",
       " Text(158.5257831325301, 108.72, 'gini = 0.185\\nsamples = 58\\nvalue = [52, 6]'),\n",
       " Text(160.94602409638554, 121.51058823529411, 'X[3] <= 29.5\\ngini = 0.231\\nsamples = 15\\nvalue = [13, 2]'),\n",
       " Text(160.13927710843373, 108.72, 'gini = 0.245\\nsamples = 14\\nvalue = [12, 2]'),\n",
       " Text(161.75277108433735, 108.72, 'gini = 0.0\\nsamples = 1\\nvalue = [1, 0]'),\n",
       " Text(160.94602409638554, 134.30117647058825, 'gini = 0.0\\nsamples = 2\\nvalue = [2, 0]'),\n",
       " Text(168.6101204819277, 147.09176470588235, 'X[2] <= 0.5\\ngini = 0.326\\nsamples = 589\\nvalue = [468, 121]'),\n",
       " Text(165.78650602409638, 134.30117647058825, 'X[3] <= 34.5\\ngini = 0.315\\nsamples = 439\\nvalue = [353, 86]'),\n",
       " Text(164.97975903614457, 121.51058823529411, 'X[3] <= 24.5\\ngini = 0.316\\nsamples = 437\\nvalue = [351, 86]'),\n",
       " Text(163.36626506024095, 108.72, 'X[3] <= 19.75\\ngini = 0.305\\nsamples = 303\\nvalue = [246, 57]'),\n",
       " Text(162.55951807228917, 95.92941176470588, 'gini = 0.305\\nsamples = 16\\nvalue = [13, 3]'),\n",
       " Text(164.17301204819276, 95.92941176470588, 'gini = 0.306\\nsamples = 287\\nvalue = [233, 54]'),\n",
       " Text(166.5932530120482, 108.72, 'X[3] <= 29.5\\ngini = 0.339\\nsamples = 134\\nvalue = [105, 29]'),\n",
       " Text(165.78650602409638, 95.92941176470588, 'gini = 0.336\\nsamples = 117\\nvalue = [92, 25]'),\n",
       " Text(167.4, 95.92941176470588, 'gini = 0.36\\nsamples = 17\\nvalue = [13, 4]'),\n",
       " Text(166.5932530120482, 121.51058823529411, 'gini = 0.0\\nsamples = 2\\nvalue = [2, 0]'),\n",
       " Text(171.43373493975903, 134.30117647058825, 'X[3] <= 24.5\\ngini = 0.358\\nsamples = 150\\nvalue = [115, 35]'),\n",
       " Text(169.0134939759036, 121.51058823529411, 'X[3] <= 19.75\\ngini = 0.418\\nsamples = 104\\nvalue = [73, 31]'),\n",
       " Text(168.20674698795182, 108.72, 'gini = 0.278\\nsamples = 6\\nvalue = [5, 1]'),\n",
       " Text(169.8202409638554, 108.72, 'X[2] <= 1.5\\ngini = 0.425\\nsamples = 98\\nvalue = [68, 30]'),\n",
       " Text(169.0134939759036, 95.92941176470588, 'gini = 0.417\\nsamples = 81\\nvalue = [57, 24]'),\n",
       " Text(170.62698795180722, 95.92941176470588, 'gini = 0.457\\nsamples = 17\\nvalue = [11, 6]'),\n",
       " Text(173.85397590361447, 121.51058823529411, 'X[3] <= 29.5\\ngini = 0.159\\nsamples = 46\\nvalue = [42, 4]'),\n",
       " Text(173.04722891566266, 108.72, 'X[2] <= 1.5\\ngini = 0.165\\nsamples = 44\\nvalue = [40, 4]'),\n",
       " Text(172.24048192771085, 95.92941176470588, 'gini = 0.153\\nsamples = 36\\nvalue = [33, 3]'),\n",
       " Text(173.85397590361447, 95.92941176470588, 'X[2] <= 2.5\\ngini = 0.219\\nsamples = 8\\nvalue = [7, 1]'),\n",
       " Text(173.04722891566266, 83.13882352941175, 'gini = 0.245\\nsamples = 7\\nvalue = [6, 1]'),\n",
       " Text(174.66072289156625, 83.13882352941175, 'gini = 0.0\\nsamples = 1\\nvalue = [1, 0]'),\n",
       " Text(174.66072289156625, 108.72, 'gini = 0.0\\nsamples = 2\\nvalue = [2, 0]'),\n",
       " Text(165.98819277108433, 159.88235294117646, 'gini = 0.0\\nsamples = 2\\nvalue = [0, 2]'),\n",
       " Text(179.1482530120482, 172.6729411764706, 'X[1] <= 1.5\\ngini = 0.179\\nsamples = 944\\nvalue = [850, 94]'),\n",
       " Text(176.27421686746987, 159.88235294117646, 'X[3] <= 24.5\\ngini = 0.011\\nsamples = 185\\nvalue = [184, 1]'),\n",
       " Text(175.46746987951806, 147.09176470588235, 'X[3] <= 19.75\\ngini = 0.013\\nsamples = 149\\nvalue = [148, 1]'),\n",
       " Text(174.66072289156625, 134.30117647058825, 'gini = 0.0\\nsamples = 35\\nvalue = [35, 0]'),\n",
       " Text(176.27421686746987, 134.30117647058825, 'X[2] <= 0.5\\ngini = 0.017\\nsamples = 114\\nvalue = [113, 1]'),\n",
       " Text(175.46746987951806, 121.51058823529411, 'gini = 0.018\\nsamples = 110\\nvalue = [109, 1]'),\n",
       " Text(177.0809638554217, 121.51058823529411, 'gini = 0.0\\nsamples = 4\\nvalue = [4, 0]'),\n",
       " Text(177.0809638554217, 147.09176470588235, 'gini = 0.0\\nsamples = 36\\nvalue = [36, 0]'),\n",
       " Text(182.0222891566265, 159.88235294117646, 'X[3] <= 19.75\\ngini = 0.215\\nsamples = 759\\nvalue = [666, 93]'),\n",
       " Text(178.6944578313253, 147.09176470588235, 'X[2] <= 1.5\\ngini = 0.087\\nsamples = 22\\nvalue = [21, 1]'),\n",
       " Text(177.8877108433735, 134.30117647058825, 'gini = 0.0\\nsamples = 20\\nvalue = [20, 0]'),\n",
       " Text(179.5012048192771, 134.30117647058825, 'gini = 0.5\\nsamples = 2\\nvalue = [1, 1]'),\n",
       " Text(185.35012048192772, 147.09176470588235, 'X[3] <= 29.5\\ngini = 0.218\\nsamples = 737\\nvalue = [645, 92]'),\n",
       " Text(181.11469879518071, 134.30117647058825, 'X[3] <= 24.5\\ngini = 0.215\\nsamples = 710\\nvalue = [623, 87]'),\n",
       " Text(179.0978313253012, 121.51058823529411, 'X[2] <= 1.5\\ngini = 0.225\\nsamples = 480\\nvalue = [418, 62]'),\n",
       " Text(177.48433734939758, 108.72, 'X[2] <= 0.5\\ngini = 0.228\\nsamples = 464\\nvalue = [403, 61]'),\n",
       " Text(176.67759036144577, 95.92941176470588, 'gini = 0.224\\nsamples = 390\\nvalue = [340, 50]'),\n",
       " Text(178.2910843373494, 95.92941176470588, 'gini = 0.253\\nsamples = 74\\nvalue = [63, 11]'),\n",
       " Text(180.71132530120482, 108.72, 'X[2] <= 2.5\\ngini = 0.117\\nsamples = 16\\nvalue = [15, 1]'),\n",
       " Text(179.904578313253, 95.92941176470588, 'gini = 0.133\\nsamples = 14\\nvalue = [13, 1]'),\n",
       " Text(181.51807228915663, 95.92941176470588, 'gini = 0.0\\nsamples = 2\\nvalue = [2, 0]'),\n",
       " Text(183.13156626506023, 121.51058823529411, 'X[2] <= 0.5\\ngini = 0.194\\nsamples = 230\\nvalue = [205, 25]'),\n",
       " Text(182.32481927710842, 108.72, 'gini = 0.204\\nsamples = 182\\nvalue = [161, 21]'),\n",
       " Text(183.93831325301204, 108.72, 'X[2] <= 1.5\\ngini = 0.153\\nsamples = 48\\nvalue = [44, 4]'),\n",
       " Text(183.13156626506023, 95.92941176470588, 'gini = 0.139\\nsamples = 40\\nvalue = [37, 3]'),\n",
       " Text(184.74506024096385, 95.92941176470588, 'gini = 0.219\\nsamples = 8\\nvalue = [7, 1]'),\n",
       " Text(189.5855421686747, 134.30117647058825, 'X[2] <= 1.5\\ngini = 0.302\\nsamples = 27\\nvalue = [22, 5]'),\n",
       " Text(187.97204819277107, 121.51058823529411, 'X[2] <= 0.5\\ngini = 0.269\\nsamples = 25\\nvalue = [21, 4]'),\n",
       " Text(187.1653012048193, 108.72, 'X[3] <= 34.5\\ngini = 0.32\\nsamples = 20\\nvalue = [16, 4]'),\n",
       " Text(186.35855421686747, 95.92941176470588, 'gini = 0.375\\nsamples = 16\\nvalue = [12, 4]'),\n",
       " Text(187.97204819277107, 95.92941176470588, 'gini = 0.0\\nsamples = 4\\nvalue = [4, 0]'),\n",
       " Text(188.77879518072288, 108.72, 'gini = 0.0\\nsamples = 5\\nvalue = [5, 0]'),\n",
       " Text(191.19903614457832, 121.51058823529411, 'X[2] <= 3.0\\ngini = 0.5\\nsamples = 2\\nvalue = [1, 1]'),\n",
       " Text(190.3922891566265, 108.72, 'gini = 0.0\\nsamples = 1\\nvalue = [0, 1]'),\n",
       " Text(192.00578313253013, 108.72, 'gini = 0.0\\nsamples = 1\\nvalue = [1, 0]'),\n",
       " Text(259.1422590361446, 185.4635294117647, 'X[0] <= 4.5\\ngini = 0.434\\nsamples = 2314\\nvalue = [1577, 737]'),\n",
       " Text(224.62231174698795, 172.6729411764706, 'X[1] <= 7.5\\ngini = 0.474\\nsamples = 1131\\nvalue = [694, 437]'),\n",
       " Text(199.9724096385542, 159.88235294117646, 'X[3] <= 29.5\\ngini = 0.419\\nsamples = 341\\nvalue = [239, 102]'),\n",
       " Text(195.8378313253012, 147.09176470588235, 'X[2] <= 0.5\\ngini = 0.433\\nsamples = 316\\nvalue = [216, 100]'),\n",
       " Text(193.61927710843372, 134.30117647058825, 'X[3] <= 24.5\\ngini = 0.409\\nsamples = 94\\nvalue = [67, 27]'),\n",
       " Text(192.81253012048194, 121.51058823529411, 'gini = 0.461\\nsamples = 25\\nvalue = [16, 9]'),\n",
       " Text(194.42602409638553, 121.51058823529411, 'gini = 0.386\\nsamples = 69\\nvalue = [51, 18]'),\n",
       " Text(198.05638554216867, 134.30117647058825, 'X[2] <= 2.5\\ngini = 0.441\\nsamples = 222\\nvalue = [149, 73]'),\n",
       " Text(196.03951807228916, 121.51058823529411, 'X[2] <= 1.5\\ngini = 0.44\\nsamples = 214\\nvalue = [144, 70]'),\n",
       " Text(194.42602409638553, 108.72, 'X[3] <= 24.5\\ngini = 0.444\\nsamples = 123\\nvalue = [82, 41]'),\n",
       " Text(193.61927710843372, 95.92941176470588, 'gini = 0.475\\nsamples = 31\\nvalue = [19, 12]'),\n",
       " Text(195.23277108433734, 95.92941176470588, 'gini = 0.432\\nsamples = 92\\nvalue = [63, 29]'),\n",
       " Text(197.65301204819278, 108.72, 'X[3] <= 24.5\\ngini = 0.434\\nsamples = 91\\nvalue = [62, 29]'),\n",
       " Text(196.84626506024097, 95.92941176470588, 'gini = 0.388\\nsamples = 19\\nvalue = [14, 5]'),\n",
       " Text(198.45975903614456, 95.92941176470588, 'gini = 0.444\\nsamples = 72\\nvalue = [48, 24]'),\n",
       " Text(200.07325301204818, 121.51058823529411, 'X[3] <= 24.5\\ngini = 0.469\\nsamples = 8\\nvalue = [5, 3]'),\n",
       " Text(199.26650602409637, 108.72, 'gini = 0.0\\nsamples = 2\\nvalue = [2, 0]'),\n",
       " Text(200.88, 108.72, 'gini = 0.5\\nsamples = 6\\nvalue = [3, 3]'),\n",
       " Text(204.1069879518072, 147.09176470588235, 'X[3] <= 34.5\\ngini = 0.147\\nsamples = 25\\nvalue = [23, 2]'),\n",
       " Text(202.49349397590362, 134.30117647058825, 'X[2] <= 0.5\\ngini = 0.087\\nsamples = 22\\nvalue = [21, 1]'),\n",
       " Text(201.6867469879518, 121.51058823529411, 'gini = 0.0\\nsamples = 5\\nvalue = [5, 0]'),\n",
       " Text(203.30024096385543, 121.51058823529411, 'X[2] <= 1.5\\ngini = 0.111\\nsamples = 17\\nvalue = [16, 1]'),\n",
       " Text(202.49349397590362, 108.72, 'gini = 0.153\\nsamples = 12\\nvalue = [11, 1]'),\n",
       " Text(204.1069879518072, 108.72, 'gini = 0.0\\nsamples = 5\\nvalue = [5, 0]'),\n",
       " Text(205.72048192771084, 134.30117647058825, 'X[2] <= 0.5\\ngini = 0.444\\nsamples = 3\\nvalue = [2, 1]'),\n",
       " Text(204.91373493975902, 121.51058823529411, 'gini = 0.5\\nsamples = 2\\nvalue = [1, 1]'),\n",
       " Text(206.52722891566265, 121.51058823529411, 'gini = 0.0\\nsamples = 1\\nvalue = [1, 0]'),\n",
       " Text(249.27221385542168, 159.88235294117646, 'X[3] <= 39.5\\ngini = 0.488\\nsamples = 790\\nvalue = [455, 335]'),\n",
       " Text(234.93984939759036, 147.09176470588235, 'X[1] <= 14.75\\ngini = 0.494\\nsamples = 600\\nvalue = [334, 266]'),\n",
       " Text(218.0233734939759, 134.30117647058825, 'X[3] <= 29.5\\ngini = 0.477\\nsamples = 341\\nvalue = [207, 134]'),\n",
       " Text(208.7457831325301, 121.51058823529411, 'X[2] <= 1.5\\ngini = 0.493\\nsamples = 141\\nvalue = [79, 62]'),\n",
       " Text(205.72048192771084, 108.72, 'X[1] <= 11.0\\ngini = 0.444\\nsamples = 45\\nvalue = [30, 15]'),\n",
       " Text(204.91373493975902, 95.92941176470588, 'X[3] <= 24.5\\ngini = 0.454\\nsamples = 43\\nvalue = [28, 15]'),\n",
       " Text(204.1069879518072, 83.13882352941175, 'gini = 0.0\\nsamples = 2\\nvalue = [2, 0]'),\n",
       " Text(205.72048192771084, 83.13882352941175, 'X[2] <= 0.5\\ngini = 0.464\\nsamples = 41\\nvalue = [26, 15]'),\n",
       " Text(204.91373493975902, 70.34823529411764, 'gini = 0.469\\nsamples = 16\\nvalue = [10, 6]'),\n",
       " Text(206.52722891566265, 70.34823529411764, 'gini = 0.461\\nsamples = 25\\nvalue = [16, 9]'),\n",
       " Text(206.52722891566265, 95.92941176470588, 'gini = 0.0\\nsamples = 2\\nvalue = [2, 0]'),\n",
       " Text(211.7710843373494, 108.72, 'X[2] <= 4.75\\ngini = 0.5\\nsamples = 96\\nvalue = [49, 47]'),\n",
       " Text(210.9643373493976, 95.92941176470588, 'X[2] <= 2.5\\ngini = 0.5\\nsamples = 95\\nvalue = [48, 47]'),\n",
       " Text(208.94746987951808, 83.13882352941175, 'X[1] <= 11.0\\ngini = 0.5\\nsamples = 76\\nvalue = [37, 39]'),\n",
       " Text(208.14072289156627, 70.34823529411764, 'gini = 0.5\\nsamples = 63\\nvalue = [32, 31]'),\n",
       " Text(209.75421686746986, 70.34823529411764, 'gini = 0.473\\nsamples = 13\\nvalue = [5, 8]'),\n",
       " Text(212.9812048192771, 83.13882352941175, 'X[1] <= 11.0\\ngini = 0.488\\nsamples = 19\\nvalue = [11, 8]'),\n",
       " Text(211.3677108433735, 70.34823529411764, 'X[2] <= 3.5\\ngini = 0.496\\nsamples = 11\\nvalue = [6, 5]'),\n",
       " Text(210.56096385542168, 57.557647058823534, 'X[3] <= 24.5\\ngini = 0.5\\nsamples = 10\\nvalue = [5, 5]'),\n",
       " Text(209.75421686746986, 44.767058823529396, 'gini = 0.5\\nsamples = 2\\nvalue = [1, 1]'),\n",
       " Text(211.3677108433735, 44.767058823529396, 'gini = 0.5\\nsamples = 8\\nvalue = [4, 4]'),\n",
       " Text(212.1744578313253, 57.557647058823534, 'gini = 0.0\\nsamples = 1\\nvalue = [1, 0]'),\n",
       " Text(214.59469879518073, 70.34823529411764, 'X[2] <= 3.5\\ngini = 0.469\\nsamples = 8\\nvalue = [5, 3]'),\n",
       " Text(213.78795180722892, 57.557647058823534, 'gini = 0.444\\nsamples = 6\\nvalue = [4, 2]'),\n",
       " Text(215.40144578313252, 57.557647058823534, 'gini = 0.5\\nsamples = 2\\nvalue = [1, 1]'),\n",
       " Text(212.5778313253012, 95.92941176470588, 'gini = 0.0\\nsamples = 1\\nvalue = [1, 0]'),\n",
       " Text(227.30096385542168, 121.51058823529411, 'X[1] <= 11.0\\ngini = 0.461\\nsamples = 200\\nvalue = [128, 72]'),\n",
       " Text(221.04867469879517, 108.72, 'X[3] <= 34.5\\ngini = 0.415\\nsamples = 75\\nvalue = [53, 22]'),\n",
       " Text(219.43518072289157, 95.92941176470588, 'X[2] <= 2.5\\ngini = 0.437\\nsamples = 65\\nvalue = [44, 21]'),\n",
       " Text(218.62843373493976, 83.13882352941175, 'X[2] <= 1.5\\ngini = 0.459\\nsamples = 56\\nvalue = [36, 20]'),\n",
       " Text(217.82168674698795, 70.34823529411764, 'X[2] <= 0.5\\ngini = 0.423\\nsamples = 23\\nvalue = [16, 7]'),\n",
       " Text(217.01493975903614, 57.557647058823534, 'gini = 0.408\\nsamples = 7\\nvalue = [5, 2]'),\n",
       " Text(218.62843373493976, 57.557647058823534, 'gini = 0.43\\nsamples = 16\\nvalue = [11, 5]'),\n",
       " Text(219.43518072289157, 70.34823529411764, 'gini = 0.478\\nsamples = 33\\nvalue = [20, 13]'),\n",
       " Text(220.24192771084336, 83.13882352941175, 'gini = 0.198\\nsamples = 9\\nvalue = [8, 1]'),\n",
       " Text(222.6621686746988, 95.92941176470588, 'X[2] <= 2.5\\ngini = 0.18\\nsamples = 10\\nvalue = [9, 1]'),\n",
       " Text(221.85542168674698, 83.13882352941175, 'gini = 0.0\\nsamples = 8\\nvalue = [8, 0]'),\n",
       " Text(223.4689156626506, 83.13882352941175, 'X[2] <= 4.25\\ngini = 0.5\\nsamples = 2\\nvalue = [1, 1]'),\n",
       " Text(222.6621686746988, 70.34823529411764, 'gini = 0.0\\nsamples = 1\\nvalue = [0, 1]'),\n",
       " Text(224.2756626506024, 70.34823529411764, 'gini = 0.0\\nsamples = 1\\nvalue = [1, 0]'),\n",
       " Text(233.5532530120482, 108.72, 'X[2] <= 3.5\\ngini = 0.48\\nsamples = 125\\nvalue = [75, 50]'),\n",
       " Text(230.72963855421688, 95.92941176470588, 'X[2] <= 1.5\\ngini = 0.474\\nsamples = 119\\nvalue = [73, 46]'),\n",
       " Text(227.50265060240963, 83.13882352941175, 'X[3] <= 34.5\\ngini = 0.5\\nsamples = 30\\nvalue = [15, 15]'),\n",
       " Text(225.889156626506, 70.34823529411764, 'X[2] <= 0.5\\ngini = 0.499\\nsamples = 21\\nvalue = [11, 10]'),\n",
       " Text(225.08240963855422, 57.557647058823534, 'gini = 0.49\\nsamples = 7\\nvalue = [3, 4]'),\n",
       " Text(226.69590361445782, 57.557647058823534, 'gini = 0.49\\nsamples = 14\\nvalue = [8, 6]'),\n",
       " Text(229.11614457831325, 70.34823529411764, 'X[2] <= 0.5\\ngini = 0.494\\nsamples = 9\\nvalue = [4, 5]'),\n",
       " Text(228.30939759036144, 57.557647058823534, 'gini = 0.5\\nsamples = 4\\nvalue = [2, 2]'),\n",
       " Text(229.92289156626506, 57.557647058823534, 'gini = 0.48\\nsamples = 5\\nvalue = [2, 3]'),\n",
       " Text(233.9566265060241, 83.13882352941175, 'X[3] <= 34.5\\ngini = 0.454\\nsamples = 89\\nvalue = [58, 31]'),\n",
       " Text(232.34313253012047, 70.34823529411764, 'X[2] <= 2.5\\ngini = 0.463\\nsamples = 74\\nvalue = [47, 27]'),\n",
       " Text(231.53638554216866, 57.557647058823534, 'gini = 0.475\\nsamples = 49\\nvalue = [30, 19]'),\n",
       " Text(233.14987951807228, 57.557647058823534, 'gini = 0.435\\nsamples = 25\\nvalue = [17, 8]'),\n",
       " Text(235.57012048192772, 70.34823529411764, 'X[2] <= 2.5\\ngini = 0.391\\nsamples = 15\\nvalue = [11, 4]'),\n",
       " Text(234.7633734939759, 57.557647058823534, 'gini = 0.18\\nsamples = 10\\nvalue = [9, 1]'),\n",
       " Text(236.37686746987953, 57.557647058823534, 'gini = 0.48\\nsamples = 5\\nvalue = [2, 3]'),\n",
       " Text(236.37686746987953, 95.92941176470588, 'X[3] <= 34.5\\ngini = 0.444\\nsamples = 6\\nvalue = [2, 4]'),\n",
       " Text(235.57012048192772, 83.13882352941175, 'gini = 0.48\\nsamples = 5\\nvalue = [2, 3]'),\n",
       " Text(237.1836144578313, 83.13882352941175, 'gini = 0.0\\nsamples = 1\\nvalue = [0, 1]'),\n",
       " Text(251.8563253012048, 134.30117647058825, 'X[1] <= 19.75\\ngini = 0.5\\nsamples = 259\\nvalue = [127, 132]'),\n",
       " Text(247.16710843373494, 121.51058823529411, 'X[3] <= 34.5\\ngini = 0.5\\nsamples = 215\\nvalue = [110, 105]'),\n",
       " Text(241.8224096385542, 108.72, 'X[2] <= 1.5\\ngini = 0.494\\nsamples = 97\\nvalue = [43, 54]'),\n",
       " Text(239.60385542168675, 95.92941176470588, 'X[3] <= 29.5\\ngini = 0.375\\nsamples = 8\\nvalue = [2, 6]'),\n",
       " Text(238.79710843373493, 83.13882352941175, 'gini = 0.0\\nsamples = 1\\nvalue = [1, 0]'),\n",
       " Text(240.41060240963856, 83.13882352941175, 'gini = 0.245\\nsamples = 7\\nvalue = [1, 6]'),\n",
       " Text(244.0409638554217, 95.92941176470588, 'X[2] <= 2.5\\ngini = 0.497\\nsamples = 89\\nvalue = [41, 48]'),\n",
       " Text(242.02409638554215, 83.13882352941175, 'X[3] <= 29.5\\ngini = 0.498\\nsamples = 36\\nvalue = [19, 17]'),\n",
       " Text(241.21734939759037, 70.34823529411764, 'gini = 0.444\\nsamples = 6\\nvalue = [4, 2]'),\n",
       " Text(242.83084337349396, 70.34823529411764, 'gini = 0.5\\nsamples = 30\\nvalue = [15, 15]'),\n",
       " Text(246.0578313253012, 83.13882352941175, 'X[3] <= 29.5\\ngini = 0.486\\nsamples = 53\\nvalue = [22, 31]'),\n",
       " Text(244.44433734939759, 70.34823529411764, 'X[2] <= 3.5\\ngini = 0.375\\nsamples = 4\\nvalue = [1, 3]'),\n",
       " Text(243.63759036144577, 57.557647058823534, 'gini = 0.0\\nsamples = 1\\nvalue = [1, 0]'),\n",
       " Text(245.2510843373494, 57.557647058823534, 'gini = 0.0\\nsamples = 3\\nvalue = [0, 3]'),\n",
       " Text(247.6713253012048, 70.34823529411764, 'X[2] <= 3.5\\ngini = 0.49\\nsamples = 49\\nvalue = [21, 28]'),\n",
       " Text(246.86457831325302, 57.557647058823534, 'gini = 0.459\\nsamples = 28\\nvalue = [10, 18]'),\n",
       " Text(248.47807228915661, 57.557647058823534, 'X[2] <= 4.75\\ngini = 0.499\\nsamples = 21\\nvalue = [11, 10]'),\n",
       " Text(247.6713253012048, 44.767058823529396, 'gini = 0.5\\nsamples = 12\\nvalue = [6, 6]'),\n",
       " Text(249.28481927710843, 44.767058823529396, 'gini = 0.494\\nsamples = 9\\nvalue = [5, 4]'),\n",
       " Text(252.51180722891567, 108.72, 'X[2] <= 4.75\\ngini = 0.491\\nsamples = 118\\nvalue = [67, 51]'),\n",
       " Text(251.70506024096386, 95.92941176470588, 'X[2] <= 2.5\\ngini = 0.488\\nsamples = 111\\nvalue = [64, 47]'),\n",
       " Text(250.09156626506024, 83.13882352941175, 'X[2] <= 1.5\\ngini = 0.497\\nsamples = 50\\nvalue = [27, 23]'),\n",
       " Text(249.28481927710843, 70.34823529411764, 'gini = 0.5\\nsamples = 6\\nvalue = [3, 3]'),\n",
       " Text(250.89831325301205, 70.34823529411764, 'gini = 0.496\\nsamples = 44\\nvalue = [24, 20]'),\n",
       " Text(253.31855421686745, 83.13882352941175, 'X[2] <= 3.5\\ngini = 0.477\\nsamples = 61\\nvalue = [37, 24]'),\n",
       " Text(252.51180722891567, 70.34823529411764, 'gini = 0.474\\nsamples = 44\\nvalue = [27, 17]'),\n",
       " Text(254.12530120481927, 70.34823529411764, 'gini = 0.484\\nsamples = 17\\nvalue = [10, 7]'),\n",
       " Text(253.31855421686745, 95.92941176470588, 'gini = 0.49\\nsamples = 7\\nvalue = [3, 4]'),\n",
       " Text(256.5455421686747, 121.51058823529411, 'X[2] <= 1.5\\ngini = 0.474\\nsamples = 44\\nvalue = [17, 27]'),\n",
       " Text(255.7387951807229, 108.72, 'gini = 0.0\\nsamples = 1\\nvalue = [0, 1]'),\n",
       " Text(257.3522891566265, 108.72, 'X[2] <= 3.5\\ngini = 0.478\\nsamples = 43\\nvalue = [17, 26]'),\n",
       " Text(255.7387951807229, 95.92941176470588, 'X[2] <= 2.5\\ngini = 0.493\\nsamples = 25\\nvalue = [11, 14]'),\n",
       " Text(254.93204819277108, 83.13882352941175, 'gini = 0.469\\nsamples = 8\\nvalue = [3, 5]'),\n",
       " Text(256.5455421686747, 83.13882352941175, 'X[3] <= 34.5\\ngini = 0.498\\nsamples = 17\\nvalue = [8, 9]'),\n",
       " Text(255.7387951807229, 70.34823529411764, 'gini = 0.444\\nsamples = 3\\nvalue = [1, 2]'),\n",
       " Text(257.3522891566265, 70.34823529411764, 'gini = 0.5\\nsamples = 14\\nvalue = [7, 7]'),\n",
       " Text(258.96578313253013, 95.92941176470588, 'X[3] <= 34.5\\ngini = 0.444\\nsamples = 18\\nvalue = [6, 12]'),\n",
       " Text(258.1590361445783, 83.13882352941175, 'gini = 0.0\\nsamples = 1\\nvalue = [1, 0]'),\n",
       " Text(259.7725301204819, 83.13882352941175, 'X[2] <= 4.75\\ngini = 0.415\\nsamples = 17\\nvalue = [5, 12]'),\n",
       " Text(258.96578313253013, 70.34823529411764, 'gini = 0.245\\nsamples = 7\\nvalue = [1, 6]'),\n",
       " Text(260.57927710843376, 70.34823529411764, 'gini = 0.48\\nsamples = 10\\nvalue = [4, 6]'),\n",
       " Text(263.604578313253, 147.09176470588235, 'X[2] <= 1.5\\ngini = 0.463\\nsamples = 190\\nvalue = [121, 69]'),\n",
       " Text(259.7725301204819, 134.30117647058825, 'X[1] <= 11.0\\ngini = 0.499\\nsamples = 19\\nvalue = [10, 9]'),\n",
       " Text(258.96578313253013, 121.51058823529411, 'gini = 0.0\\nsamples = 1\\nvalue = [1, 0]'),\n",
       " Text(260.57927710843376, 121.51058823529411, 'X[1] <= 14.75\\ngini = 0.5\\nsamples = 18\\nvalue = [9, 9]'),\n",
       " Text(259.7725301204819, 108.72, 'gini = 0.49\\nsamples = 7\\nvalue = [4, 3]'),\n",
       " Text(261.38602409638554, 108.72, 'X[1] <= 19.75\\ngini = 0.496\\nsamples = 11\\nvalue = [5, 6]'),\n",
       " Text(260.57927710843376, 95.92941176470588, 'gini = 0.444\\nsamples = 3\\nvalue = [1, 2]'),\n",
       " Text(262.1927710843373, 95.92941176470588, 'gini = 0.5\\nsamples = 8\\nvalue = [4, 4]'),\n",
       " Text(267.4366265060241, 134.30117647058825, 'X[1] <= 19.75\\ngini = 0.456\\nsamples = 171\\nvalue = [111, 60]'),\n",
       " Text(265.41975903614457, 121.51058823529411, 'X[2] <= 3.5\\ngini = 0.34\\nsamples = 23\\nvalue = [18, 5]'),\n",
       " Text(264.6130120481928, 108.72, 'X[1] <= 14.75\\ngini = 0.401\\nsamples = 18\\nvalue = [13, 5]'),\n",
       " Text(263.80626506024095, 95.92941176470588, 'gini = 0.0\\nsamples = 2\\nvalue = [2, 0]'),\n",
       " Text(265.41975903614457, 95.92941176470588, 'X[2] <= 2.5\\ngini = 0.43\\nsamples = 16\\nvalue = [11, 5]'),\n",
       " Text(264.6130120481928, 83.13882352941175, 'gini = 0.444\\nsamples = 9\\nvalue = [6, 3]'),\n",
       " Text(266.2265060240964, 83.13882352941175, 'gini = 0.408\\nsamples = 7\\nvalue = [5, 2]'),\n",
       " Text(266.2265060240964, 108.72, 'gini = 0.0\\nsamples = 5\\nvalue = [5, 0]'),\n",
       " Text(269.4534939759036, 121.51058823529411, 'X[2] <= 3.5\\ngini = 0.467\\nsamples = 148\\nvalue = [93, 55]'),\n",
       " Text(267.84, 108.72, 'X[2] <= 2.5\\ngini = 0.472\\nsamples = 97\\nvalue = [60, 37]'),\n",
       " Text(267.0332530120482, 95.92941176470588, 'gini = 0.461\\nsamples = 50\\nvalue = [32, 18]'),\n",
       " Text(268.6467469879518, 95.92941176470588, 'gini = 0.482\\nsamples = 47\\nvalue = [28, 19]'),\n",
       " Text(271.0669879518072, 108.72, 'X[2] <= 4.75\\ngini = 0.457\\nsamples = 51\\nvalue = [33, 18]'),\n",
       " Text(270.26024096385544, 95.92941176470588, 'gini = 0.444\\nsamples = 33\\nvalue = [22, 11]'),\n",
       " Text(271.873734939759, 95.92941176470588, 'gini = 0.475\\nsamples = 18\\nvalue = [11, 7]'),\n",
       " Text(293.6622063253012, 172.6729411764706, 'X[1] <= 7.5\\ngini = 0.379\\nsamples = 1183\\nvalue = [883, 300]'),\n",
       " Text(278.7310843373494, 159.88235294117646, 'X[3] <= 29.5\\ngini = 0.332\\nsamples = 352\\nvalue = [278, 74]'),\n",
       " Text(275.9074698795181, 147.09176470588235, 'X[2] <= 2.5\\ngini = 0.351\\nsamples = 313\\nvalue = [242, 71]'),\n",
       " Text(275.10072289156625, 134.30117647058825, 'X[3] <= 24.5\\ngini = 0.356\\nsamples = 306\\nvalue = [235, 71]'),\n",
       " Text(273.4872289156626, 121.51058823529411, 'X[2] <= 0.5\\ngini = 0.386\\nsamples = 69\\nvalue = [51, 18]'),\n",
       " Text(272.68048192771084, 108.72, 'gini = 0.302\\nsamples = 27\\nvalue = [22, 5]'),\n",
       " Text(274.29397590361447, 108.72, 'X[2] <= 1.5\\ngini = 0.427\\nsamples = 42\\nvalue = [29, 13]'),\n",
       " Text(273.4872289156626, 95.92941176470588, 'gini = 0.397\\nsamples = 22\\nvalue = [16, 6]'),\n",
       " Text(275.10072289156625, 95.92941176470588, 'gini = 0.455\\nsamples = 20\\nvalue = [13, 7]'),\n",
       " Text(276.7142168674699, 121.51058823529411, 'X[2] <= 0.5\\ngini = 0.347\\nsamples = 237\\nvalue = [184, 53]'),\n",
       " Text(275.9074698795181, 108.72, 'gini = 0.378\\nsamples = 99\\nvalue = [74, 25]'),\n",
       " Text(277.52096385542166, 108.72, 'X[2] <= 1.5\\ngini = 0.323\\nsamples = 138\\nvalue = [110, 28]'),\n",
       " Text(276.7142168674699, 95.92941176470588, 'gini = 0.32\\nsamples = 75\\nvalue = [60, 15]'),\n",
       " Text(278.3277108433735, 95.92941176470588, 'gini = 0.328\\nsamples = 63\\nvalue = [50, 13]'),\n",
       " Text(276.7142168674699, 134.30117647058825, 'gini = 0.0\\nsamples = 7\\nvalue = [7, 0]'),\n",
       " Text(281.55469879518074, 147.09176470588235, 'X[2] <= 2.5\\ngini = 0.142\\nsamples = 39\\nvalue = [36, 3]'),\n",
       " Text(280.7479518072289, 134.30117647058825, 'X[2] <= 0.5\\ngini = 0.102\\nsamples = 37\\nvalue = [35, 2]'),\n",
       " Text(279.9412048192771, 121.51058823529411, 'gini = 0.0\\nsamples = 13\\nvalue = [13, 0]'),\n",
       " Text(281.55469879518074, 121.51058823529411, 'X[2] <= 1.5\\ngini = 0.153\\nsamples = 24\\nvalue = [22, 2]'),\n",
       " Text(280.7479518072289, 108.72, 'X[3] <= 34.5\\ngini = 0.26\\nsamples = 13\\nvalue = [11, 2]'),\n",
       " Text(279.9412048192771, 95.92941176470588, 'gini = 0.278\\nsamples = 12\\nvalue = [10, 2]'),\n",
       " Text(281.55469879518074, 95.92941176470588, 'gini = 0.0\\nsamples = 1\\nvalue = [1, 0]'),\n",
       " Text(282.3614457831325, 108.72, 'gini = 0.0\\nsamples = 11\\nvalue = [11, 0]'),\n",
       " Text(282.3614457831325, 134.30117647058825, 'gini = 0.5\\nsamples = 2\\nvalue = [1, 1]'),\n",
       " Text(308.593328313253, 159.88235294117646, 'X[2] <= 2.5\\ngini = 0.396\\nsamples = 831\\nvalue = [605, 226]'),\n",
       " Text(292.62225903614456, 147.09176470588235, 'X[3] <= 29.5\\ngini = 0.423\\nsamples = 431\\nvalue = [300, 131]'),\n",
       " Text(287.2019277108434, 134.30117647058825, 'X[1] <= 11.0\\ngini = 0.464\\nsamples = 101\\nvalue = [64, 37]'),\n",
       " Text(284.78168674698793, 121.51058823529411, 'X[2] <= 0.5\\ngini = 0.478\\nsamples = 81\\nvalue = [49, 32]'),\n",
       " Text(283.97493975903615, 108.72, 'gini = 0.32\\nsamples = 10\\nvalue = [8, 2]'),\n",
       " Text(285.58843373493977, 108.72, 'X[3] <= 24.5\\ngini = 0.488\\nsamples = 71\\nvalue = [41, 30]'),\n",
       " Text(284.78168674698793, 95.92941176470588, 'gini = 0.0\\nsamples = 1\\nvalue = [1, 0]'),\n",
       " Text(286.39518072289155, 95.92941176470588, 'X[2] <= 1.5\\ngini = 0.49\\nsamples = 70\\nvalue = [40, 30]'),\n",
       " Text(285.58843373493977, 83.13882352941175, 'gini = 0.499\\nsamples = 23\\nvalue = [12, 11]'),\n",
       " Text(287.2019277108434, 83.13882352941175, 'gini = 0.482\\nsamples = 47\\nvalue = [28, 19]'),\n",
       " Text(289.6221686746988, 121.51058823529411, 'X[2] <= 0.5\\ngini = 0.375\\nsamples = 20\\nvalue = [15, 5]'),\n",
       " Text(288.81542168674696, 108.72, 'gini = 0.5\\nsamples = 2\\nvalue = [1, 1]'),\n",
       " Text(290.4289156626506, 108.72, 'X[1] <= 14.75\\ngini = 0.346\\nsamples = 18\\nvalue = [14, 4]'),\n",
       " Text(289.6221686746988, 95.92941176470588, 'X[2] <= 1.5\\ngini = 0.36\\nsamples = 17\\nvalue = [13, 4]'),\n",
       " Text(288.81542168674696, 83.13882352941175, 'gini = 0.444\\nsamples = 3\\nvalue = [2, 1]'),\n",
       " Text(290.4289156626506, 83.13882352941175, 'gini = 0.337\\nsamples = 14\\nvalue = [11, 3]'),\n",
       " Text(291.2356626506024, 95.92941176470588, 'gini = 0.0\\nsamples = 1\\nvalue = [1, 0]'),\n",
       " Text(298.0425903614458, 134.30117647058825, 'X[1] <= 11.0\\ngini = 0.407\\nsamples = 330\\nvalue = [236, 94]'),\n",
       " Text(294.4626506024096, 121.51058823529411, 'X[2] <= 1.5\\ngini = 0.273\\nsamples = 43\\nvalue = [36, 7]'),\n",
       " Text(293.6559036144578, 108.72, 'X[3] <= 34.5\\ngini = 0.388\\nsamples = 19\\nvalue = [14, 5]'),\n",
       " Text(292.84915662650604, 95.92941176470588, 'X[2] <= 0.5\\ngini = 0.444\\nsamples = 15\\nvalue = [10, 5]'),\n",
       " Text(292.0424096385542, 83.13882352941175, 'gini = 0.375\\nsamples = 8\\nvalue = [6, 2]'),\n",
       " Text(293.6559036144578, 83.13882352941175, 'gini = 0.49\\nsamples = 7\\nvalue = [4, 3]'),\n",
       " Text(294.4626506024096, 95.92941176470588, 'gini = 0.0\\nsamples = 4\\nvalue = [4, 0]'),\n",
       " Text(295.26939759036145, 108.72, 'gini = 0.153\\nsamples = 24\\nvalue = [22, 2]'),\n",
       " Text(301.62253012048194, 121.51058823529411, 'X[3] <= 34.5\\ngini = 0.422\\nsamples = 287\\nvalue = [200, 87]'),\n",
       " Text(296.8828915662651, 108.72, 'X[2] <= 0.5\\ngini = 0.448\\nsamples = 130\\nvalue = [86, 44]'),\n",
       " Text(296.07614457831323, 95.92941176470588, 'gini = 0.278\\nsamples = 6\\nvalue = [5, 1]'),\n",
       " Text(297.68963855421686, 95.92941176470588, 'X[2] <= 1.5\\ngini = 0.453\\nsamples = 124\\nvalue = [81, 43]'),\n",
       " Text(296.07614457831323, 83.13882352941175, 'X[1] <= 14.75\\ngini = 0.488\\nsamples = 26\\nvalue = [15, 11]'),\n",
       " Text(295.26939759036145, 70.34823529411764, 'gini = 0.499\\nsamples = 19\\nvalue = [10, 9]'),\n",
       " Text(296.8828915662651, 70.34823529411764, 'gini = 0.408\\nsamples = 7\\nvalue = [5, 2]'),\n",
       " Text(299.3031325301205, 83.13882352941175, 'X[1] <= 14.75\\ngini = 0.44\\nsamples = 98\\nvalue = [66, 32]'),\n",
       " Text(298.4963855421687, 70.34823529411764, 'gini = 0.414\\nsamples = 65\\nvalue = [46, 19]'),\n",
       " Text(300.10987951807226, 70.34823529411764, 'X[1] <= 19.75\\ngini = 0.478\\nsamples = 33\\nvalue = [20, 13]'),\n",
       " Text(299.3031325301205, 57.557647058823534, 'gini = 0.48\\nsamples = 30\\nvalue = [18, 12]'),\n",
       " Text(300.9166265060241, 57.557647058823534, 'gini = 0.444\\nsamples = 3\\nvalue = [2, 1]'),\n",
       " Text(306.3621686746988, 108.72, 'X[1] <= 14.75\\ngini = 0.398\\nsamples = 157\\nvalue = [114, 43]'),\n",
       " Text(303.3368674698795, 95.92941176470588, 'X[3] <= 39.5\\ngini = 0.471\\nsamples = 29\\nvalue = [18, 11]'),\n",
       " Text(302.5301204819277, 83.13882352941175, 'X[2] <= 0.5\\ngini = 0.444\\nsamples = 21\\nvalue = [14, 7]'),\n",
       " Text(301.7233734939759, 70.34823529411764, 'gini = 0.278\\nsamples = 6\\nvalue = [5, 1]'),\n",
       " Text(303.3368674698795, 70.34823529411764, 'X[2] <= 1.5\\ngini = 0.48\\nsamples = 15\\nvalue = [9, 6]'),\n",
       " Text(302.5301204819277, 57.557647058823534, 'gini = 0.0\\nsamples = 1\\nvalue = [0, 1]'),\n",
       " Text(304.14361445783135, 57.557647058823534, 'gini = 0.459\\nsamples = 14\\nvalue = [9, 5]'),\n",
       " Text(304.14361445783135, 83.13882352941175, 'gini = 0.5\\nsamples = 8\\nvalue = [4, 4]'),\n",
       " Text(309.38746987951805, 95.92941176470588, 'X[2] <= 1.5\\ngini = 0.375\\nsamples = 128\\nvalue = [96, 32]'),\n",
       " Text(307.37060240963854, 83.13882352941175, 'X[1] <= 19.75\\ngini = 0.211\\nsamples = 25\\nvalue = [22, 3]'),\n",
       " Text(306.56385542168675, 70.34823529411764, 'X[3] <= 39.5\\ngini = 0.165\\nsamples = 11\\nvalue = [10, 1]'),\n",
       " Text(305.7571084337349, 57.557647058823534, 'gini = 0.219\\nsamples = 8\\nvalue = [7, 1]'),\n",
       " Text(307.37060240963854, 57.557647058823534, 'gini = 0.0\\nsamples = 3\\nvalue = [3, 0]'),\n",
       " Text(308.1773493975904, 70.34823529411764, 'gini = 0.245\\nsamples = 14\\nvalue = [12, 2]'),\n",
       " Text(311.40433734939757, 83.13882352941175, 'X[1] <= 19.75\\ngini = 0.405\\nsamples = 103\\nvalue = [74, 29]'),\n",
       " Text(309.790843373494, 70.34823529411764, 'X[3] <= 39.5\\ngini = 0.357\\nsamples = 43\\nvalue = [33, 10]'),\n",
       " Text(308.98409638554216, 57.557647058823534, 'gini = 0.353\\nsamples = 35\\nvalue = [27, 8]'),\n",
       " Text(310.5975903614458, 57.557647058823534, 'gini = 0.375\\nsamples = 8\\nvalue = [6, 2]'),\n",
       " Text(313.0178313253012, 70.34823529411764, 'X[3] <= 39.5\\ngini = 0.433\\nsamples = 60\\nvalue = [41, 19]'),\n",
       " Text(312.2110843373494, 57.557647058823534, 'gini = 0.444\\nsamples = 3\\nvalue = [2, 1]'),\n",
       " Text(313.824578313253, 57.557647058823534, 'gini = 0.432\\nsamples = 57\\nvalue = [39, 18]'),\n",
       " Text(324.56439759036147, 147.09176470588235, 'X[1] <= 19.75\\ngini = 0.362\\nsamples = 400\\nvalue = [305, 95]'),\n",
       " Text(318.36253012048195, 134.30117647058825, 'X[1] <= 11.0\\ngini = 0.336\\nsamples = 211\\nvalue = [166, 45]'),\n",
       " Text(315.4380722891566, 121.51058823529411, 'X[2] <= 3.5\\ngini = 0.384\\nsamples = 27\\nvalue = [20, 7]'),\n",
       " Text(314.6313253012048, 108.72, 'X[3] <= 29.5\\ngini = 0.423\\nsamples = 23\\nvalue = [16, 7]'),\n",
       " Text(313.824578313253, 95.92941176470588, 'gini = 0.375\\nsamples = 16\\nvalue = [12, 4]'),\n",
       " Text(315.4380722891566, 95.92941176470588, 'gini = 0.49\\nsamples = 7\\nvalue = [4, 3]'),\n",
       " Text(316.24481927710843, 108.72, 'gini = 0.0\\nsamples = 4\\nvalue = [4, 0]'),\n",
       " Text(321.28698795180725, 121.51058823529411, 'X[1] <= 14.75\\ngini = 0.328\\nsamples = 184\\nvalue = [146, 38]'),\n",
       " Text(318.66506024096384, 108.72, 'X[3] <= 39.5\\ngini = 0.278\\nsamples = 54\\nvalue = [45, 9]'),\n",
       " Text(317.0515662650602, 95.92941176470588, 'X[3] <= 29.5\\ngini = 0.26\\nsamples = 52\\nvalue = [44, 8]'),\n",
       " Text(316.24481927710843, 83.13882352941175, 'gini = 0.346\\nsamples = 9\\nvalue = [7, 2]'),\n",
       " Text(317.85831325301206, 83.13882352941175, 'X[2] <= 4.75\\ngini = 0.24\\nsamples = 43\\nvalue = [37, 6]'),\n",
       " Text(317.0515662650602, 70.34823529411764, 'X[2] <= 3.5\\ngini = 0.245\\nsamples = 42\\nvalue = [36, 6]'),\n",
       " Text(315.4380722891566, 57.557647058823534, 'X[3] <= 34.5\\ngini = 0.234\\nsamples = 37\\nvalue = [32, 5]'),\n",
       " Text(314.6313253012048, 44.767058823529396, 'gini = 0.271\\nsamples = 31\\nvalue = [26, 5]'),\n",
       " Text(316.24481927710843, 44.767058823529396, 'gini = 0.0\\nsamples = 6\\nvalue = [6, 0]'),\n",
       " Text(318.66506024096384, 57.557647058823534, 'X[3] <= 34.5\\ngini = 0.32\\nsamples = 5\\nvalue = [4, 1]'),\n",
       " Text(317.85831325301206, 44.767058823529396, 'gini = 0.0\\nsamples = 4\\nvalue = [4, 0]'),\n",
       " Text(319.4718072289157, 44.767058823529396, 'gini = 0.0\\nsamples = 1\\nvalue = [0, 1]'),\n",
       " Text(318.66506024096384, 70.34823529411764, 'gini = 0.0\\nsamples = 1\\nvalue = [1, 0]'),\n",
       " Text(320.27855421686746, 95.92941176470588, 'X[2] <= 4.25\\ngini = 0.5\\nsamples = 2\\nvalue = [1, 1]'),\n",
       " Text(319.4718072289157, 83.13882352941175, 'gini = 0.0\\nsamples = 1\\nvalue = [0, 1]'),\n",
       " Text(321.08530120481925, 83.13882352941175, 'gini = 0.0\\nsamples = 1\\nvalue = [1, 0]'),\n",
       " Text(323.9089156626506, 108.72, 'X[3] <= 29.5\\ngini = 0.347\\nsamples = 130\\nvalue = [101, 29]'),\n",
       " Text(323.1021686746988, 95.92941176470588, 'gini = 0.5\\nsamples = 2\\nvalue = [1, 1]'),\n",
       " Text(324.7156626506024, 95.92941176470588, 'X[3] <= 34.5\\ngini = 0.342\\nsamples = 128\\nvalue = [100, 28]'),\n",
       " Text(322.69879518072287, 83.13882352941175, 'X[2] <= 4.75\\ngini = 0.371\\nsamples = 57\\nvalue = [43, 14]'),\n",
       " Text(321.8920481927711, 70.34823529411764, 'X[2] <= 3.5\\ngini = 0.384\\nsamples = 54\\nvalue = [40, 14]'),\n",
       " Text(321.08530120481925, 57.557647058823534, 'gini = 0.388\\nsamples = 38\\nvalue = [28, 10]'),\n",
       " Text(322.69879518072287, 57.557647058823534, 'gini = 0.375\\nsamples = 16\\nvalue = [12, 4]'),\n",
       " Text(323.5055421686747, 70.34823529411764, 'gini = 0.0\\nsamples = 3\\nvalue = [3, 0]'),\n",
       " Text(326.7325301204819, 83.13882352941175, 'X[2] <= 4.75\\ngini = 0.317\\nsamples = 71\\nvalue = [57, 14]'),\n",
       " Text(325.9257831325301, 70.34823529411764, 'X[2] <= 3.5\\ngini = 0.288\\nsamples = 63\\nvalue = [52, 11]'),\n",
       " Text(324.3122891566265, 57.557647058823534, 'X[3] <= 39.5\\ngini = 0.25\\nsamples = 41\\nvalue = [35, 6]'),\n",
       " Text(323.5055421686747, 44.767058823529396, 'gini = 0.284\\nsamples = 35\\nvalue = [29, 6]'),\n",
       " Text(325.11903614457833, 44.767058823529396, 'gini = 0.0\\nsamples = 6\\nvalue = [6, 0]'),\n",
       " Text(327.53927710843374, 57.557647058823534, 'X[3] <= 39.5\\ngini = 0.351\\nsamples = 22\\nvalue = [17, 5]'),\n",
       " Text(326.7325301204819, 44.767058823529396, 'gini = 0.305\\nsamples = 16\\nvalue = [13, 3]'),\n",
       " Text(328.3460240963855, 44.767058823529396, 'gini = 0.444\\nsamples = 6\\nvalue = [4, 2]'),\n",
       " Text(327.53927710843374, 70.34823529411764, 'gini = 0.469\\nsamples = 8\\nvalue = [5, 3]'),\n",
       " Text(330.766265060241, 134.30117647058825, 'X[3] <= 39.5\\ngini = 0.389\\nsamples = 189\\nvalue = [139, 50]'),\n",
       " Text(329.15277108433736, 121.51058823529411, 'X[2] <= 4.75\\ngini = 0.475\\nsamples = 36\\nvalue = [22, 14]'),\n",
       " Text(328.3460240963855, 108.72, 'X[3] <= 34.5\\ngini = 0.49\\nsamples = 28\\nvalue = [16, 12]'),\n",
       " Text(327.53927710843374, 95.92941176470588, 'gini = 0.0\\nsamples = 1\\nvalue = [1, 0]'),\n",
       " Text(329.15277108433736, 95.92941176470588, 'X[2] <= 3.5\\ngini = 0.494\\nsamples = 27\\nvalue = [15, 12]'),\n",
       " Text(328.3460240963855, 83.13882352941175, 'gini = 0.499\\nsamples = 19\\nvalue = [10, 9]'),\n",
       " Text(329.95951807228914, 83.13882352941175, 'gini = 0.469\\nsamples = 8\\nvalue = [5, 3]'),\n",
       " Text(329.95951807228914, 108.72, 'gini = 0.375\\nsamples = 8\\nvalue = [6, 2]'),\n",
       " Text(332.37975903614455, 121.51058823529411, 'X[2] <= 3.5\\ngini = 0.36\\nsamples = 153\\nvalue = [117, 36]'),\n",
       " Text(331.57301204819277, 108.72, 'gini = 0.414\\nsamples = 58\\nvalue = [41, 17]'),\n",
       " Text(333.1865060240964, 108.72, 'X[2] <= 4.75\\ngini = 0.32\\nsamples = 95\\nvalue = [76, 19]'),\n",
       " Text(332.37975903614455, 95.92941176470588, 'gini = 0.315\\nsamples = 51\\nvalue = [41, 10]'),\n",
       " Text(333.99325301204817, 95.92941176470588, 'gini = 0.325\\nsamples = 44\\nvalue = [35, 9]')]"
      ]
     },
     "execution_count": 26,
     "metadata": {},
     "output_type": "execute_result"
    },
    {
     "data": {
      "image/png": "[encoded data removed]",
      "text/plain": [
       "<Figure size 432x288 with 1 Axes>"
      ]
     },
     "metadata": {
      "needs_background": "light"
     },
     "output_type": "display_data"
    }
   ],
   "source": [
    "tree.plot_tree(model)"
   ]
  },
  {
   "cell_type": "markdown",
   "metadata": {},
   "source": [
    "### Question 6. Now try using max_depth = 2, 3, 4 and crierion = 'gini' and 'entropy' to build 3 X 2 = 6 different models"
   ]
  },
  {
   "cell_type": "code",
   "execution_count": 59,
   "metadata": {},
   "outputs": [],
   "source": [
    "X = df[['rate_marriage','yrs_married','children','age']].to_numpy()\n",
    "Y = df['had_affair'].to_numpy()\n",
    "X_train, X_test, Y_train, Y_test = train_test_split(X, Y, test_size=0.3, random_state=0)"
   ]
  },
  {
   "cell_type": "code",
   "execution_count": 62,
   "metadata": {
    "scrolled": true
   },
   "outputs": [
    {
     "name": "stdout",
     "output_type": "stream",
     "text": [
      "---------------------------------\n",
      "depth: 2\tcriterion: gini\n",
      "\n",
      "[[1192  111]\n",
      " [ 407  200]]\n",
      "              precision    recall  f1-score   support\n",
      "\n",
      "           0       0.75      0.91      0.82      1303\n",
      "           1       0.64      0.33      0.44       607\n",
      "\n",
      "    accuracy                           0.73      1910\n",
      "   macro avg       0.69      0.62      0.63      1910\n",
      "weighted avg       0.71      0.73      0.70      1910\n",
      "\n",
      "0.7287958115183246\n",
      "---------------------------------\n",
      "depth: 2\tcriterion: entropy\n",
      "\n",
      "[[1192  111]\n",
      " [ 407  200]]\n",
      "              precision    recall  f1-score   support\n",
      "\n",
      "           0       0.75      0.91      0.82      1303\n",
      "           1       0.64      0.33      0.44       607\n",
      "\n",
      "    accuracy                           0.73      1910\n",
      "   macro avg       0.69      0.62      0.63      1910\n",
      "weighted avg       0.71      0.73      0.70      1910\n",
      "\n",
      "0.7287958115183246\n",
      "---------------------------------\n",
      "depth: 3\tcriterion: gini\n",
      "\n",
      "[[1192  111]\n",
      " [ 407  200]]\n",
      "              precision    recall  f1-score   support\n",
      "\n",
      "           0       0.75      0.91      0.82      1303\n",
      "           1       0.64      0.33      0.44       607\n",
      "\n",
      "    accuracy                           0.73      1910\n",
      "   macro avg       0.69      0.62      0.63      1910\n",
      "weighted avg       0.71      0.73      0.70      1910\n",
      "\n",
      "0.7287958115183246\n",
      "---------------------------------\n",
      "depth: 3\tcriterion: entropy\n",
      "\n",
      "[[1192  111]\n",
      " [ 407  200]]\n",
      "              precision    recall  f1-score   support\n",
      "\n",
      "           0       0.75      0.91      0.82      1303\n",
      "           1       0.64      0.33      0.44       607\n",
      "\n",
      "    accuracy                           0.73      1910\n",
      "   macro avg       0.69      0.62      0.63      1910\n",
      "weighted avg       0.71      0.73      0.70      1910\n",
      "\n",
      "0.7287958115183246\n",
      "---------------------------------\n",
      "depth: 4\tcriterion: gini\n",
      "\n",
      "[[1192  111]\n",
      " [ 412  195]]\n",
      "              precision    recall  f1-score   support\n",
      "\n",
      "           0       0.74      0.91      0.82      1303\n",
      "           1       0.64      0.32      0.43       607\n",
      "\n",
      "    accuracy                           0.73      1910\n",
      "   macro avg       0.69      0.62      0.62      1910\n",
      "weighted avg       0.71      0.73      0.70      1910\n",
      "\n",
      "0.7261780104712042\n",
      "---------------------------------\n",
      "depth: 4\tcriterion: entropy\n",
      "\n",
      "[[1192  111]\n",
      " [ 412  195]]\n",
      "              precision    recall  f1-score   support\n",
      "\n",
      "           0       0.74      0.91      0.82      1303\n",
      "           1       0.64      0.32      0.43       607\n",
      "\n",
      "    accuracy                           0.73      1910\n",
      "   macro avg       0.69      0.62      0.62      1910\n",
      "weighted avg       0.71      0.73      0.70      1910\n",
      "\n",
      "0.7261780104712042\n"
     ]
    }
   ],
   "source": [
    "criterias=['gini','entropy']\n",
    "for d in range(2,5):\n",
    "    for c in criterias:\n",
    "        model = DecisionTreeClassifier(max_depth=d, criterion=c)\n",
    "        model.fit(X_train,Y_train)\n",
    "        predictions = model.predict(X_test)\n",
    "        print('---------------------------------')\n",
    "        print('depth: '+str(d) + '\\t' + 'criterion: ' + c +'\\n')\n",
    "        print(confusion_matrix(Y_test,predictions))\n",
    "        print(classification_report(Y_test,predictions))\n",
    "        print(accuracy_score(Y_test, predictions))\n",
    "        #tree.plot_tree(model)"
   ]
  },
  {
   "cell_type": "markdown",
   "metadata": {},
   "source": [
    "### Question 7. What is your obsevation from Question 6? Does the choice of the criterion important in this case? What about the max_depth? What is the best choice of max_depth and criterion?"
   ]
  },
  {
   "cell_type": "markdown",
   "metadata": {},
   "source": [
    "### It appears that the deeper you go the less accurate the model should be since there are less data points at the bottom of the tree, as we see in our instacne (I saw that more when I went 10 levels deep, but left the code as requested). A difference between gini and entropy is htat gini is less accurate but more lightweight while entropy is more accurate but computationally heavier (speed vs. resource issue seen again). In my case levels 2 and 3 in depth have the same level of impurity, and have the same results while a depth of level 4 has a lower accuracy score, so there appears to be no reason to use it. Depths of level 2 and 3 are the same in my case, so I'd say the best choice of criterion and max_depth would be 2 and gini since this is the least computationally heavy option while still maintaining the ideal results."
   ]
  },
  {
   "cell_type": "markdown",
   "metadata": {},
   "source": [
    "### Question 8, now pick three models, with max_depth = 2, 3 and 4. You can pick the which ever criterions you want and visual the three trees"
   ]
  },
  {
   "cell_type": "markdown",
   "metadata": {},
   "source": [
    "Type your answer and code here"
   ]
  },
  {
   "cell_type": "code",
   "execution_count": 28,
   "metadata": {},
   "outputs": [
    {
     "data": {
      "text/plain": [
       "DecisionTreeClassifier(max_depth=4)"
      ]
     },
     "execution_count": 28,
     "metadata": {},
     "output_type": "execute_result"
    }
   ],
   "source": [
    "# Hint \n",
    "model1 = DecisionTreeClassifier(max_depth=2, criterion='gini')\n",
    "model1.fit(X_train, Y_train)\n",
    "model2 = DecisionTreeClassifier(max_depth=3, criterion='gini')\n",
    "model2.fit(X_train, Y_train)\n",
    "model3 = DecisionTreeClassifier(max_depth=4, criterion='gini')\n",
    "model3.fit(X_train, Y_train)\n",
    "# Then display all 3 trees"
   ]
  },
  {
   "cell_type": "code",
   "execution_count": 29,
   "metadata": {},
   "outputs": [
    {
     "data": {
      "text/plain": [
       "[Text(167.4, 181.2, 'X[0] <= 3.5\\ngini = 0.439\\nsamples = 5092\\nvalue = [3434, 1658]'),\n",
       " Text(83.7, 108.72, 'X[1] <= 4.25\\ngini = 0.48\\nsamples = 1156\\nvalue = [461, 695]'),\n",
       " Text(41.85, 36.23999999999998, 'gini = 0.499\\nsamples = 304\\nvalue = [157, 147]'),\n",
       " Text(125.55000000000001, 36.23999999999998, 'gini = 0.459\\nsamples = 852\\nvalue = [304, 548]'),\n",
       " Text(251.10000000000002, 108.72, 'X[1] <= 4.25\\ngini = 0.37\\nsamples = 3936\\nvalue = [2973, 963]'),\n",
       " Text(209.25, 36.23999999999998, 'gini = 0.24\\nsamples = 1622\\nvalue = [1396, 226]'),\n",
       " Text(292.95, 36.23999999999998, 'gini = 0.434\\nsamples = 2314\\nvalue = [1577, 737]')]"
      ]
     },
     "execution_count": 29,
     "metadata": {},
     "output_type": "execute_result"
    },
    {
     "data": {
      "image/png": "[encoded data removed]",
      "text/plain": [
       "<Figure size 432x288 with 1 Axes>"
      ]
     },
     "metadata": {
      "needs_background": "light"
     },
     "output_type": "display_data"
    }
   ],
   "source": [
    "tree.plot_tree(model1)"
   ]
  },
  {
   "cell_type": "code",
   "execution_count": 30,
   "metadata": {},
   "outputs": [
    {
     "data": {
      "text/plain": [
       "[Text(167.4, 190.26, 'X[0] <= 3.5\\ngini = 0.439\\nsamples = 5092\\nvalue = [3434, 1658]'),\n",
       " Text(83.7, 135.9, 'X[1] <= 4.25\\ngini = 0.48\\nsamples = 1156\\nvalue = [461, 695]'),\n",
       " Text(41.85, 81.53999999999999, 'X[1] <= 1.5\\ngini = 0.499\\nsamples = 304\\nvalue = [157, 147]'),\n",
       " Text(20.925, 27.180000000000007, 'gini = 0.32\\nsamples = 25\\nvalue = [20, 5]'),\n",
       " Text(62.775000000000006, 27.180000000000007, 'gini = 0.5\\nsamples = 279\\nvalue = [137, 142]'),\n",
       " Text(125.55000000000001, 81.53999999999999, 'X[0] <= 2.5\\ngini = 0.459\\nsamples = 852\\nvalue = [304, 548]'),\n",
       " Text(104.625, 27.180000000000007, 'gini = 0.417\\nsamples = 280\\nvalue = [83, 197]'),\n",
       " Text(146.475, 27.180000000000007, 'gini = 0.474\\nsamples = 572\\nvalue = [221, 351]'),\n",
       " Text(251.10000000000002, 135.9, 'X[1] <= 4.25\\ngini = 0.37\\nsamples = 3936\\nvalue = [2973, 963]'),\n",
       " Text(209.25, 81.53999999999999, 'X[0] <= 4.5\\ngini = 0.24\\nsamples = 1622\\nvalue = [1396, 226]'),\n",
       " Text(188.32500000000002, 27.180000000000007, 'gini = 0.314\\nsamples = 678\\nvalue = [546, 132]'),\n",
       " Text(230.175, 27.180000000000007, 'gini = 0.179\\nsamples = 944\\nvalue = [850, 94]'),\n",
       " Text(292.95, 81.53999999999999, 'X[0] <= 4.5\\ngini = 0.434\\nsamples = 2314\\nvalue = [1577, 737]'),\n",
       " Text(272.02500000000003, 27.180000000000007, 'gini = 0.474\\nsamples = 1131\\nvalue = [694, 437]'),\n",
       " Text(313.875, 27.180000000000007, 'gini = 0.379\\nsamples = 1183\\nvalue = [883, 300]')]"
      ]
     },
     "execution_count": 30,
     "metadata": {},
     "output_type": "execute_result"
    },
    {
     "data": {
      "image/png": "[encoded data removed]",
      "text/plain": [
       "<Figure size 432x288 with 1 Axes>"
      ]
     },
     "metadata": {
      "needs_background": "light"
     },
     "output_type": "display_data"
    }
   ],
   "source": [
    "tree.plot_tree(model2)"
   ]
  },
  {
   "cell_type": "code",
   "execution_count": 31,
   "metadata": {},
   "outputs": [
    {
     "data": {
      "text/plain": [
       "[Text(167.4, 195.696, 'X[0] <= 3.5\\ngini = 0.439\\nsamples = 5092\\nvalue = [3434, 1658]'),\n",
       " Text(83.7, 152.208, 'X[1] <= 4.25\\ngini = 0.48\\nsamples = 1156\\nvalue = [461, 695]'),\n",
       " Text(41.85, 108.72, 'X[1] <= 1.5\\ngini = 0.499\\nsamples = 304\\nvalue = [157, 147]'),\n",
       " Text(20.925, 65.232, 'X[3] <= 29.5\\ngini = 0.32\\nsamples = 25\\nvalue = [20, 5]'),\n",
       " Text(10.4625, 21.744, 'gini = 0.287\\nsamples = 23\\nvalue = [19, 4]'),\n",
       " Text(31.387500000000003, 21.744, 'gini = 0.5\\nsamples = 2\\nvalue = [1, 1]'),\n",
       " Text(62.775000000000006, 65.232, 'X[3] <= 29.5\\ngini = 0.5\\nsamples = 279\\nvalue = [137, 142]'),\n",
       " Text(52.3125, 21.744, 'gini = 0.499\\nsamples = 269\\nvalue = [129, 140]'),\n",
       " Text(73.2375, 21.744, 'gini = 0.32\\nsamples = 10\\nvalue = [8, 2]'),\n",
       " Text(125.55000000000001, 108.72, 'X[0] <= 2.5\\ngini = 0.459\\nsamples = 852\\nvalue = [304, 548]'),\n",
       " Text(104.625, 65.232, 'X[2] <= 3.5\\ngini = 0.417\\nsamples = 280\\nvalue = [83, 197]'),\n",
       " Text(94.16250000000001, 21.744, 'gini = 0.394\\nsamples = 237\\nvalue = [64, 173]'),\n",
       " Text(115.0875, 21.744, 'gini = 0.493\\nsamples = 43\\nvalue = [19, 24]'),\n",
       " Text(146.475, 65.232, 'X[3] <= 39.5\\ngini = 0.474\\nsamples = 572\\nvalue = [221, 351]'),\n",
       " Text(136.01250000000002, 21.744, 'gini = 0.462\\nsamples = 456\\nvalue = [165, 291]'),\n",
       " Text(156.9375, 21.744, 'gini = 0.499\\nsamples = 116\\nvalue = [56, 60]'),\n",
       " Text(251.10000000000002, 152.208, 'X[1] <= 4.25\\ngini = 0.37\\nsamples = 3936\\nvalue = [2973, 963]'),\n",
       " Text(209.25, 108.72, 'X[0] <= 4.5\\ngini = 0.24\\nsamples = 1622\\nvalue = [1396, 226]'),\n",
       " Text(188.32500000000002, 65.232, 'X[2] <= 3.5\\ngini = 0.314\\nsamples = 678\\nvalue = [546, 132]'),\n",
       " Text(177.8625, 21.744, 'gini = 0.311\\nsamples = 676\\nvalue = [546, 130]'),\n",
       " Text(198.7875, 21.744, 'gini = 0.0\\nsamples = 2\\nvalue = [0, 2]'),\n",
       " Text(230.175, 65.232, 'X[1] <= 1.5\\ngini = 0.179\\nsamples = 944\\nvalue = [850, 94]'),\n",
       " Text(219.7125, 21.744, 'gini = 0.011\\nsamples = 185\\nvalue = [184, 1]'),\n",
       " Text(240.63750000000002, 21.744, 'gini = 0.215\\nsamples = 759\\nvalue = [666, 93]'),\n",
       " Text(292.95, 108.72, 'X[0] <= 4.5\\ngini = 0.434\\nsamples = 2314\\nvalue = [1577, 737]'),\n",
       " Text(272.02500000000003, 65.232, 'X[1] <= 7.5\\ngini = 0.474\\nsamples = 1131\\nvalue = [694, 437]'),\n",
       " Text(261.5625, 21.744, 'gini = 0.419\\nsamples = 341\\nvalue = [239, 102]'),\n",
       " Text(282.4875, 21.744, 'gini = 0.488\\nsamples = 790\\nvalue = [455, 335]'),\n",
       " Text(313.875, 65.232, 'X[1] <= 7.5\\ngini = 0.379\\nsamples = 1183\\nvalue = [883, 300]'),\n",
       " Text(303.4125, 21.744, 'gini = 0.332\\nsamples = 352\\nvalue = [278, 74]'),\n",
       " Text(324.33750000000003, 21.744, 'gini = 0.396\\nsamples = 831\\nvalue = [605, 226]')]"
      ]
     },
     "execution_count": 31,
     "metadata": {},
     "output_type": "execute_result"
    },
    {
     "data": {
      "image/png": "[encoded data removed]",
      "text/plain": [
       "<Figure size 432x288 with 1 Axes>"
      ]
     },
     "metadata": {
      "needs_background": "light"
     },
     "output_type": "display_data"
    }
   ],
   "source": [
    "tree.plot_tree(model3)"
   ]
  },
  {
   "cell_type": "markdown",
   "metadata": {},
   "source": [
    "### Question 9. Now build a Random Forest Classifier with, say, 100 trees. Check the model performance "
   ]
  },
  {
   "cell_type": "markdown",
   "metadata": {},
   "source": [
    "Type your answer and code here"
   ]
  },
  {
   "cell_type": "code",
   "execution_count": 64,
   "metadata": {
    "scrolled": true
   },
   "outputs": [
    {
     "name": "stdout",
     "output_type": "stream",
     "text": [
      "              precision    recall  f1-score   support\n",
      "\n",
      "           0       0.76      0.86      0.81      1303\n",
      "           1       0.58      0.42      0.48       607\n",
      "\n",
      "    accuracy                           0.72      1910\n",
      "   macro avg       0.67      0.64      0.65      1910\n",
      "weighted avg       0.70      0.72      0.70      1910\n",
      "\n",
      "0.7193717277486911\n",
      "[[1192  111]\n",
      " [ 412  195]]\n"
     ]
    }
   ],
   "source": [
    "rfc = RandomForestClassifier(n_estimators=100)\n",
    "rfc.fit(X_train, Y_train)\n",
    "rfc_pred = rfc.predict(X_test)\n",
    "print(classification_report(Y_test, rfc_pred))\n",
    "print(accuracy_score(Y_test, rfc_pred))\n",
    "print(confusion_matrix(Y_test,predictions))"
   ]
  },
  {
   "cell_type": "markdown",
   "metadata": {},
   "source": [
    "### The accuracy is about the same as the decision trees modeled here. However, if we look at the f1 score for predicting had_affair, it the highest seen for all the models. I would therefore say this is the best model we have since we can 'trust' this model the most since it isn't so heavily weighted to having good no-had-affair ofsetting the bad had-affair. Still suffers from having a much bet"
   ]
  }
 ],
 "metadata": {
  "kernelspec": {
   "display_name": "Python 3",
   "language": "python",
   "name": "python3"
  },
  "language_info": {
   "codemirror_mode": {
    "name": "ipython",
    "version": 3
   },
   "file_extension": ".py",
   "mimetype": "text/x-python",
   "name": "python",
   "nbconvert_exporter": "python",
   "pygments_lexer": "ipython3",
   "version": "3.8.5"
  }
 },
 "nbformat": 4,
 "nbformat_minor": 2
}
