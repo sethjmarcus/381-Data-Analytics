{
 "cells": [
  {
   "cell_type": "markdown",
   "metadata": {},
   "source": [
    "# DA_HW_3 Support Vector Machine and Decision Trees\n",
    "\n",
    "# Due on 5/10 23:59 pm"
   ]
  },
  {
   "cell_type": "code",
   "execution_count": 1,
   "metadata": {},
   "outputs": [],
   "source": [
    "import pandas as pd\n",
    "import numpy as np\n",
    "import matplotlib.pyplot as plt\n",
    "import seaborn as sns\n",
    "import warnings\n",
    "import random\n",
    "from sklearn import svm\n",
    "from sklearn import tree\n",
    "from sklearn.linear_model import LinearRegression\n",
    "from sklearn.model_selection import train_test_split\n",
    "from sklearn.metrics import classification_report,confusion_matrix,accuracy_score\n",
    "from sklearn import metrics\n",
    "from sklearn.tree import DecisionTreeClassifier\n",
    "from sklearn.ensemble import RandomForestClassifier\n",
    "warnings.filterwarnings('ignore')"
   ]
  },
  {
   "cell_type": "markdown",
   "metadata": {},
   "source": [
    "## We will use the same affair dataset from HW2, but will skip the EDA phrase we have done enough of it"
   ]
  },
  {
   "cell_type": "markdown",
   "metadata": {},
   "source": [
    "#### Everything removing outliers, create dummies variabes had been done for you"
   ]
  },
  {
   "cell_type": "code",
   "execution_count": 2,
   "metadata": {},
   "outputs": [
    {
     "data": {
      "text/html": [
       "<div>\n",
       "<style scoped>\n",
       "    .dataframe tbody tr th:only-of-type {\n",
       "        vertical-align: middle;\n",
       "    }\n",
       "\n",
       "    .dataframe tbody tr th {\n",
       "        vertical-align: top;\n",
       "    }\n",
       "\n",
       "    .dataframe thead th {\n",
       "        text-align: right;\n",
       "    }\n",
       "</style>\n",
       "<table border=\"1\" class=\"dataframe\">\n",
       "  <thead>\n",
       "    <tr style=\"text-align: right;\">\n",
       "      <th></th>\n",
       "      <th>rate_marriage</th>\n",
       "      <th>age</th>\n",
       "      <th>yrs_married</th>\n",
       "      <th>children</th>\n",
       "      <th>religious</th>\n",
       "      <th>educ</th>\n",
       "      <th>had_affair</th>\n",
       "      <th>occ2</th>\n",
       "      <th>occ3</th>\n",
       "      <th>occ4</th>\n",
       "      <th>occ5</th>\n",
       "      <th>occ6</th>\n",
       "    </tr>\n",
       "  </thead>\n",
       "  <tbody>\n",
       "    <tr>\n",
       "      <th>0</th>\n",
       "      <td>3.0</td>\n",
       "      <td>32.0</td>\n",
       "      <td>9.0</td>\n",
       "      <td>3.0</td>\n",
       "      <td>3.0</td>\n",
       "      <td>17.0</td>\n",
       "      <td>1</td>\n",
       "      <td>1</td>\n",
       "      <td>0</td>\n",
       "      <td>0</td>\n",
       "      <td>0</td>\n",
       "      <td>0</td>\n",
       "    </tr>\n",
       "    <tr>\n",
       "      <th>1</th>\n",
       "      <td>3.0</td>\n",
       "      <td>27.0</td>\n",
       "      <td>13.0</td>\n",
       "      <td>3.0</td>\n",
       "      <td>1.0</td>\n",
       "      <td>14.0</td>\n",
       "      <td>1</td>\n",
       "      <td>0</td>\n",
       "      <td>1</td>\n",
       "      <td>0</td>\n",
       "      <td>0</td>\n",
       "      <td>0</td>\n",
       "    </tr>\n",
       "    <tr>\n",
       "      <th>2</th>\n",
       "      <td>4.0</td>\n",
       "      <td>22.0</td>\n",
       "      <td>2.5</td>\n",
       "      <td>0.0</td>\n",
       "      <td>1.0</td>\n",
       "      <td>16.0</td>\n",
       "      <td>1</td>\n",
       "      <td>0</td>\n",
       "      <td>1</td>\n",
       "      <td>0</td>\n",
       "      <td>0</td>\n",
       "      <td>0</td>\n",
       "    </tr>\n",
       "    <tr>\n",
       "      <th>3</th>\n",
       "      <td>4.0</td>\n",
       "      <td>37.0</td>\n",
       "      <td>16.5</td>\n",
       "      <td>4.0</td>\n",
       "      <td>3.0</td>\n",
       "      <td>16.0</td>\n",
       "      <td>1</td>\n",
       "      <td>0</td>\n",
       "      <td>0</td>\n",
       "      <td>0</td>\n",
       "      <td>1</td>\n",
       "      <td>0</td>\n",
       "    </tr>\n",
       "    <tr>\n",
       "      <th>4</th>\n",
       "      <td>5.0</td>\n",
       "      <td>27.0</td>\n",
       "      <td>9.0</td>\n",
       "      <td>1.0</td>\n",
       "      <td>1.0</td>\n",
       "      <td>14.0</td>\n",
       "      <td>1</td>\n",
       "      <td>0</td>\n",
       "      <td>1</td>\n",
       "      <td>0</td>\n",
       "      <td>0</td>\n",
       "      <td>0</td>\n",
       "    </tr>\n",
       "  </tbody>\n",
       "</table>\n",
       "</div>"
      ],
      "text/plain": [
       "   rate_marriage   age  yrs_married  children  religious  educ  had_affair  \\\n",
       "0            3.0  32.0          9.0       3.0        3.0  17.0           1   \n",
       "1            3.0  27.0         13.0       3.0        1.0  14.0           1   \n",
       "2            4.0  22.0          2.5       0.0        1.0  16.0           1   \n",
       "3            4.0  37.0         16.5       4.0        3.0  16.0           1   \n",
       "4            5.0  27.0          9.0       1.0        1.0  14.0           1   \n",
       "\n",
       "   occ2  occ3  occ4  occ5  occ6  \n",
       "0     1     0     0     0     0  \n",
       "1     0     1     0     0     0  \n",
       "2     0     1     0     0     0  \n",
       "3     0     0     0     1     0  \n",
       "4     0     1     0     0     0  "
      ]
     },
     "execution_count": 2,
     "metadata": {},
     "output_type": "execute_result"
    }
   ],
   "source": [
    "# Remember the affair data set from HW3, we will use that dataset again\n",
    "# but we will directly load it from the API\n",
    "orig_df = pd.read_csv(\"affairs2.csv\")\n",
    "# Set up our target class label\n",
    "orig_df['had_affair'] = orig_df['affairs'].apply(lambda x: 1 if x != 0 else 0)\n",
    "orig_df = orig_df.drop('affairs',axis=1)\n",
    "# remove NA\n",
    "orig_df.dropna(inplace=True)\n",
    "# create dummies variable for occupation\n",
    "occ = pd.get_dummies(orig_df['occupation'],drop_first=True)\n",
    "# we include rate_marriage feature as well. In HW3, we did not include that variable\n",
    "features = ['rate_marriage','age','yrs_married','children','religious','educ', 'had_affair']\n",
    "df = orig_df\n",
    "df = pd.concat([orig_df[features], occ], axis=1)\n",
    "df.head()"
   ]
  },
  {
   "cell_type": "code",
   "execution_count": 3,
   "metadata": {},
   "outputs": [
    {
     "data": {
      "text/plain": [
       "rate_marriage    0\n",
       "age              0\n",
       "yrs_married      0\n",
       "children         0\n",
       "religious        0\n",
       "educ             0\n",
       "had_affair       0\n",
       "occ2             0\n",
       "occ3             0\n",
       "occ4             0\n",
       "occ5             0\n",
       "occ6             0\n",
       "dtype: int64"
      ]
     },
     "execution_count": 3,
     "metadata": {},
     "output_type": "execute_result"
    }
   ],
   "source": [
    "# make sure there is no missing values\n",
    "df.isnull().sum()"
   ]
  },
  {
   "cell_type": "markdown",
   "metadata": {},
   "source": [
    "### Now we are ready to build models"
   ]
  },
  {
   "cell_type": "markdown",
   "metadata": {},
   "source": [
    "### Question 1: Build a classification model using SVC using linear kernel without specifying the C-parameter"
   ]
  },
  {
   "cell_type": "code",
   "execution_count": 4,
   "metadata": {
    "scrolled": false
   },
   "outputs": [
    {
     "data": {
      "text/html": [
       "<div>\n",
       "<style scoped>\n",
       "    .dataframe tbody tr th:only-of-type {\n",
       "        vertical-align: middle;\n",
       "    }\n",
       "\n",
       "    .dataframe tbody tr th {\n",
       "        vertical-align: top;\n",
       "    }\n",
       "\n",
       "    .dataframe thead th {\n",
       "        text-align: right;\n",
       "    }\n",
       "</style>\n",
       "<table border=\"1\" class=\"dataframe\">\n",
       "  <thead>\n",
       "    <tr style=\"text-align: right;\">\n",
       "      <th></th>\n",
       "      <th>had_affair</th>\n",
       "    </tr>\n",
       "  </thead>\n",
       "  <tbody>\n",
       "    <tr>\n",
       "      <th>had_affair</th>\n",
       "      <td>1.000000</td>\n",
       "    </tr>\n",
       "    <tr>\n",
       "      <th>yrs_married</th>\n",
       "      <td>0.203109</td>\n",
       "    </tr>\n",
       "    <tr>\n",
       "      <th>children</th>\n",
       "      <td>0.159833</td>\n",
       "    </tr>\n",
       "    <tr>\n",
       "      <th>age</th>\n",
       "      <td>0.146519</td>\n",
       "    </tr>\n",
       "    <tr>\n",
       "      <th>occ5</th>\n",
       "      <td>0.073766</td>\n",
       "    </tr>\n",
       "    <tr>\n",
       "      <th>occ3</th>\n",
       "      <td>0.045729</td>\n",
       "    </tr>\n",
       "    <tr>\n",
       "      <th>occ6</th>\n",
       "      <td>0.012559</td>\n",
       "    </tr>\n",
       "    <tr>\n",
       "      <th>occ2</th>\n",
       "      <td>-0.024613</td>\n",
       "    </tr>\n",
       "    <tr>\n",
       "      <th>educ</th>\n",
       "      <td>-0.075280</td>\n",
       "    </tr>\n",
       "    <tr>\n",
       "      <th>occ4</th>\n",
       "      <td>-0.082706</td>\n",
       "    </tr>\n",
       "    <tr>\n",
       "      <th>religious</th>\n",
       "      <td>-0.129299</td>\n",
       "    </tr>\n",
       "    <tr>\n",
       "      <th>rate_marriage</th>\n",
       "      <td>-0.331776</td>\n",
       "    </tr>\n",
       "  </tbody>\n",
       "</table>\n",
       "</div>"
      ],
      "text/plain": [
       "               had_affair\n",
       "had_affair       1.000000\n",
       "yrs_married      0.203109\n",
       "children         0.159833\n",
       "age              0.146519\n",
       "occ5             0.073766\n",
       "occ3             0.045729\n",
       "occ6             0.012559\n",
       "occ2            -0.024613\n",
       "educ            -0.075280\n",
       "occ4            -0.082706\n",
       "religious       -0.129299\n",
       "rate_marriage   -0.331776"
      ]
     },
     "execution_count": 4,
     "metadata": {},
     "output_type": "execute_result"
    }
   ],
   "source": [
    "df.corr().filter(items=['had_affair']).sort_values('had_affair', ascending=False)"
   ]
  },
  {
   "cell_type": "markdown",
   "metadata": {},
   "source": [
    "#### Using all the variables as per specs."
   ]
  },
  {
   "cell_type": "code",
   "execution_count": 5,
   "metadata": {},
   "outputs": [],
   "source": [
    "# These variables will be used throughout this homework\n",
    "X = df[['rate_marriage','age','yrs_married','children','religious','educ','occ2','occ3','occ4','occ5','occ6']].to_numpy()\n",
    "Y = df['had_affair'].to_numpy()\n",
    "X_train, X_test, Y_train, Y_test = train_test_split(X, Y, test_size=0.2, random_state=0)"
   ]
  },
  {
   "cell_type": "code",
   "execution_count": 6,
   "metadata": {},
   "outputs": [
    {
     "data": {
      "text/plain": [
       "SVC(kernel='linear')"
      ]
     },
     "execution_count": 6,
     "metadata": {},
     "output_type": "execute_result"
    }
   ],
   "source": [
    "svc = svm.SVC(kernel='linear')\n",
    "svc.fit(X_train, Y_train)"
   ]
  },
  {
   "cell_type": "code",
   "execution_count": 7,
   "metadata": {},
   "outputs": [
    {
     "data": {
      "text/plain": [
       "array([[824,  61],\n",
       "       [261, 128]], dtype=int64)"
      ]
     },
     "execution_count": 7,
     "metadata": {},
     "output_type": "execute_result"
    }
   ],
   "source": [
    "Y_pred = svc.predict(X_test)\n",
    "confusion_matrix(Y_test, Y_pred)"
   ]
  },
  {
   "cell_type": "code",
   "execution_count": 8,
   "metadata": {
    "scrolled": true
   },
   "outputs": [
    {
     "name": "stdout",
     "output_type": "stream",
     "text": [
      "              precision    recall  f1-score   support\n",
      "\n",
      "           0       0.76      0.93      0.84       885\n",
      "           1       0.68      0.33      0.44       389\n",
      "\n",
      "    accuracy                           0.75      1274\n",
      "   macro avg       0.72      0.63      0.64      1274\n",
      "weighted avg       0.73      0.75      0.72      1274\n",
      "\n",
      "0.7472527472527473\n",
      "[[824  61]\n",
      " [261 128]]\n"
     ]
    }
   ],
   "source": [
    "print(classification_report(Y_test,Y_pred))\n",
    "print(svc.score(X_test, Y_test))\n",
    "print(confusion_matrix(Y_test,Y_pred))"
   ]
  },
  {
   "cell_type": "code",
   "execution_count": 9,
   "metadata": {
    "scrolled": true
   },
   "outputs": [
    {
     "name": "stdout",
     "output_type": "stream",
     "text": [
      "Mean Absolute Error: 0.25274725274725274\n",
      "Mean Squared Error: 0.25274725274725274\n",
      "Root Mean Squared Error: 0.5027397465361703\n",
      "R-squared: -0.19160530405356369\n"
     ]
    }
   ],
   "source": [
    "print('Mean Absolute Error:', metrics.mean_absolute_error(Y_test, Y_pred))\n",
    "print('Mean Squared Error:', metrics.mean_squared_error(Y_test, Y_pred))\n",
    "print('Root Mean Squared Error:', np.sqrt(metrics.mean_squared_error(Y_test, Y_pred)))\n",
    "print('R-squared:', metrics.r2_score(Y_test, Y_pred))"
   ]
  },
  {
   "cell_type": "code",
   "execution_count": 10,
   "metadata": {
    "scrolled": true
   },
   "outputs": [
    {
     "data": {
      "text/plain": [
       "<AxesSubplot:xlabel='trial'>"
      ]
     },
     "execution_count": 10,
     "metadata": {},
     "output_type": "execute_result"
    },
    {
     "data": {
      "image/png": "[encoded data removed]",
      "text/plain": [
       "<Figure size 432x288 with 1 Axes>"
      ]
     },
     "metadata": {
      "needs_background": "light"
     },
     "output_type": "display_data"
    }
   ],
   "source": [
    "rsquare = []\n",
    "for i in range(10):\n",
    "    X_train, X_test, Y_train, Y_test = train_test_split(X, Y, test_size=0.2, random_state = random.randint(1,1000))\n",
    "    model = svm.SVC(kernel='linear')\n",
    "    model.fit(X_train, Y_train)\n",
    "    Y_pred = model.predict(X_test)\n",
    "    rsquare.append(metrics.r2_score(Y_test, Y_pred))\n",
    "    \n",
    "rdf = pd.DataFrame( {'trial': range(10), 'Rsquare': rsquare})\n",
    "rdf.plot.bar(x='trial', y='Rsquare')"
   ]
  },
  {
   "cell_type": "markdown",
   "metadata": {},
   "source": [
    "#### The model looks to be pretty good for determining did not have affair (0) with an f1 score of 0.84, but it isn't so good for determining did have an affair(1) with an f1 score of 0.44. The r squared is also very low which indicates that it isn't such great a model either. It does pass 10 fold cross validation so at least we know we have consistency. It's good at detecting when there isn't cheating, but really bad, worse than flipping a coin, of determining if someone cheated. This is not a good model for predicting if someone will cheat, but good at prediciting if someone won't/didn't cheat. But the r squrat is still really bad, so this is not a good model overall. We must be weary of the overall score (74% accuracy) due to how not evenly split the predicting had affair and didn't have affair data is."
   ]
  },
  {
   "cell_type": "markdown",
   "metadata": {},
   "source": [
    "### Question 2. Now try different value of C-parameter and rerun your model"
   ]
  },
  {
   "cell_type": "markdown",
   "metadata": {},
   "source": [
    "### Large C"
   ]
  },
  {
   "cell_type": "code",
   "execution_count": 11,
   "metadata": {},
   "outputs": [
    {
     "data": {
      "text/plain": [
       "SVC(C=32, kernel='linear')"
      ]
     },
     "execution_count": 11,
     "metadata": {},
     "output_type": "execute_result"
    }
   ],
   "source": [
    "svc = svm.SVC(kernel='linear', C=2**5)\n",
    "svc.fit(X_train, Y_train)"
   ]
  },
  {
   "cell_type": "code",
   "execution_count": 12,
   "metadata": {},
   "outputs": [
    {
     "data": {
      "text/plain": [
       "array([[797,  73],\n",
       "       [297, 107]], dtype=int64)"
      ]
     },
     "execution_count": 12,
     "metadata": {},
     "output_type": "execute_result"
    }
   ],
   "source": [
    "Y_pred = svc.predict(X_test)\n",
    "confusion_matrix(Y_test, Y_pred)"
   ]
  },
  {
   "cell_type": "code",
   "execution_count": 13,
   "metadata": {},
   "outputs": [
    {
     "name": "stdout",
     "output_type": "stream",
     "text": [
      "              precision    recall  f1-score   support\n",
      "\n",
      "           0       0.73      0.92      0.81       870\n",
      "           1       0.59      0.26      0.37       404\n",
      "\n",
      "    accuracy                           0.71      1274\n",
      "   macro avg       0.66      0.59      0.59      1274\n",
      "weighted avg       0.69      0.71      0.67      1274\n",
      "\n",
      "0.7103610675039247\n",
      "[[797  73]\n",
      " [297 107]]\n"
     ]
    }
   ],
   "source": [
    "print(classification_report(Y_test,Y_pred))\n",
    "print(model.score(X_test, Y_test))\n",
    "print(confusion_matrix(Y_test,Y_pred))"
   ]
  },
  {
   "cell_type": "code",
   "execution_count": 14,
   "metadata": {},
   "outputs": [
    {
     "name": "stdout",
     "output_type": "stream",
     "text": [
      "Mean Absolute Error: 0.2904238618524333\n",
      "Mean Squared Error: 0.2904238618524333\n",
      "Root Mean Squared Error: 0.5389098828676584\n",
      "R-squared: -0.3411289404802551\n"
     ]
    }
   ],
   "source": [
    "print('Mean Absolute Error:', metrics.mean_absolute_error(Y_test, Y_pred))\n",
    "print('Mean Squared Error:', metrics.mean_squared_error(Y_test, Y_pred))\n",
    "print('Root Mean Squared Error:', np.sqrt(metrics.mean_squared_error(Y_test, Y_pred)))\n",
    "print('R-squared:', metrics.r2_score(Y_test, Y_pred))"
   ]
  },
  {
   "cell_type": "code",
   "execution_count": 15,
   "metadata": {},
   "outputs": [
    {
     "data": {
      "text/plain": [
       "<AxesSubplot:xlabel='trial'>"
      ]
     },
     "execution_count": 15,
     "metadata": {},
     "output_type": "execute_result"
    },
    {
     "data": {
      "image/png": "[encoded data removed]",
      "text/plain": [
       "<Figure size 432x288 with 1 Axes>"
      ]
     },
     "metadata": {
      "needs_background": "light"
     },
     "output_type": "display_data"
    }
   ],
   "source": [
    "rsquare = []\n",
    "for i in range(10):\n",
    "    X_train, X_test, Y_train, Y_test = train_test_split(X, Y, test_size=0.2, random_state = random.randint(1,1000))\n",
    "    model = svm.SVC()\n",
    "    model.fit(X_train, Y_train)\n",
    "    Y_pred = model.predict(X_test)\n",
    "    rsquare.append(metrics.r2_score(Y_test, Y_pred))\n",
    "    \n",
    "rdf = pd.DataFrame( {'trial': range(10), 'Rsquare': rsquare})\n",
    "rdf.plot.bar(x='trial', y='Rsquare')"
   ]
  },
  {
   "cell_type": "markdown",
   "metadata": {},
   "source": [
    "#### As before, the model looks to be pretty good for determining did not have affair with an f1 score of 0.81, but it isn't so good for determining did have an affair(1) with an f1 score of 0.37. The r squared is also  low which indicates that it isn't such great a model either. It does pass 10 fold cross validation so at least we know we have consistency. It's good at detecting when there isn't cheating, but really bad, worse than flipping a coin, of determining if someone cheated. This is not a good model for predicting if someone will cheat, but good at prediciting if someone won't/didn't cheat. But the r squared is still  bad, so this is not a good model overall.¶The accuracy is pretty good overall, but the f1 scores indicate, it isn't so great overall (the really good 0 case makes it look okay. Important to look at details). I think raising the C parameter did not help since we are being more strict/higher penalty on the misclassifyings, but the data appears to be not clear cut (as opposed to the muffin case) and trying to find  a hyperplane in our data that is really accurate is going to be impossible/hard."
   ]
  },
  {
   "cell_type": "markdown",
   "metadata": {},
   "source": [
    "### Small C"
   ]
  },
  {
   "cell_type": "code",
   "execution_count": 16,
   "metadata": {},
   "outputs": [
    {
     "data": {
      "text/plain": [
       "SVC(C=0.03125, kernel='linear')"
      ]
     },
     "execution_count": 16,
     "metadata": {},
     "output_type": "execute_result"
    }
   ],
   "source": [
    "svc = svm.SVC(kernel='linear', C=2**-5)\n",
    "svc.fit(X_train, Y_train)"
   ]
  },
  {
   "cell_type": "code",
   "execution_count": 17,
   "metadata": {},
   "outputs": [
    {
     "data": {
      "text/plain": [
       "array([[821,  55],\n",
       "       [278, 120]], dtype=int64)"
      ]
     },
     "execution_count": 17,
     "metadata": {},
     "output_type": "execute_result"
    }
   ],
   "source": [
    "Y_pred = svc.predict(X_test)\n",
    "confusion_matrix(Y_test, Y_pred)"
   ]
  },
  {
   "cell_type": "code",
   "execution_count": 18,
   "metadata": {},
   "outputs": [
    {
     "name": "stdout",
     "output_type": "stream",
     "text": [
      "              precision    recall  f1-score   support\n",
      "\n",
      "           0       0.75      0.94      0.83       876\n",
      "           1       0.69      0.30      0.42       398\n",
      "\n",
      "    accuracy                           0.74      1274\n",
      "   macro avg       0.72      0.62      0.63      1274\n",
      "weighted avg       0.73      0.74      0.70      1274\n",
      "\n",
      "0.7252747252747253\n",
      "[[821  55]\n",
      " [278 120]]\n"
     ]
    }
   ],
   "source": [
    "print(classification_report(Y_test,Y_pred))\n",
    "print(model.score(X_test, Y_test))\n",
    "print(confusion_matrix(Y_test,Y_pred))"
   ]
  },
  {
   "cell_type": "code",
   "execution_count": 19,
   "metadata": {},
   "outputs": [
    {
     "name": "stdout",
     "output_type": "stream",
     "text": [
      "Mean Absolute Error: 0.26138147566718994\n",
      "Mean Squared Error: 0.26138147566718994\n",
      "Root Mean Squared Error: 0.5112548050309063\n",
      "R-squared: -0.21682040338679665\n"
     ]
    }
   ],
   "source": [
    "print('Mean Absolute Error:', metrics.mean_absolute_error(Y_test, Y_pred))\n",
    "print('Mean Squared Error:', metrics.mean_squared_error(Y_test, Y_pred))\n",
    "print('Root Mean Squared Error:', np.sqrt(metrics.mean_squared_error(Y_test, Y_pred)))\n",
    "print('R-squared:', metrics.r2_score(Y_test, Y_pred))"
   ]
  },
  {
   "cell_type": "code",
   "execution_count": 20,
   "metadata": {},
   "outputs": [
    {
     "data": {
      "text/plain": [
       "<AxesSubplot:xlabel='trial'>"
      ]
     },
     "execution_count": 20,
     "metadata": {},
     "output_type": "execute_result"
    },
    {
     "data": {
      "image/png": "[encoded data removed]",
      "text/plain": [
       "<Figure size 432x288 with 1 Axes>"
      ]
     },
     "metadata": {
      "needs_background": "light"
     },
     "output_type": "display_data"
    }
   ],
   "source": [
    "rsquare = []\n",
    "for i in range(10):\n",
    "    X_train, X_test, Y_train, Y_test = train_test_split(X, Y, test_size=0.2, random_state = random.randint(1,1000))\n",
    "    model = svm.SVC()\n",
    "    model.fit(X_train, Y_train)\n",
    "    Y_pred = model.predict(X_test)\n",
    "    rsquare.append(metrics.r2_score(Y_test, Y_pred))\n",
    "    \n",
    "rdf = pd.DataFrame( {'trial': range(10), 'Rsquare': rsquare})\n",
    "rdf.plot.bar(x='trial', y='Rsquare')"
   ]
  },
  {
   "cell_type": "markdown",
   "metadata": {},
   "source": [
    "#### As before, the model looks to be pretty good for determining did not have affair with an f1 score of 0.81, but it isn't so good for determining did have an affair(1) with an f1 score of 0.33. The r squared is also very low which indicates that it isn't such great a model either, but it is better than with a large C. It does pass 10 fold cross validation so at least we know we have consistency. It's good at detecting when there isn't cheating, but really bad, worse than flipping a coin, of determining if someone cheated. This is not a good model for predicting if someone will cheat, but good at prediciting if someone won't/didn't cheat. But the r squrat is still really bad, so this is not a good model overall.¶The accuracy is pretty good overall, but the f1 scores indicate, it isn't so great overall (the really good 0 case makes it look okay. Important to look at details). I think lowering the C parameter did not help a little since we are being less strict/lower penaty for misclassifying, and the data appears to be not clear cut (as opposed to the muffin case) and trying to find  a hyperplane in our data that is really accurate is going to be impossible/hard. If we lax on the classifying rules, we at least might get better classification overall."
   ]
  },
  {
   "cell_type": "markdown",
   "metadata": {},
   "source": [
    "### Question 3. Now use rbf as your kernel along with different value for Gamma and C"
   ]
  },
  {
   "cell_type": "code",
   "execution_count": 21,
   "metadata": {},
   "outputs": [],
   "source": [
    "gammas = [2**5, 2**-5]\n",
    "c_s = [10, 100, 1000]"
   ]
  },
  {
   "cell_type": "code",
   "execution_count": 22,
   "metadata": {
    "scrolled": true
   },
   "outputs": [
    {
     "name": "stdout",
     "output_type": "stream",
     "text": [
      "---------------------------------------\n",
      "c: 10\tgamma: 32\n",
      "\n",
      "[[780  68]\n",
      " [374  52]]\n",
      "              precision    recall  f1-score   support\n",
      "\n",
      "           0       0.68      0.92      0.78       848\n",
      "           1       0.43      0.12      0.19       426\n",
      "\n",
      "    accuracy                           0.65      1274\n",
      "   macro avg       0.55      0.52      0.48      1274\n",
      "weighted avg       0.59      0.65      0.58      1274\n",
      "\n",
      "Mean Absolute Error: 0.3469387755102041\n",
      "Mean Squared Error: 0.3469387755102041\n",
      "Root Mean Squared Error: 0.5890150893739515\n",
      "R-squared: -0.5587851005403488\n",
      "---------------------------------------\n",
      "c: 100\tgamma: 32\n",
      "\n",
      "[[764  68]\n",
      " [386  56]]\n",
      "              precision    recall  f1-score   support\n",
      "\n",
      "           0       0.66      0.92      0.77       832\n",
      "           1       0.45      0.13      0.20       442\n",
      "\n",
      "    accuracy                           0.64      1274\n",
      "   macro avg       0.56      0.52      0.48      1274\n",
      "weighted avg       0.59      0.64      0.57      1274\n",
      "\n",
      "Mean Absolute Error: 0.3563579277864992\n",
      "Mean Squared Error: 0.3563579277864992\n",
      "Root Mean Squared Error: 0.5969572244193877\n",
      "R-squared: -0.5728223981900449\n",
      "---------------------------------------\n",
      "c: 1000\tgamma: 32\n",
      "\n",
      "[[776  62]\n",
      " [378  58]]\n",
      "              precision    recall  f1-score   support\n",
      "\n",
      "           0       0.67      0.93      0.78       838\n",
      "           1       0.48      0.13      0.21       436\n",
      "\n",
      "    accuracy                           0.65      1274\n",
      "   macro avg       0.58      0.53      0.49      1274\n",
      "weighted avg       0.61      0.65      0.58      1274\n",
      "\n",
      "Mean Absolute Error: 0.3453689167974882\n",
      "Mean Squared Error: 0.3453689167974882\n",
      "Root Mean Squared Error: 0.587680965148173\n",
      "R-squared: -0.5342339777977274\n",
      "---------------------------------------\n",
      "c: 10\tgamma: 0.03125\n",
      "\n",
      "[[757  99]\n",
      " [278 140]]\n",
      "              precision    recall  f1-score   support\n",
      "\n",
      "           0       0.73      0.88      0.80       856\n",
      "           1       0.59      0.33      0.43       418\n",
      "\n",
      "    accuracy                           0.70      1274\n",
      "   macro avg       0.66      0.61      0.61      1274\n",
      "weighted avg       0.68      0.70      0.68      1274\n",
      "\n",
      "Mean Absolute Error: 0.29591836734693877\n",
      "Mean Squared Error: 0.29591836734693877\n",
      "Root Mean Squared Error: 0.5439837932759934\n",
      "R-squared: -0.34233443634574967\n",
      "---------------------------------------\n",
      "c: 100\tgamma: 0.03125\n",
      "\n",
      "[[734  99]\n",
      " [269 172]]\n",
      "              precision    recall  f1-score   support\n",
      "\n",
      "           0       0.73      0.88      0.80       833\n",
      "           1       0.63      0.39      0.48       441\n",
      "\n",
      "    accuracy                           0.71      1274\n",
      "   macro avg       0.68      0.64      0.64      1274\n",
      "weighted avg       0.70      0.71      0.69      1274\n",
      "\n",
      "Mean Absolute Error: 0.28885400313971743\n",
      "Mean Squared Error: 0.28885400313971743\n",
      "Root Mean Squared Error: 0.5374513960719773\n",
      "R-squared: -0.27624383086567983\n",
      "---------------------------------------\n",
      "c: 1000\tgamma: 0.03125\n",
      "\n",
      "[[701 157]\n",
      " [259 157]]\n",
      "              precision    recall  f1-score   support\n",
      "\n",
      "           0       0.73      0.82      0.77       858\n",
      "           1       0.50      0.38      0.43       416\n",
      "\n",
      "    accuracy                           0.67      1274\n",
      "   macro avg       0.62      0.60      0.60      1274\n",
      "weighted avg       0.66      0.67      0.66      1274\n",
      "\n",
      "Mean Absolute Error: 0.32653061224489793\n",
      "Mean Squared Error: 0.32653061224489793\n",
      "Root Mean Squared Error: 0.5714285714285714\n",
      "R-squared: -0.4848484848484844\n"
     ]
    },
    {
     "data": {
      "image/png": "[encoded data removed]",
      "text/plain": [
       "<Figure size 432x288 with 1 Axes>"
      ]
     },
     "metadata": {
      "needs_background": "light"
     },
     "output_type": "display_data"
    },
    {
     "data": {
      "image/png": "[encoded data removed]",
      "text/plain": [
       "<Figure size 432x288 with 1 Axes>"
      ]
     },
     "metadata": {
      "needs_background": "light"
     },
     "output_type": "display_data"
    },
    {
     "data": {
      "image/png": "[encoded data removed]",
      "text/plain": [
       "<Figure size 432x288 with 1 Axes>"
      ]
     },
     "metadata": {
      "needs_background": "light"
     },
     "output_type": "display_data"
    },
    {
     "data": {
      "image/png": "[encoded data removed]",
      "text/plain": [
       "<Figure size 432x288 with 1 Axes>"
      ]
     },
     "metadata": {
      "needs_background": "light"
     },
     "output_type": "display_data"
    },
    {
     "data": {
      "image/png": "[encoded data removed]",
      "text/plain": [
       "<Figure size 432x288 with 1 Axes>"
      ]
     },
     "metadata": {
      "needs_background": "light"
     },
     "output_type": "display_data"
    },
    {
     "data": {
      "image/png": "[encoded data removed]",
      "text/plain": [
       "<Figure size 432x288 with 1 Axes>"
      ]
     },
     "metadata": {
      "needs_background": "light"
     },
     "output_type": "display_data"
    }
   ],
   "source": [
    "for g in gammas:\n",
    "    for c in c_s:\n",
    "        svc = svm.SVC(kernel='rbf', probability=True, C=c, gamma=g)\n",
    "        svc.fit(X_train, Y_train)\n",
    "        Y_pred = svc.predict(X_test)\n",
    "        model.score(X_test, Y_test)\n",
    "        print('---------------------------------------')\n",
    "        print('c: ' + str(c) + '\\t' + 'gamma: ' +str(g) + '\\n')\n",
    "        model.score(X_test, Y_test)\n",
    "        print(confusion_matrix(Y_test, Y_pred))\n",
    "        print(classification_report(Y_test,Y_pred))\n",
    "        print('Mean Absolute Error:', metrics.mean_absolute_error(Y_test, Y_pred))\n",
    "        print('Mean Squared Error:', metrics.mean_squared_error(Y_test, Y_pred))\n",
    "        print('Root Mean Squared Error:', np.sqrt(metrics.mean_squared_error(Y_test, Y_pred)))\n",
    "        print('R-squared:', metrics.r2_score(Y_test, Y_pred))\n",
    "        rsquare = []\n",
    "        for i in range(10):\n",
    "            X_train, X_test, Y_train, Y_test = train_test_split(X, Y, test_size=0.2, random_state = random.randint(1,1000))\n",
    "            model = svm.SVC()\n",
    "            model.fit(X_train, Y_train)\n",
    "            Y_pred = model.predict(X_test)\n",
    "            rsquare.append(metrics.r2_score(Y_test, Y_pred))\n",
    "    \n",
    "        rdf = pd.DataFrame( {'trial': range(10), 'Rsquare': rsquare})\n",
    "        rdf.plot.bar(x='trial', y='Rsquare')"
   ]
  },
  {
   "cell_type": "markdown",
   "metadata": {},
   "source": [
    "### Question 4. So out of all the models you try in Question 2 and 3, what is the best choice for the kernel, C and gamma parameters? Comment on the effect of using different C and Gamma parameters"
   ]
  },
  {
   "cell_type": "markdown",
   "metadata": {},
   "source": [
    "### From the data here it appears that the best choice for the kernel is Radial basis function kernel with c=1000 and gamma = 2**-5. Since the data is not clean cut (unlike the muffin data from lecture), assigning a high penalty can force a better hyperplane and not let the model settle on a 'good enough' hyperplane. The low gamma means that we have much larger radii for the groups resulting in more points being grouped together. The f1 score of .71 is pretty good. The f1 score for predicting no affair is much better at 0.79 but for when there is an affair it is much lower at .45 (one of the better f1 scores for had an affair amongst all of our models).\n",
    "### In the model with a low C (10) and a high gamma (32), the model was about the same a linear model. The high gamma does mean that there is a lot of overfitting which is true of both the linear model and this model (rbf, c=10, gamma =32). The r squrared improves as the margin gets harder. This indicates that the model might be overfitting and can lead to invalid conclusions. All of the f1 scores are about the same interestingly enough. We also see that all of the r squared amongst our models are about the same (~-..3) indicating that there is a correlation amonst our data that should be worked upon.\n",
    "### Something that should also be noted is the very high rate of false negatives. I am not a philosipher and will not discuss the impacts of false negatives, but I think it is worth mentioning that there might be a problem here and let the philophers decide if it is morally a problem or not. But when analyzing our model this must be taken into consideration."
   ]
  },
  {
   "cell_type": "markdown",
   "metadata": {},
   "source": [
    "# Now we will try to fit the same dataset with Decision Trees"
   ]
  },
  {
   "cell_type": "markdown",
   "metadata": {},
   "source": [
    "### Question 5. Build a Decision Tree Classifier using default parameter"
   ]
  },
  {
   "cell_type": "code",
   "execution_count": 23,
   "metadata": {},
   "outputs": [
    {
     "data": {
      "text/plain": [
       "DecisionTreeClassifier()"
      ]
     },
     "execution_count": 23,
     "metadata": {},
     "output_type": "execute_result"
    }
   ],
   "source": [
    "model = DecisionTreeClassifier()\n",
    "model.fit(X_train,Y_train)"
   ]
  },
  {
   "cell_type": "code",
   "execution_count": 24,
   "metadata": {},
   "outputs": [
    {
     "name": "stdout",
     "output_type": "stream",
     "text": [
      "[[687 177]\n",
      " [257 153]]\n",
      "              precision    recall  f1-score   support\n",
      "\n",
      "           0       0.73      0.80      0.76       864\n",
      "           1       0.46      0.37      0.41       410\n",
      "\n",
      "    accuracy                           0.66      1274\n",
      "   macro avg       0.60      0.58      0.59      1274\n",
      "weighted avg       0.64      0.66      0.65      1274\n",
      "\n",
      "0.6593406593406593\n"
     ]
    }
   ],
   "source": [
    "predictions = model.predict(X_test)\n",
    "print(confusion_matrix(Y_test,predictions))\n",
    "print(classification_report(Y_test,predictions))\n",
    "print(accuracy_score(Y_test, predictions))"
   ]
  },
  {
   "cell_type": "code",
   "execution_count": 25,
   "metadata": {},
   "outputs": [
    {
     "data": {
      "text/plain": [
       "[Text(118.19837715264806, 212.91, 'X[0] <= 3.5\\ngini = 0.437\\nsamples = 5092\\nvalue = [3449, 1643]'),\n",
       " Text(42.17157999774161, 203.85, 'X[2] <= 4.25\\ngini = 0.482\\nsamples = 1152\\nvalue = [468, 684]'),\n",
       " Text(6.858700162297894, 194.79, 'X[2] <= 1.5\\ngini = 0.498\\nsamples = 300\\nvalue = [160, 140]'),\n",
       " Text(0.8748652621264087, 185.73, 'X[4] <= 1.5\\ngini = 0.211\\nsamples = 25\\nvalue = [22, 3]'),\n",
       " Text(0.43743263106320435, 176.67, 'X[5] <= 13.0\\ngini = 0.5\\nsamples = 4\\nvalue = [2, 2]'),\n",
       " Text(0.21871631553160217, 167.60999999999999, 'gini = 0.0\\nsamples = 1\\nvalue = [1, 0]'),\n",
       " Text(0.6561489465948065, 167.60999999999999, 'X[0] <= 2.5\\ngini = 0.444\\nsamples = 3\\nvalue = [1, 2]'),\n",
       " Text(0.43743263106320435, 158.55, 'gini = 0.0\\nsamples = 1\\nvalue = [1, 0]'),\n",
       " Text(0.8748652621264087, 158.55, 'gini = 0.0\\nsamples = 2\\nvalue = [0, 2]'),\n",
       " Text(1.312297893189613, 176.67, 'X[8] <= 0.5\\ngini = 0.091\\nsamples = 21\\nvalue = [20, 1]'),\n",
       " Text(1.093581577658011, 167.60999999999999, 'gini = 0.0\\nsamples = 19\\nvalue = [19, 0]'),\n",
       " Text(1.5310142087212153, 167.60999999999999, 'X[5] <= 15.0\\ngini = 0.5\\nsamples = 2\\nvalue = [1, 1]'),\n",
       " Text(1.312297893189613, 158.55, 'gini = 0.0\\nsamples = 1\\nvalue = [1, 0]'),\n",
       " Text(1.7497305242528174, 158.55, 'gini = 0.0\\nsamples = 1\\nvalue = [0, 1]'),\n",
       " Text(12.842535062469379, 185.73, 'X[1] <= 19.75\\ngini = 0.5\\nsamples = 275\\nvalue = [138, 137]'),\n",
       " Text(2.8433121019108283, 176.67, 'X[4] <= 3.5\\ngini = 0.408\\nsamples = 14\\nvalue = [10, 4]'),\n",
       " Text(2.624595786379226, 167.60999999999999, 'X[3] <= 0.5\\ngini = 0.355\\nsamples = 13\\nvalue = [10, 3]'),\n",
       " Text(2.187163155316022, 158.55, 'X[7] <= 0.5\\ngini = 0.48\\nsamples = 5\\nvalue = [3, 2]'),\n",
       " Text(1.9684468397844195, 149.49, 'gini = 0.0\\nsamples = 3\\nvalue = [3, 0]'),\n",
       " Text(2.405879470847624, 149.49, 'gini = 0.0\\nsamples = 2\\nvalue = [0, 2]'),\n",
       " Text(3.0620284174424306, 158.55, 'X[8] <= 0.5\\ngini = 0.219\\nsamples = 8\\nvalue = [7, 1]'),\n",
       " Text(2.8433121019108283, 149.49, 'gini = 0.0\\nsamples = 6\\nvalue = [6, 0]'),\n",
       " Text(3.2807447329740325, 149.49, 'X[4] <= 2.5\\ngini = 0.5\\nsamples = 2\\nvalue = [1, 1]'),\n",
       " Text(3.0620284174424306, 140.43, 'gini = 0.0\\nsamples = 1\\nvalue = [1, 0]'),\n",
       " Text(3.4994610485056348, 140.43, 'gini = 0.0\\nsamples = 1\\nvalue = [0, 1]'),\n",
       " Text(3.0620284174424306, 167.60999999999999, 'gini = 0.0\\nsamples = 1\\nvalue = [0, 1]'),\n",
       " Text(22.84175802302793, 176.67, 'X[4] <= 3.5\\ngini = 0.5\\nsamples = 261\\nvalue = [128, 133]'),\n",
       " Text(18.234618446839786, 167.60999999999999, 'X[6] <= 0.5\\ngini = 0.499\\nsamples = 251\\nvalue = [120, 131]'),\n",
       " Text(10.988786134247919, 158.55, 'X[0] <= 1.5\\ngini = 0.5\\nsamples = 218\\nvalue = [110, 108]'),\n",
       " Text(4.155609995100441, 149.49, 'X[7] <= 0.5\\ngini = 0.397\\nsamples = 11\\nvalue = [3, 8]'),\n",
       " Text(3.936893679568839, 140.43, 'gini = 0.0\\nsamples = 2\\nvalue = [0, 2]'),\n",
       " Text(4.374326310632044, 140.43, 'X[5] <= 15.0\\ngini = 0.444\\nsamples = 9\\nvalue = [3, 6]'),\n",
       " Text(4.155609995100441, 131.37, 'X[1] <= 24.5\\ngini = 0.469\\nsamples = 8\\nvalue = [3, 5]'),\n",
       " Text(3.936893679568839, 122.30999999999999, 'X[4] <= 1.5\\ngini = 0.408\\nsamples = 7\\nvalue = [2, 5]'),\n",
       " Text(3.718177364037237, 113.24999999999999, 'gini = 0.0\\nsamples = 3\\nvalue = [0, 3]'),\n",
       " Text(4.155609995100441, 113.24999999999999, 'X[5] <= 13.0\\ngini = 0.5\\nsamples = 4\\nvalue = [2, 2]'),\n",
       " Text(3.936893679568839, 104.19, 'gini = 0.0\\nsamples = 1\\nvalue = [1, 0]'),\n",
       " Text(4.374326310632044, 104.19, 'X[4] <= 2.5\\ngini = 0.444\\nsamples = 3\\nvalue = [1, 2]'),\n",
       " Text(4.155609995100441, 95.13, 'gini = 0.0\\nsamples = 1\\nvalue = [0, 1]'),\n",
       " Text(4.593042626163646, 95.13, 'gini = 0.5\\nsamples = 2\\nvalue = [1, 1]'),\n",
       " Text(4.374326310632044, 122.30999999999999, 'gini = 0.0\\nsamples = 1\\nvalue = [1, 0]'),\n",
       " Text(4.593042626163646, 131.37, 'gini = 0.0\\nsamples = 1\\nvalue = [0, 1]'),\n",
       " Text(17.821962273395396, 149.49, 'X[9] <= 0.5\\ngini = 0.499\\nsamples = 207\\nvalue = [107, 100]'),\n",
       " Text(13.553576678098972, 140.43, 'X[3] <= 0.5\\ngini = 0.497\\nsamples = 178\\nvalue = [96, 82]'),\n",
       " Text(8.844341009309163, 131.37, 'X[7] <= 0.5\\ngini = 0.5\\nsamples = 127\\nvalue = [64, 63]'),\n",
       " Text(6.1787359137677615, 122.30999999999999, 'X[5] <= 15.0\\ngini = 0.48\\nsamples = 40\\nvalue = [24, 16]'),\n",
       " Text(5.960019598236159, 113.24999999999999, 'gini = 0.0\\nsamples = 4\\nvalue = [4, 0]'),\n",
       " Text(6.397452229299364, 113.24999999999999, 'X[4] <= 2.5\\ngini = 0.494\\nsamples = 36\\nvalue = [20, 16]'),\n",
       " Text(5.577266046055856, 104.19, 'X[5] <= 16.5\\ngini = 0.5\\nsamples = 26\\nvalue = [13, 13]'),\n",
       " Text(5.03047525722685, 95.13, 'X[1] <= 29.5\\ngini = 0.426\\nsamples = 13\\nvalue = [9, 4]'),\n",
       " Text(4.811758941695248, 86.07, 'X[4] <= 1.5\\ngini = 0.375\\nsamples = 12\\nvalue = [9, 3]'),\n",
       " Text(4.593042626163646, 77.00999999999999, 'gini = 0.0\\nsamples = 3\\nvalue = [3, 0]'),\n",
       " Text(5.03047525722685, 77.00999999999999, 'X[0] <= 2.5\\ngini = 0.444\\nsamples = 9\\nvalue = [6, 3]'),\n",
       " Text(4.811758941695248, 67.94999999999999, 'gini = 0.0\\nsamples = 1\\nvalue = [0, 1]'),\n",
       " Text(5.249191572758452, 67.94999999999999, 'X[1] <= 24.5\\ngini = 0.375\\nsamples = 8\\nvalue = [6, 2]'),\n",
       " Text(5.03047525722685, 58.889999999999986, 'gini = 0.32\\nsamples = 5\\nvalue = [4, 1]'),\n",
       " Text(5.467907888290054, 58.889999999999986, 'gini = 0.444\\nsamples = 3\\nvalue = [2, 1]'),\n",
       " Text(5.249191572758452, 86.07, 'gini = 0.0\\nsamples = 1\\nvalue = [0, 1]'),\n",
       " Text(6.124056834884861, 95.13, 'X[1] <= 24.5\\ngini = 0.426\\nsamples = 13\\nvalue = [4, 9]'),\n",
       " Text(5.905340519353259, 86.07, 'gini = 0.0\\nsamples = 3\\nvalue = [0, 3]'),\n",
       " Text(6.342773150416463, 86.07, 'X[4] <= 1.5\\ngini = 0.48\\nsamples = 10\\nvalue = [4, 6]'),\n",
       " Text(5.905340519353259, 77.00999999999999, 'X[0] <= 2.5\\ngini = 0.48\\nsamples = 5\\nvalue = [3, 2]'),\n",
       " Text(5.686624203821657, 67.94999999999999, 'gini = 0.0\\nsamples = 1\\nvalue = [1, 0]'),\n",
       " Text(6.124056834884861, 67.94999999999999, 'X[5] <= 18.5\\ngini = 0.5\\nsamples = 4\\nvalue = [2, 2]'),\n",
       " Text(5.905340519353259, 58.889999999999986, 'gini = 0.444\\nsamples = 3\\nvalue = [2, 1]'),\n",
       " Text(6.342773150416463, 58.889999999999986, 'gini = 0.0\\nsamples = 1\\nvalue = [0, 1]'),\n",
       " Text(6.780205781479667, 77.00999999999999, 'X[5] <= 18.5\\ngini = 0.32\\nsamples = 5\\nvalue = [1, 4]'),\n",
       " Text(6.561489465948065, 67.94999999999999, 'gini = 0.0\\nsamples = 2\\nvalue = [0, 2]'),\n",
       " Text(6.9989220970112695, 67.94999999999999, 'gini = 0.444\\nsamples = 3\\nvalue = [1, 2]'),\n",
       " Text(7.217638412542872, 104.19, 'X[5] <= 16.5\\ngini = 0.42\\nsamples = 10\\nvalue = [7, 3]'),\n",
       " Text(6.9989220970112695, 95.13, 'X[0] <= 2.5\\ngini = 0.5\\nsamples = 6\\nvalue = [3, 3]'),\n",
       " Text(6.780205781479667, 86.07, 'gini = 0.0\\nsamples = 1\\nvalue = [1, 0]'),\n",
       " Text(7.217638412542872, 86.07, 'gini = 0.48\\nsamples = 5\\nvalue = [2, 3]'),\n",
       " Text(7.436354728074474, 95.13, 'gini = 0.0\\nsamples = 4\\nvalue = [4, 0]'),\n",
       " Text(11.509946104850565, 122.30999999999999, 'X[1] <= 24.5\\ngini = 0.497\\nsamples = 87\\nvalue = [40, 47]'),\n",
       " Text(9.732876041156297, 113.24999999999999, 'X[4] <= 1.5\\ngini = 0.485\\nsamples = 70\\nvalue = [29, 41]'),\n",
       " Text(8.311219990200883, 104.19, 'X[0] <= 2.5\\ngini = 0.494\\nsamples = 18\\nvalue = [10, 8]'),\n",
       " Text(7.873787359137678, 95.13, 'X[5] <= 13.0\\ngini = 0.375\\nsamples = 4\\nvalue = [1, 3]'),\n",
       " Text(7.6550710436060765, 86.07, 'gini = 0.0\\nsamples = 1\\nvalue = [1, 0]'),\n",
       " Text(8.092503674669281, 86.07, 'gini = 0.0\\nsamples = 3\\nvalue = [0, 3]'),\n",
       " Text(8.748652621264087, 95.13, 'X[5] <= 13.0\\ngini = 0.459\\nsamples = 14\\nvalue = [9, 5]'),\n",
       " Text(8.529936305732484, 86.07, 'gini = 0.5\\nsamples = 6\\nvalue = [3, 3]'),\n",
       " Text(8.967368936795689, 86.07, 'X[5] <= 15.0\\ngini = 0.375\\nsamples = 8\\nvalue = [6, 2]'),\n",
       " Text(8.748652621264087, 77.00999999999999, 'gini = 0.278\\nsamples = 6\\nvalue = [5, 1]'),\n",
       " Text(9.186085252327292, 77.00999999999999, 'gini = 0.5\\nsamples = 2\\nvalue = [1, 1]'),\n",
       " Text(11.154532092111712, 104.19, 'X[0] <= 2.5\\ngini = 0.464\\nsamples = 52\\nvalue = [19, 33]'),\n",
       " Text(10.279666829985302, 95.13, 'X[5] <= 13.0\\ngini = 0.498\\nsamples = 15\\nvalue = [7, 8]'),\n",
       " Text(9.842234198922098, 86.07, 'X[4] <= 2.5\\ngini = 0.444\\nsamples = 6\\nvalue = [2, 4]'),\n",
       " Text(9.623517883390496, 77.00999999999999, 'gini = 0.444\\nsamples = 3\\nvalue = [1, 2]'),\n",
       " Text(10.0609505144537, 77.00999999999999, 'gini = 0.444\\nsamples = 3\\nvalue = [1, 2]'),\n",
       " Text(10.717099461048507, 86.07, 'X[4] <= 2.5\\ngini = 0.494\\nsamples = 9\\nvalue = [5, 4]'),\n",
       " Text(10.498383145516904, 77.00999999999999, 'gini = 0.5\\nsamples = 2\\nvalue = [1, 1]'),\n",
       " Text(10.935815776580109, 77.00999999999999, 'gini = 0.49\\nsamples = 7\\nvalue = [4, 3]'),\n",
       " Text(12.02939735423812, 95.13, 'X[4] <= 2.5\\ngini = 0.438\\nsamples = 37\\nvalue = [12, 25]'),\n",
       " Text(11.591964723174915, 86.07, 'X[5] <= 15.0\\ngini = 0.469\\nsamples = 24\\nvalue = [9, 15]'),\n",
       " Text(11.373248407643313, 77.00999999999999, 'X[5] <= 13.0\\ngini = 0.455\\nsamples = 20\\nvalue = [7, 13]'),\n",
       " Text(11.154532092111712, 67.94999999999999, 'gini = 0.486\\nsamples = 12\\nvalue = [5, 7]'),\n",
       " Text(11.591964723174915, 67.94999999999999, 'gini = 0.375\\nsamples = 8\\nvalue = [2, 6]'),\n",
       " Text(11.810681038706518, 77.00999999999999, 'gini = 0.5\\nsamples = 4\\nvalue = [2, 2]'),\n",
       " Text(12.466829985301324, 86.07, 'X[5] <= 15.0\\ngini = 0.355\\nsamples = 13\\nvalue = [3, 10]'),\n",
       " Text(12.248113669769722, 77.00999999999999, 'X[5] <= 13.0\\ngini = 0.42\\nsamples = 10\\nvalue = [3, 7]'),\n",
       " Text(12.02939735423812, 67.94999999999999, 'gini = 0.375\\nsamples = 4\\nvalue = [1, 3]'),\n",
       " Text(12.466829985301324, 67.94999999999999, 'gini = 0.444\\nsamples = 6\\nvalue = [2, 4]'),\n",
       " Text(12.685546300832925, 77.00999999999999, 'gini = 0.0\\nsamples = 3\\nvalue = [0, 3]'),\n",
       " Text(13.287016168544833, 113.24999999999999, 'X[5] <= 13.0\\ngini = 0.457\\nsamples = 17\\nvalue = [11, 6]'),\n",
       " Text(12.685546300832925, 104.19, 'X[4] <= 2.5\\ngini = 0.375\\nsamples = 4\\nvalue = [3, 1]'),\n",
       " Text(12.466829985301324, 95.13, 'gini = 0.5\\nsamples = 2\\nvalue = [1, 1]'),\n",
       " Text(12.904262616364528, 95.13, 'gini = 0.0\\nsamples = 2\\nvalue = [2, 0]'),\n",
       " Text(13.888486036256738, 104.19, 'X[4] <= 2.5\\ngini = 0.473\\nsamples = 13\\nvalue = [8, 5]'),\n",
       " Text(13.341695247427733, 95.13, 'X[0] <= 2.5\\ngini = 0.444\\nsamples = 9\\nvalue = [6, 3]'),\n",
       " Text(13.12297893189613, 86.07, 'gini = 0.0\\nsamples = 1\\nvalue = [0, 1]'),\n",
       " Text(13.560411562959334, 86.07, 'X[4] <= 1.5\\ngini = 0.375\\nsamples = 8\\nvalue = [6, 2]'),\n",
       " Text(13.12297893189613, 77.00999999999999, 'X[5] <= 15.0\\ngini = 0.444\\nsamples = 3\\nvalue = [2, 1]'),\n",
       " Text(12.904262616364528, 67.94999999999999, 'gini = 0.0\\nsamples = 1\\nvalue = [1, 0]'),\n",
       " Text(13.341695247427733, 67.94999999999999, 'gini = 0.5\\nsamples = 2\\nvalue = [1, 1]'),\n",
       " Text(13.997844194022539, 77.00999999999999, 'X[5] <= 15.0\\ngini = 0.32\\nsamples = 5\\nvalue = [4, 1]'),\n",
       " Text(13.779127878490938, 67.94999999999999, 'gini = 0.444\\nsamples = 3\\nvalue = [2, 1]'),\n",
       " Text(14.21656050955414, 67.94999999999999, 'gini = 0.0\\nsamples = 2\\nvalue = [2, 0]'),\n",
       " Text(14.435276825085744, 95.13, 'X[0] <= 2.5\\ngini = 0.5\\nsamples = 4\\nvalue = [2, 2]'),\n",
       " Text(14.21656050955414, 86.07, 'gini = 0.0\\nsamples = 1\\nvalue = [1, 0]'),\n",
       " Text(14.653993140617345, 86.07, 'X[5] <= 15.0\\ngini = 0.444\\nsamples = 3\\nvalue = [1, 2]'),\n",
       " Text(14.435276825085744, 77.00999999999999, 'gini = 0.0\\nsamples = 1\\nvalue = [0, 1]'),\n",
       " Text(14.872709456148948, 77.00999999999999, 'gini = 0.5\\nsamples = 2\\nvalue = [1, 1]'),\n",
       " Text(18.262812346888783, 131.37, 'X[8] <= 0.5\\ngini = 0.468\\nsamples = 51\\nvalue = [32, 19]'),\n",
       " Text(17.059872611464968, 122.30999999999999, 'X[1] <= 24.5\\ngini = 0.401\\nsamples = 36\\nvalue = [26, 10]'),\n",
       " Text(16.294365507104363, 113.24999999999999, 'X[4] <= 1.5\\ngini = 0.278\\nsamples = 24\\nvalue = [20, 4]'),\n",
       " Text(16.07564919157276, 104.19, 'gini = 0.0\\nsamples = 5\\nvalue = [5, 0]'),\n",
       " Text(16.513081822635964, 104.19, 'X[5] <= 15.0\\ngini = 0.332\\nsamples = 19\\nvalue = [15, 4]'),\n",
       " Text(16.294365507104363, 95.13, 'X[3] <= 1.5\\ngini = 0.36\\nsamples = 17\\nvalue = [13, 4]'),\n",
       " Text(16.07564919157276, 86.07, 'X[4] <= 2.5\\ngini = 0.391\\nsamples = 15\\nvalue = [11, 4]'),\n",
       " Text(15.310142087212153, 77.00999999999999, 'X[0] <= 2.5\\ngini = 0.278\\nsamples = 6\\nvalue = [5, 1]'),\n",
       " Text(15.09142577168055, 67.94999999999999, 'gini = 0.0\\nsamples = 1\\nvalue = [1, 0]'),\n",
       " Text(15.528858402743754, 67.94999999999999, 'X[5] <= 13.0\\ngini = 0.32\\nsamples = 5\\nvalue = [4, 1]'),\n",
       " Text(15.310142087212153, 58.889999999999986, 'gini = 0.375\\nsamples = 4\\nvalue = [3, 1]'),\n",
       " Text(15.747574718275356, 58.889999999999986, 'gini = 0.0\\nsamples = 1\\nvalue = [1, 0]'),\n",
       " Text(16.841156295933366, 77.00999999999999, 'X[5] <= 13.0\\ngini = 0.444\\nsamples = 9\\nvalue = [6, 3]'),\n",
       " Text(16.403723664870164, 67.94999999999999, 'X[0] <= 2.5\\ngini = 0.375\\nsamples = 4\\nvalue = [3, 1]'),\n",
       " Text(16.185007349338562, 58.889999999999986, 'gini = 0.0\\nsamples = 2\\nvalue = [2, 0]'),\n",
       " Text(16.622439980401765, 58.889999999999986, 'gini = 0.5\\nsamples = 2\\nvalue = [1, 1]'),\n",
       " Text(17.278588926996573, 67.94999999999999, 'X[0] <= 2.5\\ngini = 0.48\\nsamples = 5\\nvalue = [3, 2]'),\n",
       " Text(17.059872611464968, 58.889999999999986, 'gini = 0.5\\nsamples = 2\\nvalue = [1, 1]'),\n",
       " Text(17.497305242528174, 58.889999999999986, 'gini = 0.444\\nsamples = 3\\nvalue = [2, 1]'),\n",
       " Text(16.513081822635964, 86.07, 'gini = 0.0\\nsamples = 2\\nvalue = [2, 0]'),\n",
       " Text(16.731798138167566, 95.13, 'gini = 0.0\\nsamples = 2\\nvalue = [2, 0]'),\n",
       " Text(17.825379715825576, 113.24999999999999, 'X[0] <= 2.5\\ngini = 0.5\\nsamples = 12\\nvalue = [6, 6]'),\n",
       " Text(17.387947084762374, 104.19, 'X[1] <= 34.5\\ngini = 0.32\\nsamples = 5\\nvalue = [4, 1]'),\n",
       " Text(17.169230769230772, 95.13, 'gini = 0.0\\nsamples = 4\\nvalue = [4, 0]'),\n",
       " Text(17.606663400293975, 95.13, 'gini = 0.0\\nsamples = 1\\nvalue = [0, 1]'),\n",
       " Text(18.262812346888783, 104.19, 'X[3] <= 3.0\\ngini = 0.408\\nsamples = 7\\nvalue = [2, 5]'),\n",
       " Text(18.044096031357178, 95.13, 'X[4] <= 1.5\\ngini = 0.444\\nsamples = 6\\nvalue = [2, 4]'),\n",
       " Text(17.825379715825576, 86.07, 'gini = 0.0\\nsamples = 1\\nvalue = [0, 1]'),\n",
       " Text(18.262812346888783, 86.07, 'X[3] <= 1.5\\ngini = 0.48\\nsamples = 5\\nvalue = [2, 3]'),\n",
       " Text(18.044096031357178, 77.00999999999999, 'X[4] <= 2.5\\ngini = 0.375\\nsamples = 4\\nvalue = [1, 3]'),\n",
       " Text(17.825379715825576, 67.94999999999999, 'gini = 0.0\\nsamples = 1\\nvalue = [0, 1]'),\n",
       " Text(18.262812346888783, 67.94999999999999, 'gini = 0.444\\nsamples = 3\\nvalue = [1, 2]'),\n",
       " Text(18.481528662420384, 77.00999999999999, 'gini = 0.0\\nsamples = 1\\nvalue = [1, 0]'),\n",
       " Text(18.481528662420384, 95.13, 'gini = 0.0\\nsamples = 1\\nvalue = [0, 1]'),\n",
       " Text(19.465752082312594, 122.30999999999999, 'X[5] <= 13.0\\ngini = 0.48\\nsamples = 15\\nvalue = [6, 9]'),\n",
       " Text(19.247035766780993, 113.24999999999999, 'gini = 0.0\\nsamples = 1\\nvalue = [0, 1]'),\n",
       " Text(19.684468397844196, 113.24999999999999, 'X[0] <= 2.5\\ngini = 0.49\\nsamples = 14\\nvalue = [6, 8]'),\n",
       " Text(19.13767760901519, 104.19, 'X[3] <= 1.5\\ngini = 0.375\\nsamples = 4\\nvalue = [1, 3]'),\n",
       " Text(18.918961293483587, 95.13, 'gini = 0.0\\nsamples = 3\\nvalue = [0, 3]'),\n",
       " Text(19.356393924546794, 95.13, 'gini = 0.0\\nsamples = 1\\nvalue = [1, 0]'),\n",
       " Text(20.231259186673203, 104.19, 'X[3] <= 1.5\\ngini = 0.5\\nsamples = 10\\nvalue = [5, 5]'),\n",
       " Text(19.793826555609996, 95.13, 'X[5] <= 16.5\\ngini = 0.444\\nsamples = 6\\nvalue = [4, 2]'),\n",
       " Text(19.575110240078395, 86.07, 'X[1] <= 24.5\\ngini = 0.48\\nsamples = 5\\nvalue = [3, 2]'),\n",
       " Text(19.356393924546794, 77.00999999999999, 'X[4] <= 2.5\\ngini = 0.375\\nsamples = 4\\nvalue = [3, 1]'),\n",
       " Text(19.13767760901519, 67.94999999999999, 'gini = 0.0\\nsamples = 2\\nvalue = [2, 0]'),\n",
       " Text(19.575110240078395, 67.94999999999999, 'X[5] <= 15.0\\ngini = 0.5\\nsamples = 2\\nvalue = [1, 1]'),\n",
       " Text(19.356393924546794, 58.889999999999986, 'gini = 0.0\\nsamples = 1\\nvalue = [0, 1]'),\n",
       " Text(19.793826555609996, 58.889999999999986, 'gini = 0.0\\nsamples = 1\\nvalue = [1, 0]'),\n",
       " Text(19.793826555609996, 77.00999999999999, 'gini = 0.0\\nsamples = 1\\nvalue = [0, 1]'),\n",
       " Text(20.012542871141598, 86.07, 'gini = 0.0\\nsamples = 1\\nvalue = [1, 0]'),\n",
       " Text(20.668691817736406, 95.13, 'X[5] <= 15.0\\ngini = 0.375\\nsamples = 4\\nvalue = [1, 3]'),\n",
       " Text(20.449975502204804, 86.07, 'X[4] <= 1.5\\ngini = 0.5\\nsamples = 2\\nvalue = [1, 1]'),\n",
       " Text(20.231259186673203, 77.00999999999999, 'gini = 0.0\\nsamples = 1\\nvalue = [0, 1]'),\n",
       " Text(20.668691817736406, 77.00999999999999, 'gini = 0.0\\nsamples = 1\\nvalue = [1, 0]'),\n",
       " Text(20.887408133268007, 86.07, 'gini = 0.0\\nsamples = 2\\nvalue = [0, 2]'),\n",
       " Text(22.09034786869182, 140.43, 'X[1] <= 29.5\\ngini = 0.471\\nsamples = 29\\nvalue = [11, 18]'),\n",
       " Text(21.871631553160217, 131.37, 'X[5] <= 13.0\\ngini = 0.426\\nsamples = 26\\nvalue = [8, 18]'),\n",
       " Text(21.652915237628616, 122.30999999999999, 'gini = 0.0\\nsamples = 4\\nvalue = [0, 4]'),\n",
       " Text(22.09034786869182, 122.30999999999999, 'X[0] <= 2.5\\ngini = 0.463\\nsamples = 22\\nvalue = [8, 14]'),\n",
       " Text(21.871631553160217, 113.24999999999999, 'gini = 0.0\\nsamples = 3\\nvalue = [0, 3]'),\n",
       " Text(22.309064184223423, 113.24999999999999, 'X[5] <= 16.5\\ngini = 0.488\\nsamples = 19\\nvalue = [8, 11]'),\n",
       " Text(22.09034786869182, 104.19, 'X[4] <= 2.5\\ngini = 0.498\\nsamples = 17\\nvalue = [8, 9]'),\n",
       " Text(21.543557079862815, 95.13, 'X[3] <= 0.5\\ngini = 0.494\\nsamples = 9\\nvalue = [5, 4]'),\n",
       " Text(21.324840764331213, 86.07, 'X[1] <= 24.5\\ngini = 0.49\\nsamples = 7\\nvalue = [3, 4]'),\n",
       " Text(21.10612444879961, 77.00999999999999, 'X[5] <= 15.0\\ngini = 0.48\\nsamples = 5\\nvalue = [3, 2]'),\n",
       " Text(20.887408133268007, 67.94999999999999, 'X[4] <= 1.5\\ngini = 0.444\\nsamples = 3\\nvalue = [1, 2]'),\n",
       " Text(20.668691817736406, 58.889999999999986, 'gini = 0.5\\nsamples = 2\\nvalue = [1, 1]'),\n",
       " Text(21.10612444879961, 58.889999999999986, 'gini = 0.0\\nsamples = 1\\nvalue = [0, 1]'),\n",
       " Text(21.324840764331213, 67.94999999999999, 'gini = 0.0\\nsamples = 2\\nvalue = [2, 0]'),\n",
       " Text(21.543557079862815, 77.00999999999999, 'gini = 0.0\\nsamples = 2\\nvalue = [0, 2]'),\n",
       " Text(21.762273395394416, 86.07, 'gini = 0.0\\nsamples = 2\\nvalue = [2, 0]'),\n",
       " Text(22.637138657520826, 95.13, 'X[1] <= 24.5\\ngini = 0.469\\nsamples = 8\\nvalue = [3, 5]'),\n",
       " Text(22.19970602645762, 86.07, 'X[5] <= 15.0\\ngini = 0.375\\nsamples = 4\\nvalue = [1, 3]'),\n",
       " Text(21.980989710926018, 77.00999999999999, 'gini = 0.444\\nsamples = 3\\nvalue = [1, 2]'),\n",
       " Text(22.418422341989224, 77.00999999999999, 'gini = 0.0\\nsamples = 1\\nvalue = [0, 1]'),\n",
       " Text(23.07457128858403, 86.07, 'X[3] <= 0.5\\ngini = 0.5\\nsamples = 4\\nvalue = [2, 2]'),\n",
       " Text(22.855854973052427, 77.00999999999999, 'X[5] <= 15.0\\ngini = 0.444\\nsamples = 3\\nvalue = [2, 1]'),\n",
       " Text(22.637138657520826, 67.94999999999999, 'gini = 0.5\\nsamples = 2\\nvalue = [1, 1]'),\n",
       " Text(23.07457128858403, 67.94999999999999, 'gini = 0.0\\nsamples = 1\\nvalue = [1, 0]'),\n",
       " Text(23.29328760411563, 77.00999999999999, 'gini = 0.0\\nsamples = 1\\nvalue = [0, 1]'),\n",
       " Text(22.527780499755025, 104.19, 'gini = 0.0\\nsamples = 2\\nvalue = [0, 2]'),\n",
       " Text(22.309064184223423, 131.37, 'gini = 0.0\\nsamples = 3\\nvalue = [3, 0]'),\n",
       " Text(25.480450759431655, 158.55, 'X[0] <= 1.5\\ngini = 0.422\\nsamples = 33\\nvalue = [10, 23]'),\n",
       " Text(25.26173444390005, 149.49, 'gini = 0.0\\nsamples = 1\\nvalue = [1, 0]'),\n",
       " Text(25.699167074963256, 149.49, 'X[1] <= 24.5\\ngini = 0.404\\nsamples = 32\\nvalue = [9, 23]'),\n",
       " Text(24.605585497305245, 140.43, 'X[4] <= 1.5\\ngini = 0.34\\nsamples = 23\\nvalue = [5, 18]'),\n",
       " Text(24.386869181773644, 131.37, 'gini = 0.0\\nsamples = 7\\nvalue = [0, 7]'),\n",
       " Text(24.824301812836847, 131.37, 'X[3] <= 1.5\\ngini = 0.43\\nsamples = 16\\nvalue = [5, 11]'),\n",
       " Text(24.605585497305245, 122.30999999999999, 'X[5] <= 16.5\\ngini = 0.459\\nsamples = 14\\nvalue = [5, 9]'),\n",
       " Text(24.386869181773644, 113.24999999999999, 'X[5] <= 13.0\\ngini = 0.486\\nsamples = 12\\nvalue = [5, 7]'),\n",
       " Text(23.949436550710438, 104.19, 'X[4] <= 2.5\\ngini = 0.408\\nsamples = 7\\nvalue = [2, 5]'),\n",
       " Text(23.730720235178836, 95.13, 'X[3] <= 0.5\\ngini = 0.48\\nsamples = 5\\nvalue = [2, 3]'),\n",
       " Text(23.512003919647235, 86.07, 'gini = 0.0\\nsamples = 1\\nvalue = [1, 0]'),\n",
       " Text(23.949436550710438, 86.07, 'gini = 0.375\\nsamples = 4\\nvalue = [1, 3]'),\n",
       " Text(24.16815286624204, 95.13, 'gini = 0.0\\nsamples = 2\\nvalue = [0, 2]'),\n",
       " Text(24.824301812836847, 104.19, 'X[4] <= 2.5\\ngini = 0.48\\nsamples = 5\\nvalue = [3, 2]'),\n",
       " Text(24.605585497305245, 95.13, 'X[5] <= 15.0\\ngini = 0.444\\nsamples = 3\\nvalue = [1, 2]'),\n",
       " Text(24.386869181773644, 86.07, 'gini = 0.0\\nsamples = 1\\nvalue = [0, 1]'),\n",
       " Text(24.824301812836847, 86.07, 'X[0] <= 2.5\\ngini = 0.5\\nsamples = 2\\nvalue = [1, 1]'),\n",
       " Text(24.605585497305245, 77.00999999999999, 'gini = 0.0\\nsamples = 1\\nvalue = [0, 1]'),\n",
       " Text(25.04301812836845, 77.00999999999999, 'gini = 0.0\\nsamples = 1\\nvalue = [1, 0]'),\n",
       " Text(25.04301812836845, 95.13, 'gini = 0.0\\nsamples = 2\\nvalue = [2, 0]'),\n",
       " Text(24.824301812836847, 113.24999999999999, 'gini = 0.0\\nsamples = 2\\nvalue = [0, 2]'),\n",
       " Text(25.04301812836845, 122.30999999999999, 'gini = 0.0\\nsamples = 2\\nvalue = [0, 2]'),\n",
       " Text(26.792748652621267, 140.43, 'X[5] <= 16.5\\ngini = 0.494\\nsamples = 9\\nvalue = [4, 5]'),\n",
       " Text(26.574032337089665, 131.37, 'X[5] <= 15.0\\ngini = 0.469\\nsamples = 8\\nvalue = [3, 5]'),\n",
       " Text(26.35531602155806, 122.30999999999999, 'X[0] <= 2.5\\ngini = 0.49\\nsamples = 7\\nvalue = [3, 4]'),\n",
       " Text(25.917883390494858, 113.24999999999999, 'X[5] <= 13.0\\ngini = 0.375\\nsamples = 4\\nvalue = [1, 3]'),\n",
       " Text(25.699167074963256, 104.19, 'X[4] <= 2.0\\ngini = 0.5\\nsamples = 2\\nvalue = [1, 1]'),\n",
       " Text(25.480450759431655, 95.13, 'gini = 0.0\\nsamples = 1\\nvalue = [0, 1]'),\n",
       " Text(25.917883390494858, 95.13, 'gini = 0.0\\nsamples = 1\\nvalue = [1, 0]'),\n",
       " Text(26.13659970602646, 104.19, 'gini = 0.0\\nsamples = 2\\nvalue = [0, 2]'),\n",
       " Text(26.792748652621267, 113.24999999999999, 'X[3] <= 0.5\\ngini = 0.444\\nsamples = 3\\nvalue = [2, 1]'),\n",
       " Text(26.574032337089665, 104.19, 'gini = 0.0\\nsamples = 1\\nvalue = [0, 1]'),\n",
       " Text(27.01146496815287, 104.19, 'gini = 0.0\\nsamples = 2\\nvalue = [2, 0]'),\n",
       " Text(26.792748652621267, 122.30999999999999, 'gini = 0.0\\nsamples = 1\\nvalue = [0, 1]'),\n",
       " Text(27.01146496815287, 131.37, 'gini = 0.0\\nsamples = 1\\nvalue = [1, 0]'),\n",
       " Text(27.44889759921607, 167.60999999999999, 'X[5] <= 18.5\\ngini = 0.32\\nsamples = 10\\nvalue = [8, 2]'),\n",
       " Text(27.23018128368447, 158.55, 'X[5] <= 16.5\\ngini = 0.198\\nsamples = 9\\nvalue = [8, 1]'),\n",
       " Text(27.01146496815287, 149.49, 'gini = 0.0\\nsamples = 6\\nvalue = [6, 0]'),\n",
       " Text(27.44889759921607, 149.49, 'X[3] <= 0.5\\ngini = 0.444\\nsamples = 3\\nvalue = [2, 1]'),\n",
       " Text(27.23018128368447, 140.43, 'gini = 0.0\\nsamples = 2\\nvalue = [2, 0]'),\n",
       " Text(27.667613914747676, 140.43, 'gini = 0.0\\nsamples = 1\\nvalue = [0, 1]'),\n",
       " Text(27.667613914747676, 158.55, 'gini = 0.0\\nsamples = 1\\nvalue = [0, 1]'),\n",
       " Text(77.48445983318533, 194.79, 'X[6] <= 0.5\\ngini = 0.462\\nsamples = 852\\nvalue = [308, 544]'),\n",
       " Text(56.90199168988854, 185.73, 'X[4] <= 2.5\\ngini = 0.451\\nsamples = 726\\nvalue = [249, 477]'),\n",
       " Text(45.16000658378246, 176.67, 'X[2] <= 7.5\\ngini = 0.429\\nsamples = 423\\nvalue = [132, 291]'),\n",
       " Text(37.1172694145027, 167.60999999999999, 'X[1] <= 29.5\\ngini = 0.471\\nsamples = 124\\nvalue = [47, 77]'),\n",
       " Text(35.46707190102891, 158.55, 'X[9] <= 0.5\\ngini = 0.454\\nsamples = 115\\nvalue = [40, 75]'),\n",
       " Text(33.69769108280255, 149.49, 'X[0] <= 1.5\\ngini = 0.435\\nsamples = 103\\nvalue = [33, 70]'),\n",
       " Text(33.26025845173935, 140.43, 'X[4] <= 1.5\\ngini = 0.375\\nsamples = 4\\nvalue = [3, 1]'),\n",
       " Text(33.041542136207745, 131.37, 'gini = 0.0\\nsamples = 1\\nvalue = [0, 1]'),\n",
       " Text(33.47897476727095, 131.37, 'gini = 0.0\\nsamples = 3\\nvalue = [3, 0]'),\n",
       " Text(34.13512371386575, 140.43, 'X[5] <= 10.5\\ngini = 0.422\\nsamples = 99\\nvalue = [30, 69]'),\n",
       " Text(33.91640739833415, 131.37, 'gini = 0.0\\nsamples = 1\\nvalue = [1, 0]'),\n",
       " Text(34.353840029397354, 131.37, 'X[3] <= 1.5\\ngini = 0.417\\nsamples = 98\\nvalue = [29, 69]'),\n",
       " Text(32.56480891719745, 122.30999999999999, 'X[10] <= 0.5\\ngini = 0.444\\nsamples = 75\\nvalue = [25, 50]'),\n",
       " Text(32.34609260166585, 113.24999999999999, 'X[5] <= 16.5\\ngini = 0.453\\nsamples = 72\\nvalue = [25, 47]'),\n",
       " Text(30.517760901518866, 104.19, 'X[5] <= 15.0\\ngini = 0.433\\nsamples = 63\\nvalue = [20, 43]'),\n",
       " Text(28.173395394414506, 95.13, 'X[3] <= 0.5\\ngini = 0.46\\nsamples = 53\\nvalue = [19, 34]'),\n",
       " Text(25.917883390494858, 86.07, 'X[1] <= 24.5\\ngini = 0.415\\nsamples = 17\\nvalue = [5, 12]'),\n",
       " Text(25.480450759431655, 77.00999999999999, 'X[5] <= 13.0\\ngini = 0.5\\nsamples = 2\\nvalue = [1, 1]'),\n",
       " Text(25.26173444390005, 67.94999999999999, 'gini = 0.0\\nsamples = 1\\nvalue = [0, 1]'),\n",
       " Text(25.699167074963256, 67.94999999999999, 'gini = 0.0\\nsamples = 1\\nvalue = [1, 0]'),\n",
       " Text(26.35531602155806, 77.00999999999999, 'X[7] <= 0.5\\ngini = 0.391\\nsamples = 15\\nvalue = [4, 11]'),\n",
       " Text(26.13659970602646, 67.94999999999999, 'gini = 0.0\\nsamples = 1\\nvalue = [0, 1]'),\n",
       " Text(26.574032337089665, 67.94999999999999, 'X[4] <= 1.5\\ngini = 0.408\\nsamples = 14\\nvalue = [4, 10]'),\n",
       " Text(26.13659970602646, 58.889999999999986, 'X[0] <= 2.5\\ngini = 0.444\\nsamples = 6\\nvalue = [2, 4]'),\n",
       " Text(25.917883390494858, 49.829999999999984, 'gini = 0.0\\nsamples = 1\\nvalue = [0, 1]'),\n",
       " Text(26.35531602155806, 49.829999999999984, 'X[5] <= 13.0\\ngini = 0.48\\nsamples = 5\\nvalue = [2, 3]'),\n",
       " Text(26.13659970602646, 40.76999999999998, 'gini = 0.5\\nsamples = 2\\nvalue = [1, 1]'),\n",
       " Text(26.574032337089665, 40.76999999999998, 'gini = 0.444\\nsamples = 3\\nvalue = [1, 2]'),\n",
       " Text(27.01146496815287, 58.889999999999986, 'X[5] <= 13.0\\ngini = 0.375\\nsamples = 8\\nvalue = [2, 6]'),\n",
       " Text(26.792748652621267, 49.829999999999984, 'gini = 0.0\\nsamples = 2\\nvalue = [0, 2]'),\n",
       " Text(27.23018128368447, 49.829999999999984, 'X[0] <= 2.5\\ngini = 0.444\\nsamples = 6\\nvalue = [2, 4]'),\n",
       " Text(27.01146496815287, 40.76999999999998, 'gini = 0.5\\nsamples = 2\\nvalue = [1, 1]'),\n",
       " Text(27.44889759921607, 40.76999999999998, 'gini = 0.375\\nsamples = 4\\nvalue = [1, 3]'),\n",
       " Text(30.428907398334154, 86.07, 'X[4] <= 1.5\\ngini = 0.475\\nsamples = 36\\nvalue = [14, 22]'),\n",
       " Text(28.870553650171487, 77.00999999999999, 'X[5] <= 13.0\\ngini = 0.494\\nsamples = 9\\nvalue = [4, 5]'),\n",
       " Text(28.32376286134248, 67.94999999999999, 'X[1] <= 24.5\\ngini = 0.48\\nsamples = 5\\nvalue = [3, 2]'),\n",
       " Text(27.886330230279277, 58.889999999999986, 'X[0] <= 2.5\\ngini = 0.444\\nsamples = 3\\nvalue = [2, 1]'),\n",
       " Text(27.667613914747676, 49.829999999999984, 'gini = 0.0\\nsamples = 1\\nvalue = [1, 0]'),\n",
       " Text(28.10504654581088, 49.829999999999984, 'gini = 0.5\\nsamples = 2\\nvalue = [1, 1]'),\n",
       " Text(28.761195492405687, 58.889999999999986, 'X[0] <= 2.5\\ngini = 0.5\\nsamples = 2\\nvalue = [1, 1]'),\n",
       " Text(28.542479176874085, 49.829999999999984, 'gini = 0.0\\nsamples = 1\\nvalue = [0, 1]'),\n",
       " Text(28.979911807937288, 49.829999999999984, 'gini = 0.0\\nsamples = 1\\nvalue = [1, 0]'),\n",
       " Text(29.41734443900049, 67.94999999999999, 'X[7] <= 0.5\\ngini = 0.375\\nsamples = 4\\nvalue = [1, 3]'),\n",
       " Text(29.19862812346889, 58.889999999999986, 'gini = 0.0\\nsamples = 1\\nvalue = [0, 1]'),\n",
       " Text(29.636060754532096, 58.889999999999986, 'X[1] <= 24.5\\ngini = 0.444\\nsamples = 3\\nvalue = [1, 2]'),\n",
       " Text(29.41734443900049, 49.829999999999984, 'gini = 0.0\\nsamples = 1\\nvalue = [0, 1]'),\n",
       " Text(29.854777070063697, 49.829999999999984, 'gini = 0.5\\nsamples = 2\\nvalue = [1, 1]'),\n",
       " Text(31.987261146496817, 77.00999999999999, 'X[5] <= 13.0\\ngini = 0.466\\nsamples = 27\\nvalue = [10, 17]'),\n",
       " Text(30.948358647721708, 67.94999999999999, 'X[8] <= 0.5\\ngini = 0.397\\nsamples = 11\\nvalue = [3, 8]'),\n",
       " Text(30.5109260166585, 58.889999999999986, 'X[0] <= 2.5\\ngini = 0.245\\nsamples = 7\\nvalue = [1, 6]'),\n",
       " Text(30.2922097011269, 49.829999999999984, 'gini = 0.444\\nsamples = 3\\nvalue = [1, 2]'),\n",
       " Text(30.729642332190107, 49.829999999999984, 'gini = 0.0\\nsamples = 4\\nvalue = [0, 4]'),\n",
       " Text(31.38579127878491, 58.889999999999986, 'X[1] <= 24.5\\ngini = 0.5\\nsamples = 4\\nvalue = [2, 2]'),\n",
       " Text(31.16707496325331, 49.829999999999984, 'gini = 0.444\\nsamples = 3\\nvalue = [1, 2]'),\n",
       " Text(31.604507594316512, 49.829999999999984, 'gini = 0.0\\nsamples = 1\\nvalue = [1, 0]'),\n",
       " Text(33.02616364527193, 67.94999999999999, 'X[8] <= 0.5\\ngini = 0.492\\nsamples = 16\\nvalue = [7, 9]'),\n",
       " Text(32.47937285644292, 58.889999999999986, 'X[1] <= 24.5\\ngini = 0.5\\nsamples = 12\\nvalue = [6, 6]'),\n",
       " Text(32.04194022537972, 49.829999999999984, 'X[0] <= 2.5\\ngini = 0.375\\nsamples = 4\\nvalue = [1, 3]'),\n",
       " Text(31.823223909848117, 40.76999999999998, 'gini = 0.444\\nsamples = 3\\nvalue = [1, 2]'),\n",
       " Text(32.26065654091132, 40.76999999999998, 'gini = 0.0\\nsamples = 1\\nvalue = [0, 1]'),\n",
       " Text(32.916805487506124, 49.829999999999984, 'X[7] <= 0.5\\ngini = 0.469\\nsamples = 8\\nvalue = [5, 3]'),\n",
       " Text(32.69808917197452, 40.76999999999998, 'gini = 0.0\\nsamples = 1\\nvalue = [1, 0]'),\n",
       " Text(33.135521803037726, 40.76999999999998, 'X[0] <= 2.5\\ngini = 0.49\\nsamples = 7\\nvalue = [4, 3]'),\n",
       " Text(32.916805487506124, 31.70999999999998, 'gini = 0.444\\nsamples = 3\\nvalue = [2, 1]'),\n",
       " Text(33.354238118569334, 31.70999999999998, 'gini = 0.5\\nsamples = 4\\nvalue = [2, 2]'),\n",
       " Text(33.572954434100936, 58.889999999999986, 'X[1] <= 24.5\\ngini = 0.375\\nsamples = 4\\nvalue = [1, 3]'),\n",
       " Text(33.354238118569334, 49.829999999999984, 'gini = 0.0\\nsamples = 1\\nvalue = [1, 0]'),\n",
       " Text(33.79167074963254, 49.829999999999984, 'gini = 0.0\\nsamples = 3\\nvalue = [0, 3]'),\n",
       " Text(32.862126408623226, 95.13, 'X[1] <= 24.5\\ngini = 0.18\\nsamples = 10\\nvalue = [1, 9]'),\n",
       " Text(32.643410093091624, 86.07, 'X[4] <= 1.5\\ngini = 0.5\\nsamples = 2\\nvalue = [1, 1]'),\n",
       " Text(32.42469377756002, 77.00999999999999, 'gini = 0.0\\nsamples = 1\\nvalue = [0, 1]'),\n",
       " Text(32.862126408623226, 77.00999999999999, 'gini = 0.0\\nsamples = 1\\nvalue = [1, 0]'),\n",
       " Text(33.08084272415483, 86.07, 'gini = 0.0\\nsamples = 8\\nvalue = [0, 8]'),\n",
       " Text(34.17442430181284, 104.19, 'X[3] <= 0.5\\ngini = 0.494\\nsamples = 9\\nvalue = [5, 4]'),\n",
       " Text(33.73699167074964, 95.13, 'X[1] <= 24.5\\ngini = 0.32\\nsamples = 5\\nvalue = [4, 1]'),\n",
       " Text(33.51827535521803, 86.07, 'gini = 0.0\\nsamples = 1\\nvalue = [0, 1]'),\n",
       " Text(33.95570798628124, 86.07, 'gini = 0.0\\nsamples = 4\\nvalue = [4, 0]'),\n",
       " Text(34.611856932876044, 95.13, 'X[4] <= 1.5\\ngini = 0.375\\nsamples = 4\\nvalue = [1, 3]'),\n",
       " Text(34.39314061734444, 86.07, 'gini = 0.444\\nsamples = 3\\nvalue = [1, 2]'),\n",
       " Text(34.830573248407646, 86.07, 'gini = 0.0\\nsamples = 1\\nvalue = [0, 1]'),\n",
       " Text(32.783525232729055, 113.24999999999999, 'gini = 0.0\\nsamples = 3\\nvalue = [0, 3]'),\n",
       " Text(36.14287114159726, 122.30999999999999, 'X[0] <= 2.5\\ngini = 0.287\\nsamples = 23\\nvalue = [4, 19]'),\n",
       " Text(35.92415482606566, 113.24999999999999, 'gini = 0.0\\nsamples = 7\\nvalue = [0, 7]'),\n",
       " Text(36.36158745712886, 113.24999999999999, 'X[5] <= 15.0\\ngini = 0.375\\nsamples = 16\\nvalue = [4, 12]'),\n",
       " Text(36.14287114159726, 104.19, 'X[7] <= 0.5\\ngini = 0.426\\nsamples = 13\\nvalue = [4, 9]'),\n",
       " Text(35.48672219500245, 95.13, 'X[5] <= 13.0\\ngini = 0.5\\nsamples = 4\\nvalue = [2, 2]'),\n",
       " Text(35.26800587947085, 86.07, 'gini = 0.0\\nsamples = 1\\nvalue = [0, 1]'),\n",
       " Text(35.70543851053405, 86.07, 'X[4] <= 1.5\\ngini = 0.444\\nsamples = 3\\nvalue = [2, 1]'),\n",
       " Text(35.48672219500245, 77.00999999999999, 'gini = 0.0\\nsamples = 1\\nvalue = [1, 0]'),\n",
       " Text(35.92415482606566, 77.00999999999999, 'gini = 0.5\\nsamples = 2\\nvalue = [1, 1]'),\n",
       " Text(36.799020088192066, 95.13, 'X[5] <= 13.0\\ngini = 0.346\\nsamples = 9\\nvalue = [2, 7]'),\n",
       " Text(36.580303772660464, 86.07, 'X[4] <= 1.5\\ngini = 0.48\\nsamples = 5\\nvalue = [2, 3]'),\n",
       " Text(36.36158745712886, 77.00999999999999, 'gini = 0.0\\nsamples = 1\\nvalue = [0, 1]'),\n",
       " Text(36.799020088192066, 77.00999999999999, 'X[1] <= 24.5\\ngini = 0.5\\nsamples = 4\\nvalue = [2, 2]'),\n",
       " Text(36.580303772660464, 67.94999999999999, 'gini = 0.5\\nsamples = 2\\nvalue = [1, 1]'),\n",
       " Text(37.01773640372367, 67.94999999999999, 'gini = 0.5\\nsamples = 2\\nvalue = [1, 1]'),\n",
       " Text(37.01773640372367, 86.07, 'gini = 0.0\\nsamples = 4\\nvalue = [0, 4]'),\n",
       " Text(36.580303772660464, 104.19, 'gini = 0.0\\nsamples = 3\\nvalue = [0, 3]'),\n",
       " Text(37.23645271925527, 149.49, 'X[4] <= 1.5\\ngini = 0.486\\nsamples = 12\\nvalue = [7, 5]'),\n",
       " Text(36.580303772660464, 140.43, 'X[5] <= 15.0\\ngini = 0.444\\nsamples = 3\\nvalue = [1, 2]'),\n",
       " Text(36.36158745712886, 131.37, 'gini = 0.0\\nsamples = 1\\nvalue = [0, 1]'),\n",
       " Text(36.799020088192066, 131.37, 'X[5] <= 16.5\\ngini = 0.5\\nsamples = 2\\nvalue = [1, 1]'),\n",
       " Text(36.580303772660464, 122.30999999999999, 'gini = 0.0\\nsamples = 1\\nvalue = [1, 0]'),\n",
       " Text(37.01773640372367, 122.30999999999999, 'gini = 0.0\\nsamples = 1\\nvalue = [0, 1]'),\n",
       " Text(37.89260166585008, 140.43, 'X[5] <= 15.0\\ngini = 0.444\\nsamples = 9\\nvalue = [6, 3]'),\n",
       " Text(37.67388535031847, 131.37, 'X[3] <= 0.5\\ngini = 0.49\\nsamples = 7\\nvalue = [4, 3]'),\n",
       " Text(37.45516903478687, 122.30999999999999, 'gini = 0.0\\nsamples = 1\\nvalue = [1, 0]'),\n",
       " Text(37.89260166585008, 122.30999999999999, 'X[5] <= 13.0\\ngini = 0.5\\nsamples = 6\\nvalue = [3, 3]'),\n",
       " Text(37.45516903478687, 113.24999999999999, 'X[3] <= 1.5\\ngini = 0.5\\nsamples = 4\\nvalue = [2, 2]'),\n",
       " Text(37.23645271925527, 104.19, 'gini = 0.0\\nsamples = 1\\nvalue = [1, 0]'),\n",
       " Text(37.67388535031847, 104.19, 'X[0] <= 2.5\\ngini = 0.444\\nsamples = 3\\nvalue = [1, 2]'),\n",
       " Text(37.45516903478687, 95.13, 'gini = 0.5\\nsamples = 2\\nvalue = [1, 1]'),\n",
       " Text(37.89260166585008, 95.13, 'gini = 0.0\\nsamples = 1\\nvalue = [0, 1]'),\n",
       " Text(38.33003429691328, 113.24999999999999, 'X[3] <= 1.5\\ngini = 0.5\\nsamples = 2\\nvalue = [1, 1]'),\n",
       " Text(38.11131798138168, 104.19, 'gini = 0.0\\nsamples = 1\\nvalue = [0, 1]'),\n",
       " Text(38.548750612444884, 104.19, 'gini = 0.0\\nsamples = 1\\nvalue = [1, 0]'),\n",
       " Text(38.11131798138168, 131.37, 'gini = 0.0\\nsamples = 2\\nvalue = [2, 0]'),\n",
       " Text(38.767466927976486, 158.55, 'X[3] <= 2.5\\ngini = 0.346\\nsamples = 9\\nvalue = [7, 2]'),\n",
       " Text(38.548750612444884, 149.49, 'X[5] <= 16.5\\ngini = 0.219\\nsamples = 8\\nvalue = [7, 1]'),\n",
       " Text(38.33003429691328, 140.43, 'gini = 0.0\\nsamples = 6\\nvalue = [6, 0]'),\n",
       " Text(38.767466927976486, 140.43, 'X[3] <= 0.5\\ngini = 0.5\\nsamples = 2\\nvalue = [1, 1]'),\n",
       " Text(38.548750612444884, 131.37, 'gini = 0.0\\nsamples = 1\\nvalue = [1, 0]'),\n",
       " Text(38.98618324350809, 131.37, 'gini = 0.0\\nsamples = 1\\nvalue = [0, 1]'),\n",
       " Text(38.98618324350809, 149.49, 'gini = 0.0\\nsamples = 1\\nvalue = [0, 1]'),\n",
       " Text(53.20274375306223, 167.60999999999999, 'X[1] <= 39.5\\ngini = 0.407\\nsamples = 299\\nvalue = [85, 214]'),\n",
       " Text(46.654924056834886, 158.55, 'X[2] <= 14.75\\ngini = 0.368\\nsamples = 218\\nvalue = [53, 165]'),\n",
       " Text(42.3626163645272, 149.49, 'X[0] <= 2.5\\ngini = 0.412\\nsamples = 124\\nvalue = [36, 88]'),\n",
       " Text(39.9704066634003, 140.43, 'X[3] <= 3.5\\ngini = 0.278\\nsamples = 36\\nvalue = [6, 30]'),\n",
       " Text(39.751690347868696, 131.37, 'X[1] <= 24.5\\ngini = 0.245\\nsamples = 35\\nvalue = [5, 30]'),\n",
       " Text(39.532974032337094, 122.30999999999999, 'gini = 0.0\\nsamples = 1\\nvalue = [1, 0]'),\n",
       " Text(39.9704066634003, 122.30999999999999, 'X[1] <= 34.5\\ngini = 0.208\\nsamples = 34\\nvalue = [4, 30]'),\n",
       " Text(39.42361587457129, 113.24999999999999, 'X[3] <= 2.5\\ngini = 0.128\\nsamples = 29\\nvalue = [2, 27]'),\n",
       " Text(38.98618324350809, 104.19, 'X[5] <= 13.0\\ngini = 0.077\\nsamples = 25\\nvalue = [1, 24]'),\n",
       " Text(38.767466927976486, 95.13, 'X[2] <= 11.0\\ngini = 0.219\\nsamples = 8\\nvalue = [1, 7]'),\n",
       " Text(38.548750612444884, 86.07, 'X[1] <= 29.5\\ngini = 0.5\\nsamples = 2\\nvalue = [1, 1]'),\n",
       " Text(38.33003429691328, 77.00999999999999, 'gini = 0.0\\nsamples = 1\\nvalue = [1, 0]'),\n",
       " Text(38.767466927976486, 77.00999999999999, 'gini = 0.0\\nsamples = 1\\nvalue = [0, 1]'),\n",
       " Text(38.98618324350809, 86.07, 'gini = 0.0\\nsamples = 6\\nvalue = [0, 6]'),\n",
       " Text(39.20489955903969, 95.13, 'gini = 0.0\\nsamples = 17\\nvalue = [0, 17]'),\n",
       " Text(39.86104850563449, 104.19, 'X[4] <= 1.5\\ngini = 0.375\\nsamples = 4\\nvalue = [1, 3]'),\n",
       " Text(39.64233219010289, 95.13, 'gini = 0.0\\nsamples = 1\\nvalue = [1, 0]'),\n",
       " Text(40.0797648211661, 95.13, 'gini = 0.0\\nsamples = 3\\nvalue = [0, 3]'),\n",
       " Text(40.517197452229304, 113.24999999999999, 'X[5] <= 15.0\\ngini = 0.48\\nsamples = 5\\nvalue = [2, 3]'),\n",
       " Text(40.2984811366977, 104.19, 'gini = 0.0\\nsamples = 2\\nvalue = [0, 2]'),\n",
       " Text(40.735913767760906, 104.19, 'X[8] <= 0.5\\ngini = 0.444\\nsamples = 3\\nvalue = [2, 1]'),\n",
       " Text(40.517197452229304, 95.13, 'gini = 0.0\\nsamples = 1\\nvalue = [0, 1]'),\n",
       " Text(40.95463008329251, 95.13, 'gini = 0.0\\nsamples = 2\\nvalue = [2, 0]'),\n",
       " Text(40.1891229789319, 131.37, 'gini = 0.0\\nsamples = 1\\nvalue = [1, 0]'),\n",
       " Text(44.75482606565409, 140.43, 'X[5] <= 13.0\\ngini = 0.449\\nsamples = 88\\nvalue = [30, 58]'),\n",
       " Text(43.03243508084273, 131.37, 'X[9] <= 0.5\\ngini = 0.382\\nsamples = 35\\nvalue = [9, 26]'),\n",
       " Text(42.81371876531112, 122.30999999999999, 'X[1] <= 34.5\\ngini = 0.428\\nsamples = 29\\nvalue = [9, 20]'),\n",
       " Text(42.59500244977952, 113.24999999999999, 'X[3] <= 2.5\\ngini = 0.444\\nsamples = 27\\nvalue = [9, 18]'),\n",
       " Text(41.82949534541891, 104.19, 'X[1] <= 29.5\\ngini = 0.463\\nsamples = 22\\nvalue = [8, 14]'),\n",
       " Text(41.39206271435571, 95.13, 'X[2] <= 11.0\\ngini = 0.408\\nsamples = 14\\nvalue = [4, 10]'),\n",
       " Text(41.17334639882411, 86.07, 'X[3] <= 1.5\\ngini = 0.444\\nsamples = 12\\nvalue = [4, 8]'),\n",
       " Text(40.735913767760906, 77.00999999999999, 'X[4] <= 1.5\\ngini = 0.49\\nsamples = 7\\nvalue = [3, 4]'),\n",
       " Text(40.517197452229304, 67.94999999999999, 'gini = 0.0\\nsamples = 2\\nvalue = [0, 2]'),\n",
       " Text(40.95463008329251, 67.94999999999999, 'X[3] <= 0.5\\ngini = 0.48\\nsamples = 5\\nvalue = [3, 2]'),\n",
       " Text(40.735913767760906, 58.889999999999986, 'gini = 0.0\\nsamples = 1\\nvalue = [1, 0]'),\n",
       " Text(41.17334639882411, 58.889999999999986, 'gini = 0.5\\nsamples = 4\\nvalue = [2, 2]'),\n",
       " Text(41.61077902988731, 77.00999999999999, 'X[4] <= 1.5\\ngini = 0.32\\nsamples = 5\\nvalue = [1, 4]'),\n",
       " Text(41.39206271435571, 67.94999999999999, 'gini = 0.0\\nsamples = 1\\nvalue = [1, 0]'),\n",
       " Text(41.82949534541891, 67.94999999999999, 'gini = 0.0\\nsamples = 4\\nvalue = [0, 4]'),\n",
       " Text(41.61077902988731, 86.07, 'gini = 0.0\\nsamples = 2\\nvalue = [0, 2]'),\n",
       " Text(42.26692797648212, 95.13, 'X[7] <= 0.5\\ngini = 0.5\\nsamples = 8\\nvalue = [4, 4]'),\n",
       " Text(42.04821166095052, 86.07, 'gini = 0.0\\nsamples = 1\\nvalue = [1, 0]'),\n",
       " Text(42.485644292013724, 86.07, 'X[2] <= 11.0\\ngini = 0.49\\nsamples = 7\\nvalue = [3, 4]'),\n",
       " Text(42.26692797648212, 77.00999999999999, 'gini = 0.0\\nsamples = 1\\nvalue = [0, 1]'),\n",
       " Text(42.704360607545325, 77.00999999999999, 'X[3] <= 1.5\\ngini = 0.5\\nsamples = 6\\nvalue = [3, 3]'),\n",
       " Text(42.485644292013724, 67.94999999999999, 'gini = 0.0\\nsamples = 1\\nvalue = [1, 0]'),\n",
       " Text(42.92307692307693, 67.94999999999999, 'X[4] <= 1.5\\ngini = 0.48\\nsamples = 5\\nvalue = [2, 3]'),\n",
       " Text(42.704360607545325, 58.889999999999986, 'gini = 0.0\\nsamples = 1\\nvalue = [0, 1]'),\n",
       " Text(43.14179323860853, 58.889999999999986, 'gini = 0.5\\nsamples = 4\\nvalue = [2, 2]'),\n",
       " Text(43.36050955414013, 104.19, 'X[4] <= 1.5\\ngini = 0.32\\nsamples = 5\\nvalue = [1, 4]'),\n",
       " Text(43.14179323860853, 95.13, 'X[2] <= 11.0\\ngini = 0.5\\nsamples = 2\\nvalue = [1, 1]'),\n",
       " Text(42.92307692307693, 86.07, 'gini = 0.0\\nsamples = 1\\nvalue = [1, 0]'),\n",
       " Text(43.36050955414013, 86.07, 'gini = 0.0\\nsamples = 1\\nvalue = [0, 1]'),\n",
       " Text(43.57922586967173, 95.13, 'gini = 0.0\\nsamples = 3\\nvalue = [0, 3]'),\n",
       " Text(43.03243508084273, 113.24999999999999, 'gini = 0.0\\nsamples = 2\\nvalue = [0, 2]'),\n",
       " Text(43.25115139637433, 122.30999999999999, 'gini = 0.0\\nsamples = 6\\nvalue = [0, 6]'),\n",
       " Text(46.47721705046546, 131.37, 'X[4] <= 1.5\\ngini = 0.478\\nsamples = 53\\nvalue = [21, 32]'),\n",
       " Text(45.11024007839295, 122.30999999999999, 'X[5] <= 15.0\\ngini = 0.332\\nsamples = 19\\nvalue = [4, 15]'),\n",
       " Text(44.89152376286135, 113.24999999999999, 'X[1] <= 29.5\\ngini = 0.444\\nsamples = 12\\nvalue = [4, 8]'),\n",
       " Text(44.23537481626654, 104.19, 'X[3] <= 1.5\\ngini = 0.245\\nsamples = 7\\nvalue = [1, 6]'),\n",
       " Text(44.016658500734934, 95.13, 'gini = 0.0\\nsamples = 3\\nvalue = [0, 3]'),\n",
       " Text(44.454091131798144, 95.13, 'X[3] <= 2.5\\ngini = 0.375\\nsamples = 4\\nvalue = [1, 3]'),\n",
       " Text(44.23537481626654, 86.07, 'X[2] <= 11.0\\ngini = 0.5\\nsamples = 2\\nvalue = [1, 1]'),\n",
       " Text(44.016658500734934, 77.00999999999999, 'gini = 0.0\\nsamples = 1\\nvalue = [1, 0]'),\n",
       " Text(44.454091131798144, 77.00999999999999, 'gini = 0.0\\nsamples = 1\\nvalue = [0, 1]'),\n",
       " Text(44.672807447329745, 86.07, 'gini = 0.0\\nsamples = 2\\nvalue = [0, 2]'),\n",
       " Text(45.54767270945615, 104.19, 'X[9] <= 0.5\\ngini = 0.48\\nsamples = 5\\nvalue = [3, 2]'),\n",
       " Text(45.32895639392455, 95.13, 'X[3] <= 1.5\\ngini = 0.375\\nsamples = 4\\nvalue = [3, 1]'),\n",
       " Text(45.11024007839295, 86.07, 'gini = 0.0\\nsamples = 2\\nvalue = [2, 0]'),\n",
       " Text(45.54767270945615, 86.07, 'X[3] <= 2.5\\ngini = 0.5\\nsamples = 2\\nvalue = [1, 1]'),\n",
       " Text(45.32895639392455, 77.00999999999999, 'gini = 0.0\\nsamples = 1\\nvalue = [0, 1]'),\n",
       " Text(45.76638902498775, 77.00999999999999, 'gini = 0.0\\nsamples = 1\\nvalue = [1, 0]'),\n",
       " Text(45.76638902498775, 95.13, 'gini = 0.0\\nsamples = 1\\nvalue = [0, 1]'),\n",
       " Text(45.32895639392455, 113.24999999999999, 'gini = 0.0\\nsamples = 7\\nvalue = [0, 7]'),\n",
       " Text(47.84419402253798, 122.30999999999999, 'X[1] <= 34.5\\ngini = 0.5\\nsamples = 34\\nvalue = [17, 17]'),\n",
       " Text(47.625477707006375, 113.24999999999999, 'X[3] <= 2.5\\ngini = 0.495\\nsamples = 31\\nvalue = [14, 17]'),\n",
       " Text(47.18804507594317, 104.19, 'X[9] <= 0.5\\ngini = 0.5\\nsamples = 26\\nvalue = [13, 13]'),\n",
       " Text(46.969328760411564, 95.13, 'X[3] <= 0.5\\ngini = 0.499\\nsamples = 25\\nvalue = [12, 13]'),\n",
       " Text(46.422537971582564, 86.07, 'X[1] <= 29.5\\ngini = 0.375\\nsamples = 4\\nvalue = [1, 3]'),\n",
       " Text(46.20382165605096, 77.00999999999999, 'gini = 0.0\\nsamples = 1\\nvalue = [1, 0]'),\n",
       " Text(46.641254287114165, 77.00999999999999, 'gini = 0.0\\nsamples = 3\\nvalue = [0, 3]'),\n",
       " Text(47.51611954924057, 86.07, 'X[2] <= 11.0\\ngini = 0.499\\nsamples = 21\\nvalue = [11, 10]'),\n",
       " Text(47.07868691817737, 77.00999999999999, 'X[5] <= 15.0\\ngini = 0.497\\nsamples = 13\\nvalue = [6, 7]'),\n",
       " Text(46.85997060264577, 67.94999999999999, 'X[3] <= 1.5\\ngini = 0.48\\nsamples = 10\\nvalue = [6, 4]'),\n",
       " Text(46.641254287114165, 58.889999999999986, 'gini = 0.48\\nsamples = 5\\nvalue = [3, 2]'),\n",
       " Text(47.07868691817737, 58.889999999999986, 'gini = 0.48\\nsamples = 5\\nvalue = [3, 2]'),\n",
       " Text(47.29740323370897, 67.94999999999999, 'gini = 0.0\\nsamples = 3\\nvalue = [0, 3]'),\n",
       " Text(47.953552180303774, 77.00999999999999, 'X[3] <= 1.5\\ngini = 0.469\\nsamples = 8\\nvalue = [5, 3]'),\n",
       " Text(47.73483586477217, 67.94999999999999, 'gini = 0.0\\nsamples = 1\\nvalue = [1, 0]'),\n",
       " Text(48.172268495835375, 67.94999999999999, 'X[5] <= 15.0\\ngini = 0.49\\nsamples = 7\\nvalue = [4, 3]'),\n",
       " Text(47.953552180303774, 58.889999999999986, 'gini = 0.444\\nsamples = 3\\nvalue = [1, 2]'),\n",
       " Text(48.390984811366984, 58.889999999999986, 'X[5] <= 18.0\\ngini = 0.375\\nsamples = 4\\nvalue = [3, 1]'),\n",
       " Text(48.172268495835375, 49.829999999999984, 'gini = 0.0\\nsamples = 2\\nvalue = [2, 0]'),\n",
       " Text(48.609701126898585, 49.829999999999984, 'gini = 0.5\\nsamples = 2\\nvalue = [1, 1]'),\n",
       " Text(47.406761391474774, 95.13, 'gini = 0.0\\nsamples = 1\\nvalue = [1, 0]'),\n",
       " Text(48.06291033806958, 104.19, 'X[5] <= 15.0\\ngini = 0.32\\nsamples = 5\\nvalue = [1, 4]'),\n",
       " Text(47.84419402253798, 95.13, 'gini = 0.0\\nsamples = 4\\nvalue = [0, 4]'),\n",
       " Text(48.28162665360118, 95.13, 'gini = 0.0\\nsamples = 1\\nvalue = [1, 0]'),\n",
       " Text(48.06291033806958, 113.24999999999999, 'gini = 0.0\\nsamples = 3\\nvalue = [3, 0]'),\n",
       " Text(50.94723174914258, 149.49, 'X[4] <= 1.5\\ngini = 0.296\\nsamples = 94\\nvalue = [17, 77]'),\n",
       " Text(49.921999020088194, 140.43, 'X[1] <= 34.5\\ngini = 0.42\\nsamples = 20\\nvalue = [6, 14]'),\n",
       " Text(49.70328270455659, 131.37, 'gini = 0.0\\nsamples = 7\\nvalue = [0, 7]'),\n",
       " Text(50.140715335619795, 131.37, 'X[5] <= 16.5\\ngini = 0.497\\nsamples = 13\\nvalue = [6, 7]'),\n",
       " Text(49.921999020088194, 122.30999999999999, 'X[3] <= 4.75\\ngini = 0.496\\nsamples = 11\\nvalue = [6, 5]'),\n",
       " Text(49.70328270455659, 113.24999999999999, 'X[2] <= 19.75\\ngini = 0.5\\nsamples = 10\\nvalue = [5, 5]'),\n",
       " Text(49.48456638902499, 104.19, 'X[5] <= 15.0\\ngini = 0.469\\nsamples = 8\\nvalue = [5, 3]'),\n",
       " Text(49.26585007349339, 95.13, 'X[9] <= 0.5\\ngini = 0.49\\nsamples = 7\\nvalue = [4, 3]'),\n",
       " Text(49.04713375796179, 86.07, 'X[5] <= 13.0\\ngini = 0.5\\nsamples = 6\\nvalue = [3, 3]'),\n",
       " Text(48.82841744243019, 77.00999999999999, 'X[0] <= 2.5\\ngini = 0.5\\nsamples = 4\\nvalue = [2, 2]'),\n",
       " Text(48.609701126898585, 67.94999999999999, 'gini = 0.5\\nsamples = 2\\nvalue = [1, 1]'),\n",
       " Text(49.04713375796179, 67.94999999999999, 'gini = 0.5\\nsamples = 2\\nvalue = [1, 1]'),\n",
       " Text(49.26585007349339, 77.00999999999999, 'gini = 0.5\\nsamples = 2\\nvalue = [1, 1]'),\n",
       " Text(49.48456638902499, 86.07, 'gini = 0.0\\nsamples = 1\\nvalue = [1, 0]'),\n",
       " Text(49.70328270455659, 95.13, 'gini = 0.0\\nsamples = 1\\nvalue = [1, 0]'),\n",
       " Text(49.921999020088194, 104.19, 'gini = 0.0\\nsamples = 2\\nvalue = [0, 2]'),\n",
       " Text(50.140715335619795, 113.24999999999999, 'gini = 0.0\\nsamples = 1\\nvalue = [1, 0]'),\n",
       " Text(50.359431651151404, 122.30999999999999, 'gini = 0.0\\nsamples = 2\\nvalue = [0, 2]'),\n",
       " Text(51.97246447819697, 140.43, 'X[3] <= 1.5\\ngini = 0.253\\nsamples = 74\\nvalue = [11, 63]'),\n",
       " Text(51.01558059774621, 131.37, 'X[0] <= 2.5\\ngini = 0.5\\nsamples = 4\\nvalue = [2, 2]'),\n",
       " Text(50.79686428221461, 122.30999999999999, 'gini = 0.0\\nsamples = 2\\nvalue = [0, 2]'),\n",
       " Text(51.23429691327781, 122.30999999999999, 'gini = 0.0\\nsamples = 2\\nvalue = [2, 0]'),\n",
       " Text(52.92934835864773, 131.37, 'X[5] <= 13.0\\ngini = 0.224\\nsamples = 70\\nvalue = [9, 61]'),\n",
       " Text(51.67172954434101, 122.30999999999999, 'X[3] <= 2.5\\ngini = 0.153\\nsamples = 36\\nvalue = [3, 33]'),\n",
       " Text(51.45301322880941, 113.24999999999999, 'X[7] <= 0.5\\ngini = 0.278\\nsamples = 18\\nvalue = [3, 15]'),\n",
       " Text(51.23429691327781, 104.19, 'gini = 0.0\\nsamples = 6\\nvalue = [0, 6]'),\n",
       " Text(51.67172954434101, 104.19, 'X[0] <= 2.5\\ngini = 0.375\\nsamples = 12\\nvalue = [3, 9]'),\n",
       " Text(51.23429691327781, 95.13, 'X[1] <= 34.5\\ngini = 0.5\\nsamples = 4\\nvalue = [2, 2]'),\n",
       " Text(51.01558059774621, 86.07, 'gini = 0.5\\nsamples = 2\\nvalue = [1, 1]'),\n",
       " Text(51.45301322880941, 86.07, 'gini = 0.5\\nsamples = 2\\nvalue = [1, 1]'),\n",
       " Text(52.109162175404215, 95.13, 'X[1] <= 34.5\\ngini = 0.219\\nsamples = 8\\nvalue = [1, 7]'),\n",
       " Text(51.890445859872614, 86.07, 'gini = 0.245\\nsamples = 7\\nvalue = [1, 6]'),\n",
       " Text(52.32787849093582, 86.07, 'gini = 0.0\\nsamples = 1\\nvalue = [0, 1]'),\n",
       " Text(51.890445859872614, 113.24999999999999, 'gini = 0.0\\nsamples = 18\\nvalue = [0, 18]'),\n",
       " Text(54.18696717295444, 122.30999999999999, 'X[3] <= 3.5\\ngini = 0.291\\nsamples = 34\\nvalue = [6, 28]'),\n",
       " Text(53.64017638412543, 113.24999999999999, 'X[8] <= 0.5\\ngini = 0.172\\nsamples = 21\\nvalue = [2, 19]'),\n",
       " Text(53.42146006859383, 104.19, 'X[2] <= 19.75\\ngini = 0.298\\nsamples = 11\\nvalue = [2, 9]'),\n",
       " Text(53.20274375306223, 95.13, 'X[3] <= 2.5\\ngini = 0.32\\nsamples = 10\\nvalue = [2, 8]'),\n",
       " Text(52.76531112199903, 86.07, 'X[9] <= 0.5\\ngini = 0.444\\nsamples = 3\\nvalue = [1, 2]'),\n",
       " Text(52.546594806467425, 77.00999999999999, 'gini = 0.0\\nsamples = 2\\nvalue = [0, 2]'),\n",
       " Text(52.98402743753063, 77.00999999999999, 'gini = 0.0\\nsamples = 1\\nvalue = [1, 0]'),\n",
       " Text(53.64017638412543, 86.07, 'X[7] <= 0.5\\ngini = 0.245\\nsamples = 7\\nvalue = [1, 6]'),\n",
       " Text(53.42146006859383, 77.00999999999999, 'gini = 0.0\\nsamples = 4\\nvalue = [0, 4]'),\n",
       " Text(53.858892699657034, 77.00999999999999, 'X[0] <= 2.5\\ngini = 0.444\\nsamples = 3\\nvalue = [1, 2]'),\n",
       " Text(53.64017638412543, 67.94999999999999, 'gini = 0.5\\nsamples = 2\\nvalue = [1, 1]'),\n",
       " Text(54.077609015188635, 67.94999999999999, 'gini = 0.0\\nsamples = 1\\nvalue = [0, 1]'),\n",
       " Text(53.64017638412543, 95.13, 'gini = 0.0\\nsamples = 1\\nvalue = [0, 1]'),\n",
       " Text(53.858892699657034, 104.19, 'gini = 0.0\\nsamples = 10\\nvalue = [0, 10]'),\n",
       " Text(54.733757961783446, 113.24999999999999, 'X[8] <= 0.5\\ngini = 0.426\\nsamples = 13\\nvalue = [4, 9]'),\n",
       " Text(54.29632533072024, 104.19, 'X[3] <= 4.75\\ngini = 0.219\\nsamples = 8\\nvalue = [1, 7]'),\n",
       " Text(54.077609015188635, 95.13, 'gini = 0.0\\nsamples = 6\\nvalue = [0, 6]'),\n",
       " Text(54.515041646251845, 95.13, 'gini = 0.5\\nsamples = 2\\nvalue = [1, 1]'),\n",
       " Text(55.17119059284665, 104.19, 'X[5] <= 17.0\\ngini = 0.48\\nsamples = 5\\nvalue = [3, 2]'),\n",
       " Text(54.95247427731505, 95.13, 'X[2] <= 19.75\\ngini = 0.375\\nsamples = 4\\nvalue = [3, 1]'),\n",
       " Text(54.733757961783446, 86.07, 'X[1] <= 34.5\\ngini = 0.444\\nsamples = 3\\nvalue = [2, 1]'),\n",
       " Text(54.515041646251845, 77.00999999999999, 'gini = 0.0\\nsamples = 1\\nvalue = [1, 0]'),\n",
       " Text(54.95247427731505, 77.00999999999999, 'gini = 0.5\\nsamples = 2\\nvalue = [1, 1]'),\n",
       " Text(55.17119059284665, 86.07, 'gini = 0.0\\nsamples = 1\\nvalue = [1, 0]'),\n",
       " Text(55.38990690837825, 95.13, 'gini = 0.0\\nsamples = 1\\nvalue = [0, 1]'),\n",
       " Text(59.75056344928957, 158.55, 'X[4] <= 1.5\\ngini = 0.478\\nsamples = 81\\nvalue = [32, 49]'),\n",
       " Text(56.702204801567866, 149.49, 'X[9] <= 0.5\\ngini = 0.386\\nsamples = 23\\nvalue = [6, 17]'),\n",
       " Text(56.264772170504656, 140.43, 'X[2] <= 19.75\\ngini = 0.363\\nsamples = 21\\nvalue = [5, 16]'),\n",
       " Text(56.046055854973055, 131.37, 'gini = 0.0\\nsamples = 3\\nvalue = [0, 3]'),\n",
       " Text(56.48348848603626, 131.37, 'X[0] <= 2.5\\ngini = 0.401\\nsamples = 18\\nvalue = [5, 13]'),\n",
       " Text(55.60862322390985, 122.30999999999999, 'X[3] <= 3.5\\ngini = 0.219\\nsamples = 8\\nvalue = [1, 7]'),\n",
       " Text(55.38990690837825, 113.24999999999999, 'gini = 0.0\\nsamples = 6\\nvalue = [0, 6]'),\n",
       " Text(55.827339539441454, 113.24999999999999, 'X[5] <= 14.5\\ngini = 0.5\\nsamples = 2\\nvalue = [1, 1]'),\n",
       " Text(55.60862322390985, 104.19, 'gini = 0.0\\nsamples = 1\\nvalue = [0, 1]'),\n",
       " Text(56.046055854973055, 104.19, 'gini = 0.0\\nsamples = 1\\nvalue = [1, 0]'),\n",
       " Text(57.35835374816267, 122.30999999999999, 'X[3] <= 2.5\\ngini = 0.48\\nsamples = 10\\nvalue = [4, 6]'),\n",
       " Text(56.702204801567866, 113.24999999999999, 'X[5] <= 16.5\\ngini = 0.48\\nsamples = 5\\nvalue = [3, 2]'),\n",
       " Text(56.48348848603626, 104.19, 'gini = 0.0\\nsamples = 2\\nvalue = [2, 0]'),\n",
       " Text(56.92092111709947, 104.19, 'X[5] <= 18.5\\ngini = 0.444\\nsamples = 3\\nvalue = [1, 2]'),\n",
       " Text(56.702204801567866, 95.13, 'gini = 0.0\\nsamples = 1\\nvalue = [0, 1]'),\n",
       " Text(57.13963743263107, 95.13, 'gini = 0.5\\nsamples = 2\\nvalue = [1, 1]'),\n",
       " Text(58.014502694757475, 113.24999999999999, 'X[8] <= 0.5\\ngini = 0.32\\nsamples = 5\\nvalue = [1, 4]'),\n",
       " Text(57.79578637922587, 104.19, 'X[3] <= 3.5\\ngini = 0.444\\nsamples = 3\\nvalue = [1, 2]'),\n",
       " Text(57.57707006369427, 95.13, 'gini = 0.5\\nsamples = 2\\nvalue = [1, 1]'),\n",
       " Text(58.014502694757475, 95.13, 'gini = 0.0\\nsamples = 1\\nvalue = [0, 1]'),\n",
       " Text(58.233219010289076, 104.19, 'gini = 0.0\\nsamples = 2\\nvalue = [0, 2]'),\n",
       " Text(57.13963743263107, 140.43, 'X[2] <= 18.0\\ngini = 0.5\\nsamples = 2\\nvalue = [1, 1]'),\n",
       " Text(56.92092111709947, 131.37, 'gini = 0.0\\nsamples = 1\\nvalue = [1, 0]'),\n",
       " Text(57.35835374816267, 131.37, 'gini = 0.0\\nsamples = 1\\nvalue = [0, 1]'),\n",
       " Text(62.79892209701127, 149.49, 'X[3] <= 0.5\\ngini = 0.495\\nsamples = 58\\nvalue = [26, 32]'),\n",
       " Text(62.58020578147967, 140.43, 'gini = 0.0\\nsamples = 1\\nvalue = [1, 0]'),\n",
       " Text(63.01763841254288, 140.43, 'X[2] <= 19.75\\ngini = 0.492\\nsamples = 57\\nvalue = [25, 32]'),\n",
       " Text(62.79892209701127, 131.37, 'gini = 0.0\\nsamples = 2\\nvalue = [0, 2]'),\n",
       " Text(63.23635472807448, 131.37, 'X[10] <= 0.5\\ngini = 0.496\\nsamples = 55\\nvalue = [25, 30]'),\n",
       " Text(63.01763841254288, 122.30999999999999, 'X[9] <= 0.5\\ngini = 0.494\\nsamples = 54\\nvalue = [24, 30]'),\n",
       " Text(61.56864282214601, 113.24999999999999, 'X[3] <= 3.5\\ngini = 0.499\\nsamples = 44\\nvalue = [21, 23]'),\n",
       " Text(59.982949534541895, 104.19, 'X[0] <= 2.5\\ngini = 0.497\\nsamples = 28\\nvalue = [15, 13]'),\n",
       " Text(58.45193532582068, 95.13, 'X[3] <= 2.5\\ngini = 0.469\\nsamples = 8\\nvalue = [5, 3]'),\n",
       " Text(57.90514453699168, 86.07, 'X[7] <= 0.5\\ngini = 0.375\\nsamples = 4\\nvalue = [3, 1]'),\n",
       " Text(57.686428221460076, 77.00999999999999, 'gini = 0.5\\nsamples = 2\\nvalue = [1, 1]'),\n",
       " Text(58.12386085252328, 77.00999999999999, 'gini = 0.0\\nsamples = 2\\nvalue = [2, 0]'),\n",
       " Text(58.998726114649685, 86.07, 'X[0] <= 1.5\\ngini = 0.5\\nsamples = 4\\nvalue = [2, 2]'),\n",
       " Text(58.56129348358648, 77.00999999999999, 'X[5] <= 13.0\\ngini = 0.5\\nsamples = 2\\nvalue = [1, 1]'),\n",
       " Text(58.34257716805488, 67.94999999999999, 'gini = 0.0\\nsamples = 1\\nvalue = [1, 0]'),\n",
       " Text(58.78000979911808, 67.94999999999999, 'gini = 0.0\\nsamples = 1\\nvalue = [0, 1]'),\n",
       " Text(59.43615874571289, 77.00999999999999, 'X[5] <= 13.0\\ngini = 0.5\\nsamples = 2\\nvalue = [1, 1]'),\n",
       " Text(59.217442430181286, 67.94999999999999, 'gini = 0.0\\nsamples = 1\\nvalue = [0, 1]'),\n",
       " Text(59.654875061244496, 67.94999999999999, 'gini = 0.0\\nsamples = 1\\nvalue = [1, 0]'),\n",
       " Text(61.51396374326311, 95.13, 'X[5] <= 15.0\\ngini = 0.5\\nsamples = 20\\nvalue = [10, 10]'),\n",
       " Text(60.7484566389025, 86.07, 'X[8] <= 0.5\\ngini = 0.49\\nsamples = 14\\nvalue = [6, 8]'),\n",
       " Text(60.5297403233709, 77.00999999999999, 'X[5] <= 13.0\\ngini = 0.497\\nsamples = 13\\nvalue = [6, 7]'),\n",
       " Text(60.0923076923077, 67.94999999999999, 'X[3] <= 2.5\\ngini = 0.49\\nsamples = 7\\nvalue = [4, 3]'),\n",
       " Text(59.8735913767761, 58.889999999999986, 'gini = 0.0\\nsamples = 1\\nvalue = [1, 0]'),\n",
       " Text(60.3110240078393, 58.889999999999986, 'gini = 0.5\\nsamples = 6\\nvalue = [3, 3]'),\n",
       " Text(60.967172954434105, 67.94999999999999, 'X[3] <= 2.5\\ngini = 0.444\\nsamples = 6\\nvalue = [2, 4]'),\n",
       " Text(60.7484566389025, 58.889999999999986, 'gini = 0.444\\nsamples = 3\\nvalue = [1, 2]'),\n",
       " Text(61.185889269965706, 58.889999999999986, 'gini = 0.444\\nsamples = 3\\nvalue = [1, 2]'),\n",
       " Text(60.967172954434105, 77.00999999999999, 'gini = 0.0\\nsamples = 1\\nvalue = [0, 1]'),\n",
       " Text(62.27947084762372, 86.07, 'X[7] <= 0.5\\ngini = 0.444\\nsamples = 6\\nvalue = [4, 2]'),\n",
       " Text(62.06075453209212, 77.00999999999999, 'X[5] <= 16.5\\ngini = 0.48\\nsamples = 5\\nvalue = [3, 2]'),\n",
       " Text(61.84203821656052, 67.94999999999999, 'X[3] <= 2.5\\ngini = 0.375\\nsamples = 4\\nvalue = [3, 1]'),\n",
       " Text(61.62332190102891, 58.889999999999986, 'gini = 0.0\\nsamples = 1\\nvalue = [0, 1]'),\n",
       " Text(62.06075453209212, 58.889999999999986, 'gini = 0.0\\nsamples = 3\\nvalue = [3, 0]'),\n",
       " Text(62.27947084762372, 67.94999999999999, 'gini = 0.0\\nsamples = 1\\nvalue = [0, 1]'),\n",
       " Text(62.49818716315532, 77.00999999999999, 'gini = 0.0\\nsamples = 1\\nvalue = [1, 0]'),\n",
       " Text(63.154336109750126, 104.19, 'X[5] <= 13.0\\ngini = 0.469\\nsamples = 16\\nvalue = [6, 10]'),\n",
       " Text(62.935619794218525, 95.13, 'gini = 0.0\\nsamples = 5\\nvalue = [0, 5]'),\n",
       " Text(63.37305242528173, 95.13, 'X[5] <= 16.5\\ngini = 0.496\\nsamples = 11\\nvalue = [6, 5]'),\n",
       " Text(63.154336109750126, 86.07, 'X[8] <= 0.5\\ngini = 0.444\\nsamples = 9\\nvalue = [6, 3]'),\n",
       " Text(62.935619794218525, 77.00999999999999, 'X[3] <= 4.75\\ngini = 0.5\\nsamples = 6\\nvalue = [3, 3]'),\n",
       " Text(62.71690347868692, 67.94999999999999, 'gini = 0.0\\nsamples = 2\\nvalue = [0, 2]'),\n",
       " Text(63.154336109750126, 67.94999999999999, 'X[0] <= 2.5\\ngini = 0.375\\nsamples = 4\\nvalue = [3, 1]'),\n",
       " Text(62.935619794218525, 58.889999999999986, 'gini = 0.0\\nsamples = 1\\nvalue = [0, 1]'),\n",
       " Text(63.37305242528173, 58.889999999999986, 'gini = 0.0\\nsamples = 3\\nvalue = [3, 0]'),\n",
       " Text(63.37305242528173, 77.00999999999999, 'gini = 0.0\\nsamples = 3\\nvalue = [3, 0]'),\n",
       " Text(63.59176874081333, 86.07, 'gini = 0.0\\nsamples = 2\\nvalue = [0, 2]'),\n",
       " Text(64.46663400293974, 113.24999999999999, 'X[3] <= 2.5\\ngini = 0.42\\nsamples = 10\\nvalue = [3, 7]'),\n",
       " Text(64.24791768740813, 104.19, 'gini = 0.0\\nsamples = 2\\nvalue = [0, 2]'),\n",
       " Text(64.68535031847134, 104.19, 'X[3] <= 4.75\\ngini = 0.469\\nsamples = 8\\nvalue = [3, 5]'),\n",
       " Text(64.46663400293974, 95.13, 'X[5] <= 13.0\\ngini = 0.49\\nsamples = 7\\nvalue = [3, 4]'),\n",
       " Text(64.02920137187654, 86.07, 'X[0] <= 2.5\\ngini = 0.5\\nsamples = 2\\nvalue = [1, 1]'),\n",
       " Text(63.81048505634494, 77.00999999999999, 'gini = 0.0\\nsamples = 1\\nvalue = [0, 1]'),\n",
       " Text(64.24791768740813, 77.00999999999999, 'gini = 0.0\\nsamples = 1\\nvalue = [1, 0]'),\n",
       " Text(64.90406663400294, 86.07, 'X[3] <= 3.5\\ngini = 0.48\\nsamples = 5\\nvalue = [2, 3]'),\n",
       " Text(64.68535031847134, 77.00999999999999, 'gini = 0.375\\nsamples = 4\\nvalue = [1, 3]'),\n",
       " Text(65.12278294953455, 77.00999999999999, 'gini = 0.0\\nsamples = 1\\nvalue = [1, 0]'),\n",
       " Text(64.90406663400294, 95.13, 'gini = 0.0\\nsamples = 1\\nvalue = [0, 1]'),\n",
       " Text(63.45507104360608, 122.30999999999999, 'gini = 0.0\\nsamples = 1\\nvalue = [1, 0]'),\n",
       " Text(68.64397679599462, 176.67, 'X[0] <= 1.5\\ngini = 0.474\\nsamples = 303\\nvalue = [117, 186]'),\n",
       " Text(64.6580107790299, 167.60999999999999, 'X[2] <= 14.75\\ngini = 0.255\\nsamples = 20\\nvalue = [3, 17]'),\n",
       " Text(64.1112199902009, 158.55, 'X[7] <= 0.5\\ngini = 0.375\\nsamples = 8\\nvalue = [2, 6]'),\n",
       " Text(63.673787359137684, 149.49, 'X[1] <= 29.5\\ngini = 0.5\\nsamples = 2\\nvalue = [1, 1]'),\n",
       " Text(63.45507104360608, 140.43, 'gini = 0.0\\nsamples = 1\\nvalue = [0, 1]'),\n",
       " Text(63.892503674669285, 140.43, 'gini = 0.0\\nsamples = 1\\nvalue = [1, 0]'),\n",
       " Text(64.5486526212641, 149.49, 'X[2] <= 9.5\\ngini = 0.278\\nsamples = 6\\nvalue = [1, 5]'),\n",
       " Text(64.32993630573249, 140.43, 'X[3] <= 1.5\\ngini = 0.5\\nsamples = 2\\nvalue = [1, 1]'),\n",
       " Text(64.1112199902009, 131.37, 'gini = 0.0\\nsamples = 1\\nvalue = [1, 0]'),\n",
       " Text(64.5486526212641, 131.37, 'gini = 0.0\\nsamples = 1\\nvalue = [0, 1]'),\n",
       " Text(64.76736893679569, 140.43, 'gini = 0.0\\nsamples = 4\\nvalue = [0, 4]'),\n",
       " Text(65.2048015678589, 158.55, 'X[3] <= 3.5\\ngini = 0.153\\nsamples = 12\\nvalue = [1, 11]'),\n",
       " Text(64.9860852523273, 149.49, 'gini = 0.0\\nsamples = 9\\nvalue = [0, 9]'),\n",
       " Text(65.4235178833905, 149.49, 'X[5] <= 13.0\\ngini = 0.444\\nsamples = 3\\nvalue = [1, 2]'),\n",
       " Text(65.2048015678589, 140.43, 'gini = 0.0\\nsamples = 2\\nvalue = [0, 2]'),\n",
       " Text(65.6422341989221, 140.43, 'gini = 0.0\\nsamples = 1\\nvalue = [1, 0]'),\n",
       " Text(72.62994281295934, 167.60999999999999, 'X[1] <= 24.5\\ngini = 0.481\\nsamples = 283\\nvalue = [114, 169]'),\n",
       " Text(66.0796668299853, 158.55, 'X[7] <= 0.5\\ngini = 0.153\\nsamples = 12\\nvalue = [1, 11]'),\n",
       " Text(65.8609505144537, 149.49, 'gini = 0.0\\nsamples = 5\\nvalue = [0, 5]'),\n",
       " Text(66.29838314551691, 149.49, 'X[3] <= 1.5\\ngini = 0.245\\nsamples = 7\\nvalue = [1, 6]'),\n",
       " Text(66.0796668299853, 140.43, 'X[5] <= 13.0\\ngini = 0.375\\nsamples = 4\\nvalue = [1, 3]'),\n",
       " Text(65.8609505144537, 131.37, 'X[3] <= 0.5\\ngini = 0.444\\nsamples = 3\\nvalue = [1, 2]'),\n",
       " Text(65.6422341989221, 122.30999999999999, 'gini = 0.0\\nsamples = 1\\nvalue = [0, 1]'),\n",
       " Text(66.0796668299853, 122.30999999999999, 'gini = 0.5\\nsamples = 2\\nvalue = [1, 1]'),\n",
       " Text(66.29838314551691, 131.37, 'gini = 0.0\\nsamples = 1\\nvalue = [0, 1]'),\n",
       " Text(66.51709946104852, 140.43, 'gini = 0.0\\nsamples = 3\\nvalue = [0, 3]'),\n",
       " Text(79.18021879593337, 158.55, 'X[9] <= 0.5\\ngini = 0.486\\nsamples = 271\\nvalue = [113, 158]'),\n",
       " Text(70.84657183978443, 149.49, 'X[3] <= 0.5\\ngini = 0.492\\nsamples = 227\\nvalue = [99, 128]'),\n",
       " Text(67.50132288094072, 140.43, 'X[4] <= 3.5\\ngini = 0.49\\nsamples = 21\\nvalue = [12, 9]'),\n",
       " Text(67.28260656540913, 131.37, 'X[5] <= 13.0\\ngini = 0.5\\nsamples = 18\\nvalue = [9, 9]'),\n",
       " Text(66.51709946104852, 122.30999999999999, 'X[7] <= 0.5\\ngini = 0.32\\nsamples = 5\\nvalue = [1, 4]'),\n",
       " Text(66.29838314551691, 113.24999999999999, 'gini = 0.0\\nsamples = 2\\nvalue = [0, 2]'),\n",
       " Text(66.73581577658011, 113.24999999999999, 'X[0] <= 2.5\\ngini = 0.444\\nsamples = 3\\nvalue = [1, 2]'),\n",
       " Text(66.51709946104852, 104.19, 'gini = 0.0\\nsamples = 1\\nvalue = [0, 1]'),\n",
       " Text(66.95453209211172, 104.19, 'gini = 0.5\\nsamples = 2\\nvalue = [1, 1]'),\n",
       " Text(68.04811366976972, 122.30999999999999, 'X[1] <= 37.0\\ngini = 0.473\\nsamples = 13\\nvalue = [8, 5]'),\n",
       " Text(67.61068103870652, 113.24999999999999, 'X[8] <= 0.5\\ngini = 0.42\\nsamples = 10\\nvalue = [7, 3]'),\n",
       " Text(67.39196472317492, 104.19, 'X[0] <= 2.5\\ngini = 0.49\\nsamples = 7\\nvalue = [4, 3]'),\n",
       " Text(67.17324840764331, 95.13, 'gini = 0.0\\nsamples = 1\\nvalue = [0, 1]'),\n",
       " Text(67.61068103870652, 95.13, 'X[2] <= 7.5\\ngini = 0.444\\nsamples = 6\\nvalue = [4, 2]'),\n",
       " Text(67.39196472317492, 86.07, 'gini = 0.48\\nsamples = 5\\nvalue = [3, 2]'),\n",
       " Text(67.82939735423813, 86.07, 'gini = 0.0\\nsamples = 1\\nvalue = [1, 0]'),\n",
       " Text(67.82939735423813, 104.19, 'gini = 0.0\\nsamples = 3\\nvalue = [3, 0]'),\n",
       " Text(68.48554630083294, 113.24999999999999, 'X[5] <= 16.5\\ngini = 0.444\\nsamples = 3\\nvalue = [1, 2]'),\n",
       " Text(68.26682998530133, 104.19, 'gini = 0.0\\nsamples = 1\\nvalue = [1, 0]'),\n",
       " Text(68.70426261636453, 104.19, 'gini = 0.0\\nsamples = 2\\nvalue = [0, 2]'),\n",
       " Text(67.72003919647233, 131.37, 'gini = 0.0\\nsamples = 3\\nvalue = [3, 0]'),\n",
       " Text(74.19182079862813, 140.43, 'X[1] <= 29.5\\ngini = 0.488\\nsamples = 206\\nvalue = [87, 119]'),\n",
       " Text(70.28995590396865, 131.37, 'X[10] <= 0.5\\ngini = 0.449\\nsamples = 53\\nvalue = [18, 35]'),\n",
       " Text(70.07123958843705, 122.30999999999999, 'X[7] <= 0.5\\ngini = 0.44\\nsamples = 52\\nvalue = [17, 35]'),\n",
       " Text(69.36041156295934, 113.24999999999999, 'X[2] <= 11.0\\ngini = 0.48\\nsamples = 20\\nvalue = [8, 12]'),\n",
       " Text(69.14169524742773, 104.19, 'X[5] <= 18.5\\ngini = 0.498\\nsamples = 17\\nvalue = [8, 9]'),\n",
       " Text(68.92297893189614, 95.13, 'X[8] <= 0.5\\ngini = 0.492\\nsamples = 16\\nvalue = [7, 9]'),\n",
       " Text(68.70426261636453, 86.07, 'gini = 0.0\\nsamples = 1\\nvalue = [1, 0]'),\n",
       " Text(69.14169524742773, 86.07, 'X[4] <= 3.5\\ngini = 0.48\\nsamples = 15\\nvalue = [6, 9]'),\n",
       " Text(68.92297893189614, 77.00999999999999, 'X[3] <= 3.5\\ngini = 0.49\\nsamples = 14\\nvalue = [6, 8]'),\n",
       " Text(68.70426261636453, 67.94999999999999, 'X[3] <= 1.5\\ngini = 0.473\\nsamples = 13\\nvalue = [5, 8]'),\n",
       " Text(68.26682998530133, 58.889999999999986, 'X[2] <= 7.5\\ngini = 0.5\\nsamples = 8\\nvalue = [4, 4]'),\n",
       " Text(68.04811366976972, 49.829999999999984, 'X[0] <= 2.5\\ngini = 0.49\\nsamples = 7\\nvalue = [3, 4]'),\n",
       " Text(67.61068103870652, 40.76999999999998, 'X[5] <= 13.0\\ngini = 0.444\\nsamples = 3\\nvalue = [2, 1]'),\n",
       " Text(67.39196472317492, 31.70999999999998, 'gini = 0.0\\nsamples = 1\\nvalue = [0, 1]'),\n",
       " Text(67.82939735423813, 31.70999999999998, 'gini = 0.0\\nsamples = 2\\nvalue = [2, 0]'),\n",
       " Text(68.48554630083294, 40.76999999999998, 'X[5] <= 14.0\\ngini = 0.375\\nsamples = 4\\nvalue = [1, 3]'),\n",
       " Text(68.26682998530133, 31.70999999999998, 'gini = 0.5\\nsamples = 2\\nvalue = [1, 1]'),\n",
       " Text(68.70426261636453, 31.70999999999998, 'gini = 0.0\\nsamples = 2\\nvalue = [0, 2]'),\n",
       " Text(68.48554630083294, 49.829999999999984, 'gini = 0.0\\nsamples = 1\\nvalue = [1, 0]'),\n",
       " Text(69.14169524742773, 58.889999999999986, 'X[5] <= 16.5\\ngini = 0.32\\nsamples = 5\\nvalue = [1, 4]'),\n",
       " Text(68.92297893189614, 49.829999999999984, 'gini = 0.0\\nsamples = 2\\nvalue = [0, 2]'),\n",
       " Text(69.36041156295934, 49.829999999999984, 'X[2] <= 7.5\\ngini = 0.444\\nsamples = 3\\nvalue = [1, 2]'),\n",
       " Text(69.14169524742773, 40.76999999999998, 'gini = 0.0\\nsamples = 1\\nvalue = [0, 1]'),\n",
       " Text(69.57912787849094, 40.76999999999998, 'gini = 0.5\\nsamples = 2\\nvalue = [1, 1]'),\n",
       " Text(69.14169524742773, 67.94999999999999, 'gini = 0.0\\nsamples = 1\\nvalue = [1, 0]'),\n",
       " Text(69.36041156295934, 77.00999999999999, 'gini = 0.0\\nsamples = 1\\nvalue = [0, 1]'),\n",
       " Text(69.36041156295934, 95.13, 'gini = 0.0\\nsamples = 1\\nvalue = [1, 0]'),\n",
       " Text(69.57912787849094, 104.19, 'gini = 0.0\\nsamples = 3\\nvalue = [0, 3]'),\n",
       " Text(70.78206761391475, 113.24999999999999, 'X[5] <= 13.0\\ngini = 0.404\\nsamples = 32\\nvalue = [9, 23]'),\n",
       " Text(70.01656050955414, 104.19, 'X[0] <= 2.5\\ngini = 0.496\\nsamples = 11\\nvalue = [5, 6]'),\n",
       " Text(69.79784419402255, 95.13, 'gini = 0.0\\nsamples = 4\\nvalue = [0, 4]'),\n",
       " Text(70.23527682508575, 95.13, 'X[2] <= 7.5\\ngini = 0.408\\nsamples = 7\\nvalue = [5, 2]'),\n",
       " Text(70.01656050955414, 86.07, 'X[3] <= 1.5\\ngini = 0.444\\nsamples = 3\\nvalue = [1, 2]'),\n",
       " Text(69.79784419402255, 77.00999999999999, 'gini = 0.0\\nsamples = 1\\nvalue = [0, 1]'),\n",
       " Text(70.23527682508575, 77.00999999999999, 'gini = 0.5\\nsamples = 2\\nvalue = [1, 1]'),\n",
       " Text(70.45399314061736, 86.07, 'gini = 0.0\\nsamples = 4\\nvalue = [4, 0]'),\n",
       " Text(71.54757471827536, 104.19, 'X[3] <= 1.5\\ngini = 0.308\\nsamples = 21\\nvalue = [4, 17]'),\n",
       " Text(71.11014208721215, 95.13, 'X[2] <= 7.5\\ngini = 0.18\\nsamples = 10\\nvalue = [1, 9]'),\n",
       " Text(70.89142577168056, 86.07, 'X[4] <= 3.5\\ngini = 0.245\\nsamples = 7\\nvalue = [1, 6]'),\n",
       " Text(70.67270945614895, 77.00999999999999, 'gini = 0.278\\nsamples = 6\\nvalue = [1, 5]'),\n",
       " Text(71.11014208721215, 77.00999999999999, 'gini = 0.0\\nsamples = 1\\nvalue = [0, 1]'),\n",
       " Text(71.32885840274376, 86.07, 'gini = 0.0\\nsamples = 3\\nvalue = [0, 3]'),\n",
       " Text(71.98500734933856, 95.13, 'X[3] <= 2.5\\ngini = 0.397\\nsamples = 11\\nvalue = [3, 8]'),\n",
       " Text(71.76629103380697, 86.07, 'X[4] <= 3.5\\ngini = 0.444\\nsamples = 9\\nvalue = [3, 6]'),\n",
       " Text(71.54757471827536, 77.00999999999999, 'X[2] <= 7.5\\ngini = 0.49\\nsamples = 7\\nvalue = [3, 4]'),\n",
       " Text(71.11014208721215, 67.94999999999999, 'X[0] <= 2.5\\ngini = 0.5\\nsamples = 4\\nvalue = [2, 2]'),\n",
       " Text(70.89142577168056, 58.889999999999986, 'gini = 0.0\\nsamples = 1\\nvalue = [0, 1]'),\n",
       " Text(71.32885840274376, 58.889999999999986, 'gini = 0.444\\nsamples = 3\\nvalue = [2, 1]'),\n",
       " Text(71.98500734933856, 67.94999999999999, 'X[0] <= 2.5\\ngini = 0.444\\nsamples = 3\\nvalue = [1, 2]'),\n",
       " Text(71.76629103380697, 58.889999999999986, 'gini = 0.0\\nsamples = 1\\nvalue = [1, 0]'),\n",
       " Text(72.20372366487017, 58.889999999999986, 'gini = 0.0\\nsamples = 2\\nvalue = [0, 2]'),\n",
       " Text(71.98500734933856, 77.00999999999999, 'gini = 0.0\\nsamples = 2\\nvalue = [0, 2]'),\n",
       " Text(72.20372366487017, 86.07, 'gini = 0.0\\nsamples = 2\\nvalue = [0, 2]'),\n",
       " Text(70.50867221950026, 122.30999999999999, 'gini = 0.0\\nsamples = 1\\nvalue = [1, 0]'),\n",
       " Text(78.09368569328761, 131.37, 'X[2] <= 14.75\\ngini = 0.495\\nsamples = 153\\nvalue = [69, 84]'),\n",
       " Text(74.09015188633023, 122.30999999999999, 'X[3] <= 3.5\\ngini = 0.484\\nsamples = 39\\nvalue = [23, 16]'),\n",
       " Text(73.87143557079864, 113.24999999999999, 'X[3] <= 1.5\\ngini = 0.494\\nsamples = 36\\nvalue = [20, 16]'),\n",
       " Text(72.64115629593337, 104.19, 'X[5] <= 18.5\\ngini = 0.278\\nsamples = 6\\nvalue = [5, 1]'),\n",
       " Text(72.42243998040178, 95.13, 'gini = 0.0\\nsamples = 3\\nvalue = [3, 0]'),\n",
       " Text(72.85987261146498, 95.13, 'X[0] <= 2.5\\ngini = 0.444\\nsamples = 3\\nvalue = [2, 1]'),\n",
       " Text(72.64115629593337, 86.07, 'gini = 0.0\\nsamples = 1\\nvalue = [1, 0]'),\n",
       " Text(73.07858892699657, 86.07, 'X[1] <= 34.5\\ngini = 0.5\\nsamples = 2\\nvalue = [1, 1]'),\n",
       " Text(72.85987261146498, 77.00999999999999, 'gini = 0.0\\nsamples = 1\\nvalue = [0, 1]'),\n",
       " Text(73.29730524252818, 77.00999999999999, 'gini = 0.0\\nsamples = 1\\nvalue = [1, 0]'),\n",
       " Text(75.10171484566389, 104.19, 'X[1] <= 39.5\\ngini = 0.5\\nsamples = 30\\nvalue = [15, 15]'),\n",
       " Text(74.8829985301323, 95.13, 'X[5] <= 16.5\\ngini = 0.497\\nsamples = 28\\nvalue = [13, 15]'),\n",
       " Text(74.28152866242038, 86.07, 'X[5] <= 15.0\\ngini = 0.499\\nsamples = 23\\nvalue = [12, 11]'),\n",
       " Text(73.73473787359138, 77.00999999999999, 'X[0] <= 2.5\\ngini = 0.48\\nsamples = 15\\nvalue = [6, 9]'),\n",
       " Text(73.29730524252818, 67.94999999999999, 'X[2] <= 11.0\\ngini = 0.444\\nsamples = 6\\nvalue = [4, 2]'),\n",
       " Text(73.07858892699657, 58.889999999999986, 'gini = 0.0\\nsamples = 3\\nvalue = [3, 0]'),\n",
       " Text(73.51602155805978, 58.889999999999986, 'X[1] <= 34.5\\ngini = 0.444\\nsamples = 3\\nvalue = [1, 2]'),\n",
       " Text(73.29730524252818, 49.829999999999984, 'gini = 0.5\\nsamples = 2\\nvalue = [1, 1]'),\n",
       " Text(73.73473787359138, 49.829999999999984, 'gini = 0.0\\nsamples = 1\\nvalue = [0, 1]'),\n",
       " Text(74.17217050465459, 67.94999999999999, 'X[3] <= 2.5\\ngini = 0.346\\nsamples = 9\\nvalue = [2, 7]'),\n",
       " Text(73.95345418912298, 58.889999999999986, 'gini = 0.0\\nsamples = 5\\nvalue = [0, 5]'),\n",
       " Text(74.39088682018618, 58.889999999999986, 'X[2] <= 11.0\\ngini = 0.5\\nsamples = 4\\nvalue = [2, 2]'),\n",
       " Text(74.17217050465459, 49.829999999999984, 'X[7] <= 0.5\\ngini = 0.444\\nsamples = 3\\nvalue = [1, 2]'),\n",
       " Text(73.95345418912298, 40.76999999999998, 'gini = 0.0\\nsamples = 1\\nvalue = [0, 1]'),\n",
       " Text(74.39088682018618, 40.76999999999998, 'gini = 0.5\\nsamples = 2\\nvalue = [1, 1]'),\n",
       " Text(74.60960313571779, 49.829999999999984, 'gini = 0.0\\nsamples = 1\\nvalue = [1, 0]'),\n",
       " Text(74.8283194512494, 77.00999999999999, 'X[0] <= 2.5\\ngini = 0.375\\nsamples = 8\\nvalue = [6, 2]'),\n",
       " Text(74.60960313571779, 67.94999999999999, 'gini = 0.0\\nsamples = 1\\nvalue = [0, 1]'),\n",
       " Text(75.047035766781, 67.94999999999999, 'X[7] <= 0.5\\ngini = 0.245\\nsamples = 7\\nvalue = [6, 1]'),\n",
       " Text(74.8283194512494, 58.889999999999986, 'gini = 0.0\\nsamples = 5\\nvalue = [5, 0]'),\n",
       " Text(75.2657520823126, 58.889999999999986, 'X[2] <= 11.0\\ngini = 0.5\\nsamples = 2\\nvalue = [1, 1]'),\n",
       " Text(75.047035766781, 49.829999999999984, 'gini = 0.0\\nsamples = 1\\nvalue = [0, 1]'),\n",
       " Text(75.4844683978442, 49.829999999999984, 'gini = 0.0\\nsamples = 1\\nvalue = [1, 0]'),\n",
       " Text(75.4844683978442, 86.07, 'X[2] <= 7.5\\ngini = 0.32\\nsamples = 5\\nvalue = [1, 4]'),\n",
       " Text(75.2657520823126, 77.00999999999999, 'gini = 0.0\\nsamples = 1\\nvalue = [1, 0]'),\n",
       " Text(75.7031847133758, 77.00999999999999, 'gini = 0.0\\nsamples = 4\\nvalue = [0, 4]'),\n",
       " Text(75.3204311611955, 95.13, 'gini = 0.0\\nsamples = 2\\nvalue = [2, 0]'),\n",
       " Text(74.30886820186184, 113.24999999999999, 'gini = 0.0\\nsamples = 3\\nvalue = [3, 0]'),\n",
       " Text(82.09721950024499, 122.30999999999999, 'X[5] <= 16.5\\ngini = 0.481\\nsamples = 114\\nvalue = [46, 68]'),\n",
       " Text(80.13902498775111, 113.24999999999999, 'X[3] <= 2.5\\ngini = 0.489\\nsamples = 103\\nvalue = [44, 59]'),\n",
       " Text(76.87878490935816, 104.19, 'X[7] <= 0.5\\ngini = 0.438\\nsamples = 34\\nvalue = [11, 23]'),\n",
       " Text(76.66006859382657, 95.13, 'gini = 0.0\\nsamples = 6\\nvalue = [0, 6]'),\n",
       " Text(77.09750122488977, 95.13, 'X[3] <= 1.5\\ngini = 0.477\\nsamples = 28\\nvalue = [11, 17]'),\n",
       " Text(76.3593336599706, 86.07, 'X[0] <= 2.5\\ngini = 0.375\\nsamples = 4\\nvalue = [1, 3]'),\n",
       " Text(76.14061734443901, 77.00999999999999, 'gini = 0.0\\nsamples = 1\\nvalue = [1, 0]'),\n",
       " Text(76.57804997550221, 77.00999999999999, 'gini = 0.0\\nsamples = 3\\nvalue = [0, 3]'),\n",
       " Text(77.83566878980892, 86.07, 'X[1] <= 34.5\\ngini = 0.486\\nsamples = 24\\nvalue = [10, 14]'),\n",
       " Text(77.01548260656541, 77.00999999999999, 'X[0] <= 2.5\\ngini = 0.375\\nsamples = 4\\nvalue = [1, 3]'),\n",
       " Text(76.79676629103382, 67.94999999999999, 'gini = 0.0\\nsamples = 1\\nvalue = [1, 0]'),\n",
       " Text(77.23419892209702, 67.94999999999999, 'gini = 0.0\\nsamples = 3\\nvalue = [0, 3]'),\n",
       " Text(78.65585497305243, 77.00999999999999, 'X[0] <= 2.5\\ngini = 0.495\\nsamples = 20\\nvalue = [9, 11]'),\n",
       " Text(77.67163155316022, 67.94999999999999, 'X[1] <= 39.5\\ngini = 0.408\\nsamples = 7\\nvalue = [2, 5]'),\n",
       " Text(77.45291523762862, 58.889999999999986, 'gini = 0.0\\nsamples = 3\\nvalue = [0, 3]'),\n",
       " Text(77.89034786869182, 58.889999999999986, 'X[5] <= 13.0\\ngini = 0.5\\nsamples = 4\\nvalue = [2, 2]'),\n",
       " Text(77.67163155316022, 49.829999999999984, 'gini = 0.0\\nsamples = 1\\nvalue = [0, 1]'),\n",
       " Text(78.10906418422343, 49.829999999999984, 'X[2] <= 19.75\\ngini = 0.444\\nsamples = 3\\nvalue = [2, 1]'),\n",
       " Text(77.89034786869182, 40.76999999999998, 'gini = 0.0\\nsamples = 1\\nvalue = [1, 0]'),\n",
       " Text(78.32778049975502, 40.76999999999998, 'gini = 0.5\\nsamples = 2\\nvalue = [1, 1]'),\n",
       " Text(79.64007839294464, 67.94999999999999, 'X[1] <= 39.5\\ngini = 0.497\\nsamples = 13\\nvalue = [7, 6]'),\n",
       " Text(79.20264576188144, 58.889999999999986, 'X[5] <= 15.0\\ngini = 0.444\\nsamples = 6\\nvalue = [4, 2]'),\n",
       " Text(78.98392944634983, 49.829999999999984, 'X[5] <= 13.0\\ngini = 0.32\\nsamples = 5\\nvalue = [4, 1]'),\n",
       " Text(78.76521313081824, 40.76999999999998, 'gini = 0.444\\nsamples = 3\\nvalue = [2, 1]'),\n",
       " Text(79.20264576188144, 40.76999999999998, 'gini = 0.0\\nsamples = 2\\nvalue = [2, 0]'),\n",
       " Text(79.42136207741304, 49.829999999999984, 'gini = 0.0\\nsamples = 1\\nvalue = [0, 1]'),\n",
       " Text(80.07751102400785, 58.889999999999986, 'X[5] <= 15.0\\ngini = 0.49\\nsamples = 7\\nvalue = [3, 4]'),\n",
       " Text(79.85879470847624, 49.829999999999984, 'X[2] <= 19.75\\ngini = 0.444\\nsamples = 6\\nvalue = [2, 4]'),\n",
       " Text(79.64007839294464, 40.76999999999998, 'gini = 0.0\\nsamples = 1\\nvalue = [0, 1]'),\n",
       " Text(80.07751102400785, 40.76999999999998, 'X[4] <= 3.5\\ngini = 0.48\\nsamples = 5\\nvalue = [2, 3]'),\n",
       " Text(79.85879470847624, 31.70999999999998, 'X[5] <= 13.0\\ngini = 0.5\\nsamples = 4\\nvalue = [2, 2]'),\n",
       " Text(79.64007839294464, 22.649999999999977, 'gini = 0.444\\nsamples = 3\\nvalue = [1, 2]'),\n",
       " Text(80.07751102400785, 22.649999999999977, 'gini = 0.0\\nsamples = 1\\nvalue = [1, 0]'),\n",
       " Text(80.29622733953944, 31.70999999999998, 'gini = 0.0\\nsamples = 1\\nvalue = [0, 1]'),\n",
       " Text(80.29622733953944, 49.829999999999984, 'gini = 0.0\\nsamples = 1\\nvalue = [1, 0]'),\n",
       " Text(83.39926506614405, 104.19, 'X[5] <= 10.5\\ngini = 0.499\\nsamples = 69\\nvalue = [33, 36]'),\n",
       " Text(83.18054875061245, 95.13, 'gini = 0.0\\nsamples = 2\\nvalue = [0, 2]'),\n",
       " Text(83.61798138167566, 95.13, 'X[10] <= 0.5\\ngini = 0.5\\nsamples = 67\\nvalue = [33, 34]'),\n",
       " Text(83.39926506614405, 86.07, 'X[1] <= 34.5\\ngini = 0.5\\nsamples = 66\\nvalue = [33, 33]'),\n",
       " Text(82.04595786379227, 77.00999999999999, 'X[5] <= 15.0\\ngini = 0.473\\nsamples = 13\\nvalue = [5, 8]'),\n",
       " Text(81.82724154826066, 67.94999999999999, 'X[4] <= 3.5\\ngini = 0.444\\nsamples = 12\\nvalue = [4, 8]'),\n",
       " Text(81.60852523272906, 58.889999999999986, 'X[8] <= 0.5\\ngini = 0.48\\nsamples = 10\\nvalue = [4, 6]'),\n",
       " Text(81.17109260166586, 49.829999999999984, 'X[3] <= 3.5\\ngini = 0.408\\nsamples = 7\\nvalue = [2, 5]'),\n",
       " Text(80.95237628613425, 40.76999999999998, 'X[2] <= 19.75\\ngini = 0.48\\nsamples = 5\\nvalue = [2, 3]'),\n",
       " Text(80.73365997060266, 31.70999999999998, 'X[5] <= 13.0\\ngini = 0.5\\nsamples = 4\\nvalue = [2, 2]'),\n",
       " Text(80.51494365507105, 22.649999999999977, 'gini = 0.5\\nsamples = 2\\nvalue = [1, 1]'),\n",
       " Text(80.95237628613425, 22.649999999999977, 'gini = 0.5\\nsamples = 2\\nvalue = [1, 1]'),\n",
       " Text(81.17109260166586, 31.70999999999998, 'gini = 0.0\\nsamples = 1\\nvalue = [0, 1]'),\n",
       " Text(81.38980891719746, 40.76999999999998, 'gini = 0.0\\nsamples = 2\\nvalue = [0, 2]'),\n",
       " Text(82.04595786379227, 49.829999999999984, 'X[3] <= 3.5\\ngini = 0.444\\nsamples = 3\\nvalue = [2, 1]'),\n",
       " Text(81.82724154826066, 40.76999999999998, 'X[5] <= 13.0\\ngini = 0.5\\nsamples = 2\\nvalue = [1, 1]'),\n",
       " Text(81.60852523272906, 31.70999999999998, 'gini = 0.0\\nsamples = 1\\nvalue = [1, 0]'),\n",
       " Text(82.04595786379227, 31.70999999999998, 'gini = 0.0\\nsamples = 1\\nvalue = [0, 1]'),\n",
       " Text(82.26467417932386, 40.76999999999998, 'gini = 0.0\\nsamples = 1\\nvalue = [1, 0]'),\n",
       " Text(82.04595786379227, 58.889999999999986, 'gini = 0.0\\nsamples = 2\\nvalue = [0, 2]'),\n",
       " Text(82.26467417932386, 67.94999999999999, 'gini = 0.0\\nsamples = 1\\nvalue = [1, 0]'),\n",
       " Text(84.75257226849584, 77.00999999999999, 'X[0] <= 2.5\\ngini = 0.498\\nsamples = 53\\nvalue = [28, 25]'),\n",
       " Text(83.13953944145028, 67.94999999999999, 'X[2] <= 19.75\\ngini = 0.473\\nsamples = 13\\nvalue = [5, 8]'),\n",
       " Text(82.70210681038708, 58.889999999999986, 'X[1] <= 39.5\\ngini = 0.375\\nsamples = 4\\nvalue = [3, 1]'),\n",
       " Text(82.48339049485547, 49.829999999999984, 'gini = 0.0\\nsamples = 2\\nvalue = [2, 0]'),\n",
       " Text(82.92082312591867, 49.829999999999984, 'X[5] <= 13.0\\ngini = 0.5\\nsamples = 2\\nvalue = [1, 1]'),\n",
       " Text(82.70210681038708, 40.76999999999998, 'gini = 0.0\\nsamples = 1\\nvalue = [0, 1]'),\n",
       " Text(83.13953944145028, 40.76999999999998, 'gini = 0.0\\nsamples = 1\\nvalue = [1, 0]'),\n",
       " Text(83.57697207251348, 58.889999999999986, 'X[3] <= 3.5\\ngini = 0.346\\nsamples = 9\\nvalue = [2, 7]'),\n",
       " Text(83.35825575698188, 49.829999999999984, 'gini = 0.0\\nsamples = 6\\nvalue = [0, 6]'),\n",
       " Text(83.79568838804508, 49.829999999999984, 'X[5] <= 13.0\\ngini = 0.444\\nsamples = 3\\nvalue = [2, 1]'),\n",
       " Text(83.57697207251348, 40.76999999999998, 'gini = 0.0\\nsamples = 2\\nvalue = [2, 0]'),\n",
       " Text(84.01440470357669, 40.76999999999998, 'gini = 0.0\\nsamples = 1\\nvalue = [0, 1]'),\n",
       " Text(86.36560509554141, 67.94999999999999, 'X[3] <= 4.75\\ngini = 0.489\\nsamples = 40\\nvalue = [23, 17]'),\n",
       " Text(85.6547770700637, 58.889999999999986, 'X[1] <= 39.5\\ngini = 0.478\\nsamples = 33\\nvalue = [20, 13]'),\n",
       " Text(84.8892699657031, 49.829999999999984, 'X[7] <= 0.5\\ngini = 0.499\\nsamples = 19\\nvalue = [9, 10]'),\n",
       " Text(84.45183733463989, 40.76999999999998, 'X[4] <= 3.5\\ngini = 0.278\\nsamples = 6\\nvalue = [5, 1]'),\n",
       " Text(84.23312101910828, 31.70999999999998, 'X[2] <= 19.75\\ngini = 0.375\\nsamples = 4\\nvalue = [3, 1]'),\n",
       " Text(84.01440470357669, 22.649999999999977, 'X[3] <= 3.5\\ngini = 0.5\\nsamples = 2\\nvalue = [1, 1]'),\n",
       " Text(83.79568838804508, 13.589999999999975, 'gini = 0.0\\nsamples = 1\\nvalue = [0, 1]'),\n",
       " Text(84.23312101910828, 13.589999999999975, 'gini = 0.0\\nsamples = 1\\nvalue = [1, 0]'),\n",
       " Text(84.45183733463989, 22.649999999999977, 'gini = 0.0\\nsamples = 2\\nvalue = [2, 0]'),\n",
       " Text(84.67055365017148, 31.70999999999998, 'gini = 0.0\\nsamples = 2\\nvalue = [2, 0]'),\n",
       " Text(85.3267025967663, 40.76999999999998, 'X[5] <= 13.0\\ngini = 0.426\\nsamples = 13\\nvalue = [4, 9]'),\n",
       " Text(85.1079862812347, 31.70999999999998, 'X[4] <= 3.5\\ngini = 0.48\\nsamples = 10\\nvalue = [4, 6]'),\n",
       " Text(84.8892699657031, 22.649999999999977, 'X[3] <= 3.5\\ngini = 0.5\\nsamples = 8\\nvalue = [4, 4]'),\n",
       " Text(84.67055365017148, 13.589999999999975, 'X[2] <= 19.75\\ngini = 0.49\\nsamples = 7\\nvalue = [4, 3]'),\n",
       " Text(84.45183733463989, 4.529999999999973, 'gini = 0.5\\nsamples = 4\\nvalue = [2, 2]'),\n",
       " Text(84.8892699657031, 4.529999999999973, 'gini = 0.444\\nsamples = 3\\nvalue = [2, 1]'),\n",
       " Text(85.1079862812347, 13.589999999999975, 'gini = 0.0\\nsamples = 1\\nvalue = [0, 1]'),\n",
       " Text(85.3267025967663, 22.649999999999977, 'gini = 0.0\\nsamples = 2\\nvalue = [0, 2]'),\n",
       " Text(85.5454189122979, 31.70999999999998, 'gini = 0.0\\nsamples = 3\\nvalue = [0, 3]'),\n",
       " Text(86.42028417442431, 49.829999999999984, 'X[8] <= 0.5\\ngini = 0.337\\nsamples = 14\\nvalue = [11, 3]'),\n",
       " Text(86.2015678588927, 40.76999999999998, 'X[4] <= 3.5\\ngini = 0.153\\nsamples = 12\\nvalue = [11, 1]'),\n",
       " Text(85.98285154336111, 31.70999999999998, 'gini = 0.0\\nsamples = 8\\nvalue = [8, 0]'),\n",
       " Text(86.42028417442431, 31.70999999999998, 'X[5] <= 13.0\\ngini = 0.375\\nsamples = 4\\nvalue = [3, 1]'),\n",
       " Text(86.2015678588927, 22.649999999999977, 'gini = 0.0\\nsamples = 2\\nvalue = [2, 0]'),\n",
       " Text(86.6390004899559, 22.649999999999977, 'X[5] <= 15.0\\ngini = 0.5\\nsamples = 2\\nvalue = [1, 1]'),\n",
       " Text(86.42028417442431, 13.589999999999975, 'gini = 0.0\\nsamples = 1\\nvalue = [0, 1]'),\n",
       " Text(86.85771680548751, 13.589999999999975, 'gini = 0.0\\nsamples = 1\\nvalue = [1, 0]'),\n",
       " Text(86.6390004899559, 40.76999999999998, 'gini = 0.0\\nsamples = 2\\nvalue = [0, 2]'),\n",
       " Text(87.07643312101912, 58.889999999999986, 'X[1] <= 39.5\\ngini = 0.49\\nsamples = 7\\nvalue = [3, 4]'),\n",
       " Text(86.85771680548751, 49.829999999999984, 'gini = 0.0\\nsamples = 2\\nvalue = [2, 0]'),\n",
       " Text(87.29514943655072, 49.829999999999984, 'X[5] <= 13.0\\ngini = 0.32\\nsamples = 5\\nvalue = [1, 4]'),\n",
       " Text(87.07643312101912, 40.76999999999998, 'gini = 0.0\\nsamples = 1\\nvalue = [0, 1]'),\n",
       " Text(87.51386575208232, 40.76999999999998, 'gini = 0.375\\nsamples = 4\\nvalue = [1, 3]'),\n",
       " Text(83.83669769720726, 86.07, 'gini = 0.0\\nsamples = 1\\nvalue = [0, 1]'),\n",
       " Text(84.05541401273886, 113.24999999999999, 'X[4] <= 3.5\\ngini = 0.298\\nsamples = 11\\nvalue = [2, 9]'),\n",
       " Text(83.83669769720726, 104.19, 'gini = 0.0\\nsamples = 7\\nvalue = [0, 7]'),\n",
       " Text(84.27413032827046, 104.19, 'X[8] <= 0.5\\ngini = 0.5\\nsamples = 4\\nvalue = [2, 2]'),\n",
       " Text(84.05541401273886, 95.13, 'gini = 0.0\\nsamples = 2\\nvalue = [2, 0]'),\n",
       " Text(84.49284664380207, 95.13, 'gini = 0.0\\nsamples = 2\\nvalue = [0, 2]'),\n",
       " Text(87.51386575208232, 149.49, 'X[2] <= 7.5\\ngini = 0.434\\nsamples = 44\\nvalue = [14, 30]'),\n",
       " Text(86.96707496325331, 140.43, 'X[3] <= 1.5\\ngini = 0.408\\nsamples = 7\\nvalue = [5, 2]'),\n",
       " Text(86.74835864772172, 131.37, 'X[0] <= 2.5\\ngini = 0.5\\nsamples = 4\\nvalue = [2, 2]'),\n",
       " Text(86.52964233219011, 122.30999999999999, 'gini = 0.0\\nsamples = 1\\nvalue = [1, 0]'),\n",
       " Text(86.96707496325331, 122.30999999999999, 'X[5] <= 15.0\\ngini = 0.444\\nsamples = 3\\nvalue = [1, 2]'),\n",
       " Text(86.74835864772172, 113.24999999999999, 'gini = 0.0\\nsamples = 1\\nvalue = [1, 0]'),\n",
       " Text(87.18579127878492, 113.24999999999999, 'gini = 0.0\\nsamples = 2\\nvalue = [0, 2]'),\n",
       " Text(87.18579127878492, 131.37, 'gini = 0.0\\nsamples = 3\\nvalue = [3, 0]'),\n",
       " Text(88.06065654091132, 140.43, 'X[1] <= 34.5\\ngini = 0.368\\nsamples = 37\\nvalue = [9, 28]'),\n",
       " Text(87.84194022537972, 131.37, 'gini = 0.0\\nsamples = 14\\nvalue = [0, 14]'),\n",
       " Text(88.27937285644293, 131.37, 'X[5] <= 16.5\\ngini = 0.476\\nsamples = 23\\nvalue = [9, 14]'),\n",
       " Text(87.84194022537972, 122.30999999999999, 'X[5] <= 15.0\\ngini = 0.455\\nsamples = 20\\nvalue = [7, 13]'),\n",
       " Text(87.62322390984812, 113.24999999999999, 'X[1] <= 39.5\\ngini = 0.492\\nsamples = 16\\nvalue = [7, 9]'),\n",
       " Text(87.07643312101912, 104.19, 'X[4] <= 3.5\\ngini = 0.42\\nsamples = 10\\nvalue = [3, 7]'),\n",
       " Text(86.85771680548751, 95.13, 'X[2] <= 19.75\\ngini = 0.49\\nsamples = 7\\nvalue = [3, 4]'),\n",
       " Text(86.42028417442431, 86.07, 'X[5] <= 13.0\\ngini = 0.444\\nsamples = 3\\nvalue = [2, 1]'),\n",
       " Text(86.2015678588927, 77.00999999999999, 'gini = 0.0\\nsamples = 1\\nvalue = [1, 0]'),\n",
       " Text(86.6390004899559, 77.00999999999999, 'gini = 0.5\\nsamples = 2\\nvalue = [1, 1]'),\n",
       " Text(87.29514943655072, 86.07, 'X[3] <= 2.5\\ngini = 0.375\\nsamples = 4\\nvalue = [1, 3]'),\n",
       " Text(87.07643312101912, 77.00999999999999, 'gini = 0.0\\nsamples = 1\\nvalue = [0, 1]'),\n",
       " Text(87.51386575208232, 77.00999999999999, 'X[0] <= 2.5\\ngini = 0.444\\nsamples = 3\\nvalue = [1, 2]'),\n",
       " Text(87.29514943655072, 67.94999999999999, 'gini = 0.0\\nsamples = 1\\nvalue = [0, 1]'),\n",
       " Text(87.73258206761392, 67.94999999999999, 'X[3] <= 3.5\\ngini = 0.5\\nsamples = 2\\nvalue = [1, 1]'),\n",
       " Text(87.51386575208232, 58.889999999999986, 'gini = 0.0\\nsamples = 1\\nvalue = [1, 0]'),\n",
       " Text(87.95129838314553, 58.889999999999986, 'gini = 0.0\\nsamples = 1\\nvalue = [0, 1]'),\n",
       " Text(87.29514943655072, 95.13, 'gini = 0.0\\nsamples = 3\\nvalue = [0, 3]'),\n",
       " Text(88.17001469867712, 104.19, 'X[5] <= 13.0\\ngini = 0.444\\nsamples = 6\\nvalue = [4, 2]'),\n",
       " Text(87.95129838314553, 95.13, 'X[0] <= 2.5\\ngini = 0.444\\nsamples = 3\\nvalue = [1, 2]'),\n",
       " Text(87.73258206761392, 86.07, 'gini = 0.0\\nsamples = 1\\nvalue = [0, 1]'),\n",
       " Text(88.17001469867712, 86.07, 'X[3] <= 4.25\\ngini = 0.5\\nsamples = 2\\nvalue = [1, 1]'),\n",
       " Text(87.95129838314553, 77.00999999999999, 'gini = 0.0\\nsamples = 1\\nvalue = [1, 0]'),\n",
       " Text(88.38873101420873, 77.00999999999999, 'gini = 0.0\\nsamples = 1\\nvalue = [0, 1]'),\n",
       " Text(88.38873101420873, 95.13, 'gini = 0.0\\nsamples = 3\\nvalue = [3, 0]'),\n",
       " Text(88.06065654091132, 113.24999999999999, 'gini = 0.0\\nsamples = 4\\nvalue = [0, 4]'),\n",
       " Text(88.71680548750614, 122.30999999999999, 'X[3] <= 0.5\\ngini = 0.444\\nsamples = 3\\nvalue = [2, 1]'),\n",
       " Text(88.49808917197453, 113.24999999999999, 'gini = 0.0\\nsamples = 1\\nvalue = [0, 1]'),\n",
       " Text(88.93552180303773, 113.24999999999999, 'gini = 0.0\\nsamples = 2\\nvalue = [2, 0]'),\n",
       " Text(98.06692797648212, 185.73, 'X[4] <= 3.5\\ngini = 0.498\\nsamples = 126\\nvalue = [59, 67]'),\n",
       " Text(94.40342969132779, 176.67, 'X[0] <= 2.5\\ngini = 0.494\\nsamples = 115\\nvalue = [51, 64]'),\n",
       " Text(90.73993140617345, 167.60999999999999, 'X[2] <= 19.75\\ngini = 0.45\\nsamples = 38\\nvalue = [13, 25]'),\n",
       " Text(89.70102890739834, 158.55, 'X[4] <= 1.5\\ngini = 0.375\\nsamples = 28\\nvalue = [7, 21]'),\n",
       " Text(89.15423811856934, 149.49, 'X[0] <= 1.5\\ngini = 0.375\\nsamples = 4\\nvalue = [3, 1]'),\n",
       " Text(88.93552180303773, 140.43, 'X[5] <= 13.0\\ngini = 0.5\\nsamples = 2\\nvalue = [1, 1]'),\n",
       " Text(88.71680548750614, 131.37, 'gini = 0.0\\nsamples = 1\\nvalue = [0, 1]'),\n",
       " Text(89.15423811856934, 131.37, 'gini = 0.0\\nsamples = 1\\nvalue = [1, 0]'),\n",
       " Text(89.37295443410093, 140.43, 'gini = 0.0\\nsamples = 2\\nvalue = [2, 0]'),\n",
       " Text(90.24781969622735, 149.49, 'X[5] <= 15.0\\ngini = 0.278\\nsamples = 24\\nvalue = [4, 20]'),\n",
       " Text(89.81038706516414, 140.43, 'X[3] <= 0.5\\ngini = 0.172\\nsamples = 21\\nvalue = [2, 19]'),\n",
       " Text(89.59167074963254, 131.37, 'gini = 0.0\\nsamples = 1\\nvalue = [1, 0]'),\n",
       " Text(90.02910338069574, 131.37, 'X[3] <= 4.75\\ngini = 0.095\\nsamples = 20\\nvalue = [1, 19]'),\n",
       " Text(89.81038706516414, 122.30999999999999, 'gini = 0.0\\nsamples = 17\\nvalue = [0, 17]'),\n",
       " Text(90.24781969622735, 122.30999999999999, 'X[2] <= 14.75\\ngini = 0.444\\nsamples = 3\\nvalue = [1, 2]'),\n",
       " Text(90.02910338069574, 113.24999999999999, 'gini = 0.0\\nsamples = 1\\nvalue = [1, 0]'),\n",
       " Text(90.46653601175895, 113.24999999999999, 'gini = 0.0\\nsamples = 2\\nvalue = [0, 2]'),\n",
       " Text(90.68525232729056, 140.43, 'X[2] <= 7.5\\ngini = 0.444\\nsamples = 3\\nvalue = [2, 1]'),\n",
       " Text(90.46653601175895, 131.37, 'gini = 0.0\\nsamples = 2\\nvalue = [2, 0]'),\n",
       " Text(90.90396864282215, 131.37, 'gini = 0.0\\nsamples = 1\\nvalue = [0, 1]'),\n",
       " Text(91.77883390494856, 158.55, 'X[1] <= 39.5\\ngini = 0.48\\nsamples = 10\\nvalue = [6, 4]'),\n",
       " Text(91.56011758941696, 149.49, 'gini = 0.0\\nsamples = 1\\nvalue = [0, 1]'),\n",
       " Text(91.99755022048016, 149.49, 'X[4] <= 2.5\\ngini = 0.444\\nsamples = 9\\nvalue = [6, 3]'),\n",
       " Text(91.56011758941696, 140.43, 'X[0] <= 1.5\\ngini = 0.444\\nsamples = 3\\nvalue = [1, 2]'),\n",
       " Text(91.34140127388535, 131.37, 'gini = 0.0\\nsamples = 2\\nvalue = [0, 2]'),\n",
       " Text(91.77883390494856, 131.37, 'gini = 0.0\\nsamples = 1\\nvalue = [1, 0]'),\n",
       " Text(92.43498285154337, 140.43, 'X[3] <= 4.75\\ngini = 0.278\\nsamples = 6\\nvalue = [5, 1]'),\n",
       " Text(92.21626653601177, 131.37, 'gini = 0.0\\nsamples = 3\\nvalue = [3, 0]'),\n",
       " Text(92.65369916707498, 131.37, 'X[5] <= 13.0\\ngini = 0.444\\nsamples = 3\\nvalue = [2, 1]'),\n",
       " Text(92.43498285154337, 122.30999999999999, 'gini = 0.0\\nsamples = 1\\nvalue = [1, 0]'),\n",
       " Text(92.87241548260657, 122.30999999999999, 'X[0] <= 1.5\\ngini = 0.5\\nsamples = 2\\nvalue = [1, 1]'),\n",
       " Text(92.65369916707498, 113.24999999999999, 'gini = 0.0\\nsamples = 1\\nvalue = [1, 0]'),\n",
       " Text(93.09113179813818, 113.24999999999999, 'gini = 0.0\\nsamples = 1\\nvalue = [0, 1]'),\n",
       " Text(98.06692797648212, 167.60999999999999, 'X[2] <= 14.75\\ngini = 0.5\\nsamples = 77\\nvalue = [38, 39]'),\n",
       " Text(96.5359137677609, 158.55, 'X[2] <= 11.0\\ngini = 0.49\\nsamples = 42\\nvalue = [24, 18]'),\n",
       " Text(95.1689367956884, 149.49, 'X[2] <= 7.5\\ngini = 0.499\\nsamples = 31\\nvalue = [16, 15]'),\n",
       " Text(94.40342969132779, 140.43, 'X[3] <= 2.5\\ngini = 0.475\\nsamples = 18\\nvalue = [11, 7]'),\n",
       " Text(94.18471337579619, 131.37, 'X[1] <= 29.5\\ngini = 0.43\\nsamples = 16\\nvalue = [11, 5]'),\n",
       " Text(93.96599706026458, 122.30999999999999, 'X[3] <= 0.5\\ngini = 0.459\\nsamples = 14\\nvalue = [9, 5]'),\n",
       " Text(93.52856442920138, 113.24999999999999, 'X[4] <= 1.5\\ngini = 0.444\\nsamples = 3\\nvalue = [1, 2]'),\n",
       " Text(93.30984811366977, 104.19, 'gini = 0.0\\nsamples = 1\\nvalue = [1, 0]'),\n",
       " Text(93.74728074473298, 104.19, 'gini = 0.0\\nsamples = 2\\nvalue = [0, 2]'),\n",
       " Text(94.40342969132779, 113.24999999999999, 'X[5] <= 10.5\\ngini = 0.397\\nsamples = 11\\nvalue = [8, 3]'),\n",
       " Text(94.18471337579619, 104.19, 'gini = 0.5\\nsamples = 2\\nvalue = [1, 1]'),\n",
       " Text(94.6221460068594, 104.19, 'X[4] <= 2.5\\ngini = 0.346\\nsamples = 9\\nvalue = [7, 2]'),\n",
       " Text(94.40342969132779, 95.13, 'gini = 0.0\\nsamples = 3\\nvalue = [3, 0]'),\n",
       " Text(94.84086232239099, 95.13, 'X[5] <= 13.0\\ngini = 0.444\\nsamples = 6\\nvalue = [4, 2]'),\n",
       " Text(94.6221460068594, 86.07, 'X[3] <= 1.5\\ngini = 0.32\\nsamples = 5\\nvalue = [4, 1]'),\n",
       " Text(94.40342969132779, 77.00999999999999, 'gini = 0.0\\nsamples = 2\\nvalue = [2, 0]'),\n",
       " Text(94.84086232239099, 77.00999999999999, 'gini = 0.444\\nsamples = 3\\nvalue = [2, 1]'),\n",
       " Text(95.0595786379226, 86.07, 'gini = 0.0\\nsamples = 1\\nvalue = [0, 1]'),\n",
       " Text(94.40342969132779, 122.30999999999999, 'gini = 0.0\\nsamples = 2\\nvalue = [2, 0]'),\n",
       " Text(94.6221460068594, 131.37, 'gini = 0.0\\nsamples = 2\\nvalue = [0, 2]'),\n",
       " Text(95.934443900049, 140.43, 'X[3] <= 1.5\\ngini = 0.473\\nsamples = 13\\nvalue = [5, 8]'),\n",
       " Text(95.7157275845174, 131.37, 'gini = 0.0\\nsamples = 4\\nvalue = [0, 4]'),\n",
       " Text(96.1531602155806, 131.37, 'X[4] <= 1.5\\ngini = 0.494\\nsamples = 9\\nvalue = [5, 4]'),\n",
       " Text(95.934443900049, 122.30999999999999, 'gini = 0.0\\nsamples = 2\\nvalue = [2, 0]'),\n",
       " Text(96.3718765311122, 122.30999999999999, 'X[1] <= 29.5\\ngini = 0.49\\nsamples = 7\\nvalue = [3, 4]'),\n",
       " Text(96.1531602155806, 113.24999999999999, 'X[5] <= 13.0\\ngini = 0.5\\nsamples = 6\\nvalue = [3, 3]'),\n",
       " Text(95.934443900049, 104.19, 'X[3] <= 2.5\\ngini = 0.48\\nsamples = 5\\nvalue = [2, 3]'),\n",
       " Text(95.7157275845174, 95.13, 'X[4] <= 2.5\\ngini = 0.375\\nsamples = 4\\nvalue = [1, 3]'),\n",
       " Text(95.4970112689858, 86.07, 'gini = 0.0\\nsamples = 1\\nvalue = [0, 1]'),\n",
       " Text(95.934443900049, 86.07, 'gini = 0.444\\nsamples = 3\\nvalue = [1, 2]'),\n",
       " Text(96.1531602155806, 95.13, 'gini = 0.0\\nsamples = 1\\nvalue = [1, 0]'),\n",
       " Text(96.3718765311122, 104.19, 'gini = 0.0\\nsamples = 1\\nvalue = [1, 0]'),\n",
       " Text(96.59059284664382, 113.24999999999999, 'gini = 0.0\\nsamples = 1\\nvalue = [0, 1]'),\n",
       " Text(97.90289073983342, 149.49, 'X[1] <= 34.5\\ngini = 0.397\\nsamples = 11\\nvalue = [8, 3]'),\n",
       " Text(97.68417442430182, 140.43, 'X[5] <= 13.0\\ngini = 0.32\\nsamples = 10\\nvalue = [8, 2]'),\n",
       " Text(97.46545810877022, 131.37, 'X[4] <= 2.5\\ngini = 0.408\\nsamples = 7\\nvalue = [5, 2]'),\n",
       " Text(97.24674179323861, 122.30999999999999, 'X[3] <= 3.5\\ngini = 0.48\\nsamples = 5\\nvalue = [3, 2]'),\n",
       " Text(97.02802547770702, 113.24999999999999, 'X[1] <= 29.5\\ngini = 0.375\\nsamples = 4\\nvalue = [3, 1]'),\n",
       " Text(96.80930916217541, 104.19, 'gini = 0.5\\nsamples = 2\\nvalue = [1, 1]'),\n",
       " Text(97.24674179323861, 104.19, 'gini = 0.0\\nsamples = 2\\nvalue = [2, 0]'),\n",
       " Text(97.46545810877022, 113.24999999999999, 'gini = 0.0\\nsamples = 1\\nvalue = [0, 1]'),\n",
       " Text(97.68417442430182, 122.30999999999999, 'gini = 0.0\\nsamples = 2\\nvalue = [2, 0]'),\n",
       " Text(97.90289073983342, 131.37, 'gini = 0.0\\nsamples = 3\\nvalue = [3, 0]'),\n",
       " Text(98.12160705536502, 140.43, 'gini = 0.0\\nsamples = 1\\nvalue = [0, 1]'),\n",
       " Text(99.59794218520334, 158.55, 'X[1] <= 34.5\\ngini = 0.48\\nsamples = 35\\nvalue = [14, 21]'),\n",
       " Text(98.77775600195983, 149.49, 'X[5] <= 10.5\\ngini = 0.245\\nsamples = 7\\nvalue = [1, 6]'),\n",
       " Text(98.55903968642824, 140.43, 'gini = 0.0\\nsamples = 1\\nvalue = [1, 0]'),\n",
       " Text(98.99647231749144, 140.43, 'gini = 0.0\\nsamples = 6\\nvalue = [0, 6]'),\n",
       " Text(100.41812836844684, 149.49, 'X[5] <= 13.0\\ngini = 0.497\\nsamples = 28\\nvalue = [13, 15]'),\n",
       " Text(99.43390494855464, 140.43, 'X[4] <= 2.5\\ngini = 0.472\\nsamples = 21\\nvalue = [8, 13]'),\n",
       " Text(98.99647231749144, 131.37, 'X[3] <= 4.75\\ngini = 0.48\\nsamples = 10\\nvalue = [6, 4]'),\n",
       " Text(98.77775600195983, 122.30999999999999, 'X[4] <= 1.5\\ngini = 0.375\\nsamples = 8\\nvalue = [6, 2]'),\n",
       " Text(98.55903968642824, 113.24999999999999, 'gini = 0.0\\nsamples = 1\\nvalue = [0, 1]'),\n",
       " Text(98.99647231749144, 113.24999999999999, 'X[2] <= 19.75\\ngini = 0.245\\nsamples = 7\\nvalue = [6, 1]'),\n",
       " Text(98.77775600195983, 104.19, 'gini = 0.0\\nsamples = 4\\nvalue = [4, 0]'),\n",
       " Text(99.21518863302303, 104.19, 'X[3] <= 2.5\\ngini = 0.444\\nsamples = 3\\nvalue = [2, 1]'),\n",
       " Text(98.99647231749144, 95.13, 'gini = 0.0\\nsamples = 1\\nvalue = [0, 1]'),\n",
       " Text(99.43390494855464, 95.13, 'gini = 0.0\\nsamples = 2\\nvalue = [2, 0]'),\n",
       " Text(99.21518863302303, 122.30999999999999, 'gini = 0.0\\nsamples = 2\\nvalue = [0, 2]'),\n",
       " Text(99.87133757961784, 131.37, 'X[1] <= 39.5\\ngini = 0.298\\nsamples = 11\\nvalue = [2, 9]'),\n",
       " Text(99.65262126408624, 122.30999999999999, 'gini = 0.0\\nsamples = 4\\nvalue = [0, 4]'),\n",
       " Text(100.09005389514944, 122.30999999999999, 'X[3] <= 3.5\\ngini = 0.408\\nsamples = 7\\nvalue = [2, 5]'),\n",
       " Text(99.87133757961784, 113.24999999999999, 'X[2] <= 19.75\\ngini = 0.278\\nsamples = 6\\nvalue = [1, 5]'),\n",
       " Text(99.65262126408624, 104.19, 'gini = 0.0\\nsamples = 1\\nvalue = [1, 0]'),\n",
       " Text(100.09005389514944, 104.19, 'gini = 0.0\\nsamples = 5\\nvalue = [0, 5]'),\n",
       " Text(100.30877021068105, 113.24999999999999, 'gini = 0.0\\nsamples = 1\\nvalue = [1, 0]'),\n",
       " Text(101.40235178833906, 140.43, 'X[5] <= 15.0\\ngini = 0.408\\nsamples = 7\\nvalue = [5, 2]'),\n",
       " Text(101.18363547280745, 131.37, 'X[4] <= 2.5\\ngini = 0.278\\nsamples = 6\\nvalue = [5, 1]'),\n",
       " Text(100.96491915727586, 122.30999999999999, 'X[3] <= 4.25\\ngini = 0.5\\nsamples = 2\\nvalue = [1, 1]'),\n",
       " Text(100.74620284174425, 113.24999999999999, 'gini = 0.0\\nsamples = 1\\nvalue = [0, 1]'),\n",
       " Text(101.18363547280745, 113.24999999999999, 'gini = 0.0\\nsamples = 1\\nvalue = [1, 0]'),\n",
       " Text(101.40235178833906, 122.30999999999999, 'gini = 0.0\\nsamples = 4\\nvalue = [4, 0]'),\n",
       " ...]"
      ]
     },
     "execution_count": 25,
     "metadata": {},
     "output_type": "execute_result"
    },
    {
     "data": {
      "image/png": "[encoded data removed]",
      "text/plain": [
       "<Figure size 432x288 with 1 Axes>"
      ]
     },
     "metadata": {
      "needs_background": "light"
     },
     "output_type": "display_data"
    }
   ],
   "source": [
    "tree.plot_tree(model)"
   ]
  },
  {
   "cell_type": "markdown",
   "metadata": {},
   "source": [
    "### Question 6. Now try using max_depth = 2, 3, 4 and crierion = 'gini' and 'entropy' to build 3 X 2 = 6 different models"
   ]
  },
  {
   "cell_type": "code",
   "execution_count": 26,
   "metadata": {},
   "outputs": [],
   "source": [
    "# These variables will be used throughout this homework\n",
    "X = df[['rate_marriage','age','yrs_married','children','religious','educ','occ2','occ3','occ4','occ5','occ6']].to_numpy()\n",
    "Y = df['had_affair'].to_numpy()\n",
    "X_train, X_test, Y_train, Y_test = train_test_split(X, Y, test_size=0.2, random_state=0)"
   ]
  },
  {
   "cell_type": "code",
   "execution_count": 27,
   "metadata": {
    "scrolled": true
   },
   "outputs": [
    {
     "name": "stdout",
     "output_type": "stream",
     "text": [
      "---------------------------------\n",
      "depth: 2\tcriterion: gini\n",
      "\n",
      "[[818  67]\n",
      " [264 125]]\n",
      "              precision    recall  f1-score   support\n",
      "\n",
      "           0       0.76      0.92      0.83       885\n",
      "           1       0.65      0.32      0.43       389\n",
      "\n",
      "    accuracy                           0.74      1274\n",
      "   macro avg       0.70      0.62      0.63      1274\n",
      "weighted avg       0.72      0.74      0.71      1274\n",
      "\n",
      "0.7401883830455259\n",
      "---------------------------------\n",
      "depth: 2\tcriterion: entropy\n",
      "\n",
      "[[818  67]\n",
      " [264 125]]\n",
      "              precision    recall  f1-score   support\n",
      "\n",
      "           0       0.76      0.92      0.83       885\n",
      "           1       0.65      0.32      0.43       389\n",
      "\n",
      "    accuracy                           0.74      1274\n",
      "   macro avg       0.70      0.62      0.63      1274\n",
      "weighted avg       0.72      0.74      0.71      1274\n",
      "\n",
      "0.7401883830455259\n",
      "---------------------------------\n",
      "depth: 3\tcriterion: gini\n",
      "\n",
      "[[827  58]\n",
      " [278 111]]\n",
      "              precision    recall  f1-score   support\n",
      "\n",
      "           0       0.75      0.93      0.83       885\n",
      "           1       0.66      0.29      0.40       389\n",
      "\n",
      "    accuracy                           0.74      1274\n",
      "   macro avg       0.70      0.61      0.61      1274\n",
      "weighted avg       0.72      0.74      0.70      1274\n",
      "\n",
      "0.7362637362637363\n",
      "---------------------------------\n",
      "depth: 3\tcriterion: entropy\n",
      "\n",
      "[[827  58]\n",
      " [278 111]]\n",
      "              precision    recall  f1-score   support\n",
      "\n",
      "           0       0.75      0.93      0.83       885\n",
      "           1       0.66      0.29      0.40       389\n",
      "\n",
      "    accuracy                           0.74      1274\n",
      "   macro avg       0.70      0.61      0.61      1274\n",
      "weighted avg       0.72      0.74      0.70      1274\n",
      "\n",
      "0.7362637362637363\n",
      "---------------------------------\n",
      "depth: 4\tcriterion: gini\n",
      "\n",
      "[[818  67]\n",
      " [265 124]]\n",
      "              precision    recall  f1-score   support\n",
      "\n",
      "           0       0.76      0.92      0.83       885\n",
      "           1       0.65      0.32      0.43       389\n",
      "\n",
      "    accuracy                           0.74      1274\n",
      "   macro avg       0.70      0.62      0.63      1274\n",
      "weighted avg       0.72      0.74      0.71      1274\n",
      "\n",
      "0.7394034536891679\n",
      "---------------------------------\n",
      "depth: 4\tcriterion: entropy\n",
      "\n",
      "[[818  67]\n",
      " [265 124]]\n",
      "              precision    recall  f1-score   support\n",
      "\n",
      "           0       0.76      0.92      0.83       885\n",
      "           1       0.65      0.32      0.43       389\n",
      "\n",
      "    accuracy                           0.74      1274\n",
      "   macro avg       0.70      0.62      0.63      1274\n",
      "weighted avg       0.72      0.74      0.71      1274\n",
      "\n",
      "0.7394034536891679\n"
     ]
    }
   ],
   "source": [
    "criterias=['gini','entropy']\n",
    "for d in range(2,5):\n",
    "    for c in criterias:\n",
    "        model = DecisionTreeClassifier(max_depth=d, criterion=c)\n",
    "        model.fit(X_train,Y_train)\n",
    "        predictions = model.predict(X_test)\n",
    "        print('---------------------------------')\n",
    "        print('depth: '+str(d) + '\\t' + 'criterion: ' + c +'\\n')\n",
    "        print(confusion_matrix(Y_test,predictions))\n",
    "        print(classification_report(Y_test,predictions))\n",
    "        print(accuracy_score(Y_test, predictions))\n",
    "        #tree.plot_tree(model)"
   ]
  },
  {
   "cell_type": "markdown",
   "metadata": {},
   "source": [
    "### Question 7. What is your obsevation from Question 6? Does the choice of the criterion important in this case? What about the max_depth? What is the best choice of max_depth and criterion?"
   ]
  },
  {
   "cell_type": "markdown",
   "metadata": {},
   "source": [
    "### It appears that the deeper you go the less accurate the model should be since there are less data points at the bottom of the tree, as we see in our instacne (I saw that more when I went 10 levels deep, but left the code as requested). A difference between gini and entropy is htat gini is less accurate but more lightweight while entropy is more accurate but computationally heavier (speed vs. resource issue seen again). In my case levels 2 and 3 in depth have the same level of impurity, and have the same results while a depth of level 4 has a lower accuracy score, so there appears to be no reason to use it. Depths of level 2 and 3 are the same in my case, so I'd say the best choice of criterion and max_depth would be 2 and gini since this is the least computationally heavy option while still maintaining the ideal results. Also, a depth of 2 is less likely to overfit the data than a max depth of 3. Overfitting is a major issue and if we can avoid it we should."
   ]
  },
  {
   "cell_type": "markdown",
   "metadata": {},
   "source": [
    "### Question 8, now pick three models, with max_depth = 2, 3 and 4. You can pick the which ever criterions you want and visual the three trees"
   ]
  },
  {
   "cell_type": "markdown",
   "metadata": {},
   "source": [
    "Type your answer and code here"
   ]
  },
  {
   "cell_type": "code",
   "execution_count": 28,
   "metadata": {},
   "outputs": [
    {
     "data": {
      "text/plain": [
       "DecisionTreeClassifier(max_depth=4)"
      ]
     },
     "execution_count": 28,
     "metadata": {},
     "output_type": "execute_result"
    }
   ],
   "source": [
    "# Hint \n",
    "model1 = DecisionTreeClassifier(max_depth=2, criterion='gini')\n",
    "model1.fit(X_train, Y_train)\n",
    "model2 = DecisionTreeClassifier(max_depth=3, criterion='gini')\n",
    "model2.fit(X_train, Y_train)\n",
    "model3 = DecisionTreeClassifier(max_depth=4, criterion='gini')\n",
    "model3.fit(X_train, Y_train)\n",
    "# Then display all 3 trees"
   ]
  },
  {
   "cell_type": "code",
   "execution_count": 29,
   "metadata": {},
   "outputs": [
    {
     "data": {
      "text/plain": [
       "[Text(167.4, 181.2, 'X[0] <= 3.5\\ngini = 0.44\\nsamples = 5092\\nvalue = [3428, 1664]'),\n",
       " Text(83.7, 108.72, 'X[2] <= 4.25\\ngini = 0.487\\nsamples = 1163\\nvalue = [486, 677]'),\n",
       " Text(41.85, 36.23999999999998, 'gini = 0.495\\nsamples = 302\\nvalue = [166, 136]'),\n",
       " Text(125.55000000000001, 36.23999999999998, 'gini = 0.467\\nsamples = 861\\nvalue = [320, 541]'),\n",
       " Text(251.10000000000002, 108.72, 'X[2] <= 4.25\\ngini = 0.376\\nsamples = 3929\\nvalue = [2942, 987]'),\n",
       " Text(209.25, 36.23999999999998, 'gini = 0.245\\nsamples = 1609\\nvalue = [1379, 230]'),\n",
       " Text(292.95, 36.23999999999998, 'gini = 0.44\\nsamples = 2320\\nvalue = [1563, 757]')]"
      ]
     },
     "execution_count": 29,
     "metadata": {},
     "output_type": "execute_result"
    },
    {
     "data": {
      "image/png": "[encoded data removed]",
      "text/plain": [
       "<Figure size 432x288 with 1 Axes>"
      ]
     },
     "metadata": {
      "needs_background": "light"
     },
     "output_type": "display_data"
    }
   ],
   "source": [
    "tree.plot_tree(model1)"
   ]
  },
  {
   "cell_type": "code",
   "execution_count": 30,
   "metadata": {},
   "outputs": [
    {
     "data": {
      "text/plain": [
       "[Text(167.4, 190.26, 'X[0] <= 3.5\\ngini = 0.44\\nsamples = 5092\\nvalue = [3428, 1664]'),\n",
       " Text(83.7, 135.9, 'X[2] <= 4.25\\ngini = 0.487\\nsamples = 1163\\nvalue = [486, 677]'),\n",
       " Text(41.85, 81.53999999999999, 'X[2] <= 1.5\\ngini = 0.495\\nsamples = 302\\nvalue = [166, 136]'),\n",
       " Text(20.925, 27.180000000000007, 'gini = 0.298\\nsamples = 22\\nvalue = [18, 4]'),\n",
       " Text(62.775000000000006, 27.180000000000007, 'gini = 0.498\\nsamples = 280\\nvalue = [148, 132]'),\n",
       " Text(125.55000000000001, 81.53999999999999, 'X[6] <= 0.5\\ngini = 0.467\\nsamples = 861\\nvalue = [320, 541]'),\n",
       " Text(104.625, 27.180000000000007, 'gini = 0.453\\nsamples = 726\\nvalue = [252, 474]'),\n",
       " Text(146.475, 27.180000000000007, 'gini = 0.5\\nsamples = 135\\nvalue = [68, 67]'),\n",
       " Text(251.10000000000002, 135.9, 'X[2] <= 4.25\\ngini = 0.376\\nsamples = 3929\\nvalue = [2942, 987]'),\n",
       " Text(209.25, 81.53999999999999, 'X[0] <= 4.5\\ngini = 0.245\\nsamples = 1609\\nvalue = [1379, 230]'),\n",
       " Text(188.32500000000002, 27.180000000000007, 'gini = 0.32\\nsamples = 664\\nvalue = [531, 133]'),\n",
       " Text(230.175, 27.180000000000007, 'gini = 0.184\\nsamples = 945\\nvalue = [848, 97]'),\n",
       " Text(292.95, 81.53999999999999, 'X[0] <= 4.5\\ngini = 0.44\\nsamples = 2320\\nvalue = [1563, 757]'),\n",
       " Text(272.02500000000003, 27.180000000000007, 'gini = 0.485\\nsamples = 1127\\nvalue = [662, 465]'),\n",
       " Text(313.875, 27.180000000000007, 'gini = 0.37\\nsamples = 1193\\nvalue = [901, 292]')]"
      ]
     },
     "execution_count": 30,
     "metadata": {},
     "output_type": "execute_result"
    },
    {
     "data": {
      "image/png": "[encoded data removed]",
      "text/plain": [
       "<Figure size 432x288 with 1 Axes>"
      ]
     },
     "metadata": {
      "needs_background": "light"
     },
     "output_type": "display_data"
    }
   ],
   "source": [
    "tree.plot_tree(model2)"
   ]
  },
  {
   "cell_type": "code",
   "execution_count": 31,
   "metadata": {},
   "outputs": [
    {
     "data": {
      "text/plain": [
       "[Text(167.4, 195.696, 'X[0] <= 3.5\\ngini = 0.44\\nsamples = 5092\\nvalue = [3428, 1664]'),\n",
       " Text(83.7, 152.208, 'X[2] <= 4.25\\ngini = 0.487\\nsamples = 1163\\nvalue = [486, 677]'),\n",
       " Text(41.85, 108.72, 'X[2] <= 1.5\\ngini = 0.495\\nsamples = 302\\nvalue = [166, 136]'),\n",
       " Text(20.925, 65.232, 'X[4] <= 1.5\\ngini = 0.298\\nsamples = 22\\nvalue = [18, 4]'),\n",
       " Text(10.4625, 21.744, 'gini = 0.444\\nsamples = 6\\nvalue = [2, 4]'),\n",
       " Text(31.387500000000003, 21.744, 'gini = 0.0\\nsamples = 16\\nvalue = [16, 0]'),\n",
       " Text(62.775000000000006, 65.232, 'X[1] <= 29.5\\ngini = 0.498\\nsamples = 280\\nvalue = [148, 132]'),\n",
       " Text(52.3125, 21.744, 'gini = 0.5\\nsamples = 267\\nvalue = [137, 130]'),\n",
       " Text(73.2375, 21.744, 'gini = 0.26\\nsamples = 13\\nvalue = [11, 2]'),\n",
       " Text(125.55000000000001, 108.72, 'X[6] <= 0.5\\ngini = 0.467\\nsamples = 861\\nvalue = [320, 541]'),\n",
       " Text(104.625, 65.232, 'X[4] <= 2.5\\ngini = 0.453\\nsamples = 726\\nvalue = [252, 474]'),\n",
       " Text(94.16250000000001, 21.744, 'gini = 0.424\\nsamples = 410\\nvalue = [125, 285]'),\n",
       " Text(115.0875, 21.744, 'gini = 0.481\\nsamples = 316\\nvalue = [127, 189]'),\n",
       " Text(146.475, 65.232, 'X[4] <= 3.5\\ngini = 0.5\\nsamples = 135\\nvalue = [68, 67]'),\n",
       " Text(136.01250000000002, 21.744, 'gini = 0.499\\nsamples = 124\\nvalue = [59, 65]'),\n",
       " Text(156.9375, 21.744, 'gini = 0.298\\nsamples = 11\\nvalue = [9, 2]'),\n",
       " Text(251.10000000000002, 152.208, 'X[2] <= 4.25\\ngini = 0.376\\nsamples = 3929\\nvalue = [2942, 987]'),\n",
       " Text(209.25, 108.72, 'X[0] <= 4.5\\ngini = 0.245\\nsamples = 1609\\nvalue = [1379, 230]'),\n",
       " Text(188.32500000000002, 65.232, 'X[4] <= 2.5\\ngini = 0.32\\nsamples = 664\\nvalue = [531, 133]'),\n",
       " Text(177.8625, 21.744, 'gini = 0.376\\nsamples = 378\\nvalue = [283, 95]'),\n",
       " Text(198.7875, 21.744, 'gini = 0.23\\nsamples = 286\\nvalue = [248, 38]'),\n",
       " Text(230.175, 65.232, 'X[2] <= 1.5\\ngini = 0.184\\nsamples = 945\\nvalue = [848, 97]'),\n",
       " Text(219.7125, 21.744, 'gini = 0.0\\nsamples = 175\\nvalue = [175, 0]'),\n",
       " Text(240.63750000000002, 21.744, 'gini = 0.22\\nsamples = 770\\nvalue = [673, 97]'),\n",
       " Text(292.95, 108.72, 'X[0] <= 4.5\\ngini = 0.44\\nsamples = 2320\\nvalue = [1563, 757]'),\n",
       " Text(272.02500000000003, 65.232, 'X[8] <= 0.5\\ngini = 0.485\\nsamples = 1127\\nvalue = [662, 465]'),\n",
       " Text(261.5625, 21.744, 'gini = 0.496\\nsamples = 792\\nvalue = [433, 359]'),\n",
       " Text(282.4875, 21.744, 'gini = 0.433\\nsamples = 335\\nvalue = [229, 106]'),\n",
       " Text(313.875, 65.232, 'X[4] <= 1.5\\ngini = 0.37\\nsamples = 1193\\nvalue = [901, 292]'),\n",
       " Text(303.4125, 21.744, 'gini = 0.474\\nsamples = 166\\nvalue = [102, 64]'),\n",
       " Text(324.33750000000003, 21.744, 'gini = 0.345\\nsamples = 1027\\nvalue = [799, 228]')]"
      ]
     },
     "execution_count": 31,
     "metadata": {},
     "output_type": "execute_result"
    },
    {
     "data": {
      "image/png": "[encoded data removed]",
      "text/plain": [
       "<Figure size 432x288 with 1 Axes>"
      ]
     },
     "metadata": {
      "needs_background": "light"
     },
     "output_type": "display_data"
    }
   ],
   "source": [
    "tree.plot_tree(model3)"
   ]
  },
  {
   "cell_type": "markdown",
   "metadata": {},
   "source": [
    "### Question 9. Now build a Random Forest Classifier with, say, 100 trees. Check the model performance "
   ]
  },
  {
   "cell_type": "markdown",
   "metadata": {},
   "source": [
    "Type your answer and code here"
   ]
  },
  {
   "cell_type": "code",
   "execution_count": 32,
   "metadata": {
    "scrolled": true
   },
   "outputs": [
    {
     "name": "stdout",
     "output_type": "stream",
     "text": [
      "              precision    recall  f1-score   support\n",
      "\n",
      "           0       0.75      0.80      0.78       885\n",
      "           1       0.46      0.39      0.42       389\n",
      "\n",
      "    accuracy                           0.68      1274\n",
      "   macro avg       0.61      0.60      0.60      1274\n",
      "weighted avg       0.66      0.68      0.67      1274\n",
      "\n",
      "0.6766091051805337\n",
      "[[818  67]\n",
      " [265 124]]\n"
     ]
    }
   ],
   "source": [
    "rfc = RandomForestClassifier(n_estimators=100)\n",
    "rfc.fit(X_train, Y_train)\n",
    "rfc_pred = rfc.predict(X_test)\n",
    "print(classification_report(Y_test, rfc_pred))\n",
    "print(accuracy_score(Y_test, rfc_pred))\n",
    "print(confusion_matrix(Y_test,predictions))"
   ]
  },
  {
   "cell_type": "markdown",
   "metadata": {},
   "source": [
    "### The accuracy is about the same as the decision trees modeled here. However, if we look at the f1 score for predicting had_affair, it the highest seen for all the models. I would therefore say this is the best model we have since we can 'trust' this model the most since it isn't so heavily weighted to having good no-had-affair ofsetting the bad had-affair. Still suffers from having a much better prediction of had no affair as opposed to having affair. We still have the issue of many false negatives, but that is a philosiphers to decide the impact, but we still need to mention it here."
   ]
  }
 ],
 "metadata": {
  "kernelspec": {
   "display_name": "Python 3",
   "language": "python",
   "name": "python3"
  },
  "language_info": {
   "codemirror_mode": {
    "name": "ipython",
    "version": 3
   },
   "file_extension": ".py",
   "mimetype": "text/x-python",
   "name": "python",
   "nbconvert_exporter": "python",
   "pygments_lexer": "ipython3",
   "version": "3.8.5"
  }
 },
 "nbformat": 4,
 "nbformat_minor": 2
}
