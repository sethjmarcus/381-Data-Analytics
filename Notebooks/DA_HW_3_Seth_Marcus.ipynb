{
 "cells": [
  {
   "cell_type": "markdown",
   "metadata": {},
   "source": [
    "# DA_HW_3 Support Vector Machine and Decision Trees\n",
    "\n",
    "# Due on 5/10 23:59 pm"
   ]
  },
  {
   "cell_type": "code",
   "execution_count": 1,
   "metadata": {},
   "outputs": [],
   "source": [
    "import pandas as pd\n",
    "import numpy as np\n",
    "import matplotlib.pyplot as plt\n",
    "import seaborn as sns\n",
    "import warnings\n",
    "import random\n",
    "from sklearn import svm\n",
    "from sklearn import tree\n",
    "from sklearn.linear_model import LinearRegression\n",
    "from sklearn.model_selection import train_test_split\n",
    "from sklearn.metrics import classification_report,confusion_matrix,accuracy_score\n",
    "from sklearn import metrics\n",
    "from sklearn.tree import DecisionTreeClassifier\n",
    "from sklearn.ensemble import RandomForestClassifier\n",
    "warnings.filterwarnings('ignore')"
   ]
  },
  {
   "cell_type": "markdown",
   "metadata": {},
   "source": [
    "## We will use the same affair dataset from HW2, but will skip the EDA phrase we have done enough of it"
   ]
  },
  {
   "cell_type": "markdown",
   "metadata": {},
   "source": [
    "#### Everything removing outliers, create dummies variabes had been done for you"
   ]
  },
  {
   "cell_type": "code",
   "execution_count": 2,
   "metadata": {},
   "outputs": [
    {
     "data": {
      "text/html": [
       "<div>\n",
       "<style scoped>\n",
       "    .dataframe tbody tr th:only-of-type {\n",
       "        vertical-align: middle;\n",
       "    }\n",
       "\n",
       "    .dataframe tbody tr th {\n",
       "        vertical-align: top;\n",
       "    }\n",
       "\n",
       "    .dataframe thead th {\n",
       "        text-align: right;\n",
       "    }\n",
       "</style>\n",
       "<table border=\"1\" class=\"dataframe\">\n",
       "  <thead>\n",
       "    <tr style=\"text-align: right;\">\n",
       "      <th></th>\n",
       "      <th>rate_marriage</th>\n",
       "      <th>age</th>\n",
       "      <th>yrs_married</th>\n",
       "      <th>children</th>\n",
       "      <th>religious</th>\n",
       "      <th>educ</th>\n",
       "      <th>had_affair</th>\n",
       "      <th>occ2</th>\n",
       "      <th>occ3</th>\n",
       "      <th>occ4</th>\n",
       "      <th>occ5</th>\n",
       "      <th>occ6</th>\n",
       "    </tr>\n",
       "  </thead>\n",
       "  <tbody>\n",
       "    <tr>\n",
       "      <th>0</th>\n",
       "      <td>3.0</td>\n",
       "      <td>32.0</td>\n",
       "      <td>9.0</td>\n",
       "      <td>3.0</td>\n",
       "      <td>3.0</td>\n",
       "      <td>17.0</td>\n",
       "      <td>1</td>\n",
       "      <td>1</td>\n",
       "      <td>0</td>\n",
       "      <td>0</td>\n",
       "      <td>0</td>\n",
       "      <td>0</td>\n",
       "    </tr>\n",
       "    <tr>\n",
       "      <th>1</th>\n",
       "      <td>3.0</td>\n",
       "      <td>27.0</td>\n",
       "      <td>13.0</td>\n",
       "      <td>3.0</td>\n",
       "      <td>1.0</td>\n",
       "      <td>14.0</td>\n",
       "      <td>1</td>\n",
       "      <td>0</td>\n",
       "      <td>1</td>\n",
       "      <td>0</td>\n",
       "      <td>0</td>\n",
       "      <td>0</td>\n",
       "    </tr>\n",
       "    <tr>\n",
       "      <th>2</th>\n",
       "      <td>4.0</td>\n",
       "      <td>22.0</td>\n",
       "      <td>2.5</td>\n",
       "      <td>0.0</td>\n",
       "      <td>1.0</td>\n",
       "      <td>16.0</td>\n",
       "      <td>1</td>\n",
       "      <td>0</td>\n",
       "      <td>1</td>\n",
       "      <td>0</td>\n",
       "      <td>0</td>\n",
       "      <td>0</td>\n",
       "    </tr>\n",
       "    <tr>\n",
       "      <th>3</th>\n",
       "      <td>4.0</td>\n",
       "      <td>37.0</td>\n",
       "      <td>16.5</td>\n",
       "      <td>4.0</td>\n",
       "      <td>3.0</td>\n",
       "      <td>16.0</td>\n",
       "      <td>1</td>\n",
       "      <td>0</td>\n",
       "      <td>0</td>\n",
       "      <td>0</td>\n",
       "      <td>1</td>\n",
       "      <td>0</td>\n",
       "    </tr>\n",
       "    <tr>\n",
       "      <th>4</th>\n",
       "      <td>5.0</td>\n",
       "      <td>27.0</td>\n",
       "      <td>9.0</td>\n",
       "      <td>1.0</td>\n",
       "      <td>1.0</td>\n",
       "      <td>14.0</td>\n",
       "      <td>1</td>\n",
       "      <td>0</td>\n",
       "      <td>1</td>\n",
       "      <td>0</td>\n",
       "      <td>0</td>\n",
       "      <td>0</td>\n",
       "    </tr>\n",
       "  </tbody>\n",
       "</table>\n",
       "</div>"
      ],
      "text/plain": [
       "   rate_marriage   age  yrs_married  children  religious  educ  had_affair  \\\n",
       "0            3.0  32.0          9.0       3.0        3.0  17.0           1   \n",
       "1            3.0  27.0         13.0       3.0        1.0  14.0           1   \n",
       "2            4.0  22.0          2.5       0.0        1.0  16.0           1   \n",
       "3            4.0  37.0         16.5       4.0        3.0  16.0           1   \n",
       "4            5.0  27.0          9.0       1.0        1.0  14.0           1   \n",
       "\n",
       "   occ2  occ3  occ4  occ5  occ6  \n",
       "0     1     0     0     0     0  \n",
       "1     0     1     0     0     0  \n",
       "2     0     1     0     0     0  \n",
       "3     0     0     0     1     0  \n",
       "4     0     1     0     0     0  "
      ]
     },
     "execution_count": 2,
     "metadata": {},
     "output_type": "execute_result"
    }
   ],
   "source": [
    "# Remember the affair data set from HW3, we will use that dataset again\n",
    "# but we will directly load it from the API\n",
    "orig_df = pd.read_csv(\"affairs2.csv\")\n",
    "# Set up our target class label\n",
    "orig_df['had_affair'] = orig_df['affairs'].apply(lambda x: 1 if x != 0 else 0)\n",
    "orig_df = orig_df.drop('affairs',axis=1)\n",
    "# remove NA\n",
    "orig_df.dropna(inplace=True)\n",
    "# create dummies variable for occupation\n",
    "occ = pd.get_dummies(orig_df['occupation'],drop_first=True)\n",
    "# we include rate_marriage feature as well. In HW3, we did not include that variable\n",
    "features = ['rate_marriage','age','yrs_married','children','religious','educ', 'had_affair']\n",
    "df = orig_df\n",
    "df = pd.concat([orig_df[features], occ], axis=1)\n",
    "df.head()"
   ]
  },
  {
   "cell_type": "code",
   "execution_count": 3,
   "metadata": {},
   "outputs": [
    {
     "data": {
      "text/plain": [
       "rate_marriage    0\n",
       "age              0\n",
       "yrs_married      0\n",
       "children         0\n",
       "religious        0\n",
       "educ             0\n",
       "had_affair       0\n",
       "occ2             0\n",
       "occ3             0\n",
       "occ4             0\n",
       "occ5             0\n",
       "occ6             0\n",
       "dtype: int64"
      ]
     },
     "execution_count": 3,
     "metadata": {},
     "output_type": "execute_result"
    }
   ],
   "source": [
    "# make sure there is no missing values\n",
    "df.isnull().sum()"
   ]
  },
  {
   "cell_type": "markdown",
   "metadata": {},
   "source": [
    "### Now we are ready to build models"
   ]
  },
  {
   "cell_type": "markdown",
   "metadata": {},
   "source": [
    "### Question 1: Build a classification model using SVC using linear kernel without specifying the C-parameter"
   ]
  },
  {
   "cell_type": "code",
   "execution_count": 4,
   "metadata": {
    "scrolled": false
   },
   "outputs": [
    {
     "data": {
      "text/html": [
       "<div>\n",
       "<style scoped>\n",
       "    .dataframe tbody tr th:only-of-type {\n",
       "        vertical-align: middle;\n",
       "    }\n",
       "\n",
       "    .dataframe tbody tr th {\n",
       "        vertical-align: top;\n",
       "    }\n",
       "\n",
       "    .dataframe thead th {\n",
       "        text-align: right;\n",
       "    }\n",
       "</style>\n",
       "<table border=\"1\" class=\"dataframe\">\n",
       "  <thead>\n",
       "    <tr style=\"text-align: right;\">\n",
       "      <th></th>\n",
       "      <th>had_affair</th>\n",
       "    </tr>\n",
       "  </thead>\n",
       "  <tbody>\n",
       "    <tr>\n",
       "      <th>had_affair</th>\n",
       "      <td>1.000000</td>\n",
       "    </tr>\n",
       "    <tr>\n",
       "      <th>yrs_married</th>\n",
       "      <td>0.203109</td>\n",
       "    </tr>\n",
       "    <tr>\n",
       "      <th>children</th>\n",
       "      <td>0.159833</td>\n",
       "    </tr>\n",
       "    <tr>\n",
       "      <th>age</th>\n",
       "      <td>0.146519</td>\n",
       "    </tr>\n",
       "    <tr>\n",
       "      <th>occ5</th>\n",
       "      <td>0.073766</td>\n",
       "    </tr>\n",
       "    <tr>\n",
       "      <th>occ3</th>\n",
       "      <td>0.045729</td>\n",
       "    </tr>\n",
       "    <tr>\n",
       "      <th>occ6</th>\n",
       "      <td>0.012559</td>\n",
       "    </tr>\n",
       "    <tr>\n",
       "      <th>occ2</th>\n",
       "      <td>-0.024613</td>\n",
       "    </tr>\n",
       "    <tr>\n",
       "      <th>educ</th>\n",
       "      <td>-0.075280</td>\n",
       "    </tr>\n",
       "    <tr>\n",
       "      <th>occ4</th>\n",
       "      <td>-0.082706</td>\n",
       "    </tr>\n",
       "    <tr>\n",
       "      <th>religious</th>\n",
       "      <td>-0.129299</td>\n",
       "    </tr>\n",
       "    <tr>\n",
       "      <th>rate_marriage</th>\n",
       "      <td>-0.331776</td>\n",
       "    </tr>\n",
       "  </tbody>\n",
       "</table>\n",
       "</div>"
      ],
      "text/plain": [
       "               had_affair\n",
       "had_affair       1.000000\n",
       "yrs_married      0.203109\n",
       "children         0.159833\n",
       "age              0.146519\n",
       "occ5             0.073766\n",
       "occ3             0.045729\n",
       "occ6             0.012559\n",
       "occ2            -0.024613\n",
       "educ            -0.075280\n",
       "occ4            -0.082706\n",
       "religious       -0.129299\n",
       "rate_marriage   -0.331776"
      ]
     },
     "execution_count": 4,
     "metadata": {},
     "output_type": "execute_result"
    }
   ],
   "source": [
    "df.corr().filter(items=['had_affair']).sort_values('had_affair', ascending=False)"
   ]
  },
  {
   "cell_type": "markdown",
   "metadata": {},
   "source": [
    "#### Let's use the top 4 attributes in terms of absolute correlation (negative correlation can be just as useful as poitive correlation)"
   ]
  },
  {
   "cell_type": "code",
   "execution_count": 36,
   "metadata": {},
   "outputs": [],
   "source": [
    "# These variables will be used throughout this homework\n",
    "X = df[['rate_marriage','yrs_married','children','age']].to_numpy()\n",
    "Y = df['had_affair'].to_numpy()\n",
    "X_train, X_test, Y_train, Y_test = train_test_split(X, Y, test_size=0.2, random_state=0)"
   ]
  },
  {
   "cell_type": "code",
   "execution_count": 6,
   "metadata": {},
   "outputs": [
    {
     "data": {
      "text/plain": [
       "SVC(kernel='linear')"
      ]
     },
     "execution_count": 6,
     "metadata": {},
     "output_type": "execute_result"
    }
   ],
   "source": [
    "svc = svm.SVC(kernel='linear')\n",
    "svc.fit(X_train, Y_train)"
   ]
  },
  {
   "cell_type": "code",
   "execution_count": 7,
   "metadata": {},
   "outputs": [
    {
     "data": {
      "text/plain": [
       "array([[838,  47],\n",
       "       [297,  92]], dtype=int64)"
      ]
     },
     "execution_count": 7,
     "metadata": {},
     "output_type": "execute_result"
    }
   ],
   "source": [
    "Y_pred = svc.predict(X_test)\n",
    "confusion_matrix(Y_test, Y_pred)"
   ]
  },
  {
   "cell_type": "code",
   "execution_count": 39,
   "metadata": {
    "scrolled": true
   },
   "outputs": [
    {
     "name": "stdout",
     "output_type": "stream",
     "text": [
      "              precision    recall  f1-score   support\n",
      "\n",
      "           0       0.69      0.90      0.78       885\n",
      "           1       0.24      0.07      0.11       389\n",
      "\n",
      "    accuracy                           0.65      1274\n",
      "   macro avg       0.46      0.49      0.45      1274\n",
      "weighted avg       0.55      0.65      0.58      1274\n",
      "\n",
      "0.7543171114599686\n",
      "[[794  91]\n",
      " [360  29]]\n"
     ]
    }
   ],
   "source": [
    "print(classification_report(Y_test,Y_pred))\n",
    "print(svc.score(X_test, Y_test))\n",
    "print(confusion_matrix(Y_test,Y_pred))"
   ]
  },
  {
   "cell_type": "code",
   "execution_count": 9,
   "metadata": {
    "scrolled": true
   },
   "outputs": [
    {
     "name": "stdout",
     "output_type": "stream",
     "text": [
      "Mean Absolute Error: 0.27001569858712715\n",
      "Mean Squared Error: 0.27001569858712715\n",
      "Root Mean Squared Error: 0.5196303480235995\n",
      "R-squared: -0.2730193310385898\n"
     ]
    }
   ],
   "source": [
    "print('Mean Absolute Error:', metrics.mean_absolute_error(Y_test, Y_pred))\n",
    "print('Mean Squared Error:', metrics.mean_squared_error(Y_test, Y_pred))\n",
    "print('Root Mean Squared Error:', np.sqrt(metrics.mean_squared_error(Y_test, Y_pred)))\n",
    "print('R-squared:', metrics.r2_score(Y_test, Y_pred))"
   ]
  },
  {
   "cell_type": "code",
   "execution_count": 10,
   "metadata": {
    "scrolled": true
   },
   "outputs": [
    {
     "data": {
      "text/plain": [
       "<AxesSubplot:xlabel='trial'>"
      ]
     },
     "execution_count": 10,
     "metadata": {},
     "output_type": "execute_result"
    },
    {
     "data": {
      "image/png": "[encoded data removed]",
      "text/plain": [
       "<Figure size 432x288 with 1 Axes>"
      ]
     },
     "metadata": {
      "needs_background": "light"
     },
     "output_type": "display_data"
    }
   ],
   "source": [
    "rsquare = []\n",
    "for i in range(10):\n",
    "    X_train, X_test, Y_train, Y_test = train_test_split(X, Y, test_size=0.2, random_state = random.randint(1,1000))\n",
    "    model = svm.SVC(kernel='linear')\n",
    "    model.fit(X_train, Y_train)\n",
    "    Y_pred = model.predict(X_test)\n",
    "    rsquare.append(metrics.r2_score(Y_test, Y_pred))\n",
    "    \n",
    "rdf = pd.DataFrame( {'trial': range(10), 'Rsquare': rsquare})\n",
    "rdf.plot.bar(x='trial', y='Rsquare')"
   ]
  },
  {
   "cell_type": "markdown",
   "metadata": {},
   "source": [
    "#### The model looks to be pretty good for determining did not have affair (0) with an f1 score of 0.81, but it isn't so good for determining did have an affair(1) with an f1 score of 0.25. The r squared is also very low which indicates that it isn't such great a model either. It does pass 10 fold cross validation so at least we know we have consistency. It's good at detecting when there isn't cheating, but really bad, worse than flipping a coin, of determining if someone cheated. This is not a good model for predicting if someone will cheat, but good at prediciting if someone won't/didn't cheat. But the r squrat is still really bad, so this is not a good model overall."
   ]
  },
  {
   "cell_type": "markdown",
   "metadata": {},
   "source": [
    "### Question 2. Now try different value of C-parameter and rerun your model"
   ]
  },
  {
   "cell_type": "markdown",
   "metadata": {},
   "source": [
    "### Large C"
   ]
  },
  {
   "cell_type": "code",
   "execution_count": 11,
   "metadata": {},
   "outputs": [
    {
     "data": {
      "text/plain": [
       "SVC(C=32, kernel='linear')"
      ]
     },
     "execution_count": 11,
     "metadata": {},
     "output_type": "execute_result"
    }
   ],
   "source": [
    "svc = svm.SVC(kernel='linear', C=2**5)\n",
    "svc.fit(X_train, Y_train)"
   ]
  },
  {
   "cell_type": "code",
   "execution_count": 12,
   "metadata": {},
   "outputs": [
    {
     "data": {
      "text/plain": [
       "array([[810,  64],\n",
       "       [307,  93]], dtype=int64)"
      ]
     },
     "execution_count": 12,
     "metadata": {},
     "output_type": "execute_result"
    }
   ],
   "source": [
    "Y_pred = svc.predict(X_test)\n",
    "confusion_matrix(Y_test, Y_pred)"
   ]
  },
  {
   "cell_type": "code",
   "execution_count": 38,
   "metadata": {},
   "outputs": [
    {
     "name": "stdout",
     "output_type": "stream",
     "text": [
      "              precision    recall  f1-score   support\n",
      "\n",
      "           0       0.69      0.90      0.78       885\n",
      "           1       0.24      0.07      0.11       389\n",
      "\n",
      "    accuracy                           0.65      1274\n",
      "   macro avg       0.46      0.49      0.45      1274\n",
      "weighted avg       0.55      0.65      0.58      1274\n",
      "\n",
      "0.7370486656200942\n",
      "[[794  91]\n",
      " [360  29]]\n"
     ]
    }
   ],
   "source": [
    "print(classification_report(Y_test,Y_pred))\n",
    "print(model.score(X_test, Y_test))\n",
    "print(confusion_matrix(Y_test,Y_pred))"
   ]
  },
  {
   "cell_type": "code",
   "execution_count": 14,
   "metadata": {},
   "outputs": [
    {
     "name": "stdout",
     "output_type": "stream",
     "text": [
      "Mean Absolute Error: 0.29120879120879123\n",
      "Mean Squared Error: 0.29120879120879123\n",
      "Root Mean Squared Error: 0.539637648064691\n",
      "R-squared: -0.3519851258581237\n"
     ]
    }
   ],
   "source": [
    "print('Mean Absolute Error:', metrics.mean_absolute_error(Y_test, Y_pred))\n",
    "print('Mean Squared Error:', metrics.mean_squared_error(Y_test, Y_pred))\n",
    "print('Root Mean Squared Error:', np.sqrt(metrics.mean_squared_error(Y_test, Y_pred)))\n",
    "print('R-squared:', metrics.r2_score(Y_test, Y_pred))"
   ]
  },
  {
   "cell_type": "code",
   "execution_count": 15,
   "metadata": {},
   "outputs": [
    {
     "data": {
      "text/plain": [
       "<AxesSubplot:xlabel='trial'>"
      ]
     },
     "execution_count": 15,
     "metadata": {},
     "output_type": "execute_result"
    },
    {
     "data": {
      "image/png": "[encoded data removed]",
      "text/plain": [
       "<Figure size 432x288 with 1 Axes>"
      ]
     },
     "metadata": {
      "needs_background": "light"
     },
     "output_type": "display_data"
    }
   ],
   "source": [
    "rsquare = []\n",
    "for i in range(10):\n",
    "    X_train, X_test, Y_train, Y_test = train_test_split(X, Y, test_size=0.2, random_state = random.randint(1,1000))\n",
    "    model = svm.SVC()\n",
    "    model.fit(X_train, Y_train)\n",
    "    Y_pred = model.predict(X_test)\n",
    "    rsquare.append(metrics.r2_score(Y_test, Y_pred))\n",
    "    \n",
    "rdf = pd.DataFrame( {'trial': range(10), 'Rsquare': rsquare})\n",
    "rdf.plot.bar(x='trial', y='Rsquare')"
   ]
  },
  {
   "cell_type": "markdown",
   "metadata": {},
   "source": [
    "#### As before, the model looks to be pretty good for determining did not have affair with an f1 score of 0.82, but it isn't so good for determining did have an affair(1) with an f1 score of 0.35. The r squared is also very low which indicates that it isn't such great a model either. It does pass 10 fold cross validation so at least we know we have consistency. It's good at detecting when there isn't cheating, but really bad, worse than flipping a coin, of determining if someone cheated. This is not a good model for predicting if someone will cheat, but good at prediciting if someone won't/didn't cheat. But the r squrat is still really bad, so this is not a good model overall.¶The accuracy is pretty good overall, but the f1 scores indicate, it isn't so great overall (the really good 0 case makes it look okay. Important to look at details). I think raising the C parameter did not help since we are being more strict/higher penalty on the misclassifyings, but the data appears to be not clear cut (as opposed to the muffin case) and trying to find  a hyperplane in our data that is really accurate is going to be impossible/hard."
   ]
  },
  {
   "cell_type": "markdown",
   "metadata": {},
   "source": [
    "### Small C"
   ]
  },
  {
   "cell_type": "code",
   "execution_count": 16,
   "metadata": {},
   "outputs": [
    {
     "data": {
      "text/plain": [
       "SVC(C=0.03125, kernel='linear')"
      ]
     },
     "execution_count": 16,
     "metadata": {},
     "output_type": "execute_result"
    }
   ],
   "source": [
    "svc = svm.SVC(kernel='linear', C=2**-5)\n",
    "svc.fit(X_train, Y_train)"
   ]
  },
  {
   "cell_type": "code",
   "execution_count": 17,
   "metadata": {},
   "outputs": [
    {
     "data": {
      "text/plain": [
       "array([[796,  37],\n",
       "       [345,  96]], dtype=int64)"
      ]
     },
     "execution_count": 17,
     "metadata": {},
     "output_type": "execute_result"
    }
   ],
   "source": [
    "Y_pred = svc.predict(X_test)\n",
    "confusion_matrix(Y_test, Y_pred)"
   ]
  },
  {
   "cell_type": "code",
   "execution_count": 37,
   "metadata": {},
   "outputs": [
    {
     "name": "stdout",
     "output_type": "stream",
     "text": [
      "              precision    recall  f1-score   support\n",
      "\n",
      "           0       0.69      0.90      0.78       885\n",
      "           1       0.24      0.07      0.11       389\n",
      "\n",
      "    accuracy                           0.65      1274\n",
      "   macro avg       0.46      0.49      0.45      1274\n",
      "weighted avg       0.55      0.65      0.58      1274\n",
      "\n",
      "0.7370486656200942\n",
      "[[794  91]\n",
      " [360  29]]\n"
     ]
    }
   ],
   "source": [
    "print(classification_report(Y_test,Y_pred))\n",
    "print(model.score(X_test, Y_test))\n",
    "print(confusion_matrix(Y_test,Y_pred))"
   ]
  },
  {
   "cell_type": "code",
   "execution_count": 19,
   "metadata": {},
   "outputs": [
    {
     "name": "stdout",
     "output_type": "stream",
     "text": [
      "Mean Absolute Error: 0.29984301412872844\n",
      "Mean Squared Error: 0.29984301412872844\n",
      "Root Mean Squared Error: 0.5475792309143294\n",
      "R-squared: -0.32479658530078703\n"
     ]
    }
   ],
   "source": [
    "print('Mean Absolute Error:', metrics.mean_absolute_error(Y_test, Y_pred))\n",
    "print('Mean Squared Error:', metrics.mean_squared_error(Y_test, Y_pred))\n",
    "print('Root Mean Squared Error:', np.sqrt(metrics.mean_squared_error(Y_test, Y_pred)))\n",
    "print('R-squared:', metrics.r2_score(Y_test, Y_pred))"
   ]
  },
  {
   "cell_type": "code",
   "execution_count": 20,
   "metadata": {},
   "outputs": [
    {
     "data": {
      "text/plain": [
       "<AxesSubplot:xlabel='trial'>"
      ]
     },
     "execution_count": 20,
     "metadata": {},
     "output_type": "execute_result"
    },
    {
     "data": {
      "image/png": "[encoded data removed]",
      "text/plain": [
       "<Figure size 432x288 with 1 Axes>"
      ]
     },
     "metadata": {
      "needs_background": "light"
     },
     "output_type": "display_data"
    }
   ],
   "source": [
    "rsquare = []\n",
    "for i in range(10):\n",
    "    X_train, X_test, Y_train, Y_test = train_test_split(X, Y, test_size=0.2, random_state = random.randint(1,1000))\n",
    "    model = svm.SVC()\n",
    "    model.fit(X_train, Y_train)\n",
    "    Y_pred = model.predict(X_test)\n",
    "    rsquare.append(metrics.r2_score(Y_test, Y_pred))\n",
    "    \n",
    "rdf = pd.DataFrame( {'trial': range(10), 'Rsquare': rsquare})\n",
    "rdf.plot.bar(x='trial', y='Rsquare')"
   ]
  },
  {
   "cell_type": "markdown",
   "metadata": {},
   "source": [
    "#### As before, the model looks to be pretty good for determining did not have affair with an f1 score of 0.81, but it isn't so good for determining did have an affair(1) with an f1 score of 0.33. The r squared is also very low which indicates that it isn't such great a model either, but it is better than with a large C. It does pass 10 fold cross validation so at least we know we have consistency. It's good at detecting when there isn't cheating, but really bad, worse than flipping a coin, of determining if someone cheated. This is not a good model for predicting if someone will cheat, but good at prediciting if someone won't/didn't cheat. But the r squrat is still really bad, so this is not a good model overall.¶The accuracy is pretty good overall, but the f1 scores indicate, it isn't so great overall (the really good 0 case makes it look okay. Important to look at details). I think lowering the C parameter did not help a little since we are being less strict/lower penaty for misclassifying, and the data appears to be not clear cut (as opposed to the muffin case) and trying to find  a hyperplane in our data that is really accurate is going to be impossible/hard. If we lax on the classifying rules, we at least might get better classification overall."
   ]
  },
  {
   "cell_type": "markdown",
   "metadata": {},
   "source": [
    "### Question 3. Now use rbf as your kernel along with different value for Gamma and C"
   ]
  },
  {
   "cell_type": "code",
   "execution_count": 21,
   "metadata": {},
   "outputs": [],
   "source": [
    "gammas = [2**5, 2**-5]\n",
    "c_s = [10, 100, 1000]"
   ]
  },
  {
   "cell_type": "code",
   "execution_count": 22,
   "metadata": {
    "scrolled": true
   },
   "outputs": [
    {
     "name": "stdout",
     "output_type": "stream",
     "text": [
      "---------------------------------------\n",
      "c: 10\tgamma: 32\n",
      "\n",
      "[[736 114]\n",
      " [285 139]]\n",
      "              precision    recall  f1-score   support\n",
      "\n",
      "           0       0.72      0.87      0.79       850\n",
      "           1       0.55      0.33      0.41       424\n",
      "\n",
      "    accuracy                           0.69      1274\n",
      "   macro avg       0.64      0.60      0.60      1274\n",
      "weighted avg       0.66      0.69      0.66      1274\n",
      "\n",
      "Mean Absolute Error: 0.3131868131868132\n",
      "Mean Squared Error: 0.3131868131868132\n",
      "Root Mean Squared Error: 0.5596309616048893\n",
      "R-squared: -0.4104495005549387\n",
      "---------------------------------------\n",
      "c: 100\tgamma: 32\n",
      "\n",
      "[[759  99]\n",
      " [281 135]]\n",
      "              precision    recall  f1-score   support\n",
      "\n",
      "           0       0.73      0.88      0.80       858\n",
      "           1       0.58      0.32      0.42       416\n",
      "\n",
      "    accuracy                           0.70      1274\n",
      "   macro avg       0.65      0.60      0.61      1274\n",
      "weighted avg       0.68      0.70      0.67      1274\n",
      "\n",
      "Mean Absolute Error: 0.29827315541601257\n",
      "Mean Squared Error: 0.29827315541601257\n",
      "Root Mean Squared Error: 0.5461438962544694\n",
      "R-squared: -0.3563519813519809\n",
      "---------------------------------------\n",
      "c: 1000\tgamma: 32\n",
      "\n",
      "[[790  79]\n",
      " [286 119]]\n",
      "              precision    recall  f1-score   support\n",
      "\n",
      "           0       0.73      0.91      0.81       869\n",
      "           1       0.60      0.29      0.39       405\n",
      "\n",
      "    accuracy                           0.71      1274\n",
      "   macro avg       0.67      0.60      0.60      1274\n",
      "weighted avg       0.69      0.71      0.68      1274\n",
      "\n",
      "Mean Absolute Error: 0.28649921507064363\n",
      "Mean Squared Error: 0.28649921507064363\n",
      "Root Mean Squared Error: 0.5352562144157167\n",
      "R-squared: -0.32125758286095785\n",
      "---------------------------------------\n",
      "c: 10\tgamma: 0.03125\n",
      "\n",
      "[[794  54]\n",
      " [317 109]]\n",
      "              precision    recall  f1-score   support\n",
      "\n",
      "           0       0.71      0.94      0.81       848\n",
      "           1       0.67      0.26      0.37       426\n",
      "\n",
      "    accuracy                           0.71      1274\n",
      "   macro avg       0.69      0.60      0.59      1274\n",
      "weighted avg       0.70      0.71      0.66      1274\n",
      "\n",
      "Mean Absolute Error: 0.29120879120879123\n",
      "Mean Squared Error: 0.29120879120879123\n",
      "Root Mean Squared Error: 0.539637648064691\n",
      "R-squared: -0.30839201877934275\n",
      "---------------------------------------\n",
      "c: 100\tgamma: 0.03125\n",
      "\n",
      "[[770 103]\n",
      " [263 138]]\n",
      "              precision    recall  f1-score   support\n",
      "\n",
      "           0       0.75      0.88      0.81       873\n",
      "           1       0.57      0.34      0.43       401\n",
      "\n",
      "    accuracy                           0.71      1274\n",
      "   macro avg       0.66      0.61      0.62      1274\n",
      "weighted avg       0.69      0.71      0.69      1274\n",
      "\n",
      "Mean Absolute Error: 0.28728414442700156\n",
      "Mean Squared Error: 0.28728414442700156\n",
      "Root Mean Squared Error: 0.535988940582734\n",
      "R-squared: -0.33196219074307365\n",
      "---------------------------------------\n",
      "c: 1000\tgamma: 0.03125\n",
      "\n",
      "[[760 104]\n",
      " [259 151]]\n",
      "              precision    recall  f1-score   support\n",
      "\n",
      "           0       0.75      0.88      0.81       864\n",
      "           1       0.59      0.37      0.45       410\n",
      "\n",
      "    accuracy                           0.72      1274\n",
      "   macro avg       0.67      0.62      0.63      1274\n",
      "weighted avg       0.70      0.72      0.69      1274\n",
      "\n",
      "Mean Absolute Error: 0.28492935635792777\n",
      "Mean Squared Error: 0.28492935635792777\n",
      "Root Mean Squared Error: 0.5337877446681666\n",
      "R-squared: -0.30550474254742555\n"
     ]
    },
    {
     "data": {
      "image/png": "[encoded data removed]",
      "text/plain": [
       "<Figure size 432x288 with 1 Axes>"
      ]
     },
     "metadata": {
      "needs_background": "light"
     },
     "output_type": "display_data"
    },
    {
     "data": {
      "image/png": "[encoded data removed]",
      "text/plain": [
       "<Figure size 432x288 with 1 Axes>"
      ]
     },
     "metadata": {
      "needs_background": "light"
     },
     "output_type": "display_data"
    },
    {
     "data": {
      "image/png": "[encoded data removed]",
      "text/plain": [
       "<Figure size 432x288 with 1 Axes>"
      ]
     },
     "metadata": {
      "needs_background": "light"
     },
     "output_type": "display_data"
    },
    {
     "data": {
      "image/png": "[encoded data removed]",
      "text/plain": [
       "<Figure size 432x288 with 1 Axes>"
      ]
     },
     "metadata": {
      "needs_background": "light"
     },
     "output_type": "display_data"
    },
    {
     "data": {
      "image/png": "[encoded data removed]",
      "text/plain": [
       "<Figure size 432x288 with 1 Axes>"
      ]
     },
     "metadata": {
      "needs_background": "light"
     },
     "output_type": "display_data"
    },
    {
     "data": {
      "image/png": "[encoded data removed]",
      "text/plain": [
       "<Figure size 432x288 with 1 Axes>"
      ]
     },
     "metadata": {
      "needs_background": "light"
     },
     "output_type": "display_data"
    }
   ],
   "source": [
    "for g in gammas:\n",
    "    for c in c_s:\n",
    "        svc = svm.SVC(kernel='rbf', probability=True, C=c, gamma=g)\n",
    "        svc.fit(X_train, Y_train)\n",
    "        Y_pred = svc.predict(X_test)\n",
    "        model.score(X_test, Y_test)\n",
    "        print('---------------------------------------')\n",
    "        print('c: ' + str(c) + '\\t' + 'gamma: ' +str(g) + '\\n')\n",
    "        model.score(X_test, Y_test)\n",
    "        print(confusion_matrix(Y_test, Y_pred))\n",
    "        print(classification_report(Y_test,Y_pred))\n",
    "        print('Mean Absolute Error:', metrics.mean_absolute_error(Y_test, Y_pred))\n",
    "        print('Mean Squared Error:', metrics.mean_squared_error(Y_test, Y_pred))\n",
    "        print('Root Mean Squared Error:', np.sqrt(metrics.mean_squared_error(Y_test, Y_pred)))\n",
    "        print('R-squared:', metrics.r2_score(Y_test, Y_pred))\n",
    "        rsquare = []\n",
    "        for i in range(10):\n",
    "            X_train, X_test, Y_train, Y_test = train_test_split(X, Y, test_size=0.2, random_state = random.randint(1,1000))\n",
    "            model = svm.SVC()\n",
    "            model.fit(X_train, Y_train)\n",
    "            Y_pred = model.predict(X_test)\n",
    "            rsquare.append(metrics.r2_score(Y_test, Y_pred))\n",
    "    \n",
    "        rdf = pd.DataFrame( {'trial': range(10), 'Rsquare': rsquare})\n",
    "        rdf.plot.bar(x='trial', y='Rsquare')"
   ]
  },
  {
   "cell_type": "markdown",
   "metadata": {},
   "source": [
    "### Question 4. So out of all the models you try in Question 2 and 3, what is the best choice for the kernel, C and gamma parameters? Comment on the effect of using different C and Gamma parameters"
   ]
  },
  {
   "cell_type": "markdown",
   "metadata": {},
   "source": [
    "### From the data here it appears that the best choice for the kernel is Radial basis function kernel with c=1000 and gamma = 2**-5. Since the data is not clean cut (unlike the muffin data from lecture), assigning a high penalty can force a better hyperplane and not let the model settle on a 'good enough' hyperplane. The low gamma means that we have much larger radii for the groups resulting in more points being grouped together. The f1 score of .71 is pretty good. The f1 score for predicting no affair is much better at 0.79 but for when there is an affair it is much lower at .45 (one of the better f1 scores for had an affair amongst all of our models).\n",
    "### In the model with a low C (10) and a high gamma (32), the model was about the same a linear model. The high gamma does mean that there is a lot of overfitting which is true of both the linear model and this model (rbf, c=10, gamma =32). The r squrared improves as the margin gets harder. This indicates that the model might be overfitting and can lead to invalid conclusions. All of the f1 scores are about the same interestingly enough. We also see that all of the r squared amongst our models are about the same (~-..3) indicating that there is a correlation amonst our data that should be worked upon.\n",
    "### Something that should also be noted is the very high rate of false negatives. I am not a philosipher and will not discuss the impacts of false negatives, but I think it is worth mentioning that there might be a problem here and let the philophers decide if it is morally a problem or not. But when analyzing our model this must be taken into consideration."
   ]
  },
  {
   "cell_type": "markdown",
   "metadata": {},
   "source": [
    "# Now we will try to fit the same dataset with Decision Trees"
   ]
  },
  {
   "cell_type": "markdown",
   "metadata": {},
   "source": [
    "### Question 5. Build a Decision Tree Classifier using default parameter"
   ]
  },
  {
   "cell_type": "code",
   "execution_count": 23,
   "metadata": {},
   "outputs": [
    {
     "data": {
      "text/plain": [
       "DecisionTreeClassifier()"
      ]
     },
     "execution_count": 23,
     "metadata": {},
     "output_type": "execute_result"
    }
   ],
   "source": [
    "model = DecisionTreeClassifier()\n",
    "model.fit(X_train,Y_train)"
   ]
  },
  {
   "cell_type": "code",
   "execution_count": 24,
   "metadata": {},
   "outputs": [
    {
     "name": "stdout",
     "output_type": "stream",
     "text": [
      "[[776  81]\n",
      " [296 121]]\n",
      "              precision    recall  f1-score   support\n",
      "\n",
      "           0       0.72      0.91      0.80       857\n",
      "           1       0.60      0.29      0.39       417\n",
      "\n",
      "    accuracy                           0.70      1274\n",
      "   macro avg       0.66      0.60      0.60      1274\n",
      "weighted avg       0.68      0.70      0.67      1274\n",
      "\n",
      "0.7040816326530612\n"
     ]
    }
   ],
   "source": [
    "predictions = model.predict(X_test)\n",
    "print(confusion_matrix(Y_test,predictions))\n",
    "print(classification_report(Y_test,predictions))\n",
    "print(accuracy_score(Y_test, predictions))"
   ]
  },
  {
   "cell_type": "code",
   "execution_count": 25,
   "metadata": {},
   "outputs": [
    {
     "data": {
      "text/plain": [
       "[Text(118.70880643905694, 210.192, 'X[0] <= 3.5\\ngini = 0.436\\nsamples = 5092\\nvalue = [3456, 1636]'),\n",
       " Text(39.594294928825626, 195.696, 'X[1] <= 4.25\\ngini = 0.486\\nsamples = 1152\\nvalue = [481, 671]'),\n",
       " Text(9.48202846975089, 181.2, 'X[1] <= 1.5\\ngini = 0.495\\nsamples = 314\\nvalue = [172, 142]'),\n",
       " Text(3.1772241992882564, 166.704, 'X[3] <= 29.5\\ngini = 0.287\\nsamples = 23\\nvalue = [19, 4]'),\n",
       " Text(2.3829181494661924, 152.208, 'X[0] <= 2.5\\ngini = 0.236\\nsamples = 22\\nvalue = [19, 3]'),\n",
       " Text(1.5886120996441282, 137.712, 'gini = 0.0\\nsamples = 4\\nvalue = [4, 0]'),\n",
       " Text(3.1772241992882564, 137.712, 'X[3] <= 24.5\\ngini = 0.278\\nsamples = 18\\nvalue = [15, 3]'),\n",
       " Text(2.3829181494661924, 123.216, 'X[2] <= 0.5\\ngini = 0.245\\nsamples = 14\\nvalue = [12, 2]'),\n",
       " Text(1.5886120996441282, 108.72, 'X[3] <= 19.75\\ngini = 0.26\\nsamples = 13\\nvalue = [11, 2]'),\n",
       " Text(0.7943060498220641, 94.22399999999999, 'gini = 0.0\\nsamples = 1\\nvalue = [1, 0]'),\n",
       " Text(2.3829181494661924, 94.22399999999999, 'gini = 0.278\\nsamples = 12\\nvalue = [10, 2]'),\n",
       " Text(3.1772241992882564, 108.72, 'gini = 0.0\\nsamples = 1\\nvalue = [1, 0]'),\n",
       " Text(3.9715302491103204, 123.216, 'gini = 0.375\\nsamples = 4\\nvalue = [3, 1]'),\n",
       " Text(3.9715302491103204, 152.208, 'gini = 0.0\\nsamples = 1\\nvalue = [0, 1]'),\n",
       " Text(15.786832740213525, 166.704, 'X[0] <= 2.5\\ngini = 0.499\\nsamples = 291\\nvalue = [153, 138]'),\n",
       " Text(10.921708185053381, 152.208, 'X[3] <= 34.5\\ngini = 0.495\\nsamples = 89\\nvalue = [40, 49]'),\n",
       " Text(10.127402135231318, 137.712, 'X[2] <= 0.5\\ngini = 0.497\\nsamples = 87\\nvalue = [40, 47]'),\n",
       " Text(6.354448398576513, 123.216, 'X[0] <= 1.5\\ngini = 0.476\\nsamples = 41\\nvalue = [16, 25]'),\n",
       " Text(4.765836298932385, 108.72, 'X[3] <= 24.5\\ngini = 0.245\\nsamples = 7\\nvalue = [1, 6]'),\n",
       " Text(3.9715302491103204, 94.22399999999999, 'gini = 0.0\\nsamples = 3\\nvalue = [0, 3]'),\n",
       " Text(5.560142348754448, 94.22399999999999, 'gini = 0.375\\nsamples = 4\\nvalue = [1, 3]'),\n",
       " Text(7.943060498220641, 108.72, 'X[3] <= 19.75\\ngini = 0.493\\nsamples = 34\\nvalue = [15, 19]'),\n",
       " Text(7.148754448398577, 94.22399999999999, 'gini = 0.0\\nsamples = 1\\nvalue = [0, 1]'),\n",
       " Text(8.737366548042704, 94.22399999999999, 'X[3] <= 29.5\\ngini = 0.496\\nsamples = 33\\nvalue = [15, 18]'),\n",
       " Text(7.943060498220641, 79.72799999999998, 'X[3] <= 24.5\\ngini = 0.498\\nsamples = 32\\nvalue = [15, 17]'),\n",
       " Text(7.148754448398577, 65.232, 'gini = 0.5\\nsamples = 24\\nvalue = [12, 12]'),\n",
       " Text(8.737366548042704, 65.232, 'gini = 0.469\\nsamples = 8\\nvalue = [3, 5]'),\n",
       " Text(9.53167259786477, 79.72799999999998, 'gini = 0.0\\nsamples = 1\\nvalue = [0, 1]'),\n",
       " Text(13.900355871886122, 123.216, 'X[3] <= 29.5\\ngini = 0.499\\nsamples = 46\\nvalue = [24, 22]'),\n",
       " Text(13.106049822064058, 108.72, 'X[3] <= 19.75\\ngini = 0.5\\nsamples = 44\\nvalue = [22, 22]'),\n",
       " Text(12.311743772241993, 94.22399999999999, 'gini = 0.444\\nsamples = 3\\nvalue = [2, 1]'),\n",
       " Text(13.900355871886122, 94.22399999999999, 'X[2] <= 1.5\\ngini = 0.5\\nsamples = 41\\nvalue = [20, 21]'),\n",
       " Text(11.914590747330962, 79.72799999999998, 'X[0] <= 1.5\\ngini = 0.498\\nsamples = 34\\nvalue = [16, 18]'),\n",
       " Text(10.325978647686833, 65.232, 'X[3] <= 24.5\\ngini = 0.5\\nsamples = 6\\nvalue = [3, 3]'),\n",
       " Text(9.53167259786477, 50.73599999999999, 'gini = 0.48\\nsamples = 5\\nvalue = [3, 2]'),\n",
       " Text(11.120284697508897, 50.73599999999999, 'gini = 0.0\\nsamples = 1\\nvalue = [0, 1]'),\n",
       " Text(13.503202846975089, 65.232, 'X[3] <= 24.5\\ngini = 0.497\\nsamples = 28\\nvalue = [13, 15]'),\n",
       " Text(12.708896797153026, 50.73599999999999, 'gini = 0.494\\nsamples = 18\\nvalue = [8, 10]'),\n",
       " Text(14.297508896797154, 50.73599999999999, 'gini = 0.5\\nsamples = 10\\nvalue = [5, 5]'),\n",
       " Text(15.886120996441282, 79.72799999999998, 'X[3] <= 24.5\\ngini = 0.49\\nsamples = 7\\nvalue = [4, 3]'),\n",
       " Text(15.091814946619218, 65.232, 'gini = 0.48\\nsamples = 5\\nvalue = [3, 2]'),\n",
       " Text(16.680427046263347, 65.232, 'gini = 0.5\\nsamples = 2\\nvalue = [1, 1]'),\n",
       " Text(14.694661921708185, 108.72, 'gini = 0.0\\nsamples = 2\\nvalue = [2, 0]'),\n",
       " Text(11.716014234875445, 137.712, 'gini = 0.0\\nsamples = 2\\nvalue = [0, 2]'),\n",
       " Text(20.651957295373666, 152.208, 'X[3] <= 29.5\\ngini = 0.493\\nsamples = 202\\nvalue = [113, 89]'),\n",
       " Text(19.8576512455516, 137.712, 'X[3] <= 19.75\\ngini = 0.496\\nsamples = 195\\nvalue = [106, 89]'),\n",
       " Text(18.269039145907474, 123.216, 'X[2] <= 0.5\\ngini = 0.32\\nsamples = 10\\nvalue = [8, 2]'),\n",
       " Text(17.47473309608541, 108.72, 'gini = 0.444\\nsamples = 6\\nvalue = [4, 2]'),\n",
       " Text(19.06334519572954, 108.72, 'gini = 0.0\\nsamples = 4\\nvalue = [4, 0]'),\n",
       " Text(21.44626334519573, 123.216, 'X[2] <= 3.0\\ngini = 0.498\\nsamples = 185\\nvalue = [98, 87]'),\n",
       " Text(20.651957295373666, 108.72, 'X[3] <= 24.5\\ngini = 0.498\\nsamples = 184\\nvalue = [98, 86]'),\n",
       " Text(18.269039145907474, 94.22399999999999, 'X[2] <= 0.5\\ngini = 0.496\\nsamples = 132\\nvalue = [72, 60]'),\n",
       " Text(17.47473309608541, 79.72799999999998, 'gini = 0.498\\nsamples = 85\\nvalue = [45, 40]'),\n",
       " Text(19.06334519572954, 79.72799999999998, 'X[2] <= 1.5\\ngini = 0.489\\nsamples = 47\\nvalue = [27, 20]'),\n",
       " Text(18.269039145907474, 65.232, 'gini = 0.492\\nsamples = 39\\nvalue = [22, 17]'),\n",
       " Text(19.8576512455516, 65.232, 'gini = 0.469\\nsamples = 8\\nvalue = [5, 3]'),\n",
       " Text(23.03487544483986, 94.22399999999999, 'X[2] <= 1.5\\ngini = 0.5\\nsamples = 52\\nvalue = [26, 26]'),\n",
       " Text(22.240569395017793, 79.72799999999998, 'X[2] <= 0.5\\ngini = 0.499\\nsamples = 48\\nvalue = [25, 23]'),\n",
       " Text(21.44626334519573, 65.232, 'gini = 0.5\\nsamples = 35\\nvalue = [18, 17]'),\n",
       " Text(23.03487544483986, 65.232, 'gini = 0.497\\nsamples = 13\\nvalue = [7, 6]'),\n",
       " Text(23.829181494661924, 79.72799999999998, 'gini = 0.375\\nsamples = 4\\nvalue = [1, 3]'),\n",
       " Text(22.240569395017793, 108.72, 'gini = 0.0\\nsamples = 1\\nvalue = [0, 1]'),\n",
       " Text(21.44626334519573, 137.712, 'gini = 0.0\\nsamples = 7\\nvalue = [7, 0]'),\n",
       " Text(69.70656138790036, 181.2, 'X[0] <= 1.5\\ngini = 0.466\\nsamples = 838\\nvalue = [309, 529]'),\n",
       " Text(33.162277580071176, 166.704, 'X[1] <= 14.75\\ngini = 0.339\\nsamples = 60\\nvalue = [13, 47]'),\n",
       " Text(30.183629893238436, 152.208, 'X[2] <= 3.5\\ngini = 0.463\\nsamples = 22\\nvalue = [8, 14]'),\n",
       " Text(29.38932384341637, 137.712, 'X[3] <= 39.5\\ngini = 0.42\\nsamples = 20\\nvalue = [6, 14]'),\n",
       " Text(28.59501779359431, 123.216, 'X[1] <= 7.5\\ngini = 0.388\\nsamples = 19\\nvalue = [5, 14]'),\n",
       " Text(27.006405693950178, 108.72, 'X[2] <= 1.5\\ngini = 0.5\\nsamples = 6\\nvalue = [3, 3]'),\n",
       " Text(26.212099644128116, 94.22399999999999, 'X[2] <= 0.5\\ngini = 0.375\\nsamples = 4\\nvalue = [3, 1]'),\n",
       " Text(25.41779359430605, 79.72799999999998, 'gini = 0.0\\nsamples = 1\\nvalue = [1, 0]'),\n",
       " Text(27.006405693950178, 79.72799999999998, 'gini = 0.444\\nsamples = 3\\nvalue = [2, 1]'),\n",
       " Text(27.800711743772244, 94.22399999999999, 'gini = 0.0\\nsamples = 2\\nvalue = [0, 2]'),\n",
       " Text(30.183629893238436, 108.72, 'X[2] <= 1.5\\ngini = 0.26\\nsamples = 13\\nvalue = [2, 11]'),\n",
       " Text(29.38932384341637, 94.22399999999999, 'gini = 0.0\\nsamples = 4\\nvalue = [0, 4]'),\n",
       " Text(30.9779359430605, 94.22399999999999, 'X[2] <= 2.5\\ngini = 0.346\\nsamples = 9\\nvalue = [2, 7]'),\n",
       " Text(30.183629893238436, 79.72799999999998, 'X[3] <= 34.5\\ngini = 0.444\\nsamples = 6\\nvalue = [2, 4]'),\n",
       " Text(29.38932384341637, 65.232, 'X[3] <= 29.5\\ngini = 0.32\\nsamples = 5\\nvalue = [1, 4]'),\n",
       " Text(28.59501779359431, 50.73599999999999, 'gini = 0.0\\nsamples = 1\\nvalue = [0, 1]'),\n",
       " Text(30.183629893238436, 50.73599999999999, 'gini = 0.375\\nsamples = 4\\nvalue = [1, 3]'),\n",
       " Text(30.9779359430605, 65.232, 'gini = 0.0\\nsamples = 1\\nvalue = [1, 0]'),\n",
       " Text(31.772241992882563, 79.72799999999998, 'gini = 0.0\\nsamples = 3\\nvalue = [0, 3]'),\n",
       " Text(30.183629893238436, 123.216, 'gini = 0.0\\nsamples = 1\\nvalue = [1, 0]'),\n",
       " Text(30.9779359430605, 137.712, 'gini = 0.0\\nsamples = 2\\nvalue = [2, 0]'),\n",
       " Text(36.14092526690391, 152.208, 'X[2] <= 4.75\\ngini = 0.229\\nsamples = 38\\nvalue = [5, 33]'),\n",
       " Text(34.155160142348755, 137.712, 'X[3] <= 39.5\\ngini = 0.175\\nsamples = 31\\nvalue = [3, 28]'),\n",
       " Text(32.566548042704625, 123.216, 'X[2] <= 3.5\\ngini = 0.124\\nsamples = 15\\nvalue = [1, 14]'),\n",
       " Text(31.772241992882563, 108.72, 'gini = 0.0\\nsamples = 10\\nvalue = [0, 10]'),\n",
       " Text(33.360854092526694, 108.72, 'X[3] <= 34.5\\ngini = 0.32\\nsamples = 5\\nvalue = [1, 4]'),\n",
       " Text(32.566548042704625, 94.22399999999999, 'gini = 0.5\\nsamples = 2\\nvalue = [1, 1]'),\n",
       " Text(34.155160142348755, 94.22399999999999, 'gini = 0.0\\nsamples = 3\\nvalue = [0, 3]'),\n",
       " Text(35.743772241992886, 123.216, 'X[1] <= 19.75\\ngini = 0.219\\nsamples = 16\\nvalue = [2, 14]'),\n",
       " Text(34.94946619217082, 108.72, 'gini = 0.0\\nsamples = 2\\nvalue = [0, 2]'),\n",
       " Text(36.53807829181495, 108.72, 'X[2] <= 3.5\\ngini = 0.245\\nsamples = 14\\nvalue = [2, 12]'),\n",
       " Text(35.743772241992886, 94.22399999999999, 'X[2] <= 2.5\\ngini = 0.278\\nsamples = 12\\nvalue = [2, 10]'),\n",
       " Text(34.94946619217082, 79.72799999999998, 'gini = 0.245\\nsamples = 7\\nvalue = [1, 6]'),\n",
       " Text(36.53807829181495, 79.72799999999998, 'gini = 0.32\\nsamples = 5\\nvalue = [1, 4]'),\n",
       " Text(37.33238434163701, 94.22399999999999, 'gini = 0.0\\nsamples = 2\\nvalue = [0, 2]'),\n",
       " Text(38.12669039145908, 137.712, 'X[3] <= 34.5\\ngini = 0.408\\nsamples = 7\\nvalue = [2, 5]'),\n",
       " Text(37.33238434163701, 123.216, 'gini = 0.0\\nsamples = 1\\nvalue = [1, 0]'),\n",
       " Text(38.92099644128114, 123.216, 'X[1] <= 19.75\\ngini = 0.278\\nsamples = 6\\nvalue = [1, 5]'),\n",
       " Text(38.12669039145908, 108.72, 'gini = 0.0\\nsamples = 2\\nvalue = [0, 2]'),\n",
       " Text(39.7153024911032, 108.72, 'X[3] <= 39.5\\ngini = 0.375\\nsamples = 4\\nvalue = [1, 3]'),\n",
       " Text(38.92099644128114, 94.22399999999999, 'gini = 0.0\\nsamples = 1\\nvalue = [0, 1]'),\n",
       " Text(40.50960854092527, 94.22399999999999, 'gini = 0.444\\nsamples = 3\\nvalue = [1, 2]'),\n",
       " Text(106.25084519572954, 166.704, 'X[3] <= 39.5\\ngini = 0.471\\nsamples = 778\\nvalue = [296, 482]'),\n",
       " Text(85.8346975088968, 152.208, 'X[1] <= 14.75\\ngini = 0.462\\nsamples = 617\\nvalue = [224, 393]'),\n",
       " Text(62.55160142348755, 137.712, 'X[3] <= 29.5\\ngini = 0.479\\nsamples = 430\\nvalue = [171, 259]'),\n",
       " Text(49.27179715302491, 123.216, 'X[0] <= 2.5\\ngini = 0.467\\nsamples = 294\\nvalue = [109, 185]'),\n",
       " Text(44.28256227758008, 108.72, 'X[1] <= 7.5\\ngini = 0.394\\nsamples = 74\\nvalue = [20, 54]'),\n",
       " Text(42.098220640569394, 94.22399999999999, 'X[2] <= 1.5\\ngini = 0.431\\nsamples = 54\\nvalue = [17, 37]'),\n",
       " Text(40.112455516014236, 79.72799999999998, 'X[3] <= 24.5\\ngini = 0.463\\nsamples = 33\\nvalue = [12, 21]'),\n",
       " Text(38.523843416370106, 65.232, 'X[2] <= 0.5\\ngini = 0.494\\nsamples = 9\\nvalue = [4, 5]'),\n",
       " Text(37.729537366548044, 50.73599999999999, 'gini = 0.48\\nsamples = 5\\nvalue = [2, 3]'),\n",
       " Text(39.318149466192175, 50.73599999999999, 'gini = 0.5\\nsamples = 4\\nvalue = [2, 2]'),\n",
       " Text(41.70106761565837, 65.232, 'X[2] <= 0.5\\ngini = 0.444\\nsamples = 24\\nvalue = [8, 16]'),\n",
       " Text(40.9067615658363, 50.73599999999999, 'gini = 0.469\\nsamples = 8\\nvalue = [3, 5]'),\n",
       " Text(42.49537366548043, 50.73599999999999, 'gini = 0.43\\nsamples = 16\\nvalue = [5, 11]'),\n",
       " Text(44.08398576512456, 79.72799999999998, 'X[3] <= 24.5\\ngini = 0.363\\nsamples = 21\\nvalue = [5, 16]'),\n",
       " Text(43.28967971530249, 65.232, 'gini = 0.0\\nsamples = 8\\nvalue = [0, 8]'),\n",
       " Text(44.87829181494662, 65.232, 'gini = 0.473\\nsamples = 13\\nvalue = [5, 8]'),\n",
       " Text(46.46690391459075, 94.22399999999999, 'X[3] <= 24.5\\ngini = 0.255\\nsamples = 20\\nvalue = [3, 17]'),\n",
       " Text(45.67259786476868, 79.72799999999998, 'gini = 0.0\\nsamples = 1\\nvalue = [1, 0]'),\n",
       " Text(47.261209964412814, 79.72799999999998, 'X[2] <= 1.5\\ngini = 0.188\\nsamples = 19\\nvalue = [2, 17]'),\n",
       " Text(46.46690391459075, 65.232, 'X[2] <= 0.5\\ngini = 0.32\\nsamples = 10\\nvalue = [2, 8]'),\n",
       " Text(45.67259786476868, 50.73599999999999, 'gini = 0.0\\nsamples = 2\\nvalue = [0, 2]'),\n",
       " Text(47.261209964412814, 50.73599999999999, 'X[1] <= 11.0\\ngini = 0.375\\nsamples = 8\\nvalue = [2, 6]'),\n",
       " Text(46.46690391459075, 36.23999999999998, 'gini = 0.408\\nsamples = 7\\nvalue = [2, 5]'),\n",
       " Text(48.055516014234875, 36.23999999999998, 'gini = 0.0\\nsamples = 1\\nvalue = [0, 1]'),\n",
       " Text(48.055516014234875, 65.232, 'gini = 0.0\\nsamples = 9\\nvalue = [0, 9]'),\n",
       " Text(54.26103202846976, 108.72, 'X[2] <= 0.5\\ngini = 0.482\\nsamples = 220\\nvalue = [89, 131]'),\n",
       " Text(49.644128113879006, 94.22399999999999, 'X[3] <= 24.5\\ngini = 0.499\\nsamples = 46\\nvalue = [22, 24]'),\n",
       " Text(48.849822064056944, 79.72799999999998, 'gini = 0.0\\nsamples = 3\\nvalue = [0, 3]'),\n",
       " Text(50.43843416370107, 79.72799999999998, 'X[1] <= 7.5\\ngini = 0.5\\nsamples = 43\\nvalue = [22, 21]'),\n",
       " Text(49.644128113879006, 65.232, 'gini = 0.496\\nsamples = 33\\nvalue = [15, 18]'),\n",
       " Text(51.23274021352314, 65.232, 'X[1] <= 11.0\\ngini = 0.42\\nsamples = 10\\nvalue = [7, 3]'),\n",
       " Text(50.43843416370107, 50.73599999999999, 'gini = 0.375\\nsamples = 8\\nvalue = [6, 2]'),\n",
       " Text(52.0270462633452, 50.73599999999999, 'gini = 0.5\\nsamples = 2\\nvalue = [1, 1]'),\n",
       " Text(58.8779359430605, 94.22399999999999, 'X[2] <= 1.5\\ngini = 0.474\\nsamples = 174\\nvalue = [67, 107]'),\n",
       " Text(55.20427046263345, 79.72799999999998, 'X[1] <= 11.0\\ngini = 0.439\\nsamples = 80\\nvalue = [26, 54]'),\n",
       " Text(54.40996441281139, 65.232, 'X[3] <= 24.5\\ngini = 0.444\\nsamples = 78\\nvalue = [26, 52]'),\n",
       " Text(53.61565836298933, 50.73599999999999, 'gini = 0.375\\nsamples = 16\\nvalue = [4, 12]'),\n",
       " Text(55.20427046263345, 50.73599999999999, 'X[1] <= 7.5\\ngini = 0.458\\nsamples = 62\\nvalue = [22, 40]'),\n",
       " Text(54.40996441281139, 36.23999999999998, 'gini = 0.444\\nsamples = 42\\nvalue = [14, 28]'),\n",
       " Text(55.99857651245552, 36.23999999999998, 'gini = 0.48\\nsamples = 20\\nvalue = [8, 12]'),\n",
       " Text(55.99857651245552, 65.232, 'gini = 0.0\\nsamples = 2\\nvalue = [0, 2]'),\n",
       " Text(62.55160142348755, 79.72799999999998, 'X[1] <= 7.5\\ngini = 0.492\\nsamples = 94\\nvalue = [41, 53]'),\n",
       " Text(59.97010676156584, 65.232, 'X[2] <= 3.5\\ngini = 0.5\\nsamples = 43\\nvalue = [21, 22]'),\n",
       " Text(59.175800711743776, 50.73599999999999, 'X[2] <= 2.5\\ngini = 0.499\\nsamples = 42\\nvalue = [20, 22]'),\n",
       " Text(57.587188612099645, 36.23999999999998, 'X[3] <= 24.5\\ngini = 0.5\\nsamples = 33\\nvalue = [17, 16]'),\n",
       " Text(56.79288256227758, 21.744, 'gini = 0.5\\nsamples = 8\\nvalue = [4, 4]'),\n",
       " Text(58.381494661921714, 21.744, 'gini = 0.499\\nsamples = 25\\nvalue = [13, 12]'),\n",
       " Text(60.764412811387906, 36.23999999999998, 'X[3] <= 24.5\\ngini = 0.444\\nsamples = 9\\nvalue = [3, 6]'),\n",
       " Text(59.97010676156584, 21.744, 'gini = 0.444\\nsamples = 3\\nvalue = [2, 1]'),\n",
       " Text(61.55871886120997, 21.744, 'gini = 0.278\\nsamples = 6\\nvalue = [1, 5]'),\n",
       " Text(60.764412811387906, 50.73599999999999, 'gini = 0.0\\nsamples = 1\\nvalue = [1, 0]'),\n",
       " Text(65.13309608540925, 65.232, 'X[2] <= 2.5\\ngini = 0.477\\nsamples = 51\\nvalue = [20, 31]'),\n",
       " Text(63.1473309608541, 50.73599999999999, 'X[1] <= 11.0\\ngini = 0.438\\nsamples = 37\\nvalue = [12, 25]'),\n",
       " Text(62.35302491103203, 36.23999999999998, 'gini = 0.458\\nsamples = 31\\nvalue = [11, 20]'),\n",
       " Text(63.94163701067616, 36.23999999999998, 'gini = 0.278\\nsamples = 6\\nvalue = [1, 5]'),\n",
       " Text(67.11886120996442, 50.73599999999999, 'X[1] <= 11.0\\ngini = 0.49\\nsamples = 14\\nvalue = [8, 6]'),\n",
       " Text(65.53024911032028, 36.23999999999998, 'X[2] <= 3.5\\ngini = 0.5\\nsamples = 10\\nvalue = [5, 5]'),\n",
       " Text(64.73594306049823, 21.744, 'gini = 0.494\\nsamples = 9\\nvalue = [5, 4]'),\n",
       " Text(66.32455516014235, 21.744, 'gini = 0.0\\nsamples = 1\\nvalue = [0, 1]'),\n",
       " Text(68.70747330960855, 36.23999999999998, 'X[2] <= 3.5\\ngini = 0.375\\nsamples = 4\\nvalue = [3, 1]'),\n",
       " Text(67.91316725978648, 21.744, 'gini = 0.444\\nsamples = 3\\nvalue = [2, 1]'),\n",
       " Text(69.50177935943061, 21.744, 'gini = 0.0\\nsamples = 1\\nvalue = [1, 0]'),\n",
       " Text(75.83140569395019, 123.216, 'X[1] <= 7.5\\ngini = 0.496\\nsamples = 136\\nvalue = [62, 74]'),\n",
       " Text(67.51601423487544, 108.72, 'X[2] <= 2.5\\ngini = 0.337\\nsamples = 14\\nvalue = [11, 3]'),\n",
       " Text(66.72170818505339, 94.22399999999999, 'X[0] <= 2.5\\ngini = 0.26\\nsamples = 13\\nvalue = [11, 2]'),\n",
       " Text(65.92740213523132, 79.72799999999998, 'gini = 0.0\\nsamples = 4\\nvalue = [4, 0]'),\n",
       " Text(67.51601423487544, 79.72799999999998, 'X[2] <= 1.0\\ngini = 0.346\\nsamples = 9\\nvalue = [7, 2]'),\n",
       " Text(66.72170818505339, 65.232, 'gini = 0.32\\nsamples = 5\\nvalue = [4, 1]'),\n",
       " Text(68.31032028469751, 65.232, 'gini = 0.375\\nsamples = 4\\nvalue = [3, 1]'),\n",
       " Text(68.31032028469751, 94.22399999999999, 'gini = 0.0\\nsamples = 1\\nvalue = [0, 1]'),\n",
       " Text(84.14679715302492, 108.72, 'X[3] <= 34.5\\ngini = 0.487\\nsamples = 122\\nvalue = [51, 71]'),\n",
       " Text(76.15409252669039, 94.22399999999999, 'X[2] <= 0.5\\ngini = 0.476\\nsamples = 100\\nvalue = [39, 61]'),\n",
       " Text(70.6932384341637, 79.72799999999998, 'X[0] <= 2.5\\ngini = 0.32\\nsamples = 15\\nvalue = [3, 12]'),\n",
       " Text(69.89893238434163, 65.232, 'gini = 0.0\\nsamples = 7\\nvalue = [0, 7]'),\n",
       " Text(71.48754448398577, 65.232, 'X[1] <= 11.0\\ngini = 0.469\\nsamples = 8\\nvalue = [3, 5]'),\n",
       " Text(70.6932384341637, 50.73599999999999, 'gini = 0.375\\nsamples = 4\\nvalue = [1, 3]'),\n",
       " Text(72.28185053380783, 50.73599999999999, 'gini = 0.5\\nsamples = 4\\nvalue = [2, 2]'),\n",
       " Text(81.61494661921708, 79.72799999999998, 'X[2] <= 3.5\\ngini = 0.488\\nsamples = 85\\nvalue = [36, 49]'),\n",
       " Text(78.23914590747331, 65.232, 'X[2] <= 1.5\\ngini = 0.483\\nsamples = 81\\nvalue = [33, 48]'),\n",
       " Text(73.87046263345196, 50.73599999999999, 'X[1] <= 11.0\\ngini = 0.499\\nsamples = 19\\nvalue = [10, 9]'),\n",
       " Text(72.28185053380783, 36.23999999999998, 'X[0] <= 2.5\\ngini = 0.469\\nsamples = 8\\nvalue = [3, 5]'),\n",
       " Text(71.48754448398577, 21.744, 'gini = 0.0\\nsamples = 1\\nvalue = [0, 1]'),\n",
       " Text(73.0761565836299, 21.744, 'gini = 0.49\\nsamples = 7\\nvalue = [3, 4]'),\n",
       " Text(75.45907473309609, 36.23999999999998, 'X[0] <= 2.5\\ngini = 0.463\\nsamples = 11\\nvalue = [7, 4]'),\n",
       " Text(74.66476868327402, 21.744, 'gini = 0.444\\nsamples = 3\\nvalue = [2, 1]'),\n",
       " Text(76.25338078291816, 21.744, 'gini = 0.469\\nsamples = 8\\nvalue = [5, 3]'),\n",
       " Text(82.60782918149467, 50.73599999999999, 'X[0] <= 2.5\\ngini = 0.467\\nsamples = 62\\nvalue = [23, 39]'),\n",
       " Text(79.4306049822064, 36.23999999999998, 'X[2] <= 2.5\\ngini = 0.498\\nsamples = 15\\nvalue = [7, 8]'),\n",
       " Text(77.84199288256228, 21.744, 'X[1] <= 11.0\\ngini = 0.496\\nsamples = 11\\nvalue = [6, 5]'),\n",
       " Text(77.04768683274021, 7.2479999999999905, 'gini = 0.49\\nsamples = 7\\nvalue = [3, 4]'),\n",
       " Text(78.63629893238435, 7.2479999999999905, 'gini = 0.375\\nsamples = 4\\nvalue = [3, 1]'),\n",
       " Text(81.01921708185054, 21.744, 'X[1] <= 11.0\\ngini = 0.375\\nsamples = 4\\nvalue = [1, 3]'),\n",
       " Text(80.22491103202847, 7.2479999999999905, 'gini = 0.0\\nsamples = 1\\nvalue = [1, 0]'),\n",
       " Text(81.8135231316726, 7.2479999999999905, 'gini = 0.0\\nsamples = 3\\nvalue = [0, 3]'),\n",
       " Text(85.78505338078293, 36.23999999999998, 'X[1] <= 11.0\\ngini = 0.449\\nsamples = 47\\nvalue = [16, 31]'),\n",
       " Text(84.19644128113879, 21.744, 'X[2] <= 2.5\\ngini = 0.219\\nsamples = 8\\nvalue = [1, 7]'),\n",
       " Text(83.40213523131673, 7.2479999999999905, 'gini = 0.278\\nsamples = 6\\nvalue = [1, 5]'),\n",
       " Text(84.99074733096086, 7.2479999999999905, 'gini = 0.0\\nsamples = 2\\nvalue = [0, 2]'),\n",
       " Text(87.37366548042705, 21.744, 'X[2] <= 2.5\\ngini = 0.473\\nsamples = 39\\nvalue = [15, 24]'),\n",
       " Text(86.57935943060498, 7.2479999999999905, 'gini = 0.452\\nsamples = 29\\nvalue = [10, 19]'),\n",
       " Text(88.16797153024912, 7.2479999999999905, 'gini = 0.5\\nsamples = 10\\nvalue = [5, 5]'),\n",
       " Text(84.99074733096086, 65.232, 'X[0] <= 2.5\\ngini = 0.375\\nsamples = 4\\nvalue = [3, 1]'),\n",
       " Text(84.19644128113879, 50.73599999999999, 'gini = 0.0\\nsamples = 2\\nvalue = [2, 0]'),\n",
       " Text(85.78505338078293, 50.73599999999999, 'gini = 0.5\\nsamples = 2\\nvalue = [1, 1]'),\n",
       " Text(92.13950177935943, 94.22399999999999, 'X[2] <= 1.5\\ngini = 0.496\\nsamples = 22\\nvalue = [12, 10]'),\n",
       " Text(88.96227758007117, 79.72799999999998, 'X[1] <= 11.0\\ngini = 0.426\\nsamples = 13\\nvalue = [9, 4]'),\n",
       " Text(88.16797153024912, 65.232, 'gini = 0.0\\nsamples = 3\\nvalue = [3, 0]'),\n",
       " Text(89.75658362989324, 65.232, 'X[2] <= 0.5\\ngini = 0.48\\nsamples = 10\\nvalue = [6, 4]'),\n",
       " Text(88.16797153024912, 50.73599999999999, 'X[0] <= 2.5\\ngini = 0.5\\nsamples = 4\\nvalue = [2, 2]'),\n",
       " Text(87.37366548042705, 36.23999999999998, 'gini = 0.5\\nsamples = 2\\nvalue = [1, 1]'),\n",
       " Text(88.96227758007117, 36.23999999999998, 'gini = 0.5\\nsamples = 2\\nvalue = [1, 1]'),\n",
       " Text(91.34519572953737, 50.73599999999999, 'X[0] <= 2.5\\ngini = 0.444\\nsamples = 6\\nvalue = [4, 2]'),\n",
       " Text(90.55088967971531, 36.23999999999998, 'gini = 0.5\\nsamples = 2\\nvalue = [1, 1]'),\n",
       " Text(92.13950177935943, 36.23999999999998, 'gini = 0.375\\nsamples = 4\\nvalue = [3, 1]'),\n",
       " Text(95.3167259786477, 79.72799999999998, 'X[2] <= 2.5\\ngini = 0.444\\nsamples = 9\\nvalue = [3, 6]'),\n",
       " Text(93.72811387900356, 65.232, 'X[1] <= 11.0\\ngini = 0.32\\nsamples = 5\\nvalue = [1, 4]'),\n",
       " Text(92.9338078291815, 50.73599999999999, 'gini = 0.5\\nsamples = 2\\nvalue = [1, 1]'),\n",
       " Text(94.52241992882563, 50.73599999999999, 'gini = 0.0\\nsamples = 3\\nvalue = [0, 3]'),\n",
       " Text(96.90533807829182, 65.232, 'X[2] <= 4.75\\ngini = 0.5\\nsamples = 4\\nvalue = [2, 2]'),\n",
       " Text(96.11103202846975, 50.73599999999999, 'X[2] <= 3.5\\ngini = 0.444\\nsamples = 3\\nvalue = [2, 1]'),\n",
       " Text(95.3167259786477, 36.23999999999998, 'X[0] <= 2.5\\ngini = 0.5\\nsamples = 2\\nvalue = [1, 1]'),\n",
       " Text(94.52241992882563, 21.744, 'gini = 0.0\\nsamples = 1\\nvalue = [0, 1]'),\n",
       " Text(96.11103202846975, 21.744, 'gini = 0.0\\nsamples = 1\\nvalue = [1, 0]'),\n",
       " Text(96.90533807829182, 36.23999999999998, 'gini = 0.0\\nsamples = 1\\nvalue = [1, 0]'),\n",
       " Text(97.69964412811389, 50.73599999999999, 'gini = 0.0\\nsamples = 1\\nvalue = [0, 1]'),\n",
       " Text(109.11779359430605, 137.712, 'X[3] <= 34.5\\ngini = 0.406\\nsamples = 187\\nvalue = [53, 134]'),\n",
       " Text(102.8626334519573, 123.216, 'X[3] <= 29.5\\ngini = 0.357\\nsamples = 73\\nvalue = [17, 56]'),\n",
       " Text(102.06832740213524, 108.72, 'gini = 0.0\\nsamples = 2\\nvalue = [0, 2]'),\n",
       " Text(103.65693950177936, 108.72, 'X[0] <= 2.5\\ngini = 0.364\\nsamples = 71\\nvalue = [17, 54]'),\n",
       " Text(100.87686832740214, 94.22399999999999, 'X[2] <= 2.5\\ngini = 0.42\\nsamples = 20\\nvalue = [6, 14]'),\n",
       " Text(99.28825622775801, 79.72799999999998, 'X[2] <= 1.5\\ngini = 0.346\\nsamples = 9\\nvalue = [2, 7]'),\n",
       " Text(98.49395017793594, 65.232, 'gini = 0.375\\nsamples = 4\\nvalue = [1, 3]'),\n",
       " Text(100.08256227758008, 65.232, 'gini = 0.32\\nsamples = 5\\nvalue = [1, 4]'),\n",
       " Text(102.46548042704627, 79.72799999999998, 'X[2] <= 3.5\\ngini = 0.463\\nsamples = 11\\nvalue = [4, 7]'),\n",
       " Text(101.6711743772242, 65.232, 'gini = 0.5\\nsamples = 6\\nvalue = [3, 3]'),\n",
       " Text(103.25978647686833, 65.232, 'gini = 0.32\\nsamples = 5\\nvalue = [1, 4]'),\n",
       " Text(106.43701067615659, 94.22399999999999, 'X[1] <= 19.75\\ngini = 0.338\\nsamples = 51\\nvalue = [11, 40]'),\n",
       " Text(105.64270462633452, 79.72799999999998, 'X[2] <= 4.75\\ngini = 0.343\\nsamples = 50\\nvalue = [11, 39]'),\n",
       " Text(104.84839857651247, 65.232, 'X[2] <= 1.5\\ngini = 0.348\\nsamples = 49\\nvalue = [11, 38]'),\n",
       " Text(104.0540925266904, 50.73599999999999, 'gini = 0.444\\nsamples = 3\\nvalue = [1, 2]'),\n",
       " Text(105.64270462633452, 50.73599999999999, 'X[2] <= 2.5\\ngini = 0.34\\nsamples = 46\\nvalue = [10, 36]'),\n",
       " Text(104.84839857651247, 36.23999999999998, 'gini = 0.308\\nsamples = 21\\nvalue = [4, 17]'),\n",
       " Text(106.43701067615659, 36.23999999999998, 'X[2] <= 3.5\\ngini = 0.365\\nsamples = 25\\nvalue = [6, 19]'),\n",
       " Text(105.64270462633452, 21.744, 'gini = 0.388\\nsamples = 19\\nvalue = [5, 14]'),\n",
       " Text(107.23131672597866, 21.744, 'gini = 0.278\\nsamples = 6\\nvalue = [1, 5]'),\n",
       " Text(106.43701067615659, 65.232, 'gini = 0.0\\nsamples = 1\\nvalue = [0, 1]'),\n",
       " Text(107.23131672597866, 79.72799999999998, 'gini = 0.0\\nsamples = 1\\nvalue = [0, 1]'),\n",
       " Text(115.37295373665481, 123.216, 'X[1] <= 19.75\\ngini = 0.432\\nsamples = 114\\nvalue = [36, 78]'),\n",
       " Text(111.60000000000001, 108.72, 'X[0] <= 2.5\\ngini = 0.46\\nsamples = 78\\nvalue = [28, 50]'),\n",
       " Text(109.61423487544485, 94.22399999999999, 'X[2] <= 4.75\\ngini = 0.413\\nsamples = 24\\nvalue = [7, 17]'),\n",
       " Text(108.81992882562278, 79.72799999999998, 'X[2] <= 3.5\\ngini = 0.397\\nsamples = 22\\nvalue = [6, 16]'),\n",
       " Text(108.02562277580071, 65.232, 'X[2] <= 1.5\\ngini = 0.42\\nsamples = 20\\nvalue = [6, 14]'),\n",
       " Text(107.23131672597866, 50.73599999999999, 'gini = 0.0\\nsamples = 1\\nvalue = [0, 1]'),\n",
       " Text(108.81992882562278, 50.73599999999999, 'X[2] <= 2.5\\ngini = 0.432\\nsamples = 19\\nvalue = [6, 13]'),\n",
       " Text(108.02562277580071, 36.23999999999998, 'gini = 0.408\\nsamples = 7\\nvalue = [2, 5]'),\n",
       " Text(109.61423487544485, 36.23999999999998, 'gini = 0.444\\nsamples = 12\\nvalue = [4, 8]'),\n",
       " Text(109.61423487544485, 65.232, 'gini = 0.0\\nsamples = 2\\nvalue = [0, 2]'),\n",
       " Text(110.4085409252669, 79.72799999999998, 'gini = 0.5\\nsamples = 2\\nvalue = [1, 1]'),\n",
       " Text(113.58576512455517, 94.22399999999999, 'X[2] <= 3.5\\ngini = 0.475\\nsamples = 54\\nvalue = [21, 33]'),\n",
       " Text(111.99715302491104, 79.72799999999998, 'X[2] <= 2.5\\ngini = 0.464\\nsamples = 41\\nvalue = [15, 26]'),\n",
       " Text(111.20284697508897, 65.232, 'X[2] <= 1.5\\ngini = 0.488\\nsamples = 19\\nvalue = [8, 11]'),\n",
       " Text(110.4085409252669, 50.73599999999999, 'gini = 0.5\\nsamples = 2\\nvalue = [1, 1]'),\n",
       " Text(111.99715302491104, 50.73599999999999, 'gini = 0.484\\nsamples = 17\\nvalue = [7, 10]'),\n",
       " Text(112.7914590747331, 65.232, 'gini = 0.434\\nsamples = 22\\nvalue = [7, 15]'),\n",
       " Text(115.17437722419929, 79.72799999999998, 'X[2] <= 4.75\\ngini = 0.497\\nsamples = 13\\nvalue = [6, 7]'),\n",
       " Text(114.38007117437724, 65.232, 'gini = 0.494\\nsamples = 9\\nvalue = [5, 4]'),\n",
       " Text(115.96868327402136, 65.232, 'gini = 0.375\\nsamples = 4\\nvalue = [1, 3]'),\n",
       " Text(119.14590747330962, 108.72, 'X[2] <= 4.75\\ngini = 0.346\\nsamples = 36\\nvalue = [8, 28]'),\n",
       " Text(117.55729537366548, 94.22399999999999, 'X[0] <= 2.5\\ngini = 0.271\\nsamples = 31\\nvalue = [5, 26]'),\n",
       " Text(116.76298932384343, 79.72799999999998, 'gini = 0.0\\nsamples = 8\\nvalue = [0, 8]'),\n",
       " Text(118.35160142348755, 79.72799999999998, 'X[2] <= 2.5\\ngini = 0.34\\nsamples = 23\\nvalue = [5, 18]'),\n",
       " Text(117.55729537366548, 65.232, 'gini = 0.278\\nsamples = 6\\nvalue = [1, 5]'),\n",
       " Text(119.14590747330962, 65.232, 'X[2] <= 3.5\\ngini = 0.36\\nsamples = 17\\nvalue = [4, 13]'),\n",
       " Text(118.35160142348755, 50.73599999999999, 'gini = 0.346\\nsamples = 9\\nvalue = [2, 7]'),\n",
       " Text(119.94021352313167, 50.73599999999999, 'gini = 0.375\\nsamples = 8\\nvalue = [2, 6]'),\n",
       " Text(120.73451957295374, 94.22399999999999, 'X[0] <= 2.5\\ngini = 0.48\\nsamples = 5\\nvalue = [3, 2]'),\n",
       " Text(119.94021352313167, 79.72799999999998, 'gini = 0.5\\nsamples = 2\\nvalue = [1, 1]'),\n",
       " Text(121.52882562277581, 79.72799999999998, 'gini = 0.444\\nsamples = 3\\nvalue = [2, 1]'),\n",
       " Text(126.66699288256228, 152.208, 'X[1] <= 14.75\\ngini = 0.494\\nsamples = 161\\nvalue = [72, 89]'),\n",
       " Text(123.11743772241994, 137.712, 'X[0] <= 2.5\\ngini = 0.469\\nsamples = 8\\nvalue = [5, 3]'),\n",
       " Text(122.32313167259787, 123.216, 'gini = 0.0\\nsamples = 1\\nvalue = [1, 0]'),\n",
       " Text(123.911743772242, 123.216, 'X[2] <= 0.5\\ngini = 0.49\\nsamples = 7\\nvalue = [4, 3]'),\n",
       " Text(123.11743772241994, 108.72, 'gini = 0.5\\nsamples = 4\\nvalue = [2, 2]'),\n",
       " Text(124.70604982206406, 108.72, 'X[1] <= 11.0\\ngini = 0.444\\nsamples = 3\\nvalue = [2, 1]'),\n",
       " Text(123.911743772242, 94.22399999999999, 'X[2] <= 1.5\\ngini = 0.5\\nsamples = 2\\nvalue = [1, 1]'),\n",
       " Text(123.11743772241994, 79.72799999999998, 'gini = 0.0\\nsamples = 1\\nvalue = [1, 0]'),\n",
       " Text(124.70604982206406, 79.72799999999998, 'gini = 0.0\\nsamples = 1\\nvalue = [0, 1]'),\n",
       " Text(125.50035587188613, 94.22399999999999, 'gini = 0.0\\nsamples = 1\\nvalue = [1, 0]'),\n",
       " Text(130.21654804270463, 137.712, 'X[2] <= 1.5\\ngini = 0.492\\nsamples = 153\\nvalue = [67, 86]'),\n",
       " Text(127.08896797153025, 123.216, 'X[1] <= 19.75\\ngini = 0.245\\nsamples = 7\\nvalue = [1, 6]'),\n",
       " Text(126.2946619217082, 108.72, 'gini = 0.5\\nsamples = 2\\nvalue = [1, 1]'),\n",
       " Text(127.88327402135232, 108.72, 'gini = 0.0\\nsamples = 5\\nvalue = [0, 5]'),\n",
       " Text(133.344128113879, 123.216, 'X[2] <= 2.5\\ngini = 0.495\\nsamples = 146\\nvalue = [66, 80]'),\n",
       " Text(129.47188612099646, 108.72, 'X[0] <= 2.5\\ngini = 0.483\\nsamples = 44\\nvalue = [18, 26]'),\n",
       " Text(127.88327402135232, 94.22399999999999, 'X[1] <= 19.75\\ngini = 0.497\\nsamples = 13\\nvalue = [7, 6]'),\n",
       " Text(127.08896797153025, 79.72799999999998, 'gini = 0.444\\nsamples = 3\\nvalue = [2, 1]'),\n",
       " Text(128.6775800711744, 79.72799999999998, 'gini = 0.5\\nsamples = 10\\nvalue = [5, 5]'),\n",
       " Text(131.06049822064057, 94.22399999999999, 'X[1] <= 19.75\\ngini = 0.458\\nsamples = 31\\nvalue = [11, 20]'),\n",
       " Text(130.2661921708185, 79.72799999999998, 'gini = 0.278\\nsamples = 6\\nvalue = [1, 5]'),\n",
       " Text(131.85480427046264, 79.72799999999998, 'gini = 0.48\\nsamples = 25\\nvalue = [10, 15]'),\n",
       " Text(137.21637010676156, 108.72, 'X[1] <= 19.75\\ngini = 0.498\\nsamples = 102\\nvalue = [48, 54]'),\n",
       " Text(134.23772241992884, 94.22399999999999, 'X[2] <= 3.5\\ngini = 0.444\\nsamples = 9\\nvalue = [6, 3]'),\n",
       " Text(133.44341637010677, 79.72799999999998, 'gini = 0.0\\nsamples = 5\\nvalue = [5, 0]'),\n",
       " Text(135.03202846975088, 79.72799999999998, 'X[2] <= 4.75\\ngini = 0.375\\nsamples = 4\\nvalue = [1, 3]'),\n",
       " Text(134.23772241992884, 65.232, 'gini = 0.444\\nsamples = 3\\nvalue = [1, 2]'),\n",
       " Text(135.82633451957295, 65.232, 'gini = 0.0\\nsamples = 1\\nvalue = [0, 1]'),\n",
       " Text(140.1950177935943, 94.22399999999999, 'X[2] <= 3.5\\ngini = 0.495\\nsamples = 93\\nvalue = [42, 51]'),\n",
       " Text(138.20925266903916, 79.72799999999998, 'X[0] <= 2.5\\ngini = 0.487\\nsamples = 43\\nvalue = [18, 25]'),\n",
       " Text(137.4149466192171, 65.232, 'gini = 0.245\\nsamples = 7\\nvalue = [1, 6]'),\n",
       " Text(139.00355871886123, 65.232, 'gini = 0.498\\nsamples = 36\\nvalue = [17, 19]'),\n",
       " Text(142.18078291814948, 79.72799999999998, 'X[2] <= 4.75\\ngini = 0.499\\nsamples = 50\\nvalue = [24, 26]'),\n",
       " Text(140.59217081850534, 65.232, 'X[0] <= 2.5\\ngini = 0.497\\nsamples = 26\\nvalue = [14, 12]'),\n",
       " Text(139.79786476868327, 50.73599999999999, 'gini = 0.494\\nsamples = 9\\nvalue = [5, 4]'),\n",
       " Text(141.3864768683274, 50.73599999999999, 'gini = 0.498\\nsamples = 17\\nvalue = [9, 8]'),\n",
       " Text(143.7693950177936, 65.232, 'X[0] <= 2.5\\ngini = 0.486\\nsamples = 24\\nvalue = [10, 14]'),\n",
       " Text(142.97508896797154, 50.73599999999999, 'gini = 0.49\\nsamples = 7\\nvalue = [4, 3]'),\n",
       " Text(144.56370106761565, 50.73599999999999, 'gini = 0.457\\nsamples = 17\\nvalue = [6, 11]'),\n",
       " Text(197.82331794928825, 195.696, 'X[1] <= 4.25\\ngini = 0.37\\nsamples = 3940\\nvalue = [2975, 965]'),\n",
       " Text(154.74074733096086, 181.2, 'X[1] <= 1.5\\ngini = 0.239\\nsamples = 1610\\nvalue = [1387, 223]'),\n",
       " Text(150.32241992882564, 166.704, 'X[0] <= 4.5\\ngini = 0.049\\nsamples = 277\\nvalue = [270, 7]'),\n",
       " Text(149.52811387900357, 152.208, 'X[3] <= 24.5\\ngini = 0.148\\nsamples = 87\\nvalue = [80, 7]'),\n",
       " Text(147.93950177935943, 137.712, 'X[3] <= 19.75\\ngini = 0.133\\nsamples = 70\\nvalue = [65, 5]'),\n",
       " Text(147.14519572953736, 123.216, 'gini = 0.124\\nsamples = 15\\nvalue = [14, 1]'),\n",
       " Text(148.7338078291815, 123.216, 'gini = 0.135\\nsamples = 55\\nvalue = [51, 4]'),\n",
       " Text(151.1167259786477, 137.712, 'X[2] <= 0.5\\ngini = 0.208\\nsamples = 17\\nvalue = [15, 2]'),\n",
       " Text(150.32241992882564, 123.216, 'X[3] <= 29.5\\ngini = 0.231\\nsamples = 15\\nvalue = [13, 2]'),\n",
       " Text(149.52811387900357, 108.72, 'gini = 0.245\\nsamples = 14\\nvalue = [12, 2]'),\n",
       " Text(151.1167259786477, 108.72, 'gini = 0.0\\nsamples = 1\\nvalue = [1, 0]'),\n",
       " Text(151.91103202846975, 123.216, 'gini = 0.0\\nsamples = 2\\nvalue = [2, 0]'),\n",
       " Text(151.1167259786477, 152.208, 'gini = 0.0\\nsamples = 190\\nvalue = [190, 0]'),\n",
       " Text(159.1590747330961, 166.704, 'X[0] <= 4.5\\ngini = 0.272\\nsamples = 1333\\nvalue = [1117, 216]'),\n",
       " Text(155.8825622775801, 152.208, 'X[2] <= 4.25\\ngini = 0.335\\nsamples = 583\\nvalue = [459, 124]'),\n",
       " Text(155.08825622775802, 137.712, 'X[2] <= 1.5\\ngini = 0.333\\nsamples = 582\\nvalue = [459, 123]'),\n",
       " Text(153.49964412811389, 123.216, 'X[3] <= 34.5\\ngini = 0.329\\nsamples = 559\\nvalue = [443, 116]'),\n",
       " Text(152.70533807829182, 108.72, 'X[3] <= 29.5\\ngini = 0.33\\nsamples = 557\\nvalue = [441, 116]'),\n",
       " Text(150.52099644128114, 94.22399999999999, 'X[3] <= 24.5\\ngini = 0.328\\nsamples = 542\\nvalue = [430, 112]'),\n",
       " Text(148.535231316726, 79.72799999999998, 'X[2] <= 0.5\\ngini = 0.336\\nsamples = 389\\nvalue = [306, 83]'),\n",
       " Text(146.94661921708186, 65.232, 'X[3] <= 19.75\\ngini = 0.317\\nsamples = 304\\nvalue = [244, 60]'),\n",
       " Text(146.1523131672598, 50.73599999999999, 'gini = 0.278\\nsamples = 18\\nvalue = [15, 3]'),\n",
       " Text(147.74092526690393, 50.73599999999999, 'gini = 0.319\\nsamples = 286\\nvalue = [229, 57]'),\n",
       " Text(150.1238434163701, 65.232, 'X[3] <= 19.75\\ngini = 0.395\\nsamples = 85\\nvalue = [62, 23]'),\n",
       " Text(149.32953736654804, 50.73599999999999, 'gini = 0.346\\nsamples = 9\\nvalue = [7, 2]'),\n",
       " Text(150.91814946619218, 50.73599999999999, 'gini = 0.4\\nsamples = 76\\nvalue = [55, 21]'),\n",
       " Text(152.5067615658363, 79.72799999999998, 'X[2] <= 0.5\\ngini = 0.307\\nsamples = 153\\nvalue = [124, 29]'),\n",
       " Text(151.71245551601424, 65.232, 'gini = 0.364\\nsamples = 121\\nvalue = [92, 29]'),\n",
       " Text(153.30106761565838, 65.232, 'gini = 0.0\\nsamples = 32\\nvalue = [32, 0]'),\n",
       " Text(154.8896797153025, 94.22399999999999, 'X[2] <= 0.5\\ngini = 0.391\\nsamples = 15\\nvalue = [11, 4]'),\n",
       " Text(154.09537366548042, 79.72799999999998, 'gini = 0.408\\nsamples = 14\\nvalue = [10, 4]'),\n",
       " Text(155.68398576512456, 79.72799999999998, 'gini = 0.0\\nsamples = 1\\nvalue = [1, 0]'),\n",
       " Text(154.29395017793595, 108.72, 'gini = 0.0\\nsamples = 2\\nvalue = [2, 0]'),\n",
       " Text(156.67686832740213, 123.216, 'X[3] <= 24.5\\ngini = 0.423\\nsamples = 23\\nvalue = [16, 7]'),\n",
       " Text(155.8825622775801, 108.72, 'gini = 0.492\\nsamples = 16\\nvalue = [9, 7]'),\n",
       " Text(157.4711743772242, 108.72, 'gini = 0.0\\nsamples = 7\\nvalue = [7, 0]'),\n",
       " Text(156.67686832740213, 137.712, 'gini = 0.0\\nsamples = 1\\nvalue = [0, 1]'),\n",
       " Text(162.43558718861212, 152.208, 'X[3] <= 19.75\\ngini = 0.215\\nsamples = 750\\nvalue = [658, 92]'),\n",
       " Text(161.64128113879005, 137.712, 'gini = 0.0\\nsamples = 21\\nvalue = [21, 0]'),\n",
       " Text(163.22989323843416, 137.712, 'X[3] <= 24.5\\ngini = 0.221\\nsamples = 729\\nvalue = [637, 92]'),\n",
       " Text(159.8540925266904, 123.216, 'X[2] <= 0.5\\ngini = 0.231\\nsamples = 488\\nvalue = [423, 65]'),\n",
       " Text(159.05978647686834, 108.72, 'gini = 0.223\\nsamples = 398\\nvalue = [347, 51]'),\n",
       " Text(160.64839857651248, 108.72, 'X[2] <= 2.5\\ngini = 0.263\\nsamples = 90\\nvalue = [76, 14]'),\n",
       " Text(159.8540925266904, 94.22399999999999, 'X[2] <= 1.5\\ngini = 0.268\\nsamples = 88\\nvalue = [74, 14]'),\n",
       " Text(159.05978647686834, 79.72799999999998, 'gini = 0.275\\nsamples = 73\\nvalue = [61, 12]'),\n",
       " Text(160.64839857651248, 79.72799999999998, 'gini = 0.231\\nsamples = 15\\nvalue = [13, 2]'),\n",
       " Text(161.44270462633452, 94.22399999999999, 'gini = 0.0\\nsamples = 2\\nvalue = [2, 0]'),\n",
       " Text(166.60569395017794, 123.216, 'X[2] <= 1.5\\ngini = 0.199\\nsamples = 241\\nvalue = [214, 27]'),\n",
       " Text(164.6199288256228, 108.72, 'X[2] <= 0.5\\ngini = 0.192\\nsamples = 232\\nvalue = [207, 25]'),\n",
       " Text(163.03131672597866, 94.22399999999999, 'X[3] <= 34.5\\ngini = 0.208\\nsamples = 195\\nvalue = [172, 23]'),\n",
       " Text(162.2370106761566, 79.72799999999998, 'X[3] <= 29.5\\ngini = 0.211\\nsamples = 192\\nvalue = [169, 23]'),\n",
       " Text(161.44270462633452, 65.232, 'gini = 0.202\\nsamples = 175\\nvalue = [155, 20]'),\n",
       " Text(163.03131672597866, 65.232, 'gini = 0.291\\nsamples = 17\\nvalue = [14, 3]'),\n",
       " Text(163.82562277580072, 79.72799999999998, 'gini = 0.0\\nsamples = 3\\nvalue = [3, 0]'),\n",
       " Text(166.2085409252669, 94.22399999999999, 'X[3] <= 29.5\\ngini = 0.102\\nsamples = 37\\nvalue = [35, 2]'),\n",
       " Text(165.41423487544486, 79.72799999999998, 'gini = 0.111\\nsamples = 34\\nvalue = [32, 2]'),\n",
       " Text(167.00284697508897, 79.72799999999998, 'gini = 0.0\\nsamples = 3\\nvalue = [3, 0]'),\n",
       " Text(168.5914590747331, 108.72, 'X[3] <= 29.5\\ngini = 0.346\\nsamples = 9\\nvalue = [7, 2]'),\n",
       " Text(167.79715302491104, 94.22399999999999, 'gini = 0.245\\nsamples = 7\\nvalue = [6, 1]'),\n",
       " Text(169.38576512455518, 94.22399999999999, 'X[2] <= 3.0\\ngini = 0.5\\nsamples = 2\\nvalue = [1, 1]'),\n",
       " Text(168.5914590747331, 79.72799999999998, 'gini = 0.0\\nsamples = 1\\nvalue = [0, 1]'),\n",
       " Text(170.18007117437725, 79.72799999999998, 'gini = 0.0\\nsamples = 1\\nvalue = [1, 0]'),\n",
       " Text(240.90588856761568, 181.2, 'X[0] <= 4.5\\ngini = 0.434\\nsamples = 2330\\nvalue = [1588, 742]'),\n",
       " Text(202.65663923487546, 166.704, 'X[1] <= 7.5\\ngini = 0.481\\nsamples = 1156\\nvalue = [692, 464]'),\n",
       " Text(179.91032028469752, 152.208, 'X[3] <= 29.5\\ngini = 0.433\\nsamples = 344\\nvalue = [235, 109]'),\n",
       " Text(176.93167259786478, 137.712, 'X[2] <= 2.5\\ngini = 0.443\\nsamples = 314\\nvalue = [210, 104]'),\n",
       " Text(174.94590747330963, 123.216, 'X[3] <= 24.5\\ngini = 0.446\\nsamples = 307\\nvalue = [204, 103]'),\n",
       " Text(173.3572953736655, 108.72, 'X[2] <= 1.5\\ngini = 0.481\\nsamples = 62\\nvalue = [37, 25]'),\n",
       " Text(172.56298932384342, 94.22399999999999, 'X[2] <= 0.5\\ngini = 0.487\\nsamples = 43\\nvalue = [25, 18]'),\n",
       " Text(171.76868327402136, 79.72799999999998, 'gini = 0.475\\nsamples = 18\\nvalue = [11, 7]'),\n",
       " Text(173.3572953736655, 79.72799999999998, 'gini = 0.493\\nsamples = 25\\nvalue = [14, 11]'),\n",
       " Text(174.15160142348756, 94.22399999999999, 'gini = 0.465\\nsamples = 19\\nvalue = [12, 7]'),\n",
       " Text(176.53451957295374, 108.72, 'X[2] <= 1.5\\ngini = 0.434\\nsamples = 245\\nvalue = [167, 78]'),\n",
       " Text(175.74021352313167, 94.22399999999999, 'X[2] <= 0.5\\ngini = 0.427\\nsamples = 168\\nvalue = [116, 52]'),\n",
       " Text(174.94590747330963, 79.72799999999998, 'gini = 0.438\\nsamples = 68\\nvalue = [46, 22]'),\n",
       " Text(176.53451957295374, 79.72799999999998, 'gini = 0.42\\nsamples = 100\\nvalue = [70, 30]'),\n",
       " Text(177.3288256227758, 94.22399999999999, 'gini = 0.447\\nsamples = 77\\nvalue = [51, 26]'),\n",
       " Text(178.91743772241995, 123.216, 'X[3] <= 24.5\\ngini = 0.245\\nsamples = 7\\nvalue = [6, 1]'),\n",
       " Text(178.12313167259788, 108.72, 'gini = 0.0\\nsamples = 3\\nvalue = [3, 0]'),\n",
       " Text(179.711743772242, 108.72, 'gini = 0.375\\nsamples = 4\\nvalue = [3, 1]'),\n",
       " Text(182.88896797153026, 137.712, 'X[2] <= 2.5\\ngini = 0.278\\nsamples = 30\\nvalue = [25, 5]'),\n",
       " Text(182.0946619217082, 123.216, 'X[2] <= 1.5\\ngini = 0.285\\nsamples = 29\\nvalue = [24, 5]'),\n",
       " Text(181.30035587188613, 108.72, 'X[3] <= 34.5\\ngini = 0.255\\nsamples = 20\\nvalue = [17, 3]'),\n",
       " Text(179.711743772242, 94.22399999999999, 'X[2] <= 0.5\\ngini = 0.231\\nsamples = 15\\nvalue = [13, 2]'),\n",
       " Text(178.91743772241995, 79.72799999999998, 'gini = 0.0\\nsamples = 3\\nvalue = [3, 0]'),\n",
       " Text(180.50604982206406, 79.72799999999998, 'gini = 0.278\\nsamples = 12\\nvalue = [10, 2]'),\n",
       " Text(182.88896797153026, 94.22399999999999, 'X[2] <= 0.5\\ngini = 0.32\\nsamples = 5\\nvalue = [4, 1]'),\n",
       " Text(182.0946619217082, 79.72799999999998, 'gini = 0.375\\nsamples = 4\\nvalue = [3, 1]'),\n",
       " Text(183.68327402135233, 79.72799999999998, 'gini = 0.0\\nsamples = 1\\nvalue = [1, 0]'),\n",
       " Text(182.88896797153026, 108.72, 'gini = 0.346\\nsamples = 9\\nvalue = [7, 2]'),\n",
       " Text(183.68327402135233, 123.216, 'gini = 0.0\\nsamples = 1\\nvalue = [1, 0]'),\n",
       " Text(225.4029581850534, 152.208, 'X[3] <= 39.5\\ngini = 0.492\\nsamples = 812\\nvalue = [457, 355]'),\n",
       " Text(209.3368772241993, 137.712, 'X[1] <= 14.75\\ngini = 0.496\\nsamples = 618\\nvalue = [335, 283]'),\n",
       " Text(194.28229537366548, 123.216, 'X[3] <= 29.5\\ngini = 0.487\\nsamples = 362\\nvalue = [210, 152]'),\n",
       " Text(186.86049822064058, 108.72, 'X[2] <= 3.5\\ngini = 0.5\\nsamples = 156\\nvalue = [80, 76]'),\n",
       " Text(186.0661921708185, 94.22399999999999, 'X[2] <= 0.5\\ngini = 0.5\\nsamples = 154\\nvalue = [78, 76]'),\n",
       " Text(185.27188612099644, 79.72799999999998, 'gini = 0.484\\nsamples = 17\\nvalue = [10, 7]'),\n",
       " Text(186.86049822064058, 79.72799999999998, 'X[3] <= 24.5\\ngini = 0.5\\nsamples = 137\\nvalue = [68, 69]'),\n",
       " Text(184.6761565836299, 65.232, 'X[2] <= 2.0\\ngini = 0.444\\nsamples = 3\\nvalue = [2, 1]'),\n",
       " Text(183.88185053380784, 50.73599999999999, 'gini = 0.0\\nsamples = 2\\nvalue = [2, 0]'),\n",
       " Text(185.47046263345197, 50.73599999999999, 'gini = 0.0\\nsamples = 1\\nvalue = [0, 1]'),\n",
       " Text(189.04483985765125, 65.232, 'X[2] <= 1.5\\ngini = 0.5\\nsamples = 134\\nvalue = [66, 68]'),\n",
       " Text(187.05907473309608, 50.73599999999999, 'X[1] <= 11.0\\ngini = 0.495\\nsamples = 31\\nvalue = [14, 17]'),\n",
       " Text(186.26476868327404, 36.23999999999998, 'gini = 0.495\\nsamples = 29\\nvalue = [13, 16]'),\n",
       " Text(187.85338078291815, 36.23999999999998, 'gini = 0.5\\nsamples = 2\\nvalue = [1, 1]'),\n",
       " Text(191.03060498220643, 50.73599999999999, 'X[1] <= 11.0\\ngini = 0.5\\nsamples = 103\\nvalue = [52, 51]'),\n",
       " Text(189.4419928825623, 36.23999999999998, 'X[2] <= 2.5\\ngini = 0.5\\nsamples = 82\\nvalue = [42, 40]'),\n",
       " Text(188.64768683274022, 21.744, 'gini = 0.499\\nsamples = 73\\nvalue = [38, 35]'),\n",
       " Text(190.23629893238436, 21.744, 'gini = 0.494\\nsamples = 9\\nvalue = [4, 5]'),\n",
       " Text(192.61921708185054, 36.23999999999998, 'X[2] <= 2.5\\ngini = 0.499\\nsamples = 21\\nvalue = [10, 11]'),\n",
       " Text(191.82491103202847, 21.744, 'gini = 0.49\\nsamples = 14\\nvalue = [6, 8]'),\n",
       " Text(193.4135231316726, 21.744, 'gini = 0.49\\nsamples = 7\\nvalue = [4, 3]'),\n",
       " Text(187.65480427046265, 94.22399999999999, 'gini = 0.0\\nsamples = 2\\nvalue = [2, 0]'),\n",
       " Text(201.7040925266904, 108.72, 'X[1] <= 11.0\\ngini = 0.466\\nsamples = 206\\nvalue = [130, 76]'),\n",
       " Text(196.39217081850535, 94.22399999999999, 'X[2] <= 0.5\\ngini = 0.392\\nsamples = 71\\nvalue = [52, 19]'),\n",
       " Text(194.20782918149467, 79.72799999999998, 'X[3] <= 34.5\\ngini = 0.219\\nsamples = 8\\nvalue = [7, 1]'),\n",
       " Text(193.4135231316726, 65.232, 'gini = 0.278\\nsamples = 6\\nvalue = [5, 1]'),\n",
       " Text(195.00213523131674, 65.232, 'gini = 0.0\\nsamples = 2\\nvalue = [2, 0]'),\n",
       " Text(198.57651245551602, 79.72799999999998, 'X[2] <= 2.5\\ngini = 0.408\\nsamples = 63\\nvalue = [45, 18]'),\n",
       " Text(196.59074733096085, 65.232, 'X[3] <= 34.5\\ngini = 0.427\\nsamples = 55\\nvalue = [38, 17]'),\n",
       " Text(195.00213523131674, 50.73599999999999, 'X[2] <= 1.5\\ngini = 0.435\\nsamples = 50\\nvalue = [34, 16]'),\n",
       " Text(194.20782918149467, 36.23999999999998, 'gini = 0.43\\nsamples = 16\\nvalue = [11, 5]'),\n",
       " Text(195.7964412811388, 36.23999999999998, 'gini = 0.438\\nsamples = 34\\nvalue = [23, 11]'),\n",
       " Text(198.179359430605, 50.73599999999999, 'X[2] <= 1.5\\ngini = 0.32\\nsamples = 5\\nvalue = [4, 1]'),\n",
       " Text(197.38505338078292, 36.23999999999998, 'gini = 0.0\\nsamples = 2\\nvalue = [2, 0]'),\n",
       " Text(198.97366548042706, 36.23999999999998, 'gini = 0.444\\nsamples = 3\\nvalue = [2, 1]'),\n",
       " Text(200.5622775800712, 65.232, 'X[3] <= 34.5\\ngini = 0.219\\nsamples = 8\\nvalue = [7, 1]'),\n",
       " Text(199.76797153024913, 50.73599999999999, 'gini = 0.0\\nsamples = 6\\nvalue = [6, 0]'),\n",
       " Text(201.35658362989324, 50.73599999999999, 'X[2] <= 4.25\\ngini = 0.5\\nsamples = 2\\nvalue = [1, 1]'),\n",
       " Text(200.5622775800712, 36.23999999999998, 'gini = 0.0\\nsamples = 1\\nvalue = [0, 1]'),\n",
       " Text(202.1508896797153, 36.23999999999998, 'gini = 0.0\\nsamples = 1\\nvalue = [1, 0]'),\n",
       " Text(207.01601423487546, 94.22399999999999, 'X[2] <= 0.5\\ngini = 0.488\\nsamples = 135\\nvalue = [78, 57]'),\n",
       " Text(204.13665480427048, 79.72799999999998, 'X[3] <= 34.5\\ngini = 0.463\\nsamples = 11\\nvalue = [4, 7]'),\n",
       " Text(203.3423487544484, 65.232, 'gini = 0.408\\nsamples = 7\\nvalue = [2, 5]'),\n",
       " Text(204.93096085409255, 65.232, 'gini = 0.5\\nsamples = 4\\nvalue = [2, 2]'),\n",
       " Text(209.89537366548043, 79.72799999999998, 'X[2] <= 3.5\\ngini = 0.481\\nsamples = 124\\nvalue = [74, 50]'),\n",
       " Text(206.51957295373666, 65.232, 'X[2] <= 1.5\\ngini = 0.477\\nsamples = 117\\nvalue = [71, 46]'),\n",
       " Text(204.5338078291815, 50.73599999999999, 'X[3] <= 34.5\\ngini = 0.499\\nsamples = 21\\nvalue = [11, 10]'),\n",
       " Text(203.73950177935944, 36.23999999999998, 'gini = 0.5\\nsamples = 16\\nvalue = [8, 8]'),\n",
       " Text(205.32811387900358, 36.23999999999998, 'gini = 0.48\\nsamples = 5\\nvalue = [3, 2]'),\n",
       " Text(208.50533807829183, 50.73599999999999, 'X[3] <= 34.5\\ngini = 0.469\\nsamples = 96\\nvalue = [60, 36]'),\n",
       " Text(206.9167259786477, 36.23999999999998, 'X[2] <= 2.5\\ngini = 0.474\\nsamples = 83\\nvalue = [51, 32]'),\n",
       " Text(206.12241992882562, 21.744, 'gini = 0.489\\nsamples = 61\\nvalue = [35, 26]'),\n",
       " Text(207.71103202846976, 21.744, 'gini = 0.397\\nsamples = 22\\nvalue = [16, 6]'),\n",
       " Text(210.09395017793597, 36.23999999999998, 'X[2] <= 2.5\\ngini = 0.426\\nsamples = 13\\nvalue = [9, 4]'),\n",
       " Text(209.2996441281139, 21.744, 'gini = 0.219\\nsamples = 8\\nvalue = [7, 1]'),\n",
       " Text(210.888256227758, 21.744, 'gini = 0.48\\nsamples = 5\\nvalue = [2, 3]'),\n",
       " Text(213.2711743772242, 65.232, 'X[2] <= 4.75\\ngini = 0.49\\nsamples = 7\\nvalue = [3, 4]'),\n",
       " Text(212.47686832740214, 50.73599999999999, 'X[3] <= 34.5\\ngini = 0.444\\nsamples = 6\\nvalue = [2, 4]'),\n",
       " Text(211.68256227758008, 36.23999999999998, 'gini = 0.48\\nsamples = 5\\nvalue = [2, 3]'),\n",
       " Text(213.2711743772242, 36.23999999999998, 'gini = 0.0\\nsamples = 1\\nvalue = [0, 1]'),\n",
       " Text(214.06548042704628, 50.73599999999999, 'gini = 0.0\\nsamples = 1\\nvalue = [1, 0]'),\n",
       " Text(224.39145907473312, 123.216, 'X[3] <= 34.5\\ngini = 0.5\\nsamples = 256\\nvalue = [125, 131]'),\n",
       " Text(218.83131672597867, 108.72, 'X[3] <= 29.5\\ngini = 0.489\\nsamples = 103\\nvalue = [44, 59]'),\n",
       " Text(216.44839857651246, 94.22399999999999, 'X[2] <= 4.75\\ngini = 0.48\\nsamples = 10\\nvalue = [6, 4]'),\n",
       " Text(215.6540925266904, 79.72799999999998, 'X[2] <= 1.5\\ngini = 0.444\\nsamples = 9\\nvalue = [6, 3]'),\n",
       " Text(214.85978647686835, 65.232, 'gini = 0.0\\nsamples = 1\\nvalue = [1, 0]'),\n",
       " Text(216.44839857651246, 65.232, 'X[2] <= 3.5\\ngini = 0.469\\nsamples = 8\\nvalue = [5, 3]'),\n",
       " Text(215.6540925266904, 50.73599999999999, 'X[2] <= 2.5\\ngini = 0.444\\nsamples = 6\\nvalue = [4, 2]'),\n",
       " Text(214.85978647686835, 36.23999999999998, 'gini = 0.48\\nsamples = 5\\nvalue = [3, 2]'),\n",
       " Text(216.44839857651246, 36.23999999999998, 'gini = 0.0\\nsamples = 1\\nvalue = [1, 0]'),\n",
       " Text(217.24270462633453, 50.73599999999999, 'gini = 0.5\\nsamples = 2\\nvalue = [1, 1]'),\n",
       " Text(217.24270462633453, 79.72799999999998, 'gini = 0.0\\nsamples = 1\\nvalue = [0, 1]'),\n",
       " Text(221.21423487544484, 94.22399999999999, 'X[2] <= 3.5\\ngini = 0.483\\nsamples = 93\\nvalue = [38, 55]'),\n",
       " Text(218.83131672597867, 79.72799999999998, 'X[2] <= 1.5\\ngini = 0.467\\nsamples = 70\\nvalue = [26, 44]'),\n",
       " Text(218.0370106761566, 65.232, 'gini = 0.408\\nsamples = 7\\nvalue = [2, 5]'),\n",
       " Text(219.62562277580074, 65.232, 'X[2] <= 2.5\\ngini = 0.472\\nsamples = 63\\nvalue = [24, 39]'),\n",
       " Text(218.83131672597867, 50.73599999999999, 'gini = 0.482\\nsamples = 32\\nvalue = [13, 19]'),\n",
       " Text(220.41992882562278, 50.73599999999999, 'X[1] <= 19.75\\ngini = 0.458\\nsamples = 31\\nvalue = [11, 20]'),\n",
       " Text(219.62562277580074, 36.23999999999998, 'gini = 0.459\\nsamples = 28\\nvalue = [10, 18]'),\n",
       " Text(221.21423487544484, 36.23999999999998, 'gini = 0.444\\nsamples = 3\\nvalue = [1, 2]'),\n",
       " Text(223.59715302491105, 79.72799999999998, 'X[1] <= 19.75\\ngini = 0.499\\nsamples = 23\\nvalue = [12, 11]'),\n",
       " Text(222.80284697508898, 65.232, 'X[2] <= 4.75\\ngini = 0.5\\nsamples = 22\\nvalue = [11, 11]'),\n",
       " Text(222.0085409252669, 50.73599999999999, 'gini = 0.5\\nsamples = 14\\nvalue = [7, 7]'),\n",
       " Text(223.59715302491105, 50.73599999999999, 'gini = 0.5\\nsamples = 8\\nvalue = [4, 4]'),\n",
       " Text(224.39145907473312, 65.232, 'gini = 0.0\\nsamples = 1\\nvalue = [1, 0]'),\n",
       " Text(229.95160142348755, 108.72, 'X[1] <= 19.75\\ngini = 0.498\\nsamples = 153\\nvalue = [81, 72]'),\n",
       " Text(226.7743772241993, 94.22399999999999, 'X[2] <= 1.5\\ngini = 0.491\\nsamples = 115\\nvalue = [65, 50]'),\n",
       " Text(225.98007117437723, 79.72799999999998, 'gini = 0.48\\nsamples = 5\\nvalue = [2, 3]'),\n",
       " Text(227.56868327402137, 79.72799999999998, 'X[2] <= 3.5\\ngini = 0.489\\nsamples = 110\\nvalue = [63, 47]'),\n",
       " Text(225.98007117437723, 65.232, 'X[2] <= 2.5\\ngini = 0.493\\nsamples = 84\\nvalue = [47, 37]'),\n",
       " Text(225.18576512455516, 50.73599999999999, 'gini = 0.496\\nsamples = 44\\nvalue = [24, 20]'),\n",
       " Text(226.7743772241993, 50.73599999999999, 'gini = 0.489\\nsamples = 40\\nvalue = [23, 17]'),\n",
       " Text(229.1572953736655, 65.232, 'X[2] <= 4.75\\ngini = 0.473\\nsamples = 26\\nvalue = [16, 10]'),\n",
       " Text(228.36298932384344, 50.73599999999999, 'gini = 0.475\\nsamples = 18\\nvalue = [11, 7]'),\n",
       " Text(229.95160142348755, 50.73599999999999, 'gini = 0.469\\nsamples = 8\\nvalue = [5, 3]'),\n",
       " Text(233.12882562277582, 94.22399999999999, 'X[2] <= 2.5\\ngini = 0.488\\nsamples = 38\\nvalue = [16, 22]'),\n",
       " Text(231.54021352313168, 79.72799999999998, 'X[2] <= 1.5\\ngini = 0.245\\nsamples = 7\\nvalue = [1, 6]'),\n",
       " Text(230.74590747330961, 65.232, 'gini = 0.0\\nsamples = 1\\nvalue = [0, 1]'),\n",
       " Text(232.33451957295375, 65.232, 'gini = 0.278\\nsamples = 6\\nvalue = [1, 5]'),\n",
       " Text(234.71743772241993, 79.72799999999998, 'X[2] <= 3.5\\ngini = 0.499\\nsamples = 31\\nvalue = [15, 16]'),\n",
       " Text(233.9231316725979, 65.232, 'gini = 0.49\\nsamples = 14\\nvalue = [8, 6]'),\n",
       " Text(235.511743772242, 65.232, 'X[2] <= 4.75\\ngini = 0.484\\nsamples = 17\\nvalue = [7, 10]'),\n",
       " Text(234.71743772241993, 50.73599999999999, 'gini = 0.32\\nsamples = 5\\nvalue = [1, 4]'),\n",
       " Text(236.30604982206407, 50.73599999999999, 'gini = 0.5\\nsamples = 12\\nvalue = [6, 6]'),\n",
       " Text(241.4690391459075, 137.712, 'X[2] <= 1.5\\ngini = 0.467\\nsamples = 194\\nvalue = [122, 72]'),\n",
       " Text(237.10035587188614, 123.216, 'X[1] <= 14.75\\ngini = 0.48\\nsamples = 20\\nvalue = [8, 12]'),\n",
       " Text(235.511743772242, 108.72, 'X[1] <= 11.0\\ngini = 0.444\\nsamples = 6\\nvalue = [4, 2]'),\n",
       " Text(234.71743772241993, 94.22399999999999, 'gini = 0.0\\nsamples = 1\\nvalue = [1, 0]'),\n",
       " Text(236.30604982206407, 94.22399999999999, 'gini = 0.48\\nsamples = 5\\nvalue = [3, 2]'),\n",
       " Text(238.68896797153027, 108.72, 'X[1] <= 19.75\\ngini = 0.408\\nsamples = 14\\nvalue = [4, 10]'),\n",
       " Text(237.8946619217082, 94.22399999999999, 'gini = 0.375\\nsamples = 4\\nvalue = [1, 3]'),\n",
       " Text(239.48327402135232, 94.22399999999999, 'gini = 0.42\\nsamples = 10\\nvalue = [3, 7]'),\n",
       " Text(245.83772241992884, 123.216, 'X[1] <= 19.75\\ngini = 0.452\\nsamples = 174\\nvalue = [114, 60]'),\n",
       " Text(242.6604982206406, 108.72, 'X[2] <= 2.5\\ngini = 0.32\\nsamples = 20\\nvalue = [16, 4]'),\n",
       " Text(241.07188612099645, 94.22399999999999, 'X[1] <= 14.75\\ngini = 0.444\\nsamples = 9\\nvalue = [6, 3]'),\n",
       " Text(240.27758007117438, 79.72799999999998, 'gini = 0.0\\nsamples = 1\\nvalue = [1, 0]'),\n",
       " Text(241.86619217081852, 79.72799999999998, 'gini = 0.469\\nsamples = 8\\nvalue = [5, 3]'),\n",
       " Text(244.2491103202847, 94.22399999999999, 'X[2] <= 3.5\\ngini = 0.165\\nsamples = 11\\nvalue = [10, 1]'),\n",
       " Text(243.45480427046266, 79.72799999999998, 'gini = 0.278\\nsamples = 6\\nvalue = [5, 1]'),\n",
       " Text(245.04341637010677, 79.72799999999998, 'gini = 0.0\\nsamples = 5\\nvalue = [5, 0]'),\n",
       " Text(249.01494661921708, 108.72, 'X[2] <= 3.5\\ngini = 0.463\\nsamples = 154\\nvalue = [98, 56]'),\n",
       " Text(247.42633451957298, 94.22399999999999, 'X[2] <= 2.5\\ngini = 0.476\\nsamples = 100\\nvalue = [61, 39]'),\n",
       " Text(246.6320284697509, 79.72799999999998, 'gini = 0.469\\nsamples = 48\\nvalue = [30, 18]'),\n",
       " Text(248.22064056939504, 79.72799999999998, 'gini = 0.482\\nsamples = 52\\nvalue = [31, 21]'),\n",
       " Text(250.60355871886122, 94.22399999999999, 'X[2] <= 4.75\\ngini = 0.431\\nsamples = 54\\nvalue = [37, 17]'),\n",
       " Text(249.80925266903915, 79.72799999999998, 'gini = 0.438\\nsamples = 34\\nvalue = [23, 11]'),\n",
       " Text(251.3978647686833, 79.72799999999998, 'gini = 0.42\\nsamples = 20\\nvalue = [14, 6]'),\n",
       " Text(279.1551379003559, 166.704, 'X[1] <= 7.5\\ngini = 0.361\\nsamples = 1174\\nvalue = [896, 278]'),\n",
       " Text(260.92953736654806, 152.208, 'X[2] <= 1.5\\ngini = 0.321\\nsamples = 354\\nvalue = [283, 71]'),\n",
       " Text(256.5608540925267, 137.712, 'X[3] <= 29.5\\ngini = 0.355\\nsamples = 247\\nvalue = [190, 57]'),\n",
       " Text(254.57508896797154, 123.216, 'X[2] <= 0.5\\ngini = 0.369\\nsamples = 225\\nvalue = [170, 55]'),\n",
       " Text(252.98647686832743, 108.72, 'X[3] <= 24.5\\ngini = 0.358\\nsamples = 124\\nvalue = [95, 29]'),\n",
       " Text(252.19217081850536, 94.22399999999999, 'gini = 0.33\\nsamples = 24\\nvalue = [19, 5]'),\n",
       " Text(253.78078291814947, 94.22399999999999, 'gini = 0.365\\nsamples = 100\\nvalue = [76, 24]'),\n",
       " Text(256.16370106761565, 108.72, 'X[3] <= 24.5\\ngini = 0.382\\nsamples = 101\\nvalue = [75, 26]'),\n",
       " Text(255.3693950177936, 94.22399999999999, 'gini = 0.397\\nsamples = 22\\nvalue = [16, 6]'),\n",
       " Text(256.9580071174377, 94.22399999999999, 'gini = 0.378\\nsamples = 79\\nvalue = [59, 20]'),\n",
       " Text(258.54661921708185, 123.216, 'X[2] <= 0.5\\ngini = 0.165\\nsamples = 22\\nvalue = [20, 2]'),\n",
       " Text(257.7523131672598, 108.72, 'gini = 0.0\\nsamples = 10\\nvalue = [10, 0]'),\n",
       " Text(259.3409252669039, 108.72, 'X[3] <= 34.5\\ngini = 0.278\\nsamples = 12\\nvalue = [10, 2]'),\n",
       " Text(258.54661921708185, 94.22399999999999, 'gini = 0.298\\nsamples = 11\\nvalue = [9, 2]'),\n",
       " Text(260.135231316726, 94.22399999999999, 'gini = 0.0\\nsamples = 1\\nvalue = [1, 0]'),\n",
       " Text(265.2982206405694, 137.712, 'X[3] <= 34.5\\ngini = 0.227\\nsamples = 107\\nvalue = [93, 14]'),\n",
       " Text(264.50391459074734, 123.216, 'X[3] <= 24.5\\ngini = 0.215\\nsamples = 106\\nvalue = [93, 13]'),\n",
       " Text(262.5181494661922, 108.72, 'X[2] <= 2.5\\ngini = 0.34\\nsamples = 23\\nvalue = [18, 5]'),\n",
       " Text(261.72384341637013, 94.22399999999999, 'gini = 0.375\\nsamples = 20\\nvalue = [15, 5]'),\n",
       " Text(263.31245551601427, 94.22399999999999, 'gini = 0.0\\nsamples = 3\\nvalue = [3, 0]'),\n",
       " Text(266.4896797153025, 108.72, 'X[2] <= 2.5\\ngini = 0.174\\nsamples = 83\\nvalue = [75, 8]'),\n",
       " Text(264.90106761565835, 94.22399999999999, 'X[3] <= 29.5\\ngini = 0.167\\nsamples = 76\\nvalue = [69, 7]'),\n",
       " Text(264.10676156583634, 79.72799999999998, 'gini = 0.198\\nsamples = 63\\nvalue = [56, 7]'),\n",
       " Text(265.6953736654804, 79.72799999999998, 'gini = 0.0\\nsamples = 13\\nvalue = [13, 0]'),\n",
       " Text(268.0782918149466, 94.22399999999999, 'X[3] <= 29.5\\ngini = 0.245\\nsamples = 7\\nvalue = [6, 1]'),\n",
       " Text(267.28398576512456, 79.72799999999998, 'gini = 0.0\\nsamples = 6\\nvalue = [6, 0]'),\n",
       " Text(268.8725978647687, 79.72799999999998, 'gini = 0.0\\nsamples = 1\\nvalue = [0, 1]'),\n",
       " Text(266.0925266903915, 123.216, 'gini = 0.0\\nsamples = 1\\nvalue = [0, 1]'),\n",
       " Text(297.38073843416373, 152.208, 'X[3] <= 29.5\\ngini = 0.377\\nsamples = 820\\nvalue = [613, 207]'),\n",
       " Text(277.8085409252669, 137.712, 'X[2] <= 2.5\\ngini = 0.432\\nsamples = 136\\nvalue = [93, 43]'),\n",
       " Text(273.24128113879004, 123.216, 'X[1] <= 11.0\\ngini = 0.454\\nsamples = 112\\nvalue = [73, 39]'),\n",
       " Text(270.46120996441283, 108.72, 'X[2] <= 0.5\\ngini = 0.465\\nsamples = 87\\nvalue = [55, 32]'),\n",
       " Text(269.66690391459076, 94.22399999999999, 'gini = 0.346\\nsamples = 9\\nvalue = [7, 2]'),\n",
       " Text(271.2555160142349, 94.22399999999999, 'X[2] <= 1.5\\ngini = 0.473\\nsamples = 78\\nvalue = [48, 30]'),\n",
       " Text(270.46120996441283, 79.72799999999998, 'gini = 0.497\\nsamples = 24\\nvalue = [13, 11]'),\n",
       " Text(272.04982206405697, 79.72799999999998, 'X[3] <= 24.5\\ngini = 0.456\\nsamples = 54\\nvalue = [35, 19]'),\n",
       " Text(271.2555160142349, 65.232, 'gini = 0.0\\nsamples = 1\\nvalue = [1, 0]'),\n",
       " Text(272.84412811387904, 65.232, 'gini = 0.46\\nsamples = 53\\nvalue = [34, 19]'),\n",
       " Text(276.02135231316726, 108.72, 'X[2] <= 0.5\\ngini = 0.403\\nsamples = 25\\nvalue = [18, 7]'),\n",
       " Text(275.2270462633452, 94.22399999999999, 'gini = 0.0\\nsamples = 1\\nvalue = [0, 1]'),\n",
       " Text(276.8156583629893, 94.22399999999999, 'X[1] <= 14.75\\ngini = 0.375\\nsamples = 24\\nvalue = [18, 6]'),\n",
       " Text(275.2270462633452, 79.72799999999998, 'X[2] <= 1.5\\ngini = 0.351\\nsamples = 22\\nvalue = [17, 5]'),\n",
       " Text(274.4327402135231, 65.232, 'gini = 0.375\\nsamples = 4\\nvalue = [3, 1]'),\n",
       " Text(276.02135231316726, 65.232, 'gini = 0.346\\nsamples = 18\\nvalue = [14, 4]'),\n",
       " Text(278.40427046263346, 79.72799999999998, 'X[2] <= 1.5\\ngini = 0.5\\nsamples = 2\\nvalue = [1, 1]'),\n",
       " Text(277.6099644128114, 65.232, 'gini = 0.0\\nsamples = 1\\nvalue = [1, 0]'),\n",
       " Text(279.19857651245553, 65.232, 'gini = 0.0\\nsamples = 1\\nvalue = [0, 1]'),\n",
       " Text(282.3758007117438, 123.216, 'X[1] <= 14.75\\ngini = 0.278\\nsamples = 24\\nvalue = [20, 4]'),\n",
       " Text(281.58149466192174, 108.72, 'X[1] <= 11.0\\ngini = 0.308\\nsamples = 21\\nvalue = [17, 4]'),\n",
       " Text(280.78718861209967, 94.22399999999999, 'X[2] <= 3.5\\ngini = 0.245\\nsamples = 14\\nvalue = [12, 2]'),\n",
       " Text(279.9928825622776, 79.72799999999998, 'gini = 0.26\\nsamples = 13\\nvalue = [11, 2]'),\n",
       " Text(281.58149466192174, 79.72799999999998, 'gini = 0.0\\nsamples = 1\\nvalue = [1, 0]'),\n",
       " Text(282.3758007117438, 94.22399999999999, 'gini = 0.408\\nsamples = 7\\nvalue = [5, 2]'),\n",
       " Text(283.1701067615659, 108.72, 'gini = 0.0\\nsamples = 3\\nvalue = [3, 0]'),\n",
       " Text(316.95293594306054, 137.712, 'X[1] <= 19.75\\ngini = 0.365\\nsamples = 684\\nvalue = [520, 164]'),\n",
       " Text(306.8503558718861, 123.216, 'X[3] <= 39.5\\ngini = 0.341\\nsamples = 441\\nvalue = [345, 96]'),\n",
       " Text(295.5811387900356, 108.72, 'X[2] <= 2.5\\ngini = 0.349\\nsamples = 408\\nvalue = [316, 92]'),\n",
       " Text(285.75160142348756, 94.22399999999999, 'X[1] <= 11.0\\ngini = 0.375\\nsamples = 232\\nvalue = [174, 58]'),\n",
       " Text(283.1701067615659, 79.72799999999998, 'X[2] <= 1.5\\ngini = 0.274\\nsamples = 55\\nvalue = [46, 9]'),\n",
       " Text(282.3758007117438, 65.232, 'X[3] <= 34.5\\ngini = 0.42\\nsamples = 20\\nvalue = [14, 6]'),\n",
       " Text(281.58149466192174, 50.73599999999999, 'X[2] <= 0.5\\ngini = 0.432\\nsamples = 19\\nvalue = [13, 6]'),\n",
       " Text(280.78718861209967, 36.23999999999998, 'gini = 0.375\\nsamples = 12\\nvalue = [9, 3]'),\n",
       " Text(282.3758007117438, 36.23999999999998, 'gini = 0.49\\nsamples = 7\\nvalue = [4, 3]'),\n",
       " Text(283.1701067615659, 50.73599999999999, 'gini = 0.0\\nsamples = 1\\nvalue = [1, 0]'),\n",
       " Text(283.9644128113879, 65.232, 'gini = 0.157\\nsamples = 35\\nvalue = [32, 3]'),\n",
       " Text(288.3330960854093, 79.72799999999998, 'X[2] <= 0.5\\ngini = 0.4\\nsamples = 177\\nvalue = [128, 49]'),\n",
       " Text(285.553024911032, 65.232, 'X[3] <= 34.5\\ngini = 0.219\\nsamples = 16\\nvalue = [14, 2]'),\n",
       " Text(284.75871886120996, 50.73599999999999, 'gini = 0.198\\nsamples = 9\\nvalue = [8, 1]'),\n",
       " Text(286.3473309608541, 50.73599999999999, 'gini = 0.245\\nsamples = 7\\nvalue = [6, 1]'),\n",
       " Text(291.1131672597865, 65.232, 'X[1] <= 14.75\\ngini = 0.413\\nsamples = 161\\nvalue = [114, 47]'),\n",
       " Text(287.93594306049823, 50.73599999999999, 'X[2] <= 1.5\\ngini = 0.444\\nsamples = 87\\nvalue = [58, 29]'),\n",
       " Text(286.3473309608541, 36.23999999999998, 'X[3] <= 34.5\\ngini = 0.488\\nsamples = 19\\nvalue = [11, 8]'),\n",
       " Text(285.553024911032, 21.744, 'gini = 0.492\\nsamples = 16\\nvalue = [9, 7]'),\n",
       " Text(287.14163701067616, 21.744, 'gini = 0.444\\nsamples = 3\\nvalue = [2, 1]'),\n",
       " Text(289.52455516014237, 36.23999999999998, 'X[3] <= 34.5\\ngini = 0.427\\nsamples = 68\\nvalue = [47, 21]'),\n",
       " Text(288.7302491103203, 21.744, 'gini = 0.411\\nsamples = 52\\nvalue = [37, 15]'),\n",
       " Text(290.31886120996444, 21.744, 'gini = 0.469\\nsamples = 16\\nvalue = [10, 6]'),\n",
       " Text(294.2903914590747, 50.73599999999999, 'X[3] <= 34.5\\ngini = 0.368\\nsamples = 74\\nvalue = [56, 18]'),\n",
       " Text(292.70177935943065, 36.23999999999998, 'X[2] <= 1.5\\ngini = 0.424\\nsamples = 36\\nvalue = [25, 11]'),\n",
       " Text(291.9074733096086, 21.744, 'gini = 0.408\\nsamples = 7\\nvalue = [5, 2]'),\n",
       " Text(293.49608540925266, 21.744, 'gini = 0.428\\nsamples = 29\\nvalue = [20, 9]'),\n",
       " Text(295.87900355871886, 36.23999999999998, 'X[2] <= 1.5\\ngini = 0.301\\nsamples = 38\\nvalue = [31, 7]'),\n",
       " Text(295.0846975088968, 21.744, 'gini = 0.245\\nsamples = 7\\nvalue = [6, 1]'),\n",
       " Text(296.67330960854093, 21.744, 'gini = 0.312\\nsamples = 31\\nvalue = [25, 6]'),\n",
       " Text(305.41067615658363, 94.22399999999999, 'X[1] <= 14.75\\ngini = 0.312\\nsamples = 176\\nvalue = [142, 34]'),\n",
       " Text(301.0419928825623, 79.72799999999998, 'X[2] <= 4.75\\ngini = 0.278\\nsamples = 48\\nvalue = [40, 8]'),\n",
       " Text(300.2476868327402, 65.232, 'X[1] <= 11.0\\ngini = 0.292\\nsamples = 45\\nvalue = [37, 8]'),\n",
       " Text(298.26192170818507, 50.73599999999999, 'X[2] <= 3.5\\ngini = 0.346\\nsamples = 9\\nvalue = [7, 2]'),\n",
       " Text(297.467615658363, 36.23999999999998, 'gini = 0.444\\nsamples = 6\\nvalue = [4, 2]'),\n",
       " Text(299.05622775800714, 36.23999999999998, 'gini = 0.0\\nsamples = 3\\nvalue = [3, 0]'),\n",
       " Text(302.2334519572954, 50.73599999999999, 'X[2] <= 3.5\\ngini = 0.278\\nsamples = 36\\nvalue = [30, 6]'),\n",
       " Text(300.6448398576513, 36.23999999999998, 'X[3] <= 34.5\\ngini = 0.264\\nsamples = 32\\nvalue = [27, 5]'),\n",
       " Text(299.8505338078292, 21.744, 'gini = 0.302\\nsamples = 27\\nvalue = [22, 5]'),\n",
       " Text(301.43914590747335, 21.744, 'gini = 0.0\\nsamples = 5\\nvalue = [5, 0]'),\n",
       " Text(303.8220640569395, 36.23999999999998, 'X[3] <= 34.5\\ngini = 0.375\\nsamples = 4\\nvalue = [3, 1]'),\n",
       " Text(303.0277580071174, 21.744, 'gini = 0.0\\nsamples = 3\\nvalue = [3, 0]'),\n",
       " Text(304.61637010676156, 21.744, 'gini = 0.0\\nsamples = 1\\nvalue = [0, 1]'),\n",
       " Text(301.83629893238435, 65.232, 'gini = 0.0\\nsamples = 3\\nvalue = [3, 0]'),\n",
       " Text(309.779359430605, 79.72799999999998, 'X[2] <= 4.75\\ngini = 0.324\\nsamples = 128\\nvalue = [102, 26]'),\n",
       " Text(307.79359430604984, 65.232, 'X[3] <= 34.5\\ngini = 0.316\\nsamples = 117\\nvalue = [94, 23]'),\n",
       " Text(306.2049822064057, 50.73599999999999, 'X[2] <= 3.5\\ngini = 0.358\\nsamples = 60\\nvalue = [46, 14]'),\n",
       " Text(305.41067615658363, 36.23999999999998, 'gini = 0.357\\nsamples = 43\\nvalue = [33, 10]'),\n",
       " Text(306.99928825622777, 36.23999999999998, 'gini = 0.36\\nsamples = 17\\nvalue = [13, 4]'),\n",
       " Text(309.382206405694, 50.73599999999999, 'X[2] <= 3.5\\ngini = 0.266\\nsamples = 57\\nvalue = [48, 9]'),\n",
       " Text(308.5879003558719, 36.23999999999998, 'gini = 0.245\\nsamples = 35\\nvalue = [30, 5]'),\n",
       " Text(310.17651245551605, 36.23999999999998, 'gini = 0.298\\nsamples = 22\\nvalue = [18, 4]'),\n",
       " Text(311.7651245551602, 65.232, 'X[3] <= 34.5\\ngini = 0.397\\nsamples = 11\\nvalue = [8, 3]'),\n",
       " Text(310.9708185053381, 50.73599999999999, 'gini = 0.0\\nsamples = 4\\nvalue = [4, 0]'),\n",
       " Text(312.5594306049822, 50.73599999999999, 'gini = 0.49\\nsamples = 7\\nvalue = [4, 3]'),\n",
       " Text(318.1195729537367, 108.72, 'X[2] <= 3.5\\ngini = 0.213\\nsamples = 33\\nvalue = [29, 4]'),\n",
       " Text(317.3252669039146, 94.22399999999999, 'X[2] <= 1.5\\ngini = 0.245\\nsamples = 28\\nvalue = [24, 4]'),\n",
       " Text(315.7366548042705, 79.72799999999998, 'X[2] <= 0.5\\ngini = 0.142\\nsamples = 13\\nvalue = [12, 1]'),\n",
       " Text(314.9423487544484, 65.232, 'X[1] <= 11.0\\ngini = 0.219\\nsamples = 8\\nvalue = [7, 1]'),\n",
       " Text(314.14804270462633, 50.73599999999999, 'gini = 0.0\\nsamples = 3\\nvalue = [3, 0]'),\n",
       " Text(315.7366548042705, 50.73599999999999, 'gini = 0.32\\nsamples = 5\\nvalue = [4, 1]'),\n",
       " Text(316.53096085409254, 65.232, 'gini = 0.0\\nsamples = 5\\nvalue = [5, 0]'),\n",
       " Text(318.91387900355875, 79.72799999999998, 'X[1] <= 14.75\\ngini = 0.32\\nsamples = 15\\nvalue = [12, 3]'),\n",
       " Text(318.1195729537367, 65.232, 'gini = 0.0\\nsamples = 1\\nvalue = [0, 1]'),\n",
       " Text(319.7081850533808, 65.232, 'X[2] <= 2.5\\ngini = 0.245\\nsamples = 14\\nvalue = [12, 2]'),\n",
       " Text(318.91387900355875, 50.73599999999999, 'gini = 0.375\\nsamples = 8\\nvalue = [6, 2]'),\n",
       " Text(320.5024911032029, 50.73599999999999, 'gini = 0.0\\nsamples = 6\\nvalue = [6, 0]'),\n",
       " Text(318.91387900355875, 94.22399999999999, 'gini = 0.0\\nsamples = 5\\nvalue = [5, 0]'),\n",
       " Text(327.0555160142349, 123.216, 'X[3] <= 39.5\\ngini = 0.403\\nsamples = 243\\nvalue = [175, 68]'),\n",
       " Text(323.2825622775801, 108.72, 'X[3] <= 34.5\\ngini = 0.478\\nsamples = 38\\nvalue = [23, 15]'),\n",
       " Text(321.29679715302495, 94.22399999999999, 'X[2] <= 2.5\\ngini = 0.375\\nsamples = 4\\nvalue = [3, 1]'),\n",
       " Text(320.5024911032029, 79.72799999999998, 'gini = 0.444\\nsamples = 3\\nvalue = [2, 1]'),\n",
       " Text(322.09110320284697, 79.72799999999998, 'gini = 0.0\\nsamples = 1\\nvalue = [1, 0]'),\n",
       " Text(325.26832740213524, 94.22399999999999, 'X[2] <= 3.5\\ngini = 0.484\\nsamples = 34\\nvalue = [20, 14]'),\n",
       " Text(323.6797153024911, 79.72799999999998, 'X[2] <= 2.5\\ngini = 0.475\\nsamples = 18\\nvalue = [11, 7]'),\n",
       " Text(322.88540925266904, 65.232, 'gini = 0.48\\nsamples = 5\\nvalue = [3, 2]'),\n",
       " Text(324.4740213523132, 65.232, 'gini = 0.473\\nsamples = 13\\nvalue = [8, 5]'),\n",
       " Text(326.8569395017794, 79.72799999999998, 'X[2] <= 4.75\\ngini = 0.492\\nsamples = 16\\nvalue = [9, 7]'),\n",
       " Text(326.0626334519573, 65.232, 'gini = 0.5\\nsamples = 8\\nvalue = [4, 4]'),\n",
       " Text(327.65124555160145, 65.232, 'gini = 0.469\\nsamples = 8\\nvalue = [5, 3]'),\n",
       " Text(330.8284697508897, 108.72, 'X[2] <= 1.5\\ngini = 0.383\\nsamples = 205\\nvalue = [152, 53]'),\n",
       " Text(330.03416370106765, 94.22399999999999, 'gini = 0.142\\nsamples = 13\\nvalue = [12, 1]'),\n",
       " Text(331.62277580071174, 94.22399999999999, 'X[2] <= 3.5\\ngini = 0.395\\nsamples = 192\\nvalue = [140, 52]'),\n",
       " Text(330.03416370106765, 79.72799999999998, 'X[2] <= 2.5\\ngini = 0.428\\nsamples = 113\\nvalue = [78, 35]'),\n",
       " Text(329.2398576512456, 65.232, 'gini = 0.449\\nsamples = 53\\nvalue = [35, 18]'),\n",
       " Text(330.8284697508897, 65.232, 'gini = 0.406\\nsamples = 60\\nvalue = [43, 17]'),\n",
       " Text(333.2113879003559, 79.72799999999998, 'X[2] <= 4.75\\ngini = 0.338\\nsamples = 79\\nvalue = [62, 17]'),\n",
       " Text(332.4170818505338, 65.232, 'gini = 0.326\\nsamples = 39\\nvalue = [31, 8]'),\n",
       " Text(334.00569395017794, 65.232, 'gini = 0.349\\nsamples = 40\\nvalue = [31, 9]')]"
      ]
     },
     "execution_count": 25,
     "metadata": {},
     "output_type": "execute_result"
    },
    {
     "data": {
      "image/png": "[encoded data removed]",
      "text/plain": [
       "<Figure size 432x288 with 1 Axes>"
      ]
     },
     "metadata": {
      "needs_background": "light"
     },
     "output_type": "display_data"
    }
   ],
   "source": [
    "tree.plot_tree(model)"
   ]
  },
  {
   "cell_type": "markdown",
   "metadata": {},
   "source": [
    "### Question 6. Now try using max_depth = 2, 3, 4 and crierion = 'gini' and 'entropy' to build 3 X 2 = 6 different models"
   ]
  },
  {
   "cell_type": "code",
   "execution_count": 26,
   "metadata": {},
   "outputs": [],
   "source": [
    "X = df[['rate_marriage','yrs_married','children','age']].to_numpy()\n",
    "Y = df['had_affair'].to_numpy()\n",
    "X_train, X_test, Y_train, Y_test = train_test_split(X, Y, test_size=0.3, random_state=0)"
   ]
  },
  {
   "cell_type": "code",
   "execution_count": 27,
   "metadata": {
    "scrolled": true
   },
   "outputs": [
    {
     "name": "stdout",
     "output_type": "stream",
     "text": [
      "---------------------------------\n",
      "depth: 2\tcriterion: gini\n",
      "\n",
      "[[1192  111]\n",
      " [ 407  200]]\n",
      "              precision    recall  f1-score   support\n",
      "\n",
      "           0       0.75      0.91      0.82      1303\n",
      "           1       0.64      0.33      0.44       607\n",
      "\n",
      "    accuracy                           0.73      1910\n",
      "   macro avg       0.69      0.62      0.63      1910\n",
      "weighted avg       0.71      0.73      0.70      1910\n",
      "\n",
      "0.7287958115183246\n",
      "---------------------------------\n",
      "depth: 2\tcriterion: entropy\n",
      "\n",
      "[[1192  111]\n",
      " [ 407  200]]\n",
      "              precision    recall  f1-score   support\n",
      "\n",
      "           0       0.75      0.91      0.82      1303\n",
      "           1       0.64      0.33      0.44       607\n",
      "\n",
      "    accuracy                           0.73      1910\n",
      "   macro avg       0.69      0.62      0.63      1910\n",
      "weighted avg       0.71      0.73      0.70      1910\n",
      "\n",
      "0.7287958115183246\n",
      "---------------------------------\n",
      "depth: 3\tcriterion: gini\n",
      "\n",
      "[[1192  111]\n",
      " [ 407  200]]\n",
      "              precision    recall  f1-score   support\n",
      "\n",
      "           0       0.75      0.91      0.82      1303\n",
      "           1       0.64      0.33      0.44       607\n",
      "\n",
      "    accuracy                           0.73      1910\n",
      "   macro avg       0.69      0.62      0.63      1910\n",
      "weighted avg       0.71      0.73      0.70      1910\n",
      "\n",
      "0.7287958115183246\n",
      "---------------------------------\n",
      "depth: 3\tcriterion: entropy\n",
      "\n",
      "[[1192  111]\n",
      " [ 407  200]]\n",
      "              precision    recall  f1-score   support\n",
      "\n",
      "           0       0.75      0.91      0.82      1303\n",
      "           1       0.64      0.33      0.44       607\n",
      "\n",
      "    accuracy                           0.73      1910\n",
      "   macro avg       0.69      0.62      0.63      1910\n",
      "weighted avg       0.71      0.73      0.70      1910\n",
      "\n",
      "0.7287958115183246\n",
      "---------------------------------\n",
      "depth: 4\tcriterion: gini\n",
      "\n",
      "[[1192  111]\n",
      " [ 412  195]]\n",
      "              precision    recall  f1-score   support\n",
      "\n",
      "           0       0.74      0.91      0.82      1303\n",
      "           1       0.64      0.32      0.43       607\n",
      "\n",
      "    accuracy                           0.73      1910\n",
      "   macro avg       0.69      0.62      0.62      1910\n",
      "weighted avg       0.71      0.73      0.70      1910\n",
      "\n",
      "0.7261780104712042\n",
      "---------------------------------\n",
      "depth: 4\tcriterion: entropy\n",
      "\n",
      "[[1192  111]\n",
      " [ 412  195]]\n",
      "              precision    recall  f1-score   support\n",
      "\n",
      "           0       0.74      0.91      0.82      1303\n",
      "           1       0.64      0.32      0.43       607\n",
      "\n",
      "    accuracy                           0.73      1910\n",
      "   macro avg       0.69      0.62      0.62      1910\n",
      "weighted avg       0.71      0.73      0.70      1910\n",
      "\n",
      "0.7261780104712042\n"
     ]
    }
   ],
   "source": [
    "criterias=['gini','entropy']\n",
    "for d in range(2,5):\n",
    "    for c in criterias:\n",
    "        model = DecisionTreeClassifier(max_depth=d, criterion=c)\n",
    "        model.fit(X_train,Y_train)\n",
    "        predictions = model.predict(X_test)\n",
    "        print('---------------------------------')\n",
    "        print('depth: '+str(d) + '\\t' + 'criterion: ' + c +'\\n')\n",
    "        print(confusion_matrix(Y_test,predictions))\n",
    "        print(classification_report(Y_test,predictions))\n",
    "        print(accuracy_score(Y_test, predictions))\n",
    "        #tree.plot_tree(model)"
   ]
  },
  {
   "cell_type": "markdown",
   "metadata": {},
   "source": [
    "### Question 7. What is your obsevation from Question 6? Does the choice of the criterion important in this case? What about the max_depth? What is the best choice of max_depth and criterion?"
   ]
  },
  {
   "cell_type": "markdown",
   "metadata": {},
   "source": [
    "### It appears that the deeper you go the less accurate the model should be since there are less data points at the bottom of the tree, as we see in our instacne (I saw that more when I went 10 levels deep, but left the code as requested). A difference between gini and entropy is htat gini is less accurate but more lightweight while entropy is more accurate but computationally heavier (speed vs. resource issue seen again). In my case levels 2 and 3 in depth have the same level of impurity, and have the same results while a depth of level 4 has a lower accuracy score, so there appears to be no reason to use it. Depths of level 2 and 3 are the same in my case, so I'd say the best choice of criterion and max_depth would be 2 and gini since this is the least computationally heavy option while still maintaining the ideal results. Also, a depth of 2 is less likely to overfit the data than a max depth of 3. Overfitting is a major issue and if we can avoid it we should."
   ]
  },
  {
   "cell_type": "markdown",
   "metadata": {},
   "source": [
    "### Question 8, now pick three models, with max_depth = 2, 3 and 4. You can pick the which ever criterions you want and visual the three trees"
   ]
  },
  {
   "cell_type": "markdown",
   "metadata": {},
   "source": [
    "Type your answer and code here"
   ]
  },
  {
   "cell_type": "code",
   "execution_count": 28,
   "metadata": {},
   "outputs": [
    {
     "data": {
      "text/plain": [
       "DecisionTreeClassifier(max_depth=4)"
      ]
     },
     "execution_count": 28,
     "metadata": {},
     "output_type": "execute_result"
    }
   ],
   "source": [
    "# Hint \n",
    "model1 = DecisionTreeClassifier(max_depth=2, criterion='gini')\n",
    "model1.fit(X_train, Y_train)\n",
    "model2 = DecisionTreeClassifier(max_depth=3, criterion='gini')\n",
    "model2.fit(X_train, Y_train)\n",
    "model3 = DecisionTreeClassifier(max_depth=4, criterion='gini')\n",
    "model3.fit(X_train, Y_train)\n",
    "# Then display all 3 trees"
   ]
  },
  {
   "cell_type": "code",
   "execution_count": 29,
   "metadata": {},
   "outputs": [
    {
     "data": {
      "text/plain": [
       "[Text(167.4, 181.2, 'X[0] <= 3.5\\ngini = 0.438\\nsamples = 4456\\nvalue = [3010, 1446]'),\n",
       " Text(83.7, 108.72, 'X[1] <= 4.25\\ngini = 0.485\\nsamples = 1006\\nvalue = [417, 589]'),\n",
       " Text(41.85, 36.23999999999998, 'gini = 0.498\\nsamples = 264\\nvalue = [141, 123]'),\n",
       " Text(125.55000000000001, 36.23999999999998, 'gini = 0.467\\nsamples = 742\\nvalue = [276, 466]'),\n",
       " Text(251.10000000000002, 108.72, 'X[1] <= 4.25\\ngini = 0.373\\nsamples = 3450\\nvalue = [2593, 857]'),\n",
       " Text(209.25, 36.23999999999998, 'gini = 0.246\\nsamples = 1394\\nvalue = [1194, 200]'),\n",
       " Text(292.95, 36.23999999999998, 'gini = 0.435\\nsamples = 2056\\nvalue = [1399, 657]')]"
      ]
     },
     "execution_count": 29,
     "metadata": {},
     "output_type": "execute_result"
    },
    {
     "data": {
      "image/png": "[encoded data removed]",
      "text/plain": [
       "<Figure size 432x288 with 1 Axes>"
      ]
     },
     "metadata": {
      "needs_background": "light"
     },
     "output_type": "display_data"
    }
   ],
   "source": [
    "tree.plot_tree(model1)"
   ]
  },
  {
   "cell_type": "code",
   "execution_count": 30,
   "metadata": {},
   "outputs": [
    {
     "data": {
      "text/plain": [
       "[Text(167.4, 190.26, 'X[0] <= 3.5\\ngini = 0.438\\nsamples = 4456\\nvalue = [3010, 1446]'),\n",
       " Text(83.7, 135.9, 'X[1] <= 4.25\\ngini = 0.485\\nsamples = 1006\\nvalue = [417, 589]'),\n",
       " Text(41.85, 81.53999999999999, 'X[1] <= 1.5\\ngini = 0.498\\nsamples = 264\\nvalue = [141, 123]'),\n",
       " Text(20.925, 27.180000000000007, 'gini = 0.305\\nsamples = 16\\nvalue = [13, 3]'),\n",
       " Text(62.775000000000006, 27.180000000000007, 'gini = 0.499\\nsamples = 248\\nvalue = [128, 120]'),\n",
       " Text(125.55000000000001, 81.53999999999999, 'X[0] <= 2.5\\ngini = 0.467\\nsamples = 742\\nvalue = [276, 466]'),\n",
       " Text(104.625, 27.180000000000007, 'gini = 0.424\\nsamples = 236\\nvalue = [72, 164]'),\n",
       " Text(146.475, 27.180000000000007, 'gini = 0.481\\nsamples = 506\\nvalue = [204, 302]'),\n",
       " Text(251.10000000000002, 135.9, 'X[1] <= 4.25\\ngini = 0.373\\nsamples = 3450\\nvalue = [2593, 857]'),\n",
       " Text(209.25, 81.53999999999999, 'X[1] <= 1.5\\ngini = 0.246\\nsamples = 1394\\nvalue = [1194, 200]'),\n",
       " Text(188.32500000000002, 27.180000000000007, 'gini = 0.071\\nsamples = 218\\nvalue = [210, 8]'),\n",
       " Text(230.175, 27.180000000000007, 'gini = 0.273\\nsamples = 1176\\nvalue = [984, 192]'),\n",
       " Text(292.95, 81.53999999999999, 'X[0] <= 4.5\\ngini = 0.435\\nsamples = 2056\\nvalue = [1399, 657]'),\n",
       " Text(272.02500000000003, 27.180000000000007, 'gini = 0.484\\nsamples = 981\\nvalue = [579, 402]'),\n",
       " Text(313.875, 27.180000000000007, 'gini = 0.362\\nsamples = 1075\\nvalue = [820, 255]')]"
      ]
     },
     "execution_count": 30,
     "metadata": {},
     "output_type": "execute_result"
    },
    {
     "data": {
      "image/png": "[encoded data removed]",
      "text/plain": [
       "<Figure size 432x288 with 1 Axes>"
      ]
     },
     "metadata": {
      "needs_background": "light"
     },
     "output_type": "display_data"
    }
   ],
   "source": [
    "tree.plot_tree(model2)"
   ]
  },
  {
   "cell_type": "code",
   "execution_count": 31,
   "metadata": {},
   "outputs": [
    {
     "data": {
      "text/plain": [
       "[Text(167.4, 195.696, 'X[0] <= 3.5\\ngini = 0.438\\nsamples = 4456\\nvalue = [3010, 1446]'),\n",
       " Text(83.7, 152.208, 'X[1] <= 4.25\\ngini = 0.485\\nsamples = 1006\\nvalue = [417, 589]'),\n",
       " Text(41.85, 108.72, 'X[1] <= 1.5\\ngini = 0.498\\nsamples = 264\\nvalue = [141, 123]'),\n",
       " Text(20.925, 65.232, 'X[0] <= 2.5\\ngini = 0.305\\nsamples = 16\\nvalue = [13, 3]'),\n",
       " Text(10.4625, 21.744, 'gini = 0.0\\nsamples = 4\\nvalue = [4, 0]'),\n",
       " Text(31.387500000000003, 21.744, 'gini = 0.375\\nsamples = 12\\nvalue = [9, 3]'),\n",
       " Text(62.775000000000006, 65.232, 'X[3] <= 29.5\\ngini = 0.499\\nsamples = 248\\nvalue = [128, 120]'),\n",
       " Text(52.3125, 21.744, 'gini = 0.5\\nsamples = 236\\nvalue = [118, 118]'),\n",
       " Text(73.2375, 21.744, 'gini = 0.278\\nsamples = 12\\nvalue = [10, 2]'),\n",
       " Text(125.55000000000001, 108.72, 'X[0] <= 2.5\\ngini = 0.467\\nsamples = 742\\nvalue = [276, 466]'),\n",
       " Text(104.625, 65.232, 'X[2] <= 4.75\\ngini = 0.424\\nsamples = 236\\nvalue = [72, 164]'),\n",
       " Text(94.16250000000001, 21.744, 'gini = 0.409\\nsamples = 216\\nvalue = [62, 154]'),\n",
       " Text(115.0875, 21.744, 'gini = 0.5\\nsamples = 20\\nvalue = [10, 10]'),\n",
       " Text(146.475, 65.232, 'X[1] <= 14.75\\ngini = 0.481\\nsamples = 506\\nvalue = [204, 302]'),\n",
       " Text(136.01250000000002, 21.744, 'gini = 0.492\\nsamples = 294\\nvalue = [128, 166]'),\n",
       " Text(156.9375, 21.744, 'gini = 0.46\\nsamples = 212\\nvalue = [76, 136]'),\n",
       " Text(251.10000000000002, 152.208, 'X[1] <= 4.25\\ngini = 0.373\\nsamples = 3450\\nvalue = [2593, 857]'),\n",
       " Text(209.25, 108.72, 'X[1] <= 1.5\\ngini = 0.246\\nsamples = 1394\\nvalue = [1194, 200]'),\n",
       " Text(188.32500000000002, 65.232, 'X[0] <= 4.5\\ngini = 0.071\\nsamples = 218\\nvalue = [210, 8]'),\n",
       " Text(177.8625, 21.744, 'gini = 0.198\\nsamples = 72\\nvalue = [64, 8]'),\n",
       " Text(198.7875, 21.744, 'gini = 0.0\\nsamples = 146\\nvalue = [146, 0]'),\n",
       " Text(230.175, 65.232, 'X[0] <= 4.5\\ngini = 0.273\\nsamples = 1176\\nvalue = [984, 192]'),\n",
       " Text(219.7125, 21.744, 'gini = 0.332\\nsamples = 500\\nvalue = [395, 105]'),\n",
       " Text(240.63750000000002, 21.744, 'gini = 0.224\\nsamples = 676\\nvalue = [589, 87]'),\n",
       " Text(292.95, 108.72, 'X[0] <= 4.5\\ngini = 0.435\\nsamples = 2056\\nvalue = [1399, 657]'),\n",
       " Text(272.02500000000003, 65.232, 'X[1] <= 7.5\\ngini = 0.484\\nsamples = 981\\nvalue = [579, 402]'),\n",
       " Text(261.5625, 21.744, 'gini = 0.434\\nsamples = 305\\nvalue = [208, 97]'),\n",
       " Text(282.4875, 21.744, 'gini = 0.495\\nsamples = 676\\nvalue = [371, 305]'),\n",
       " Text(313.875, 65.232, 'X[1] <= 7.5\\ngini = 0.362\\nsamples = 1075\\nvalue = [820, 255]'),\n",
       " Text(303.4125, 21.744, 'gini = 0.294\\nsamples = 307\\nvalue = [252, 55]'),\n",
       " Text(324.33750000000003, 21.744, 'gini = 0.385\\nsamples = 768\\nvalue = [568, 200]')]"
      ]
     },
     "execution_count": 31,
     "metadata": {},
     "output_type": "execute_result"
    },
    {
     "data": {
      "image/png": "[encoded data removed]",
      "text/plain": [
       "<Figure size 432x288 with 1 Axes>"
      ]
     },
     "metadata": {
      "needs_background": "light"
     },
     "output_type": "display_data"
    }
   ],
   "source": [
    "tree.plot_tree(model3)"
   ]
  },
  {
   "cell_type": "markdown",
   "metadata": {},
   "source": [
    "### Question 9. Now build a Random Forest Classifier with, say, 100 trees. Check the model performance "
   ]
  },
  {
   "cell_type": "markdown",
   "metadata": {},
   "source": [
    "Type your answer and code here"
   ]
  },
  {
   "cell_type": "code",
   "execution_count": 32,
   "metadata": {
    "scrolled": true
   },
   "outputs": [
    {
     "name": "stdout",
     "output_type": "stream",
     "text": [
      "              precision    recall  f1-score   support\n",
      "\n",
      "           0       0.76      0.86      0.81      1303\n",
      "           1       0.58      0.42      0.48       607\n",
      "\n",
      "    accuracy                           0.72      1910\n",
      "   macro avg       0.67      0.64      0.64      1910\n",
      "weighted avg       0.70      0.72      0.70      1910\n",
      "\n",
      "0.7172774869109948\n",
      "[[1192  111]\n",
      " [ 412  195]]\n"
     ]
    }
   ],
   "source": [
    "rfc = RandomForestClassifier(n_estimators=100)\n",
    "rfc.fit(X_train, Y_train)\n",
    "rfc_pred = rfc.predict(X_test)\n",
    "print(classification_report(Y_test, rfc_pred))\n",
    "print(accuracy_score(Y_test, rfc_pred))\n",
    "print(confusion_matrix(Y_test,predictions))"
   ]
  },
  {
   "cell_type": "markdown",
   "metadata": {},
   "source": [
    "### The accuracy is about the same as the decision trees modeled here. However, if we look at the f1 score for predicting had_affair, it the highest seen for all the models. I would therefore say this is the best model we have since we can 'trust' this model the most since it isn't so heavily weighted to having good no-had-affair ofsetting the bad had-affair. Still suffers from having a much better prediction of had no affair as opposed to having affair. We still have the issue of "
   ]
  }
 ],
 "metadata": {
  "kernelspec": {
   "display_name": "Python 3",
   "language": "python",
   "name": "python3"
  },
  "language_info": {
   "codemirror_mode": {
    "name": "ipython",
    "version": 3
   },
   "file_extension": ".py",
   "mimetype": "text/x-python",
   "name": "python",
   "nbconvert_exporter": "python",
   "pygments_lexer": "ipython3",
   "version": "3.8.5"
  }
 },
 "nbformat": 4,
 "nbformat_minor": 2
}
