{
 "cells": [
  {
   "cell_type": "markdown",
   "metadata": {},
   "source": [
    "# DA_HW_3 Support Vector Machine and Decision Trees\n",
    "\n",
    "# Due on 5/10 23:59 pm"
   ]
  },
  {
   "cell_type": "code",
   "execution_count": 51,
   "metadata": {},
   "outputs": [],
   "source": [
    "import pandas as pd\n",
    "import numpy as np\n",
    "import matplotlib.pyplot as plt\n",
    "import seaborn as sns\n",
    "import warnings\n",
    "import random\n",
    "from sklearn import svm\n",
    "from sklearn import tree\n",
    "from sklearn.linear_model import LinearRegression\n",
    "from sklearn.model_selection import train_test_split\n",
    "from sklearn.metrics import classification_report,confusion_matrix,accuracy_score\n",
    "from sklearn import metrics\n",
    "from sklearn.tree import DecisionTreeClassifier\n",
    "from sklearn.ensemble import RandomForestClassifier\n",
    "warnings.filterwarnings('ignore')"
   ]
  },
  {
   "cell_type": "markdown",
   "metadata": {},
   "source": [
    "## We will use the same affair dataset from HW2, but will skip the EDA phrase we have done enough of it"
   ]
  },
  {
   "cell_type": "markdown",
   "metadata": {},
   "source": [
    "#### Everything removing outliers, create dummies variabes had been done for you"
   ]
  },
  {
   "cell_type": "code",
   "execution_count": 2,
   "metadata": {
    "scrolled": true
   },
   "outputs": [
    {
     "data": {
      "text/html": [
       "<div>\n",
       "<style scoped>\n",
       "    .dataframe tbody tr th:only-of-type {\n",
       "        vertical-align: middle;\n",
       "    }\n",
       "\n",
       "    .dataframe tbody tr th {\n",
       "        vertical-align: top;\n",
       "    }\n",
       "\n",
       "    .dataframe thead th {\n",
       "        text-align: right;\n",
       "    }\n",
       "</style>\n",
       "<table border=\"1\" class=\"dataframe\">\n",
       "  <thead>\n",
       "    <tr style=\"text-align: right;\">\n",
       "      <th></th>\n",
       "      <th>rate_marriage</th>\n",
       "      <th>age</th>\n",
       "      <th>yrs_married</th>\n",
       "      <th>children</th>\n",
       "      <th>religious</th>\n",
       "      <th>educ</th>\n",
       "      <th>had_affair</th>\n",
       "      <th>occ2</th>\n",
       "      <th>occ3</th>\n",
       "      <th>occ4</th>\n",
       "      <th>occ5</th>\n",
       "      <th>occ6</th>\n",
       "    </tr>\n",
       "  </thead>\n",
       "  <tbody>\n",
       "    <tr>\n",
       "      <th>0</th>\n",
       "      <td>3.0</td>\n",
       "      <td>32.0</td>\n",
       "      <td>9.0</td>\n",
       "      <td>3.0</td>\n",
       "      <td>3.0</td>\n",
       "      <td>17.0</td>\n",
       "      <td>1</td>\n",
       "      <td>1</td>\n",
       "      <td>0</td>\n",
       "      <td>0</td>\n",
       "      <td>0</td>\n",
       "      <td>0</td>\n",
       "    </tr>\n",
       "    <tr>\n",
       "      <th>1</th>\n",
       "      <td>3.0</td>\n",
       "      <td>27.0</td>\n",
       "      <td>13.0</td>\n",
       "      <td>3.0</td>\n",
       "      <td>1.0</td>\n",
       "      <td>14.0</td>\n",
       "      <td>1</td>\n",
       "      <td>0</td>\n",
       "      <td>1</td>\n",
       "      <td>0</td>\n",
       "      <td>0</td>\n",
       "      <td>0</td>\n",
       "    </tr>\n",
       "    <tr>\n",
       "      <th>2</th>\n",
       "      <td>4.0</td>\n",
       "      <td>22.0</td>\n",
       "      <td>2.5</td>\n",
       "      <td>0.0</td>\n",
       "      <td>1.0</td>\n",
       "      <td>16.0</td>\n",
       "      <td>1</td>\n",
       "      <td>0</td>\n",
       "      <td>1</td>\n",
       "      <td>0</td>\n",
       "      <td>0</td>\n",
       "      <td>0</td>\n",
       "    </tr>\n",
       "    <tr>\n",
       "      <th>3</th>\n",
       "      <td>4.0</td>\n",
       "      <td>37.0</td>\n",
       "      <td>16.5</td>\n",
       "      <td>4.0</td>\n",
       "      <td>3.0</td>\n",
       "      <td>16.0</td>\n",
       "      <td>1</td>\n",
       "      <td>0</td>\n",
       "      <td>0</td>\n",
       "      <td>0</td>\n",
       "      <td>1</td>\n",
       "      <td>0</td>\n",
       "    </tr>\n",
       "    <tr>\n",
       "      <th>4</th>\n",
       "      <td>5.0</td>\n",
       "      <td>27.0</td>\n",
       "      <td>9.0</td>\n",
       "      <td>1.0</td>\n",
       "      <td>1.0</td>\n",
       "      <td>14.0</td>\n",
       "      <td>1</td>\n",
       "      <td>0</td>\n",
       "      <td>1</td>\n",
       "      <td>0</td>\n",
       "      <td>0</td>\n",
       "      <td>0</td>\n",
       "    </tr>\n",
       "  </tbody>\n",
       "</table>\n",
       "</div>"
      ],
      "text/plain": [
       "   rate_marriage   age  yrs_married  children  religious  educ  had_affair  \\\n",
       "0            3.0  32.0          9.0       3.0        3.0  17.0           1   \n",
       "1            3.0  27.0         13.0       3.0        1.0  14.0           1   \n",
       "2            4.0  22.0          2.5       0.0        1.0  16.0           1   \n",
       "3            4.0  37.0         16.5       4.0        3.0  16.0           1   \n",
       "4            5.0  27.0          9.0       1.0        1.0  14.0           1   \n",
       "\n",
       "   occ2  occ3  occ4  occ5  occ6  \n",
       "0     1     0     0     0     0  \n",
       "1     0     1     0     0     0  \n",
       "2     0     1     0     0     0  \n",
       "3     0     0     0     1     0  \n",
       "4     0     1     0     0     0  "
      ]
     },
     "execution_count": 2,
     "metadata": {},
     "output_type": "execute_result"
    }
   ],
   "source": [
    "# Remember the affair data set from HW3, we will use that dataset again\n",
    "# but we will directly load it from the API\n",
    "orig_df = pd.read_csv(\"affairs2.csv\")\n",
    "# Set up our target class label\n",
    "orig_df['had_affair'] = orig_df['affairs'].apply(lambda x: 1 if x != 0 else 0)\n",
    "orig_df = orig_df.drop('affairs',axis=1)\n",
    "# remove NA\n",
    "orig_df.dropna(inplace=True)\n",
    "# create dummies variable for occupation\n",
    "occ = pd.get_dummies(orig_df['occupation'],drop_first=True)\n",
    "# we include rate_marriage feature as well. In HW3, we did not include that variable\n",
    "features = ['rate_marriage','age','yrs_married','children','religious','educ', 'had_affair']\n",
    "df = orig_df\n",
    "df = pd.concat([orig_df[features], occ], axis=1)\n",
    "df.head()"
   ]
  },
  {
   "cell_type": "code",
   "execution_count": 3,
   "metadata": {
    "scrolled": false
   },
   "outputs": [
    {
     "data": {
      "text/plain": [
       "rate_marriage    0\n",
       "age              0\n",
       "yrs_married      0\n",
       "children         0\n",
       "religious        0\n",
       "educ             0\n",
       "had_affair       0\n",
       "occ2             0\n",
       "occ3             0\n",
       "occ4             0\n",
       "occ5             0\n",
       "occ6             0\n",
       "dtype: int64"
      ]
     },
     "execution_count": 3,
     "metadata": {},
     "output_type": "execute_result"
    }
   ],
   "source": [
    "# make sure there is no missing values\n",
    "df.isnull().sum()"
   ]
  },
  {
   "cell_type": "markdown",
   "metadata": {},
   "source": [
    "### Now we are ready to build models"
   ]
  },
  {
   "cell_type": "markdown",
   "metadata": {},
   "source": [
    "### Question 1: Build a classification model using SVC using linear kernel without specifying the C-parameter"
   ]
  },
  {
   "cell_type": "code",
   "execution_count": 4,
   "metadata": {},
   "outputs": [],
   "source": [
    "X = df[['rate_marriage','educ','occ2','occ3','occ4','occ5','occ6']].to_numpy()\n",
    "Y = df['had_affair'].to_numpy()"
   ]
  },
  {
   "cell_type": "code",
   "execution_count": 5,
   "metadata": {},
   "outputs": [],
   "source": [
    "X_train, X_test, Y_train, Y_test = train_test_split(X, Y, test_size=0.2, random_state=0)"
   ]
  },
  {
   "cell_type": "code",
   "execution_count": 6,
   "metadata": {},
   "outputs": [
    {
     "data": {
      "text/plain": [
       "SVC(kernel='linear')"
      ]
     },
     "execution_count": 6,
     "metadata": {},
     "output_type": "execute_result"
    }
   ],
   "source": [
    "svc = svm.SVC(kernel='linear')\n",
    "svc.fit(X_train, Y_train)"
   ]
  },
  {
   "cell_type": "code",
   "execution_count": 7,
   "metadata": {},
   "outputs": [
    {
     "data": {
      "text/plain": [
       "array([[849,  36],\n",
       "       [313,  76]], dtype=int64)"
      ]
     },
     "execution_count": 7,
     "metadata": {},
     "output_type": "execute_result"
    }
   ],
   "source": [
    "Y_pred = svc.predict(X_test)\n",
    "confusion_matrix(Y_test, Y_pred)"
   ]
  },
  {
   "cell_type": "code",
   "execution_count": 8,
   "metadata": {},
   "outputs": [
    {
     "name": "stdout",
     "output_type": "stream",
     "text": [
      "              precision    recall  f1-score   support\n",
      "\n",
      "           0       0.73      0.96      0.83       885\n",
      "           1       0.68      0.20      0.30       389\n",
      "\n",
      "    accuracy                           0.73      1274\n",
      "   macro avg       0.70      0.58      0.57      1274\n",
      "weighted avg       0.71      0.73      0.67      1274\n",
      "\n"
     ]
    }
   ],
   "source": [
    "print(classification_report(Y_test,Y_pred))\n",
    "print(model.score(X_test, Y_test))"
   ]
  },
  {
   "cell_type": "code",
   "execution_count": 9,
   "metadata": {},
   "outputs": [
    {
     "name": "stdout",
     "output_type": "stream",
     "text": [
      "Mean Absolute Error: 0.2739403453689168\n",
      "Mean Squared Error: 0.2739403453689168\n",
      "Root Mean Squared Error: 0.5233931078729608\n",
      "R-squared: -0.29152251898973214\n"
     ]
    }
   ],
   "source": [
    "print('Mean Absolute Error:', metrics.mean_absolute_error(Y_test, Y_pred))  \n",
    "print('Mean Squared Error:', metrics.mean_squared_error(Y_test, Y_pred))  \n",
    "print('Root Mean Squared Error:', np.sqrt(metrics.mean_squared_error(Y_test, Y_pred)))\n",
    "print('R-squared:', metrics.r2_score(Y_test, Y_pred))"
   ]
  },
  {
   "cell_type": "code",
   "execution_count": 10,
   "metadata": {},
   "outputs": [
    {
     "data": {
      "text/plain": [
       "<AxesSubplot:xlabel='trial'>"
      ]
     },
     "execution_count": 10,
     "metadata": {},
     "output_type": "execute_result"
    },
    {
     "data": {
      "image/png": "[encoded data removed]",
      "text/plain": [
       "<Figure size 432x288 with 1 Axes>"
      ]
     },
     "metadata": {
      "needs_background": "light"
     },
     "output_type": "display_data"
    }
   ],
   "source": [
    "rsquare = []\n",
    "for i in range(10):\n",
    "    X_train, X_test, Y_train, Y_test = train_test_split(X, Y, test_size=0.2, random_state = random.randint(1,1000))\n",
    "    model = svm.SVC()\n",
    "    model.fit(X_train, Y_train)\n",
    "    Y_pred = model.predict(X_test)\n",
    "    rsquare.append(metrics.r2_score(Y_test, Y_pred))\n",
    "    \n",
    "rdf = pd.DataFrame( {'trial': range(10), 'Rsquare': rsquare})\n",
    "rdf.plot.bar(x='trial', y='Rsquare')"
   ]
  },
  {
   "cell_type": "markdown",
   "metadata": {},
   "source": [
    "### Question 2. Now try different value of C-parameter and rerun your model"
   ]
  },
  {
   "cell_type": "markdown",
   "metadata": {},
   "source": [
    "### Large c"
   ]
  },
  {
   "cell_type": "code",
   "execution_count": 11,
   "metadata": {},
   "outputs": [
    {
     "data": {
      "text/plain": [
       "SVC(C=32, kernel='linear')"
      ]
     },
     "execution_count": 11,
     "metadata": {},
     "output_type": "execute_result"
    }
   ],
   "source": [
    "svc = svm.SVC(kernel='linear', C=2**5)\n",
    "svc.fit(X_train, Y_train)"
   ]
  },
  {
   "cell_type": "code",
   "execution_count": 12,
   "metadata": {},
   "outputs": [
    {
     "data": {
      "text/plain": [
       "array([[813,  42],\n",
       "       [339,  80]], dtype=int64)"
      ]
     },
     "execution_count": 12,
     "metadata": {},
     "output_type": "execute_result"
    }
   ],
   "source": [
    "Y_pred = svc.predict(X_test)\n",
    "confusion_matrix(Y_test, Y_pred)"
   ]
  },
  {
   "cell_type": "code",
   "execution_count": 13,
   "metadata": {
    "scrolled": false
   },
   "outputs": [
    {
     "name": "stdout",
     "output_type": "stream",
     "text": [
      "              precision    recall  f1-score   support\n",
      "\n",
      "           0       0.71      0.95      0.81       855\n",
      "           1       0.66      0.19      0.30       419\n",
      "\n",
      "    accuracy                           0.70      1274\n",
      "   macro avg       0.68      0.57      0.55      1274\n",
      "weighted avg       0.69      0.70      0.64      1274\n",
      "\n"
     ]
    }
   ],
   "source": [
    "print(classification_report(Y_test,Y_pred))\n",
    "print(model.score(X_test, Y_test))"
   ]
  },
  {
   "cell_type": "code",
   "execution_count": 20,
   "metadata": {},
   "outputs": [
    {
     "name": "stdout",
     "output_type": "stream",
     "text": [
      "Mean Absolute Error: 0.3069073783359498\n",
      "Mean Squared Error: 0.3069073783359498\n",
      "Root Mean Squared Error: 0.5539922186601087\n",
      "R-squared: -0.38879781420765025\n"
     ]
    }
   ],
   "source": [
    "print('Mean Absolute Error:', metrics.mean_absolute_error(Y_test, Y_pred))  \n",
    "print('Mean Squared Error:', metrics.mean_squared_error(Y_test, Y_pred))  \n",
    "print('Root Mean Squared Error:', np.sqrt(metrics.mean_squared_error(Y_test, Y_pred)))\n",
    "print('R-squared:', metrics.r2_score(Y_test, Y_pred))"
   ]
  },
  {
   "cell_type": "code",
   "execution_count": 21,
   "metadata": {},
   "outputs": [
    {
     "data": {
      "text/plain": [
       "<AxesSubplot:xlabel='trial'>"
      ]
     },
     "execution_count": 21,
     "metadata": {},
     "output_type": "execute_result"
    },
    {
     "data": {
      "image/png": "[encoded data removed]",
      "text/plain": [
       "<Figure size 432x288 with 1 Axes>"
      ]
     },
     "metadata": {
      "needs_background": "light"
     },
     "output_type": "display_data"
    }
   ],
   "source": [
    "rsquare = []\n",
    "for i in range(10):\n",
    "    X_train, X_test, Y_train, Y_test = train_test_split(X, Y, test_size=0.2, random_state = random.randint(1,1000))\n",
    "    model = svm.SVC()\n",
    "    model.fit(X_train, Y_train)\n",
    "    Y_pred = model.predict(X_test)\n",
    "    rsquare.append(metrics.r2_score(Y_test, Y_pred))\n",
    "    \n",
    "rdf = pd.DataFrame( {'trial': range(10), 'Rsquare': rsquare})\n",
    "rdf.plot.bar(x='trial', y='Rsquare')"
   ]
  },
  {
   "cell_type": "markdown",
   "metadata": {},
   "source": [
    "### Small C"
   ]
  },
  {
   "cell_type": "code",
   "execution_count": 14,
   "metadata": {
    "scrolled": true
   },
   "outputs": [
    {
     "data": {
      "text/plain": [
       "SVC(C=0.03125, kernel='linear')"
      ]
     },
     "execution_count": 14,
     "metadata": {},
     "output_type": "execute_result"
    }
   ],
   "source": [
    "svc = svm.SVC(kernel='linear', C=2**-5)\n",
    "svc.fit(X_train, Y_train)"
   ]
  },
  {
   "cell_type": "code",
   "execution_count": 15,
   "metadata": {},
   "outputs": [
    {
     "name": "stdout",
     "output_type": "stream",
     "text": [
      "[[813  42]\n",
      " [338  81]]\n",
      "              precision    recall  f1-score   support\n",
      "\n",
      "           0       0.71      0.95      0.81       855\n",
      "           1       0.66      0.19      0.30       419\n",
      "\n",
      "    accuracy                           0.70      1274\n",
      "   macro avg       0.68      0.57      0.55      1274\n",
      "weighted avg       0.69      0.70      0.64      1274\n",
      "\n"
     ]
    }
   ],
   "source": [
    "Y_pred = svc.predict(X_test)\n",
    "print(confusion_matrix(Y_test, Y_pred))\n",
    "print(classification_report(Y_test,Y_pred))"
   ]
  },
  {
   "cell_type": "code",
   "execution_count": 16,
   "metadata": {
    "scrolled": true
   },
   "outputs": [
    {
     "name": "stdout",
     "output_type": "stream",
     "text": [
      "Mean Absolute Error: 0.29827315541601257\n",
      "Mean Squared Error: 0.29827315541601257\n",
      "Root Mean Squared Error: 0.5461438962544694\n",
      "R-squared: -0.3513656854945637\n"
     ]
    }
   ],
   "source": [
    "print('Mean Absolute Error:', metrics.mean_absolute_error(Y_test, Y_pred))  \n",
    "print('Mean Squared Error:', metrics.mean_squared_error(Y_test, Y_pred))  \n",
    "print('Root Mean Squared Error:', np.sqrt(metrics.mean_squared_error(Y_test, Y_pred)))\n",
    "print('R-squared:', metrics.r2_score(Y_test, Y_pred))"
   ]
  },
  {
   "cell_type": "code",
   "execution_count": 17,
   "metadata": {},
   "outputs": [
    {
     "data": {
      "text/plain": [
       "<AxesSubplot:xlabel='trial'>"
      ]
     },
     "execution_count": 17,
     "metadata": {},
     "output_type": "execute_result"
    },
    {
     "data": {
      "image/png": "[encoded data removed]",
      "text/plain": [
       "<Figure size 432x288 with 1 Axes>"
      ]
     },
     "metadata": {
      "needs_background": "light"
     },
     "output_type": "display_data"
    }
   ],
   "source": [
    "rsquare = []\n",
    "for i in range(10):\n",
    "    X_train, X_test, Y_train, Y_test = train_test_split(X, Y, test_size=0.2, random_state = random.randint(1,1000))\n",
    "    model = svm.SVC()\n",
    "    model.fit(X_train, Y_train)\n",
    "    Y_pred = model.predict(X_test)\n",
    "    rsquare.append(metrics.r2_score(Y_test, Y_pred))\n",
    "    \n",
    "rdf = pd.DataFrame( {'trial': range(10), 'Rsquare': rsquare})\n",
    "rdf.plot.bar(x='trial', y='Rsquare')"
   ]
  },
  {
   "cell_type": "markdown",
   "metadata": {},
   "source": [
    "### Question 3. Now use rbf as your kernel along with different value for Gamma and C"
   ]
  },
  {
   "cell_type": "markdown",
   "metadata": {},
   "source": [
    "Type your answer and code here"
   ]
  },
  {
   "cell_type": "code",
   "execution_count": 23,
   "metadata": {},
   "outputs": [],
   "source": [
    "gammas = [2**5, 2**-5]\n",
    "c_s = [10, 100, 1000]"
   ]
  },
  {
   "cell_type": "code",
   "execution_count": 32,
   "metadata": {
    "scrolled": true
   },
   "outputs": [
    {
     "name": "stdout",
     "output_type": "stream",
     "text": [
      "---------------------------------------\n",
      "c: 10\tgamma: 32\n",
      "\n",
      "[[736 129]\n",
      " [262 147]]\n",
      "              precision    recall  f1-score   support\n",
      "\n",
      "           0       0.74      0.85      0.79       865\n",
      "           1       0.53      0.36      0.43       409\n",
      "\n",
      "    accuracy                           0.69      1274\n",
      "   macro avg       0.64      0.61      0.61      1274\n",
      "weighted avg       0.67      0.69      0.67      1274\n",
      "\n",
      "Mean Absolute Error: 0.3069073783359498\n",
      "Mean Squared Error: 0.3069073783359498\n",
      "Root Mean Squared Error: 0.5539922186601087\n",
      "R-squared: -0.40801334143618284\n",
      "---------------------------------------\n",
      "c: 100\tgamma: 32\n",
      "\n",
      "[[736 129]\n",
      " [262 147]]\n",
      "              precision    recall  f1-score   support\n",
      "\n",
      "           0       0.74      0.85      0.79       865\n",
      "           1       0.53      0.36      0.43       409\n",
      "\n",
      "    accuracy                           0.69      1274\n",
      "   macro avg       0.64      0.61      0.61      1274\n",
      "weighted avg       0.67      0.69      0.67      1274\n",
      "\n",
      "Mean Absolute Error: 0.3069073783359498\n",
      "Mean Squared Error: 0.3069073783359498\n",
      "Root Mean Squared Error: 0.5539922186601087\n",
      "R-squared: -0.40801334143618284\n",
      "---------------------------------------\n",
      "c: 1000\tgamma: 32\n",
      "\n",
      "[[736 129]\n",
      " [262 147]]\n",
      "              precision    recall  f1-score   support\n",
      "\n",
      "           0       0.74      0.85      0.79       865\n",
      "           1       0.53      0.36      0.43       409\n",
      "\n",
      "    accuracy                           0.69      1274\n",
      "   macro avg       0.64      0.61      0.61      1274\n",
      "weighted avg       0.67      0.69      0.67      1274\n",
      "\n",
      "Mean Absolute Error: 0.3069073783359498\n",
      "Mean Squared Error: 0.3069073783359498\n",
      "Root Mean Squared Error: 0.5539922186601087\n",
      "R-squared: -0.40801334143618284\n",
      "---------------------------------------\n",
      "c: 10\tgamma: 0.03125\n",
      "\n",
      "[[822  43]\n",
      " [334  75]]\n",
      "              precision    recall  f1-score   support\n",
      "\n",
      "           0       0.71      0.95      0.81       865\n",
      "           1       0.64      0.18      0.28       409\n",
      "\n",
      "    accuracy                           0.70      1274\n",
      "   macro avg       0.67      0.57      0.55      1274\n",
      "weighted avg       0.69      0.70      0.64      1274\n",
      "\n",
      "Mean Absolute Error: 0.29591836734693877\n",
      "Mean Squared Error: 0.29591836734693877\n",
      "Root Mean Squared Error: 0.5439837932759934\n",
      "R-squared: -0.35759854148706105\n",
      "---------------------------------------\n",
      "c: 100\tgamma: 0.03125\n",
      "\n",
      "[[741 124]\n",
      " [249 160]]\n",
      "              precision    recall  f1-score   support\n",
      "\n",
      "           0       0.75      0.86      0.80       865\n",
      "           1       0.56      0.39      0.46       409\n",
      "\n",
      "    accuracy                           0.71      1274\n",
      "   macro avg       0.66      0.62      0.63      1274\n",
      "weighted avg       0.69      0.71      0.69      1274\n",
      "\n",
      "Mean Absolute Error: 0.29277864992150704\n",
      "Mean Squared Error: 0.29277864992150704\n",
      "Root Mean Squared Error: 0.541090241938909\n",
      "R-squared: -0.3431943129301691\n",
      "---------------------------------------\n",
      "c: 1000\tgamma: 0.03125\n",
      "\n",
      "[[731 134]\n",
      " [244 165]]\n",
      "              precision    recall  f1-score   support\n",
      "\n",
      "           0       0.75      0.85      0.79       865\n",
      "           1       0.55      0.40      0.47       409\n",
      "\n",
      "    accuracy                           0.70      1274\n",
      "   macro avg       0.65      0.62      0.63      1274\n",
      "weighted avg       0.69      0.70      0.69      1274\n",
      "\n",
      "Mean Absolute Error: 0.2967032967032967\n",
      "Mean Squared Error: 0.2967032967032967\n",
      "Root Mean Squared Error: 0.5447047794019222\n",
      "R-squared: -0.36119959862628415\n"
     ]
    }
   ],
   "source": [
    "for g in gammas:\n",
    "    for c in c_s:\n",
    "        svc = svm.SVC(kernel='rbf', probability=True, C=c, gamma=g)\n",
    "        svc.fit(X_train, Y_train)\n",
    "        Y_pred = svc.predict(X_test)\n",
    "        model.score(X_test, Y_test)\n",
    "        print('---------------------------------------')\n",
    "        print('c: ' + str(c) + '\\t' + 'gamma: ' +str(g))\n",
    "        print()\n",
    "        model.score(X_test, Y_test)\n",
    "        print(confusion_matrix(Y_test, Y_pred))\n",
    "        print(classification_report(Y_test,Y_pred))\n",
    "        print('Mean Absolute Error:', metrics.mean_absolute_error(Y_test, Y_pred))  \n",
    "        print('Mean Squared Error:', metrics.mean_squared_error(Y_test, Y_pred))  \n",
    "        print('Root Mean Squared Error:', np.sqrt(metrics.mean_squared_error(Y_test, Y_pred)))\n",
    "        print('R-squared:', metrics.r2_score(Y_test, Y_pred))\n",
    "        rsquare = []"
   ]
  },
  {
   "cell_type": "markdown",
   "metadata": {},
   "source": [
    "### Question 4. So out of all the models you try in Question 2 and 3, what is the best choice for the kernel, C and gamma parameters? Comment on the effect of using different C and Gamma parameters"
   ]
  },
  {
   "cell_type": "markdown",
   "metadata": {},
   "source": [
    "Type your answer and code here"
   ]
  },
  {
   "cell_type": "markdown",
   "metadata": {},
   "source": [
    "# Now we will try to fit the same dataset with Decision Trees"
   ]
  },
  {
   "cell_type": "markdown",
   "metadata": {},
   "source": [
    "### Question 5. Build a Decision Tree Classifier using default parameter"
   ]
  },
  {
   "cell_type": "markdown",
   "metadata": {},
   "source": [
    "Type your code here"
   ]
  },
  {
   "cell_type": "code",
   "execution_count": 39,
   "metadata": {},
   "outputs": [
    {
     "data": {
      "text/plain": [
       "DecisionTreeClassifier()"
      ]
     },
     "execution_count": 39,
     "metadata": {},
     "output_type": "execute_result"
    }
   ],
   "source": [
    "model = DecisionTreeClassifier()\n",
    "model.fit(X_train,Y_train)"
   ]
  },
  {
   "cell_type": "code",
   "execution_count": 40,
   "metadata": {
    "scrolled": true
   },
   "outputs": [
    {
     "name": "stdout",
     "output_type": "stream",
     "text": [
      "[[736 129]\n",
      " [261 148]]\n",
      "              precision    recall  f1-score   support\n",
      "\n",
      "           0       0.74      0.85      0.79       865\n",
      "           1       0.53      0.36      0.43       409\n",
      "\n",
      "    accuracy                           0.69      1274\n",
      "   macro avg       0.64      0.61      0.61      1274\n",
      "weighted avg       0.67      0.69      0.68      1274\n",
      "\n",
      "0.6938775510204082\n"
     ]
    }
   ],
   "source": [
    "predictions = model.predict(X_test)\n",
    "print(confusion_matrix(Y_test,predictions))\n",
    "print(classification_report(Y_test,predictions))\n",
    "print(accuracy_score(Y_test, predictions))"
   ]
  },
  {
   "cell_type": "code",
   "execution_count": 41,
   "metadata": {
    "scrolled": true
   },
   "outputs": [
    {
     "data": {
      "text/plain": [
       "[Text(192.74370377218938, 209.07692307692307, 'X[0] <= 3.5\\ngini = 0.437\\nsamples = 5092\\nvalue = [3448, 1644]'),\n",
       " Text(116.66616124260356, 192.35076923076923, 'X[0] <= 2.5\\ngini = 0.483\\nsamples = 1136\\nvalue = [463, 673]'),\n",
       " Text(74.41375739644971, 175.62461538461537, 'X[5] <= 0.5\\ngini = 0.445\\nsamples = 350\\nvalue = [117, 233]'),\n",
       " Text(51.75532544378699, 158.89846153846153, 'X[2] <= 0.5\\ngini = 0.457\\nsamples = 311\\nvalue = [110, 201]'),\n",
       " Text(29.71597633136095, 142.1723076923077, 'X[0] <= 1.5\\ngini = 0.444\\nsamples = 252\\nvalue = [84, 168]'),\n",
       " Text(15.848520710059173, 125.44615384615385, 'X[1] <= 15.0\\ngini = 0.34\\nsamples = 46\\nvalue = [10, 36]'),\n",
       " Text(7.9242603550295865, 108.72, 'X[4] <= 0.5\\ngini = 0.298\\nsamples = 33\\nvalue = [6, 27]'),\n",
       " Text(3.9621301775147932, 91.99384615384615, 'X[1] <= 13.0\\ngini = 0.311\\nsamples = 26\\nvalue = [5, 21]'),\n",
       " Text(1.9810650887573966, 75.2676923076923, 'gini = 0.278\\nsamples = 12\\nvalue = [2, 10]'),\n",
       " Text(5.943195266272189, 75.2676923076923, 'gini = 0.337\\nsamples = 14\\nvalue = [3, 11]'),\n",
       " Text(11.886390532544379, 91.99384615384615, 'X[1] <= 13.0\\ngini = 0.245\\nsamples = 7\\nvalue = [1, 6]'),\n",
       " Text(9.905325443786984, 75.2676923076923, 'gini = 0.375\\nsamples = 4\\nvalue = [1, 3]'),\n",
       " Text(13.867455621301776, 75.2676923076923, 'gini = 0.0\\nsamples = 3\\nvalue = [0, 3]'),\n",
       " Text(23.772781065088758, 108.72, 'X[1] <= 16.5\\ngini = 0.426\\nsamples = 13\\nvalue = [4, 9]'),\n",
       " Text(19.810650887573967, 91.99384615384615, 'X[3] <= 0.5\\ngini = 0.408\\nsamples = 7\\nvalue = [2, 5]'),\n",
       " Text(17.82958579881657, 75.2676923076923, 'gini = 0.375\\nsamples = 4\\nvalue = [1, 3]'),\n",
       " Text(21.791715976331364, 75.2676923076923, 'gini = 0.444\\nsamples = 3\\nvalue = [1, 2]'),\n",
       " Text(27.734911242603552, 91.99384615384615, 'X[1] <= 18.5\\ngini = 0.444\\nsamples = 6\\nvalue = [2, 4]'),\n",
       " Text(25.753846153846155, 75.2676923076923, 'gini = 0.444\\nsamples = 3\\nvalue = [1, 2]'),\n",
       " Text(29.71597633136095, 75.2676923076923, 'gini = 0.444\\nsamples = 3\\nvalue = [1, 2]'),\n",
       " Text(43.58343195266273, 125.44615384615385, 'X[6] <= 0.5\\ngini = 0.46\\nsamples = 206\\nvalue = [74, 132]'),\n",
       " Text(41.60236686390533, 108.72, 'X[1] <= 13.0\\ngini = 0.464\\nsamples = 202\\nvalue = [74, 128]'),\n",
       " Text(35.65917159763314, 91.99384615384615, 'X[4] <= 0.5\\ngini = 0.435\\nsamples = 72\\nvalue = [23, 49]'),\n",
       " Text(33.67810650887574, 75.2676923076923, 'gini = 0.448\\nsamples = 65\\nvalue = [22, 43]'),\n",
       " Text(37.64023668639054, 75.2676923076923, 'gini = 0.245\\nsamples = 7\\nvalue = [1, 6]'),\n",
       " Text(47.545562130177515, 91.99384615384615, 'X[1] <= 15.0\\ngini = 0.477\\nsamples = 130\\nvalue = [51, 79]'),\n",
       " Text(41.60236686390533, 75.2676923076923, 'X[4] <= 0.5\\ngini = 0.49\\nsamples = 79\\nvalue = [34, 45]'),\n",
       " Text(39.621301775147934, 58.541538461538465, 'gini = 0.492\\nsamples = 64\\nvalue = [28, 36]'),\n",
       " Text(43.58343195266273, 58.541538461538465, 'gini = 0.48\\nsamples = 15\\nvalue = [6, 9]'),\n",
       " Text(53.48875739644971, 75.2676923076923, 'X[4] <= 0.5\\ngini = 0.444\\nsamples = 51\\nvalue = [17, 34]'),\n",
       " Text(47.545562130177515, 58.541538461538465, 'X[1] <= 16.5\\ngini = 0.391\\nsamples = 15\\nvalue = [4, 11]'),\n",
       " Text(45.564497041420125, 41.81538461538463, 'gini = 0.219\\nsamples = 8\\nvalue = [1, 7]'),\n",
       " Text(49.52662721893491, 41.81538461538463, 'X[3] <= 0.5\\ngini = 0.49\\nsamples = 7\\nvalue = [3, 4]'),\n",
       " Text(47.545562130177515, 25.089230769230767, 'gini = 0.0\\nsamples = 1\\nvalue = [0, 1]'),\n",
       " Text(51.50769230769231, 25.089230769230767, 'X[1] <= 18.5\\ngini = 0.5\\nsamples = 6\\nvalue = [3, 3]'),\n",
       " Text(49.52662721893491, 8.363076923076932, 'gini = 0.48\\nsamples = 5\\nvalue = [3, 2]'),\n",
       " Text(53.48875739644971, 8.363076923076932, 'gini = 0.0\\nsamples = 1\\nvalue = [0, 1]'),\n",
       " Text(59.4319526627219, 58.541538461538465, 'X[1] <= 18.5\\ngini = 0.461\\nsamples = 36\\nvalue = [13, 23]'),\n",
       " Text(57.4508875739645, 41.81538461538463, 'X[1] <= 16.5\\ngini = 0.452\\nsamples = 29\\nvalue = [10, 19]'),\n",
       " Text(55.469822485207104, 25.089230769230767, 'gini = 0.472\\nsamples = 21\\nvalue = [8, 13]'),\n",
       " Text(59.4319526627219, 25.089230769230767, 'gini = 0.375\\nsamples = 8\\nvalue = [2, 6]'),\n",
       " Text(61.413017751479295, 41.81538461538463, 'gini = 0.49\\nsamples = 7\\nvalue = [3, 4]'),\n",
       " Text(45.564497041420125, 108.72, 'gini = 0.0\\nsamples = 4\\nvalue = [0, 4]'),\n",
       " Text(73.79467455621302, 142.1723076923077, 'X[1] <= 15.0\\ngini = 0.493\\nsamples = 59\\nvalue = [26, 33]'),\n",
       " Text(68.34674556213018, 125.44615384615385, 'X[1] <= 13.0\\ngini = 0.478\\nsamples = 53\\nvalue = [21, 32]'),\n",
       " Text(63.39408284023669, 108.72, 'X[0] <= 1.5\\ngini = 0.486\\nsamples = 36\\nvalue = [15, 21]'),\n",
       " Text(59.4319526627219, 91.99384615384615, 'X[1] <= 10.5\\ngini = 0.469\\nsamples = 16\\nvalue = [6, 10]'),\n",
       " Text(57.4508875739645, 75.2676923076923, 'gini = 0.444\\nsamples = 3\\nvalue = [1, 2]'),\n",
       " Text(61.413017751479295, 75.2676923076923, 'gini = 0.473\\nsamples = 13\\nvalue = [5, 8]'),\n",
       " Text(67.35621301775149, 91.99384615384615, 'X[1] <= 10.5\\ngini = 0.495\\nsamples = 20\\nvalue = [9, 11]'),\n",
       " Text(65.37514792899408, 75.2676923076923, 'gini = 0.0\\nsamples = 1\\nvalue = [1, 0]'),\n",
       " Text(69.33727810650888, 75.2676923076923, 'gini = 0.488\\nsamples = 19\\nvalue = [8, 11]'),\n",
       " Text(73.29940828402367, 108.72, 'X[0] <= 1.5\\ngini = 0.457\\nsamples = 17\\nvalue = [6, 11]'),\n",
       " Text(71.31834319526628, 91.99384615384615, 'gini = 0.5\\nsamples = 4\\nvalue = [2, 2]'),\n",
       " Text(75.28047337278107, 91.99384615384615, 'gini = 0.426\\nsamples = 13\\nvalue = [4, 9]'),\n",
       " Text(79.24260355029587, 125.44615384615385, 'X[0] <= 1.5\\ngini = 0.278\\nsamples = 6\\nvalue = [5, 1]'),\n",
       " Text(77.26153846153846, 108.72, 'gini = 0.0\\nsamples = 2\\nvalue = [2, 0]'),\n",
       " Text(81.22366863905326, 108.72, 'X[1] <= 16.5\\ngini = 0.375\\nsamples = 4\\nvalue = [3, 1]'),\n",
       " Text(79.24260355029587, 91.99384615384615, 'gini = 0.0\\nsamples = 1\\nvalue = [1, 0]'),\n",
       " Text(83.20473372781066, 91.99384615384615, 'X[1] <= 18.5\\ngini = 0.444\\nsamples = 3\\nvalue = [2, 1]'),\n",
       " Text(81.22366863905326, 75.2676923076923, 'gini = 0.5\\nsamples = 2\\nvalue = [1, 1]'),\n",
       " Text(85.18579881656805, 75.2676923076923, 'gini = 0.0\\nsamples = 1\\nvalue = [1, 0]'),\n",
       " Text(97.07218934911243, 158.89846153846153, 'X[1] <= 18.5\\ngini = 0.295\\nsamples = 39\\nvalue = [7, 32]'),\n",
       " Text(95.09112426035503, 142.1723076923077, 'X[1] <= 15.0\\ngini = 0.266\\nsamples = 38\\nvalue = [6, 32]'),\n",
       " Text(93.11005917159764, 125.44615384615385, 'X[1] <= 13.0\\ngini = 0.291\\nsamples = 34\\nvalue = [6, 28]'),\n",
       " Text(89.14792899408285, 108.72, 'X[0] <= 1.5\\ngini = 0.266\\nsamples = 19\\nvalue = [3, 16]'),\n",
       " Text(87.16686390532546, 91.99384615384615, 'gini = 0.0\\nsamples = 3\\nvalue = [0, 3]'),\n",
       " Text(91.12899408284025, 91.99384615384615, 'gini = 0.305\\nsamples = 16\\nvalue = [3, 13]'),\n",
       " Text(97.07218934911243, 108.72, 'X[0] <= 1.5\\ngini = 0.32\\nsamples = 15\\nvalue = [3, 12]'),\n",
       " Text(95.09112426035503, 91.99384615384615, 'gini = 0.375\\nsamples = 4\\nvalue = [1, 3]'),\n",
       " Text(99.05325443786982, 91.99384615384615, 'gini = 0.298\\nsamples = 11\\nvalue = [2, 9]'),\n",
       " Text(97.07218934911243, 125.44615384615385, 'gini = 0.0\\nsamples = 4\\nvalue = [0, 4]'),\n",
       " Text(99.05325443786982, 142.1723076923077, 'gini = 0.0\\nsamples = 1\\nvalue = [1, 0]'),\n",
       " Text(158.91856508875742, 175.62461538461537, 'X[6] <= 0.5\\ngini = 0.493\\nsamples = 786\\nvalue = [346, 440]'),\n",
       " Text(145.4844674556213, 158.89846153846153, 'X[2] <= 0.5\\ngini = 0.492\\nsamples = 770\\nvalue = [335, 435]'),\n",
       " Text(128.5215976331361, 142.1723076923077, 'X[1] <= 15.0\\ngini = 0.488\\nsamples = 661\\nvalue = [280, 381]'),\n",
       " Text(116.38757396449705, 125.44615384615385, 'X[5] <= 0.5\\ngini = 0.483\\nsamples = 479\\nvalue = [195, 284]'),\n",
       " Text(109.94911242603551, 108.72, 'X[1] <= 13.0\\ngini = 0.488\\nsamples = 402\\nvalue = [170, 232]'),\n",
       " Text(103.01538461538462, 91.99384615384615, 'X[4] <= 0.5\\ngini = 0.479\\nsamples = 196\\nvalue = [78, 118]'),\n",
       " Text(99.05325443786982, 75.2676923076923, 'X[3] <= 0.5\\ngini = 0.485\\nsamples = 164\\nvalue = [68, 96]'),\n",
       " Text(97.07218934911243, 58.541538461538465, 'gini = 0.0\\nsamples = 1\\nvalue = [1, 0]'),\n",
       " Text(101.03431952662723, 58.541538461538465, 'X[1] <= 10.5\\ngini = 0.484\\nsamples = 163\\nvalue = [67, 96]'),\n",
       " Text(99.05325443786982, 41.81538461538463, 'gini = 0.444\\nsamples = 3\\nvalue = [2, 1]'),\n",
       " Text(103.01538461538462, 41.81538461538463, 'gini = 0.482\\nsamples = 160\\nvalue = [65, 95]'),\n",
       " Text(106.97751479289941, 75.2676923076923, 'X[1] <= 10.5\\ngini = 0.43\\nsamples = 32\\nvalue = [10, 22]'),\n",
       " Text(104.99644970414202, 58.541538461538465, 'gini = 0.5\\nsamples = 2\\nvalue = [1, 1]'),\n",
       " Text(108.95857988165682, 58.541538461538465, 'gini = 0.42\\nsamples = 30\\nvalue = [9, 21]'),\n",
       " Text(116.8828402366864, 91.99384615384615, 'X[3] <= 0.5\\ngini = 0.494\\nsamples = 206\\nvalue = [92, 114]'),\n",
       " Text(114.901775147929, 75.2676923076923, 'X[4] <= 0.5\\ngini = 0.491\\nsamples = 46\\nvalue = [26, 20]'),\n",
       " Text(112.92071005917161, 58.541538461538465, 'gini = 0.0\\nsamples = 1\\nvalue = [1, 0]'),\n",
       " Text(116.8828402366864, 58.541538461538465, 'gini = 0.494\\nsamples = 45\\nvalue = [25, 20]'),\n",
       " Text(118.8639053254438, 75.2676923076923, 'gini = 0.485\\nsamples = 160\\nvalue = [66, 94]'),\n",
       " Text(122.82603550295859, 108.72, 'X[1] <= 10.5\\ngini = 0.439\\nsamples = 77\\nvalue = [25, 52]'),\n",
       " Text(120.8449704142012, 91.99384615384615, 'gini = 0.5\\nsamples = 2\\nvalue = [1, 1]'),\n",
       " Text(124.807100591716, 91.99384615384615, 'X[1] <= 13.0\\ngini = 0.435\\nsamples = 75\\nvalue = [24, 51]'),\n",
       " Text(122.82603550295859, 75.2676923076923, 'gini = 0.428\\nsamples = 29\\nvalue = [9, 20]'),\n",
       " Text(126.78816568047338, 75.2676923076923, 'gini = 0.44\\nsamples = 46\\nvalue = [15, 31]'),\n",
       " Text(140.65562130177517, 125.44615384615385, 'X[4] <= 0.5\\ngini = 0.498\\nsamples = 182\\nvalue = [85, 97]'),\n",
       " Text(136.69349112426036, 108.72, 'X[1] <= 18.5\\ngini = 0.499\\nsamples = 56\\nvalue = [29, 27]'),\n",
       " Text(134.71242603550297, 91.99384615384615, 'X[3] <= 0.5\\ngini = 0.499\\nsamples = 55\\nvalue = [29, 26]'),\n",
       " Text(130.75029585798816, 75.2676923076923, 'X[5] <= 0.5\\ngini = 0.486\\nsamples = 24\\nvalue = [14, 10]'),\n",
       " Text(128.76923076923077, 58.541538461538465, 'gini = 0.0\\nsamples = 2\\nvalue = [2, 0]'),\n",
       " Text(132.73136094674558, 58.541538461538465, 'X[1] <= 16.5\\ngini = 0.496\\nsamples = 22\\nvalue = [12, 10]'),\n",
       " Text(130.75029585798816, 41.81538461538463, 'gini = 0.5\\nsamples = 14\\nvalue = [7, 7]'),\n",
       " Text(134.71242603550297, 41.81538461538463, 'gini = 0.469\\nsamples = 8\\nvalue = [5, 3]'),\n",
       " Text(138.67455621301775, 75.2676923076923, 'X[1] <= 16.5\\ngini = 0.499\\nsamples = 31\\nvalue = [15, 16]'),\n",
       " Text(136.69349112426036, 58.541538461538465, 'gini = 0.499\\nsamples = 27\\nvalue = [13, 14]'),\n",
       " Text(140.65562130177517, 58.541538461538465, 'gini = 0.5\\nsamples = 4\\nvalue = [2, 2]'),\n",
       " Text(138.67455621301775, 91.99384615384615, 'gini = 0.0\\nsamples = 1\\nvalue = [0, 1]'),\n",
       " Text(144.61775147928995, 108.72, 'X[1] <= 16.5\\ngini = 0.494\\nsamples = 126\\nvalue = [56, 70]'),\n",
       " Text(142.63668639053256, 91.99384615384615, 'gini = 0.498\\nsamples = 60\\nvalue = [28, 32]'),\n",
       " Text(146.59881656804734, 91.99384615384615, 'X[1] <= 18.5\\ngini = 0.489\\nsamples = 66\\nvalue = [28, 38]'),\n",
       " Text(144.61775147928995, 75.2676923076923, 'gini = 0.492\\nsamples = 39\\nvalue = [17, 22]'),\n",
       " Text(148.57988165680476, 75.2676923076923, 'gini = 0.483\\nsamples = 27\\nvalue = [11, 16]'),\n",
       " Text(162.44733727810652, 142.1723076923077, 'X[1] <= 18.5\\ngini = 0.5\\nsamples = 109\\nvalue = [55, 54]'),\n",
       " Text(160.46627218934913, 125.44615384615385, 'X[1] <= 15.0\\ngini = 0.5\\nsamples = 108\\nvalue = [54, 54]'),\n",
       " Text(156.50414201183435, 108.72, 'X[1] <= 13.0\\ngini = 0.5\\nsamples = 96\\nvalue = [49, 47]'),\n",
       " Text(154.52307692307693, 91.99384615384615, 'X[1] <= 10.5\\ngini = 0.5\\nsamples = 65\\nvalue = [32, 33]'),\n",
       " Text(152.54201183431954, 75.2676923076923, 'gini = 0.48\\nsamples = 5\\nvalue = [2, 3]'),\n",
       " Text(156.50414201183435, 75.2676923076923, 'gini = 0.5\\nsamples = 60\\nvalue = [30, 30]'),\n",
       " Text(158.48520710059174, 91.99384615384615, 'gini = 0.495\\nsamples = 31\\nvalue = [17, 14]'),\n",
       " Text(164.4284023668639, 108.72, 'X[1] <= 16.5\\ngini = 0.486\\nsamples = 12\\nvalue = [5, 7]'),\n",
       " Text(162.44733727810652, 91.99384615384615, 'gini = 0.0\\nsamples = 3\\nvalue = [0, 3]'),\n",
       " Text(166.40946745562132, 91.99384615384615, 'gini = 0.494\\nsamples = 9\\nvalue = [5, 4]'),\n",
       " Text(164.4284023668639, 125.44615384615385, 'gini = 0.0\\nsamples = 1\\nvalue = [1, 0]'),\n",
       " Text(172.3526627218935, 158.89846153846153, 'X[1] <= 18.5\\ngini = 0.43\\nsamples = 16\\nvalue = [11, 5]'),\n",
       " Text(170.3715976331361, 142.1723076923077, 'X[1] <= 15.0\\ngini = 0.245\\nsamples = 7\\nvalue = [6, 1]'),\n",
       " Text(168.39053254437871, 125.44615384615385, 'gini = 0.0\\nsamples = 2\\nvalue = [2, 0]'),\n",
       " Text(172.3526627218935, 125.44615384615385, 'X[1] <= 16.5\\ngini = 0.32\\nsamples = 5\\nvalue = [4, 1]'),\n",
       " Text(170.3715976331361, 108.72, 'gini = 0.444\\nsamples = 3\\nvalue = [2, 1]'),\n",
       " Text(174.3337278106509, 108.72, 'gini = 0.0\\nsamples = 2\\nvalue = [2, 0]'),\n",
       " Text(174.3337278106509, 142.1723076923077, 'gini = 0.494\\nsamples = 9\\nvalue = [5, 4]'),\n",
       " Text(268.82124630177515, 192.35076923076923, 'X[0] <= 4.5\\ngini = 0.37\\nsamples = 3956\\nvalue = [2985, 971]'),\n",
       " Text(231.90843195266274, 175.62461538461537, 'X[5] <= 0.5\\ngini = 0.438\\nsamples = 1795\\nvalue = [1213, 582]'),\n",
       " Text(216.1837278106509, 158.89846153846153, 'X[3] <= 0.5\\ngini = 0.425\\nsamples = 1586\\nvalue = [1100, 486]'),\n",
       " Text(198.601775147929, 142.1723076923077, 'X[1] <= 15.0\\ngini = 0.388\\nsamples = 775\\nvalue = [571, 204]'),\n",
       " Text(185.22958579881657, 125.44615384615385, 'X[1] <= 13.0\\ngini = 0.412\\nsamples = 407\\nvalue = [289, 118]'),\n",
       " Text(178.2958579881657, 108.72, 'X[2] <= 0.5\\ngini = 0.396\\nsamples = 191\\nvalue = [139, 52]'),\n",
       " Text(174.3337278106509, 91.99384615384615, 'X[1] <= 10.5\\ngini = 0.44\\nsamples = 49\\nvalue = [33, 16]'),\n",
       " Text(172.3526627218935, 75.2676923076923, 'gini = 0.444\\nsamples = 3\\nvalue = [1, 2]'),\n",
       " Text(176.3147928994083, 75.2676923076923, 'X[6] <= 0.5\\ngini = 0.423\\nsamples = 46\\nvalue = [32, 14]'),\n",
       " Text(174.3337278106509, 58.541538461538465, 'X[4] <= 0.5\\ngini = 0.429\\nsamples = 45\\nvalue = [31, 14]'),\n",
       " Text(172.3526627218935, 41.81538461538463, 'gini = 0.0\\nsamples = 1\\nvalue = [0, 1]'),\n",
       " Text(176.3147928994083, 41.81538461538463, 'gini = 0.416\\nsamples = 44\\nvalue = [31, 13]'),\n",
       " Text(178.2958579881657, 58.541538461538465, 'gini = 0.0\\nsamples = 1\\nvalue = [1, 0]'),\n",
       " Text(182.2579881656805, 91.99384615384615, 'X[1] <= 10.5\\ngini = 0.378\\nsamples = 142\\nvalue = [106, 36]'),\n",
       " Text(180.27692307692308, 75.2676923076923, 'gini = 0.346\\nsamples = 9\\nvalue = [7, 2]'),\n",
       " Text(184.2390532544379, 75.2676923076923, 'gini = 0.381\\nsamples = 133\\nvalue = [99, 34]'),\n",
       " Text(192.16331360946748, 108.72, 'X[6] <= 0.5\\ngini = 0.424\\nsamples = 216\\nvalue = [150, 66]'),\n",
       " Text(190.18224852071006, 91.99384615384615, 'X[2] <= 0.5\\ngini = 0.422\\nsamples = 212\\nvalue = [148, 64]'),\n",
       " Text(188.20118343195267, 75.2676923076923, 'X[4] <= 0.5\\ngini = 0.407\\nsamples = 144\\nvalue = [103, 41]'),\n",
       " Text(186.22011834319528, 58.541538461538465, 'gini = 0.219\\nsamples = 8\\nvalue = [7, 1]'),\n",
       " Text(190.18224852071006, 58.541538461538465, 'gini = 0.415\\nsamples = 136\\nvalue = [96, 40]'),\n",
       " Text(192.16331360946748, 75.2676923076923, 'gini = 0.448\\nsamples = 68\\nvalue = [45, 23]'),\n",
       " Text(194.14437869822487, 91.99384615384615, 'gini = 0.5\\nsamples = 4\\nvalue = [2, 2]'),\n",
       " Text(211.97396449704144, 125.44615384615385, 'X[6] <= 0.5\\ngini = 0.358\\nsamples = 368\\nvalue = [282, 86]'),\n",
       " Text(204.04970414201185, 108.72, 'X[2] <= 0.5\\ngini = 0.349\\nsamples = 347\\nvalue = [269, 78]'),\n",
       " Text(198.10650887573965, 91.99384615384615, 'X[4] <= 0.5\\ngini = 0.343\\nsamples = 328\\nvalue = [256, 72]'),\n",
       " Text(196.12544378698226, 75.2676923076923, 'gini = 0.0\\nsamples = 2\\nvalue = [2, 0]'),\n",
       " Text(200.08757396449707, 75.2676923076923, 'X[1] <= 18.5\\ngini = 0.344\\nsamples = 326\\nvalue = [254, 72]'),\n",
       " Text(198.10650887573965, 58.541538461538465, 'X[1] <= 16.5\\ngini = 0.34\\nsamples = 272\\nvalue = [213, 59]'),\n",
       " Text(196.12544378698226, 41.81538461538463, 'gini = 0.336\\nsamples = 173\\nvalue = [136, 37]'),\n",
       " Text(200.08757396449707, 41.81538461538463, 'gini = 0.346\\nsamples = 99\\nvalue = [77, 22]'),\n",
       " Text(202.06863905325446, 58.541538461538465, 'gini = 0.366\\nsamples = 54\\nvalue = [41, 13]'),\n",
       " Text(209.99289940828405, 91.99384615384615, 'X[1] <= 18.5\\ngini = 0.432\\nsamples = 19\\nvalue = [13, 6]'),\n",
       " Text(208.01183431952666, 75.2676923076923, 'X[1] <= 16.5\\ngini = 0.391\\nsamples = 15\\nvalue = [11, 4]'),\n",
       " Text(206.03076923076924, 58.541538461538465, 'gini = 0.444\\nsamples = 12\\nvalue = [8, 4]'),\n",
       " Text(209.99289940828405, 58.541538461538465, 'gini = 0.0\\nsamples = 3\\nvalue = [3, 0]'),\n",
       " Text(211.97396449704144, 75.2676923076923, 'gini = 0.5\\nsamples = 4\\nvalue = [2, 2]'),\n",
       " Text(219.89822485207102, 108.72, 'X[1] <= 18.5\\ngini = 0.472\\nsamples = 21\\nvalue = [13, 8]'),\n",
       " Text(217.91715976331363, 91.99384615384615, 'X[1] <= 16.5\\ngini = 0.375\\nsamples = 4\\nvalue = [1, 3]'),\n",
       " Text(215.93609467455624, 75.2676923076923, 'gini = 0.0\\nsamples = 1\\nvalue = [0, 1]'),\n",
       " Text(219.89822485207102, 75.2676923076923, 'gini = 0.444\\nsamples = 3\\nvalue = [1, 2]'),\n",
       " Text(221.87928994082841, 91.99384615384615, 'gini = 0.415\\nsamples = 17\\nvalue = [12, 5]'),\n",
       " Text(233.7656804733728, 142.1723076923077, 'X[1] <= 18.5\\ngini = 0.454\\nsamples = 811\\nvalue = [529, 282]'),\n",
       " Text(231.7846153846154, 125.44615384615385, 'X[1] <= 15.0\\ngini = 0.453\\nsamples = 809\\nvalue = [529, 280]'),\n",
       " Text(227.8224852071006, 108.72, 'X[1] <= 10.5\\ngini = 0.458\\nsamples = 722\\nvalue = [466, 256]'),\n",
       " Text(225.84142011834322, 91.99384615384615, 'gini = 0.5\\nsamples = 4\\nvalue = [2, 2]'),\n",
       " Text(229.803550295858, 91.99384615384615, 'X[1] <= 13.0\\ngini = 0.457\\nsamples = 718\\nvalue = [464, 254]'),\n",
       " Text(227.8224852071006, 75.2676923076923, 'gini = 0.458\\nsamples = 344\\nvalue = [222, 122]'),\n",
       " Text(231.7846153846154, 75.2676923076923, 'gini = 0.457\\nsamples = 374\\nvalue = [242, 132]'),\n",
       " Text(235.7467455621302, 108.72, 'X[1] <= 16.5\\ngini = 0.4\\nsamples = 87\\nvalue = [63, 24]'),\n",
       " Text(233.7656804733728, 91.99384615384615, 'gini = 0.375\\nsamples = 76\\nvalue = [57, 19]'),\n",
       " Text(237.7278106508876, 91.99384615384615, 'gini = 0.496\\nsamples = 11\\nvalue = [6, 5]'),\n",
       " Text(235.7467455621302, 125.44615384615385, 'gini = 0.0\\nsamples = 2\\nvalue = [0, 2]'),\n",
       " Text(247.63313609467457, 158.89846153846153, 'X[1] <= 15.0\\ngini = 0.497\\nsamples = 209\\nvalue = [113, 96]'),\n",
       " Text(243.6710059171598, 142.1723076923077, 'X[1] <= 13.0\\ngini = 0.5\\nsamples = 154\\nvalue = [76, 78]'),\n",
       " Text(241.6899408284024, 125.44615384615385, 'X[1] <= 10.5\\ngini = 0.497\\nsamples = 61\\nvalue = [33, 28]'),\n",
       " Text(239.70887573964498, 108.72, 'gini = 0.5\\nsamples = 2\\nvalue = [1, 1]'),\n",
       " Text(243.6710059171598, 108.72, 'gini = 0.496\\nsamples = 59\\nvalue = [32, 27]'),\n",
       " Text(245.65207100591718, 125.44615384615385, 'gini = 0.497\\nsamples = 93\\nvalue = [43, 50]'),\n",
       " Text(251.59526627218938, 142.1723076923077, 'X[1] <= 18.5\\ngini = 0.44\\nsamples = 55\\nvalue = [37, 18]'),\n",
       " Text(249.614201183432, 125.44615384615385, 'X[1] <= 16.5\\ngini = 0.449\\nsamples = 50\\nvalue = [33, 17]'),\n",
       " Text(247.63313609467457, 108.72, 'gini = 0.45\\nsamples = 38\\nvalue = [25, 13]'),\n",
       " Text(251.59526627218938, 108.72, 'gini = 0.444\\nsamples = 12\\nvalue = [8, 4]'),\n",
       " Text(253.57633136094677, 125.44615384615385, 'gini = 0.32\\nsamples = 5\\nvalue = [4, 1]'),\n",
       " Text(305.7340606508876, 175.62461538461537, 'X[5] <= 0.5\\ngini = 0.295\\nsamples = 2161\\nvalue = [1772, 389]'),\n",
       " Text(286.57344674556214, 158.89846153846153, 'X[1] <= 15.0\\ngini = 0.281\\nsamples = 1914\\nvalue = [1590, 324]'),\n",
       " Text(267.9390532544379, 142.1723076923077, 'X[1] <= 13.0\\ngini = 0.301\\nsamples = 1230\\nvalue = [1003, 227]'),\n",
       " Text(260.5100591715977, 125.44615384615385, 'X[2] <= 0.5\\ngini = 0.264\\nsamples = 588\\nvalue = [496, 92]'),\n",
       " Text(255.55739644970416, 108.72, 'X[1] <= 10.5\\ngini = 0.284\\nsamples = 415\\nvalue = [344, 71]'),\n",
       " Text(251.59526627218938, 91.99384615384615, 'X[4] <= 0.5\\ngini = 0.444\\nsamples = 3\\nvalue = [2, 1]'),\n",
       " Text(249.614201183432, 75.2676923076923, 'gini = 0.5\\nsamples = 2\\nvalue = [1, 1]'),\n",
       " Text(253.57633136094677, 75.2676923076923, 'gini = 0.0\\nsamples = 1\\nvalue = [1, 0]'),\n",
       " Text(259.51952662721897, 91.99384615384615, 'X[4] <= 0.5\\ngini = 0.282\\nsamples = 412\\nvalue = [342, 70]'),\n",
       " Text(257.53846153846155, 75.2676923076923, 'X[3] <= 0.5\\ngini = 0.275\\nsamples = 358\\nvalue = [299, 59]'),\n",
       " Text(255.55739644970416, 58.541538461538465, 'gini = 0.0\\nsamples = 3\\nvalue = [3, 0]'),\n",
       " Text(259.51952662721897, 58.541538461538465, 'gini = 0.277\\nsamples = 355\\nvalue = [296, 59]'),\n",
       " Text(261.5005917159763, 75.2676923076923, 'gini = 0.324\\nsamples = 54\\nvalue = [43, 11]'),\n",
       " Text(265.46272189349116, 108.72, 'X[1] <= 10.5\\ngini = 0.213\\nsamples = 173\\nvalue = [152, 21]'),\n",
       " Text(263.48165680473375, 91.99384615384615, 'gini = 0.444\\nsamples = 3\\nvalue = [2, 1]'),\n",
       " Text(267.4437869822485, 91.99384615384615, 'gini = 0.208\\nsamples = 170\\nvalue = [150, 20]'),\n",
       " Text(275.36804733727814, 125.44615384615385, 'X[2] <= 0.5\\ngini = 0.332\\nsamples = 642\\nvalue = [507, 135]'),\n",
       " Text(273.3869822485207, 108.72, 'X[6] <= 0.5\\ngini = 0.337\\nsamples = 554\\nvalue = [435, 119]'),\n",
       " Text(271.40591715976336, 91.99384615384615, 'X[4] <= 0.5\\ngini = 0.336\\nsamples = 547\\nvalue = [430, 117]'),\n",
       " Text(269.42485207100594, 75.2676923076923, 'X[3] <= 0.5\\ngini = 0.335\\nsamples = 404\\nvalue = [318, 86]'),\n",
       " Text(267.4437869822485, 58.541538461538465, 'gini = 0.298\\nsamples = 11\\nvalue = [9, 2]'),\n",
       " Text(271.40591715976336, 58.541538461538465, 'gini = 0.336\\nsamples = 393\\nvalue = [309, 84]'),\n",
       " Text(273.3869822485207, 75.2676923076923, 'gini = 0.34\\nsamples = 143\\nvalue = [112, 31]'),\n",
       " Text(275.36804733727814, 91.99384615384615, 'gini = 0.408\\nsamples = 7\\nvalue = [5, 2]'),\n",
       " Text(277.3491124260355, 108.72, 'gini = 0.298\\nsamples = 88\\nvalue = [72, 16]'),\n",
       " Text(305.2078402366864, 142.1723076923077, 'X[6] <= 0.5\\ngini = 0.243\\nsamples = 684\\nvalue = [587, 97]'),\n",
       " Text(295.4263313609468, 125.44615384615385, 'X[3] <= 0.5\\ngini = 0.234\\nsamples = 657\\nvalue = [568, 89]'),\n",
       " Text(285.76863905325445, 108.72, 'X[1] <= 16.5\\ngini = 0.217\\nsamples = 534\\nvalue = [468, 66]'),\n",
       " Text(279.3301775147929, 91.99384615384615, 'X[4] <= 0.5\\ngini = 0.196\\nsamples = 291\\nvalue = [259, 32]'),\n",
       " Text(277.3491124260355, 75.2676923076923, 'X[2] <= 0.5\\ngini = 0.095\\nsamples = 20\\nvalue = [19, 1]'),\n",
       " Text(275.36804733727814, 58.541538461538465, 'gini = 0.0\\nsamples = 1\\nvalue = [1, 0]'),\n",
       " Text(279.3301775147929, 58.541538461538465, 'gini = 0.1\\nsamples = 19\\nvalue = [18, 1]'),\n",
       " Text(281.31124260355034, 75.2676923076923, 'gini = 0.203\\nsamples = 271\\nvalue = [240, 31]'),\n",
       " Text(292.207100591716, 91.99384615384615, 'X[4] <= 0.5\\ngini = 0.241\\nsamples = 243\\nvalue = [209, 34]'),\n",
       " Text(287.2544378698225, 75.2676923076923, 'X[1] <= 18.5\\ngini = 0.305\\nsamples = 16\\nvalue = [13, 3]'),\n",
       " Text(283.2923076923077, 58.541538461538465, 'X[2] <= 0.5\\ngini = 0.219\\nsamples = 8\\nvalue = [7, 1]'),\n",
       " Text(281.31124260355034, 41.81538461538463, 'gini = 0.0\\nsamples = 2\\nvalue = [2, 0]'),\n",
       " Text(285.2733727810651, 41.81538461538463, 'gini = 0.278\\nsamples = 6\\nvalue = [5, 1]'),\n",
       " Text(291.2165680473373, 58.541538461538465, 'X[2] <= 0.5\\ngini = 0.375\\nsamples = 8\\nvalue = [6, 2]'),\n",
       " Text(289.2355029585799, 41.81538461538463, 'gini = 0.5\\nsamples = 2\\nvalue = [1, 1]'),\n",
       " Text(293.1976331360947, 41.81538461538463, 'gini = 0.278\\nsamples = 6\\nvalue = [5, 1]'),\n",
       " Text(297.1597633136095, 75.2676923076923, 'X[1] <= 18.5\\ngini = 0.236\\nsamples = 227\\nvalue = [196, 31]'),\n",
       " Text(295.1786982248521, 58.541538461538465, 'gini = 0.228\\nsamples = 145\\nvalue = [126, 19]'),\n",
       " Text(299.1408284023669, 58.541538461538465, 'gini = 0.25\\nsamples = 82\\nvalue = [70, 12]'),\n",
       " Text(305.0840236686391, 108.72, 'X[1] <= 18.5\\ngini = 0.304\\nsamples = 123\\nvalue = [100, 23]'),\n",
       " Text(303.10295857988166, 91.99384615384615, 'X[1] <= 16.5\\ngini = 0.295\\nsamples = 117\\nvalue = [96, 21]'),\n",
       " Text(301.1218934911243, 75.2676923076923, 'gini = 0.303\\nsamples = 102\\nvalue = [83, 19]'),\n",
       " Text(305.0840236686391, 75.2676923076923, 'gini = 0.231\\nsamples = 15\\nvalue = [13, 2]'),\n",
       " Text(307.0650887573965, 91.99384615384615, 'gini = 0.444\\nsamples = 6\\nvalue = [4, 2]'),\n",
       " Text(314.98934911242605, 125.44615384615385, 'X[1] <= 18.5\\ngini = 0.417\\nsamples = 27\\nvalue = [19, 8]'),\n",
       " Text(313.0082840236687, 108.72, 'X[1] <= 16.5\\ngini = 0.32\\nsamples = 10\\nvalue = [8, 2]'),\n",
       " Text(311.0272189349113, 91.99384615384615, 'gini = 0.32\\nsamples = 5\\nvalue = [4, 1]'),\n",
       " Text(314.98934911242605, 91.99384615384615, 'gini = 0.32\\nsamples = 5\\nvalue = [4, 1]'),\n",
       " Text(316.9704142011835, 108.72, 'gini = 0.457\\nsamples = 17\\nvalue = [11, 6]'),\n",
       " Text(324.89467455621303, 158.89846153846153, 'X[1] <= 15.0\\ngini = 0.388\\nsamples = 247\\nvalue = [182, 65]'),\n",
       " Text(320.93254437869825, 142.1723076923077, 'X[1] <= 13.0\\ngini = 0.412\\nsamples = 169\\nvalue = [120, 49]'),\n",
       " Text(318.95147928994083, 125.44615384615385, 'gini = 0.413\\nsamples = 72\\nvalue = [51, 21]'),\n",
       " Text(322.9136094674557, 125.44615384615385, 'gini = 0.411\\nsamples = 97\\nvalue = [69, 28]'),\n",
       " Text(328.8568047337278, 142.1723076923077, 'X[1] <= 16.5\\ngini = 0.326\\nsamples = 78\\nvalue = [62, 16]'),\n",
       " Text(326.87573964497045, 125.44615384615385, 'gini = 0.282\\nsamples = 53\\nvalue = [44, 9]'),\n",
       " Text(330.83786982248523, 125.44615384615385, 'X[1] <= 18.5\\ngini = 0.403\\nsamples = 25\\nvalue = [18, 7]'),\n",
       " Text(328.8568047337278, 108.72, 'gini = 0.375\\nsamples = 20\\nvalue = [15, 5]'),\n",
       " Text(332.81893491124265, 108.72, 'gini = 0.48\\nsamples = 5\\nvalue = [3, 2]')]"
      ]
     },
     "execution_count": 41,
     "metadata": {},
     "output_type": "execute_result"
    },
    {
     "data": {
      "image/png": "[encoded data removed]",
      "text/plain": [
       "<Figure size 432x288 with 1 Axes>"
      ]
     },
     "metadata": {
      "needs_background": "light"
     },
     "output_type": "display_data"
    }
   ],
   "source": [
    "tree.plot_tree(model)"
   ]
  },
  {
   "cell_type": "markdown",
   "metadata": {},
   "source": [
    "### Question 6. Now try using max_depth = 2, 3, 4 and crierion = 'gini' and 'entropy' to build 3 X 2 = 6 different models"
   ]
  },
  {
   "cell_type": "markdown",
   "metadata": {},
   "source": [
    "Type your answer and code here"
   ]
  },
  {
   "cell_type": "code",
   "execution_count": 46,
   "metadata": {
    "scrolled": true
   },
   "outputs": [
    {
     "name": "stdout",
     "output_type": "stream",
     "text": [
      "---------------------------------\n",
      "depth: 2\tcriteriongini\n",
      "\n",
      "[[730 135]\n",
      " [240 169]]\n",
      "              precision    recall  f1-score   support\n",
      "\n",
      "           0       0.75      0.84      0.80       865\n",
      "           1       0.56      0.41      0.47       409\n",
      "\n",
      "    accuracy                           0.71      1274\n",
      "   macro avg       0.65      0.63      0.63      1274\n",
      "weighted avg       0.69      0.71      0.69      1274\n",
      "\n",
      "0.7056514913657771\n",
      "---------------------------------\n",
      "depth: 2\tcriterionentropy\n",
      "\n",
      "[[730 135]\n",
      " [240 169]]\n",
      "              precision    recall  f1-score   support\n",
      "\n",
      "           0       0.75      0.84      0.80       865\n",
      "           1       0.56      0.41      0.47       409\n",
      "\n",
      "    accuracy                           0.71      1274\n",
      "   macro avg       0.65      0.63      0.63      1274\n",
      "weighted avg       0.69      0.71      0.69      1274\n",
      "\n",
      "0.7056514913657771\n",
      "---------------------------------\n",
      "depth: 3\tcriteriongini\n",
      "\n",
      "[[731 134]\n",
      " [242 167]]\n",
      "              precision    recall  f1-score   support\n",
      "\n",
      "           0       0.75      0.85      0.80       865\n",
      "           1       0.55      0.41      0.47       409\n",
      "\n",
      "    accuracy                           0.70      1274\n",
      "   macro avg       0.65      0.63      0.63      1274\n",
      "weighted avg       0.69      0.70      0.69      1274\n",
      "\n",
      "0.7048665620094191\n",
      "---------------------------------\n",
      "depth: 3\tcriterionentropy\n",
      "\n",
      "[[731 134]\n",
      " [242 167]]\n",
      "              precision    recall  f1-score   support\n",
      "\n",
      "           0       0.75      0.85      0.80       865\n",
      "           1       0.55      0.41      0.47       409\n",
      "\n",
      "    accuracy                           0.70      1274\n",
      "   macro avg       0.65      0.63      0.63      1274\n",
      "weighted avg       0.69      0.70      0.69      1274\n",
      "\n",
      "0.7048665620094191\n",
      "---------------------------------\n",
      "depth: 4\tcriteriongini\n",
      "\n",
      "[[726 139]\n",
      " [236 173]]\n",
      "              precision    recall  f1-score   support\n",
      "\n",
      "           0       0.75      0.84      0.79       865\n",
      "           1       0.55      0.42      0.48       409\n",
      "\n",
      "    accuracy                           0.71      1274\n",
      "   macro avg       0.65      0.63      0.64      1274\n",
      "weighted avg       0.69      0.71      0.69      1274\n",
      "\n",
      "0.7056514913657771\n",
      "---------------------------------\n",
      "depth: 4\tcriterionentropy\n",
      "\n",
      "[[726 139]\n",
      " [236 173]]\n",
      "              precision    recall  f1-score   support\n",
      "\n",
      "           0       0.75      0.84      0.79       865\n",
      "           1       0.55      0.42      0.48       409\n",
      "\n",
      "    accuracy                           0.71      1274\n",
      "   macro avg       0.65      0.63      0.64      1274\n",
      "weighted avg       0.69      0.71      0.69      1274\n",
      "\n",
      "0.7056514913657771\n"
     ]
    }
   ],
   "source": [
    "depths=[2,3,4]\n",
    "criterias=['gini','entropy']\n",
    "for d in depths:\n",
    "    for c in criterias:\n",
    "        model = DecisionTreeClassifier(max_depth=d, criterion=c)\n",
    "        model.fit(X_train,Y_train)\n",
    "        predictions = model.predict(X_test)\n",
    "        print('---------------------------------')\n",
    "        print('depth: '+str(d) + '\\t' + 'criterion' + c +'\\n')\n",
    "        print(confusion_matrix(Y_test,predictions))\n",
    "        print(classification_report(Y_test,predictions))\n",
    "        print(accuracy_score(Y_test, predictions))\n",
    "        #tree.plot_tree(model)"
   ]
  },
  {
   "cell_type": "markdown",
   "metadata": {},
   "source": [
    "### Question 7. What is your obsevation from Question 6? Does the choice of the criterion important in this case? What about the max_depth? What is the best choice of max_depth and criterion?"
   ]
  },
  {
   "cell_type": "markdown",
   "metadata": {},
   "source": [
    "Type your answer and code here"
   ]
  },
  {
   "cell_type": "markdown",
   "metadata": {},
   "source": [
    "### Question 8, now pick three models, with max_depth = 2, 3 and 4. You can pick the which ever criterions you want and visual the three trees"
   ]
  },
  {
   "cell_type": "markdown",
   "metadata": {},
   "source": [
    "Type your answer and code here"
   ]
  },
  {
   "cell_type": "code",
   "execution_count": 48,
   "metadata": {
    "scrolled": true
   },
   "outputs": [
    {
     "data": {
      "text/plain": [
       "[Text(167.4, 195.696, 'X[0] <= 3.5\\ngini = 0.437\\nsamples = 5092\\nvalue = [3448, 1644]'),\n",
       " Text(83.7, 152.208, 'X[0] <= 2.5\\ngini = 0.483\\nsamples = 1136\\nvalue = [463, 673]'),\n",
       " Text(41.85, 108.72, 'X[5] <= 0.5\\ngini = 0.445\\nsamples = 350\\nvalue = [117, 233]'),\n",
       " Text(20.925, 65.232, 'X[2] <= 0.5\\ngini = 0.457\\nsamples = 311\\nvalue = [110, 201]'),\n",
       " Text(10.4625, 21.744, 'gini = 0.444\\nsamples = 252\\nvalue = [84, 168]'),\n",
       " Text(31.387500000000003, 21.744, 'gini = 0.493\\nsamples = 59\\nvalue = [26, 33]'),\n",
       " Text(62.775000000000006, 65.232, 'X[1] <= 18.5\\ngini = 0.295\\nsamples = 39\\nvalue = [7, 32]'),\n",
       " Text(52.3125, 21.744, 'gini = 0.266\\nsamples = 38\\nvalue = [6, 32]'),\n",
       " Text(73.2375, 21.744, 'gini = 0.0\\nsamples = 1\\nvalue = [1, 0]'),\n",
       " Text(125.55000000000001, 108.72, 'X[6] <= 0.5\\ngini = 0.493\\nsamples = 786\\nvalue = [346, 440]'),\n",
       " Text(104.625, 65.232, 'X[2] <= 0.5\\ngini = 0.492\\nsamples = 770\\nvalue = [335, 435]'),\n",
       " Text(94.16250000000001, 21.744, 'gini = 0.488\\nsamples = 661\\nvalue = [280, 381]'),\n",
       " Text(115.0875, 21.744, 'gini = 0.5\\nsamples = 109\\nvalue = [55, 54]'),\n",
       " Text(146.475, 65.232, 'X[1] <= 18.5\\ngini = 0.43\\nsamples = 16\\nvalue = [11, 5]'),\n",
       " Text(136.01250000000002, 21.744, 'gini = 0.245\\nsamples = 7\\nvalue = [6, 1]'),\n",
       " Text(156.9375, 21.744, 'gini = 0.494\\nsamples = 9\\nvalue = [5, 4]'),\n",
       " Text(251.10000000000002, 152.208, 'X[0] <= 4.5\\ngini = 0.37\\nsamples = 3956\\nvalue = [2985, 971]'),\n",
       " Text(209.25, 108.72, 'X[5] <= 0.5\\ngini = 0.438\\nsamples = 1795\\nvalue = [1213, 582]'),\n",
       " Text(188.32500000000002, 65.232, 'X[3] <= 0.5\\ngini = 0.425\\nsamples = 1586\\nvalue = [1100, 486]'),\n",
       " Text(177.8625, 21.744, 'gini = 0.388\\nsamples = 775\\nvalue = [571, 204]'),\n",
       " Text(198.7875, 21.744, 'gini = 0.454\\nsamples = 811\\nvalue = [529, 282]'),\n",
       " Text(230.175, 65.232, 'X[1] <= 15.0\\ngini = 0.497\\nsamples = 209\\nvalue = [113, 96]'),\n",
       " Text(219.7125, 21.744, 'gini = 0.5\\nsamples = 154\\nvalue = [76, 78]'),\n",
       " Text(240.63750000000002, 21.744, 'gini = 0.44\\nsamples = 55\\nvalue = [37, 18]'),\n",
       " Text(292.95, 108.72, 'X[5] <= 0.5\\ngini = 0.295\\nsamples = 2161\\nvalue = [1772, 389]'),\n",
       " Text(272.02500000000003, 65.232, 'X[1] <= 15.0\\ngini = 0.281\\nsamples = 1914\\nvalue = [1590, 324]'),\n",
       " Text(261.5625, 21.744, 'gini = 0.301\\nsamples = 1230\\nvalue = [1003, 227]'),\n",
       " Text(282.4875, 21.744, 'gini = 0.243\\nsamples = 684\\nvalue = [587, 97]'),\n",
       " Text(313.875, 65.232, 'X[1] <= 15.0\\ngini = 0.388\\nsamples = 247\\nvalue = [182, 65]'),\n",
       " Text(303.4125, 21.744, 'gini = 0.412\\nsamples = 169\\nvalue = [120, 49]'),\n",
       " Text(324.33750000000003, 21.744, 'gini = 0.326\\nsamples = 78\\nvalue = [62, 16]')]"
      ]
     },
     "execution_count": 48,
     "metadata": {},
     "output_type": "execute_result"
    },
    {
     "data": {
      "image/png": "[encoded data removed]",
      "text/plain": [
       "<Figure size 432x288 with 1 Axes>"
      ]
     },
     "metadata": {
      "needs_background": "light"
     },
     "output_type": "display_data"
    }
   ],
   "source": [
    "# Hint \n",
    "model1 = DecisionTreeClassifier(max_depth=2, criterion='gini')\n",
    "model1.fit(X_train, Y_train)\n",
    "model2 = DecisionTreeClassifier(max_depth=3, criterion='gini')\n",
    "model2.fit(X_train, Y_train)\n",
    "model3 = DecisionTreeClassifier(max_depth=4, criterion='gini')\n",
    "model3.fit(X_train, Y_train)\n",
    "tree.plot_tree(model1)"
   ]
  },
  {
   "cell_type": "code",
   "execution_count": 49,
   "metadata": {
    "scrolled": true
   },
   "outputs": [
    {
     "data": {
      "text/plain": [
       "[Text(167.4, 190.26, 'X[0] <= 3.5\\ngini = 0.437\\nsamples = 5092\\nvalue = [3448, 1644]'),\n",
       " Text(83.7, 135.9, 'X[0] <= 2.5\\ngini = 0.483\\nsamples = 1136\\nvalue = [463, 673]'),\n",
       " Text(41.85, 81.53999999999999, 'X[5] <= 0.5\\ngini = 0.445\\nsamples = 350\\nvalue = [117, 233]'),\n",
       " Text(20.925, 27.180000000000007, 'gini = 0.457\\nsamples = 311\\nvalue = [110, 201]'),\n",
       " Text(62.775000000000006, 27.180000000000007, 'gini = 0.295\\nsamples = 39\\nvalue = [7, 32]'),\n",
       " Text(125.55000000000001, 81.53999999999999, 'X[6] <= 0.5\\ngini = 0.493\\nsamples = 786\\nvalue = [346, 440]'),\n",
       " Text(104.625, 27.180000000000007, 'gini = 0.492\\nsamples = 770\\nvalue = [335, 435]'),\n",
       " Text(146.475, 27.180000000000007, 'gini = 0.43\\nsamples = 16\\nvalue = [11, 5]'),\n",
       " Text(251.10000000000002, 135.9, 'X[0] <= 4.5\\ngini = 0.37\\nsamples = 3956\\nvalue = [2985, 971]'),\n",
       " Text(209.25, 81.53999999999999, 'X[5] <= 0.5\\ngini = 0.438\\nsamples = 1795\\nvalue = [1213, 582]'),\n",
       " Text(188.32500000000002, 27.180000000000007, 'gini = 0.425\\nsamples = 1586\\nvalue = [1100, 486]'),\n",
       " Text(230.175, 27.180000000000007, 'gini = 0.497\\nsamples = 209\\nvalue = [113, 96]'),\n",
       " Text(292.95, 81.53999999999999, 'X[5] <= 0.5\\ngini = 0.295\\nsamples = 2161\\nvalue = [1772, 389]'),\n",
       " Text(272.02500000000003, 27.180000000000007, 'gini = 0.281\\nsamples = 1914\\nvalue = [1590, 324]'),\n",
       " Text(313.875, 27.180000000000007, 'gini = 0.388\\nsamples = 247\\nvalue = [182, 65]')]"
      ]
     },
     "execution_count": 49,
     "metadata": {},
     "output_type": "execute_result"
    },
    {
     "data": {
      "image/png": "[encoded data removed]",
      "text/plain": [
       "<Figure size 432x288 with 1 Axes>"
      ]
     },
     "metadata": {
      "needs_background": "light"
     },
     "output_type": "display_data"
    }
   ],
   "source": [
    "tree.plot_tree(model2)"
   ]
  },
  {
   "cell_type": "code",
   "execution_count": 50,
   "metadata": {},
   "outputs": [
    {
     "data": {
      "text/plain": [
       "[Text(167.4, 195.696, 'X[0] <= 3.5\\ngini = 0.437\\nsamples = 5092\\nvalue = [3448, 1644]'),\n",
       " Text(83.7, 152.208, 'X[0] <= 2.5\\ngini = 0.483\\nsamples = 1136\\nvalue = [463, 673]'),\n",
       " Text(41.85, 108.72, 'X[5] <= 0.5\\ngini = 0.445\\nsamples = 350\\nvalue = [117, 233]'),\n",
       " Text(20.925, 65.232, 'X[2] <= 0.5\\ngini = 0.457\\nsamples = 311\\nvalue = [110, 201]'),\n",
       " Text(10.4625, 21.744, 'gini = 0.444\\nsamples = 252\\nvalue = [84, 168]'),\n",
       " Text(31.387500000000003, 21.744, 'gini = 0.493\\nsamples = 59\\nvalue = [26, 33]'),\n",
       " Text(62.775000000000006, 65.232, 'X[1] <= 18.5\\ngini = 0.295\\nsamples = 39\\nvalue = [7, 32]'),\n",
       " Text(52.3125, 21.744, 'gini = 0.266\\nsamples = 38\\nvalue = [6, 32]'),\n",
       " Text(73.2375, 21.744, 'gini = 0.0\\nsamples = 1\\nvalue = [1, 0]'),\n",
       " Text(125.55000000000001, 108.72, 'X[6] <= 0.5\\ngini = 0.493\\nsamples = 786\\nvalue = [346, 440]'),\n",
       " Text(104.625, 65.232, 'X[2] <= 0.5\\ngini = 0.492\\nsamples = 770\\nvalue = [335, 435]'),\n",
       " Text(94.16250000000001, 21.744, 'gini = 0.488\\nsamples = 661\\nvalue = [280, 381]'),\n",
       " Text(115.0875, 21.744, 'gini = 0.5\\nsamples = 109\\nvalue = [55, 54]'),\n",
       " Text(146.475, 65.232, 'X[1] <= 18.5\\ngini = 0.43\\nsamples = 16\\nvalue = [11, 5]'),\n",
       " Text(136.01250000000002, 21.744, 'gini = 0.245\\nsamples = 7\\nvalue = [6, 1]'),\n",
       " Text(156.9375, 21.744, 'gini = 0.494\\nsamples = 9\\nvalue = [5, 4]'),\n",
       " Text(251.10000000000002, 152.208, 'X[0] <= 4.5\\ngini = 0.37\\nsamples = 3956\\nvalue = [2985, 971]'),\n",
       " Text(209.25, 108.72, 'X[5] <= 0.5\\ngini = 0.438\\nsamples = 1795\\nvalue = [1213, 582]'),\n",
       " Text(188.32500000000002, 65.232, 'X[3] <= 0.5\\ngini = 0.425\\nsamples = 1586\\nvalue = [1100, 486]'),\n",
       " Text(177.8625, 21.744, 'gini = 0.388\\nsamples = 775\\nvalue = [571, 204]'),\n",
       " Text(198.7875, 21.744, 'gini = 0.454\\nsamples = 811\\nvalue = [529, 282]'),\n",
       " Text(230.175, 65.232, 'X[1] <= 15.0\\ngini = 0.497\\nsamples = 209\\nvalue = [113, 96]'),\n",
       " Text(219.7125, 21.744, 'gini = 0.5\\nsamples = 154\\nvalue = [76, 78]'),\n",
       " Text(240.63750000000002, 21.744, 'gini = 0.44\\nsamples = 55\\nvalue = [37, 18]'),\n",
       " Text(292.95, 108.72, 'X[5] <= 0.5\\ngini = 0.295\\nsamples = 2161\\nvalue = [1772, 389]'),\n",
       " Text(272.02500000000003, 65.232, 'X[1] <= 15.0\\ngini = 0.281\\nsamples = 1914\\nvalue = [1590, 324]'),\n",
       " Text(261.5625, 21.744, 'gini = 0.301\\nsamples = 1230\\nvalue = [1003, 227]'),\n",
       " Text(282.4875, 21.744, 'gini = 0.243\\nsamples = 684\\nvalue = [587, 97]'),\n",
       " Text(313.875, 65.232, 'X[1] <= 15.0\\ngini = 0.388\\nsamples = 247\\nvalue = [182, 65]'),\n",
       " Text(303.4125, 21.744, 'gini = 0.412\\nsamples = 169\\nvalue = [120, 49]'),\n",
       " Text(324.33750000000003, 21.744, 'gini = 0.326\\nsamples = 78\\nvalue = [62, 16]')]"
      ]
     },
     "execution_count": 50,
     "metadata": {},
     "output_type": "execute_result"
    },
    {
     "data": {
      "image/png": "[encoded data removed]",
      "text/plain": [
       "<Figure size 432x288 with 1 Axes>"
      ]
     },
     "metadata": {
      "needs_background": "light"
     },
     "output_type": "display_data"
    }
   ],
   "source": [
    "tree.plot_tree(model3)"
   ]
  },
  {
   "cell_type": "markdown",
   "metadata": {},
   "source": [
    "### Question 9. Now build a Random Forest Classifier with, say, 100 trees. Check the model performance "
   ]
  },
  {
   "cell_type": "markdown",
   "metadata": {},
   "source": [
    "Type your answer and code here"
   ]
  },
  {
   "cell_type": "code",
   "execution_count": 53,
   "metadata": {},
   "outputs": [
    {
     "name": "stdout",
     "output_type": "stream",
     "text": [
      "              precision    recall  f1-score   support\n",
      "\n",
      "           0       0.74      0.86      0.79       865\n",
      "           1       0.55      0.36      0.44       409\n",
      "\n",
      "    accuracy                           0.70      1274\n",
      "   macro avg       0.64      0.61      0.62      1274\n",
      "weighted avg       0.68      0.70      0.68      1274\n",
      "\n",
      "0.6993720565149136\n"
     ]
    }
   ],
   "source": [
    "rfc = RandomForestClassifier(n_estimators=100)\n",
    "rfc.fit(X_train, Y_train)\n",
    "rfc_pred = rfc.predict(X_test)\n",
    "print(classification_report(Y_test, rfc_pred))\n",
    "print(accuracy_score(Y_test, rfc_pred))"
   ]
  }
 ],
 "metadata": {
  "kernelspec": {
   "display_name": "Python 3",
   "language": "python",
   "name": "python3"
  },
  "language_info": {
   "codemirror_mode": {
    "name": "ipython",
    "version": 3
   },
   "file_extension": ".py",
   "mimetype": "text/x-python",
   "name": "python",
   "nbconvert_exporter": "python",
   "pygments_lexer": "ipython3",
   "version": "3.8.5"
  }
 },
 "nbformat": 4,
 "nbformat_minor": 2
}
