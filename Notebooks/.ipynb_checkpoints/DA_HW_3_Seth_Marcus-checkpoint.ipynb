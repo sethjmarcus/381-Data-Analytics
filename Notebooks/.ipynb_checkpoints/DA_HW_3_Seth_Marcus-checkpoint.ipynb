{
 "cells": [
  {
   "cell_type": "markdown",
   "metadata": {},
   "source": [
    "# DA_HW_3 Support Vector Machine and Decision Trees\n",
    "\n",
    "# Due on 5/10 23:59 pm"
   ]
  },
  {
   "cell_type": "code",
   "execution_count": 2,
   "metadata": {},
   "outputs": [],
   "source": [
    "import pandas as pd\n",
    "import numpy as np\n",
    "import matplotlib.pyplot as plt\n",
    "import seaborn as sns\n",
    "import warnings\n",
    "import random\n",
    "from sklearn import svm\n",
    "from sklearn import tree\n",
    "from sklearn.linear_model import LinearRegression\n",
    "from sklearn.model_selection import train_test_split\n",
    "from sklearn.metrics import classification_report,confusion_matrix,accuracy_score\n",
    "from sklearn import metrics\n",
    "from sklearn.tree import DecisionTreeClassifier\n",
    "from sklearn.ensemble import RandomForestClassifier\n",
    "warnings.filterwarnings('ignore')"
   ]
  },
  {
   "cell_type": "markdown",
   "metadata": {},
   "source": [
    "## We will use the same affair dataset from HW2, but will skip the EDA phrase we have done enough of it"
   ]
  },
  {
   "cell_type": "markdown",
   "metadata": {},
   "source": [
    "#### Everything removing outliers, create dummies variabes had been done for you"
   ]
  },
  {
   "cell_type": "code",
   "execution_count": 3,
   "metadata": {},
   "outputs": [
    {
     "data": {
      "text/html": [
       "<div>\n",
       "<style scoped>\n",
       "    .dataframe tbody tr th:only-of-type {\n",
       "        vertical-align: middle;\n",
       "    }\n",
       "\n",
       "    .dataframe tbody tr th {\n",
       "        vertical-align: top;\n",
       "    }\n",
       "\n",
       "    .dataframe thead th {\n",
       "        text-align: right;\n",
       "    }\n",
       "</style>\n",
       "<table border=\"1\" class=\"dataframe\">\n",
       "  <thead>\n",
       "    <tr style=\"text-align: right;\">\n",
       "      <th></th>\n",
       "      <th>rate_marriage</th>\n",
       "      <th>age</th>\n",
       "      <th>yrs_married</th>\n",
       "      <th>children</th>\n",
       "      <th>religious</th>\n",
       "      <th>educ</th>\n",
       "      <th>had_affair</th>\n",
       "      <th>occ2</th>\n",
       "      <th>occ3</th>\n",
       "      <th>occ4</th>\n",
       "      <th>occ5</th>\n",
       "      <th>occ6</th>\n",
       "    </tr>\n",
       "  </thead>\n",
       "  <tbody>\n",
       "    <tr>\n",
       "      <th>0</th>\n",
       "      <td>3.0</td>\n",
       "      <td>32.0</td>\n",
       "      <td>9.0</td>\n",
       "      <td>3.0</td>\n",
       "      <td>3.0</td>\n",
       "      <td>17.0</td>\n",
       "      <td>1</td>\n",
       "      <td>1</td>\n",
       "      <td>0</td>\n",
       "      <td>0</td>\n",
       "      <td>0</td>\n",
       "      <td>0</td>\n",
       "    </tr>\n",
       "    <tr>\n",
       "      <th>1</th>\n",
       "      <td>3.0</td>\n",
       "      <td>27.0</td>\n",
       "      <td>13.0</td>\n",
       "      <td>3.0</td>\n",
       "      <td>1.0</td>\n",
       "      <td>14.0</td>\n",
       "      <td>1</td>\n",
       "      <td>0</td>\n",
       "      <td>1</td>\n",
       "      <td>0</td>\n",
       "      <td>0</td>\n",
       "      <td>0</td>\n",
       "    </tr>\n",
       "    <tr>\n",
       "      <th>2</th>\n",
       "      <td>4.0</td>\n",
       "      <td>22.0</td>\n",
       "      <td>2.5</td>\n",
       "      <td>0.0</td>\n",
       "      <td>1.0</td>\n",
       "      <td>16.0</td>\n",
       "      <td>1</td>\n",
       "      <td>0</td>\n",
       "      <td>1</td>\n",
       "      <td>0</td>\n",
       "      <td>0</td>\n",
       "      <td>0</td>\n",
       "    </tr>\n",
       "    <tr>\n",
       "      <th>3</th>\n",
       "      <td>4.0</td>\n",
       "      <td>37.0</td>\n",
       "      <td>16.5</td>\n",
       "      <td>4.0</td>\n",
       "      <td>3.0</td>\n",
       "      <td>16.0</td>\n",
       "      <td>1</td>\n",
       "      <td>0</td>\n",
       "      <td>0</td>\n",
       "      <td>0</td>\n",
       "      <td>1</td>\n",
       "      <td>0</td>\n",
       "    </tr>\n",
       "    <tr>\n",
       "      <th>4</th>\n",
       "      <td>5.0</td>\n",
       "      <td>27.0</td>\n",
       "      <td>9.0</td>\n",
       "      <td>1.0</td>\n",
       "      <td>1.0</td>\n",
       "      <td>14.0</td>\n",
       "      <td>1</td>\n",
       "      <td>0</td>\n",
       "      <td>1</td>\n",
       "      <td>0</td>\n",
       "      <td>0</td>\n",
       "      <td>0</td>\n",
       "    </tr>\n",
       "  </tbody>\n",
       "</table>\n",
       "</div>"
      ],
      "text/plain": [
       "   rate_marriage   age  yrs_married  children  religious  educ  had_affair  \\\n",
       "0            3.0  32.0          9.0       3.0        3.0  17.0           1   \n",
       "1            3.0  27.0         13.0       3.0        1.0  14.0           1   \n",
       "2            4.0  22.0          2.5       0.0        1.0  16.0           1   \n",
       "3            4.0  37.0         16.5       4.0        3.0  16.0           1   \n",
       "4            5.0  27.0          9.0       1.0        1.0  14.0           1   \n",
       "\n",
       "   occ2  occ3  occ4  occ5  occ6  \n",
       "0     1     0     0     0     0  \n",
       "1     0     1     0     0     0  \n",
       "2     0     1     0     0     0  \n",
       "3     0     0     0     1     0  \n",
       "4     0     1     0     0     0  "
      ]
     },
     "execution_count": 3,
     "metadata": {},
     "output_type": "execute_result"
    }
   ],
   "source": [
    "# Remember the affair data set from HW3, we will use that dataset again\n",
    "# but we will directly load it from the API\n",
    "orig_df = pd.read_csv(\"affairs2.csv\")\n",
    "# Set up our target class label\n",
    "orig_df['had_affair'] = orig_df['affairs'].apply(lambda x: 1 if x != 0 else 0)\n",
    "orig_df = orig_df.drop('affairs',axis=1)\n",
    "# remove NA\n",
    "orig_df.dropna(inplace=True)\n",
    "# create dummies variable for occupation\n",
    "occ = pd.get_dummies(orig_df['occupation'],drop_first=True)\n",
    "# we include rate_marriage feature as well. In HW3, we did not include that variable\n",
    "features = ['rate_marriage','age','yrs_married','children','religious','educ', 'had_affair']\n",
    "df = orig_df\n",
    "df = pd.concat([orig_df[features], occ], axis=1)\n",
    "df.head()"
   ]
  },
  {
   "cell_type": "code",
   "execution_count": 4,
   "metadata": {},
   "outputs": [
    {
     "data": {
      "text/plain": [
       "rate_marriage    0\n",
       "age              0\n",
       "yrs_married      0\n",
       "children         0\n",
       "religious        0\n",
       "educ             0\n",
       "had_affair       0\n",
       "occ2             0\n",
       "occ3             0\n",
       "occ4             0\n",
       "occ5             0\n",
       "occ6             0\n",
       "dtype: int64"
      ]
     },
     "execution_count": 4,
     "metadata": {},
     "output_type": "execute_result"
    }
   ],
   "source": [
    "# make sure there is no missing values\n",
    "df.isnull().sum()"
   ]
  },
  {
   "cell_type": "markdown",
   "metadata": {},
   "source": [
    "### Now we are ready to build models"
   ]
  },
  {
   "cell_type": "markdown",
   "metadata": {},
   "source": [
    "### Question 1: Build a classification model using SVC using linear kernel without specifying the C-parameter"
   ]
  },
  {
   "cell_type": "code",
   "execution_count": 4,
   "metadata": {},
   "outputs": [
    {
     "data": {
      "text/html": [
       "<div>\n",
       "<style scoped>\n",
       "    .dataframe tbody tr th:only-of-type {\n",
       "        vertical-align: middle;\n",
       "    }\n",
       "\n",
       "    .dataframe tbody tr th {\n",
       "        vertical-align: top;\n",
       "    }\n",
       "\n",
       "    .dataframe thead th {\n",
       "        text-align: right;\n",
       "    }\n",
       "</style>\n",
       "<table border=\"1\" class=\"dataframe\">\n",
       "  <thead>\n",
       "    <tr style=\"text-align: right;\">\n",
       "      <th></th>\n",
       "      <th>had_affair</th>\n",
       "    </tr>\n",
       "  </thead>\n",
       "  <tbody>\n",
       "    <tr>\n",
       "      <th>had_affair</th>\n",
       "      <td>1.000000</td>\n",
       "    </tr>\n",
       "    <tr>\n",
       "      <th>yrs_married</th>\n",
       "      <td>0.203109</td>\n",
       "    </tr>\n",
       "    <tr>\n",
       "      <th>children</th>\n",
       "      <td>0.159833</td>\n",
       "    </tr>\n",
       "    <tr>\n",
       "      <th>age</th>\n",
       "      <td>0.146519</td>\n",
       "    </tr>\n",
       "    <tr>\n",
       "      <th>occ5</th>\n",
       "      <td>0.073766</td>\n",
       "    </tr>\n",
       "    <tr>\n",
       "      <th>occ3</th>\n",
       "      <td>0.045729</td>\n",
       "    </tr>\n",
       "    <tr>\n",
       "      <th>occ6</th>\n",
       "      <td>0.012559</td>\n",
       "    </tr>\n",
       "    <tr>\n",
       "      <th>occ2</th>\n",
       "      <td>-0.024613</td>\n",
       "    </tr>\n",
       "    <tr>\n",
       "      <th>educ</th>\n",
       "      <td>-0.075280</td>\n",
       "    </tr>\n",
       "    <tr>\n",
       "      <th>occ4</th>\n",
       "      <td>-0.082706</td>\n",
       "    </tr>\n",
       "    <tr>\n",
       "      <th>religious</th>\n",
       "      <td>-0.129299</td>\n",
       "    </tr>\n",
       "    <tr>\n",
       "      <th>rate_marriage</th>\n",
       "      <td>-0.331776</td>\n",
       "    </tr>\n",
       "  </tbody>\n",
       "</table>\n",
       "</div>"
      ],
      "text/plain": [
       "               had_affair\n",
       "had_affair       1.000000\n",
       "yrs_married      0.203109\n",
       "children         0.159833\n",
       "age              0.146519\n",
       "occ5             0.073766\n",
       "occ3             0.045729\n",
       "occ6             0.012559\n",
       "occ2            -0.024613\n",
       "educ            -0.075280\n",
       "occ4            -0.082706\n",
       "religious       -0.129299\n",
       "rate_marriage   -0.331776"
      ]
     },
     "execution_count": 4,
     "metadata": {},
     "output_type": "execute_result"
    }
   ],
   "source": [
    "df.corr().filter(items=['had_affair']).sort_values('had_affair', ascending=False)"
   ]
  },
  {
   "cell_type": "code",
   "execution_count": 5,
   "metadata": {},
   "outputs": [],
   "source": [
    "X = df[['rate_marriage','educ','occ2','occ3','occ4','occ5','occ6']].to_numpy()\n",
    "Y = df['had_affair'].to_numpy()"
   ]
  },
  {
   "cell_type": "code",
   "execution_count": 6,
   "metadata": {},
   "outputs": [],
   "source": [
    "X_train, X_test, Y_train, Y_test = train_test_split(X, Y, test_size=0.2, random_state=0)"
   ]
  },
  {
   "cell_type": "code",
   "execution_count": 8,
   "metadata": {},
   "outputs": [
    {
     "data": {
      "text/plain": [
       "SVC(kernel='linear')"
      ]
     },
     "execution_count": 8,
     "metadata": {},
     "output_type": "execute_result"
    }
   ],
   "source": [
    "svc = svm.SVC(kernel='linear')\n",
    "svc.fit(X_train, Y_train)"
   ]
  },
  {
   "cell_type": "code",
   "execution_count": 10,
   "metadata": {},
   "outputs": [
    {
     "data": {
      "text/plain": [
       "array([[849,  36],\n",
       "       [313,  76]], dtype=int64)"
      ]
     },
     "execution_count": 10,
     "metadata": {},
     "output_type": "execute_result"
    }
   ],
   "source": [
    "Y_pred = svc.predict(X_test)\n",
    "confusion_matrix(Y_test, Y_pred)"
   ]
  },
  {
   "cell_type": "code",
   "execution_count": 12,
   "metadata": {
    "scrolled": true
   },
   "outputs": [
    {
     "name": "stdout",
     "output_type": "stream",
     "text": [
      "              precision    recall  f1-score   support\n",
      "\n",
      "           0       0.73      0.96      0.83       885\n",
      "           1       0.68      0.20      0.30       389\n",
      "\n",
      "    accuracy                           0.73      1274\n",
      "   macro avg       0.70      0.58      0.57      1274\n",
      "weighted avg       0.71      0.73      0.67      1274\n",
      "\n",
      "0.7260596546310832\n"
     ]
    }
   ],
   "source": [
    "print(classification_report(Y_test,Y_pred))\n",
    "print(svc.score(X_test, Y_test))"
   ]
  },
  {
   "cell_type": "code",
   "execution_count": 13,
   "metadata": {
    "scrolled": true
   },
   "outputs": [
    {
     "name": "stdout",
     "output_type": "stream",
     "text": [
      "Mean Absolute Error: 0.2739403453689168\n",
      "Mean Squared Error: 0.2739403453689168\n",
      "Root Mean Squared Error: 0.5233931078729608\n",
      "R-squared: -0.29152251898973214\n"
     ]
    }
   ],
   "source": [
    "print('Mean Absolute Error:', metrics.mean_absolute_error(Y_test, Y_pred))\n",
    "print('Mean Squared Error:', metrics.mean_squared_error(Y_test, Y_pred))\n",
    "print('Root Mean Squared Error:', np.sqrt(metrics.mean_squared_error(Y_test, Y_pred)))\n",
    "print('R-squared:', metrics.r2_score(Y_test, Y_pred))"
   ]
  },
  {
   "cell_type": "code",
   "execution_count": 15,
   "metadata": {},
   "outputs": [
    {
     "data": {
      "text/plain": [
       "<AxesSubplot:xlabel='trial'>"
      ]
     },
     "execution_count": 15,
     "metadata": {},
     "output_type": "execute_result"
    },
    {
     "data": {
      "image/png": "[encoded data removed]",
      "text/plain": [
       "<Figure size 432x288 with 1 Axes>"
      ]
     },
     "metadata": {
      "needs_background": "light"
     },
     "output_type": "display_data"
    }
   ],
   "source": [
    "rsquare = []\n",
    "for i in range(10):\n",
    "    X_train, X_test, Y_train, Y_test = train_test_split(X, Y, test_size=0.2, random_state = random.randint(1,1000))\n",
    "    model = svm.SVC()\n",
    "    model.fit(X_train, Y_train)\n",
    "    Y_pred = model.predict(X_test)\n",
    "    rsquare.append(metrics.r2_score(Y_test, Y_pred))\n",
    "    \n",
    "rdf = pd.DataFrame( {'trial': range(10), 'Rsquare': rsquare})\n",
    "rdf.plot.bar(x='trial', y='Rsquare')"
   ]
  },
  {
   "cell_type": "markdown",
   "metadata": {},
   "source": [
    "### Question 2. Now try different value of C-parameter and rerun your model"
   ]
  },
  {
   "cell_type": "markdown",
   "metadata": {},
   "source": [
    "### Large C"
   ]
  },
  {
   "cell_type": "code",
   "execution_count": 16,
   "metadata": {},
   "outputs": [
    {
     "data": {
      "text/plain": [
       "SVC(C=32, kernel='linear')"
      ]
     },
     "execution_count": 16,
     "metadata": {},
     "output_type": "execute_result"
    }
   ],
   "source": [
    "svc = svm.SVC(kernel='linear', C=2**5)\n",
    "svc.fit(X_train, Y_train)"
   ]
  },
  {
   "cell_type": "code",
   "execution_count": 17,
   "metadata": {},
   "outputs": [
    {
     "data": {
      "text/plain": [
       "array([[821,  48],\n",
       "       [319,  86]], dtype=int64)"
      ]
     },
     "execution_count": 17,
     "metadata": {},
     "output_type": "execute_result"
    }
   ],
   "source": [
    "Y_pred = svc.predict(X_test)\n",
    "confusion_matrix(Y_test, Y_pred)"
   ]
  },
  {
   "cell_type": "code",
   "execution_count": 18,
   "metadata": {},
   "outputs": [
    {
     "name": "stdout",
     "output_type": "stream",
     "text": [
      "              precision    recall  f1-score   support\n",
      "\n",
      "           0       0.72      0.94      0.82       869\n",
      "           1       0.64      0.21      0.32       405\n",
      "\n",
      "    accuracy                           0.71      1274\n",
      "   macro avg       0.68      0.58      0.57      1274\n",
      "weighted avg       0.70      0.71      0.66      1274\n",
      "\n",
      "0.7048665620094191\n"
     ]
    }
   ],
   "source": [
    "print(classification_report(Y_test,Y_pred))\n",
    "print(model.score(X_test, Y_test))"
   ]
  },
  {
   "cell_type": "code",
   "execution_count": 19,
   "metadata": {},
   "outputs": [
    {
     "name": "stdout",
     "output_type": "stream",
     "text": [
      "Mean Absolute Error: 0.2880690737833595\n",
      "Mean Squared Error: 0.2880690737833595\n",
      "Root Mean Squared Error: 0.5367206664395917\n",
      "R-squared: -0.3284973504382782\n"
     ]
    }
   ],
   "source": [
    "print('Mean Absolute Error:', metrics.mean_absolute_error(Y_test, Y_pred))\n",
    "print('Mean Squared Error:', metrics.mean_squared_error(Y_test, Y_pred))\n",
    "print('Root Mean Squared Error:', np.sqrt(metrics.mean_squared_error(Y_test, Y_pred)))\n",
    "print('R-squared:', metrics.r2_score(Y_test, Y_pred))"
   ]
  },
  {
   "cell_type": "code",
   "execution_count": 20,
   "metadata": {},
   "outputs": [
    {
     "data": {
      "text/plain": [
       "<AxesSubplot:xlabel='trial'>"
      ]
     },
     "execution_count": 20,
     "metadata": {},
     "output_type": "execute_result"
    },
    {
     "data": {
      "image/png": "[encoded data removed]",
      "text/plain": [
       "<Figure size 432x288 with 1 Axes>"
      ]
     },
     "metadata": {
      "needs_background": "light"
     },
     "output_type": "display_data"
    }
   ],
   "source": [
    "rsquare = []\n",
    "for i in range(10):\n",
    "    X_train, X_test, Y_train, Y_test = train_test_split(X, Y, test_size=0.2, random_state = random.randint(1,1000))\n",
    "    model = svm.SVC()\n",
    "    model.fit(X_train, Y_train)\n",
    "    Y_pred = model.predict(X_test)\n",
    "    rsquare.append(metrics.r2_score(Y_test, Y_pred))\n",
    "    \n",
    "rdf = pd.DataFrame( {'trial': range(10), 'Rsquare': rsquare})\n",
    "rdf.plot.bar(x='trial', y='Rsquare')"
   ]
  },
  {
   "cell_type": "code",
   "execution_count": null,
   "metadata": {},
   "outputs": [],
   "source": [
    "### Small C"
   ]
  },
  {
   "cell_type": "code",
   "execution_count": 22,
   "metadata": {},
   "outputs": [
    {
     "data": {
      "text/plain": [
       "SVC(C=0.03125, kernel='linear')"
      ]
     },
     "execution_count": 22,
     "metadata": {},
     "output_type": "execute_result"
    }
   ],
   "source": [
    "svc = svm.SVC(kernel='linear', C=2**-5)\n",
    "svc.fit(X_train, Y_train)"
   ]
  },
  {
   "cell_type": "code",
   "execution_count": 23,
   "metadata": {},
   "outputs": [
    {
     "data": {
      "text/plain": [
       "array([[831,  21],\n",
       "       [374,  48]], dtype=int64)"
      ]
     },
     "execution_count": 23,
     "metadata": {},
     "output_type": "execute_result"
    }
   ],
   "source": [
    "Y_pred = svc.predict(X_test)\n",
    "confusion_matrix(Y_test, Y_pred)"
   ]
  },
  {
   "cell_type": "code",
   "execution_count": 24,
   "metadata": {},
   "outputs": [
    {
     "name": "stdout",
     "output_type": "stream",
     "text": [
      "              precision    recall  f1-score   support\n",
      "\n",
      "           0       0.69      0.98      0.81       852\n",
      "           1       0.70      0.11      0.20       422\n",
      "\n",
      "    accuracy                           0.69      1274\n",
      "   macro avg       0.69      0.54      0.50      1274\n",
      "weighted avg       0.69      0.69      0.61      1274\n",
      "\n",
      "0.6797488226059655\n"
     ]
    }
   ],
   "source": [
    "print(classification_report(Y_test,Y_pred))\n",
    "print(model.score(X_test, Y_test))"
   ]
  },
  {
   "cell_type": "code",
   "execution_count": 25,
   "metadata": {},
   "outputs": [
    {
     "name": "stdout",
     "output_type": "stream",
     "text": [
      "Mean Absolute Error: 0.31004709576138145\n",
      "Mean Squared Error: 0.31004709576138145\n",
      "Root Mean Squared Error: 0.5568187279190432\n",
      "R-squared: -0.3996339808201501\n"
     ]
    }
   ],
   "source": [
    "print('Mean Absolute Error:', metrics.mean_absolute_error(Y_test, Y_pred))\n",
    "print('Mean Squared Error:', metrics.mean_squared_error(Y_test, Y_pred))\n",
    "print('Root Mean Squared Error:', np.sqrt(metrics.mean_squared_error(Y_test, Y_pred)))\n",
    "print('R-squared:', metrics.r2_score(Y_test, Y_pred))"
   ]
  },
  {
   "cell_type": "code",
   "execution_count": 26,
   "metadata": {},
   "outputs": [
    {
     "data": {
      "text/plain": [
       "<AxesSubplot:xlabel='trial'>"
      ]
     },
     "execution_count": 26,
     "metadata": {},
     "output_type": "execute_result"
    },
    {
     "data": {
      "image/png": "[encoded data removed]",
      "text/plain": [
       "<Figure size 432x288 with 1 Axes>"
      ]
     },
     "metadata": {
      "needs_background": "light"
     },
     "output_type": "display_data"
    }
   ],
   "source": [
    "rsquare = []\n",
    "for i in range(10):\n",
    "    X_train, X_test, Y_train, Y_test = train_test_split(X, Y, test_size=0.2, random_state = random.randint(1,1000))\n",
    "    model = svm.SVC()\n",
    "    model.fit(X_train, Y_train)\n",
    "    Y_pred = model.predict(X_test)\n",
    "    rsquare.append(metrics.r2_score(Y_test, Y_pred))\n",
    "    \n",
    "rdf = pd.DataFrame( {'trial': range(10), 'Rsquare': rsquare})\n",
    "rdf.plot.bar(x='trial', y='Rsquare')"
   ]
  },
  {
   "cell_type": "markdown",
   "metadata": {},
   "source": [
    "### Question 3. Now use rbf as your kernel along with different value for Gamma and C"
   ]
  },
  {
   "cell_type": "code",
   "execution_count": 27,
   "metadata": {},
   "outputs": [],
   "source": [
    "gammas = [2**5, 2**-5]\n",
    "c_s = [10, 100, 1000]"
   ]
  },
  {
   "cell_type": "code",
   "execution_count": 30,
   "metadata": {
    "scrolled": true
   },
   "outputs": [
    {
     "name": "stdout",
     "output_type": "stream",
     "text": [
      "---------------------------------------\n",
      "c: 10\\tgamma: 32\n",
      "\n",
      "[[757 119]\n",
      " [244 154]]\n",
      "              precision    recall  f1-score   support\n",
      "\n",
      "           0       0.76      0.86      0.81       876\n",
      "           1       0.56      0.39      0.46       398\n",
      "\n",
      "    accuracy                           0.72      1274\n",
      "   macro avg       0.66      0.63      0.63      1274\n",
      "weighted avg       0.70      0.72      0.70      1274\n",
      "\n",
      "Mean Absolute Error: 0.28492935635792777\n",
      "Mean Squared Error: 0.28492935635792777\n",
      "Root Mean Squared Error: 0.5337877446681666\n",
      "R-squared: -0.32644386315137286\n",
      "---------------------------------------\n",
      "c: 100\\tgamma: 32\n",
      "\n",
      "[[791  95]\n",
      " [248 140]]\n",
      "              precision    recall  f1-score   support\n",
      "\n",
      "           0       0.76      0.89      0.82       886\n",
      "           1       0.60      0.36      0.45       388\n",
      "\n",
      "    accuracy                           0.73      1274\n",
      "   macro avg       0.68      0.63      0.64      1274\n",
      "weighted avg       0.71      0.73      0.71      1274\n",
      "\n",
      "Mean Absolute Error: 0.2692307692307692\n",
      "Mean Squared Error: 0.2692307692307692\n",
      "Root Mean Squared Error: 0.5188745216627708\n",
      "R-squared: -0.2711538014009449\n",
      "---------------------------------------\n",
      "c: 1000\\tgamma: 32\n",
      "\n",
      "[[748 108]\n",
      " [288 130]]\n",
      "              precision    recall  f1-score   support\n",
      "\n",
      "           0       0.72      0.87      0.79       856\n",
      "           1       0.55      0.31      0.40       418\n",
      "\n",
      "    accuracy                           0.69      1274\n",
      "   macro avg       0.63      0.59      0.59      1274\n",
      "weighted avg       0.66      0.69      0.66      1274\n",
      "\n",
      "Mean Absolute Error: 0.3108320251177394\n",
      "Mean Squared Error: 0.3108320251177394\n",
      "Root Mean Squared Error: 0.5575231162182779\n",
      "R-squared: -0.4099852434825382\n",
      "---------------------------------------\n",
      "c: 10\\tgamma: 0.03125\n",
      "\n",
      "[[814  36]\n",
      " [354  70]]\n",
      "              precision    recall  f1-score   support\n",
      "\n",
      "           0       0.70      0.96      0.81       850\n",
      "           1       0.66      0.17      0.26       424\n",
      "\n",
      "    accuracy                           0.69      1274\n",
      "   macro avg       0.68      0.56      0.54      1274\n",
      "weighted avg       0.68      0.69      0.63      1274\n",
      "\n",
      "Mean Absolute Error: 0.30612244897959184\n",
      "Mean Squared Error: 0.30612244897959184\n",
      "Root Mean Squared Error: 0.5532833351724882\n",
      "R-squared: -0.3786348501664816\n",
      "---------------------------------------\n",
      "c: 100\\tgamma: 0.03125\n",
      "\n",
      "[[731 128]\n",
      " [257 158]]\n",
      "              precision    recall  f1-score   support\n",
      "\n",
      "           0       0.74      0.85      0.79       859\n",
      "           1       0.55      0.38      0.45       415\n",
      "\n",
      "    accuracy                           0.70      1274\n",
      "   macro avg       0.65      0.62      0.62      1274\n",
      "weighted avg       0.68      0.70      0.68      1274\n",
      "\n",
      "Mean Absolute Error: 0.3021978021978022\n",
      "Mean Squared Error: 0.3021978021978022\n",
      "Root Mean Squared Error: 0.5497252060782752\n",
      "R-squared: -0.3759064196249493\n",
      "---------------------------------------\n",
      "c: 1000\\tgamma: 0.03125\n",
      "\n",
      "[[760 118]\n",
      " [236 160]]\n",
      "              precision    recall  f1-score   support\n",
      "\n",
      "           0       0.76      0.87      0.81       878\n",
      "           1       0.58      0.40      0.47       396\n",
      "\n",
      "    accuracy                           0.72      1274\n",
      "   macro avg       0.67      0.63      0.64      1274\n",
      "weighted avg       0.70      0.72      0.71      1274\n",
      "\n",
      "Mean Absolute Error: 0.2778649921507064\n",
      "Mean Squared Error: 0.2778649921507064\n",
      "Root Mean Squared Error: 0.5271290090202838\n",
      "R-squared: -0.2971284599986195\n"
     ]
    },
    {
     "data": {
      "image/png": "[encoded data removed]",
      "text/plain": [
       "<Figure size 432x288 with 1 Axes>"
      ]
     },
     "metadata": {
      "needs_background": "light"
     },
     "output_type": "display_data"
    },
    {
     "data": {
      "image/png": "[encoded data removed]",
      "text/plain": [
       "<Figure size 432x288 with 1 Axes>"
      ]
     },
     "metadata": {
      "needs_background": "light"
     },
     "output_type": "display_data"
    },
    {
     "data": {
      "image/png": "[encoded data removed]",
      "text/plain": [
       "<Figure size 432x288 with 1 Axes>"
      ]
     },
     "metadata": {
      "needs_background": "light"
     },
     "output_type": "display_data"
    },
    {
     "data": {
      "image/png": "[encoded data removed]",
      "text/plain": [
       "<Figure size 432x288 with 1 Axes>"
      ]
     },
     "metadata": {
      "needs_background": "light"
     },
     "output_type": "display_data"
    },
    {
     "data": {
      "image/png": "[encoded data removed]",
      "text/plain": [
       "<Figure size 432x288 with 1 Axes>"
      ]
     },
     "metadata": {
      "needs_background": "light"
     },
     "output_type": "display_data"
    },
    {
     "data": {
      "image/png": "[encoded data removed]",
      "text/plain": [
       "<Figure size 432x288 with 1 Axes>"
      ]
     },
     "metadata": {
      "needs_background": "light"
     },
     "output_type": "display_data"
    }
   ],
   "source": [
    "for g in gammas:\n",
    "    for c in c_s:\n",
    "        svc = svm.SVC(kernel='rbf', probability=True, C=c, gamma=g)\n",
    "        svc.fit(X_train, Y_train)\n",
    "        Y_pred = svc.predict(X_test)\n",
    "        model.score(X_test, Y_test)\n",
    "        print('---------------------------------------')\n",
    "        print('c: ' + str(c) + '\\\\t' + 'gamma: ' +str(g) + '\\n')\n",
    "        model.score(X_test, Y_test)\n",
    "        print(confusion_matrix(Y_test, Y_pred))\n",
    "        print(classification_report(Y_test,Y_pred))\n",
    "        print('Mean Absolute Error:', metrics.mean_absolute_error(Y_test, Y_pred))\n",
    "        print('Mean Squared Error:', metrics.mean_squared_error(Y_test, Y_pred))\n",
    "        print('Root Mean Squared Error:', np.sqrt(metrics.mean_squared_error(Y_test, Y_pred)))\n",
    "        print('R-squared:', metrics.r2_score(Y_test, Y_pred))\n",
    "        rsquare = []\n",
    "        for i in range(10):\n",
    "            X_train, X_test, Y_train, Y_test = train_test_split(X, Y, test_size=0.2, random_state = random.randint(1,1000))\n",
    "            model = svm.SVC()\n",
    "            model.fit(X_train, Y_train)\n",
    "            Y_pred = model.predict(X_test)\n",
    "            rsquare.append(metrics.r2_score(Y_test, Y_pred))\n",
    "    \n",
    "        rdf = pd.DataFrame( {'trial': range(10), 'Rsquare': rsquare})\n",
    "        rdf.plot.bar(x='trial', y='Rsquare')"
   ]
  },
  {
   "cell_type": "markdown",
   "metadata": {},
   "source": [
    "### Question 4. So out of all the models you try in Question 2 and 3, what is the best choice for the kernel, C and gamma parameters? Comment on the effect of using different C and Gamma parameters"
   ]
  },
  {
   "cell_type": "markdown",
   "metadata": {},
   "source": [
    "Type your answer and code here"
   ]
  },
  {
   "cell_type": "markdown",
   "metadata": {},
   "source": [
    "# Now we will try to fit the same dataset with Decision Trees"
   ]
  },
  {
   "cell_type": "markdown",
   "metadata": {},
   "source": [
    "### Question 5. Build a Decision Tree Classifier using default parameter"
   ]
  },
  {
   "cell_type": "code",
   "execution_count": 31,
   "metadata": {},
   "outputs": [
    {
     "data": {
      "text/plain": [
       "DecisionTreeClassifier()"
      ]
     },
     "execution_count": 31,
     "metadata": {},
     "output_type": "execute_result"
    }
   ],
   "source": [
    "model = DecisionTreeClassifier()\n",
    "model.fit(X_train,Y_train)"
   ]
  },
  {
   "cell_type": "code",
   "execution_count": 32,
   "metadata": {},
   "outputs": [
    {
     "name": "stdout",
     "output_type": "stream",
     "text": [
      "[[739 111]\n",
      " [270 154]]\n",
      "              precision    recall  f1-score   support\n",
      "\n",
      "           0       0.73      0.87      0.80       850\n",
      "           1       0.58      0.36      0.45       424\n",
      "\n",
      "    accuracy                           0.70      1274\n",
      "   macro avg       0.66      0.62      0.62      1274\n",
      "weighted avg       0.68      0.70      0.68      1274\n",
      "\n",
      "0.7009419152276295\n"
     ]
    }
   ],
   "source": [
    "predictions = model.predict(X_test)\n",
    "print(confusion_matrix(Y_test,predictions))\n",
    "print(classification_report(Y_test,predictions))\n",
    "print(accuracy_score(Y_test, predictions))"
   ]
  },
  {
   "cell_type": "code",
   "execution_count": 33,
   "metadata": {},
   "outputs": [
    {
     "data": {
      "text/plain": [
       "[Text(176.47673841059603, 208.38, 'X[0] <= 3.5\\ngini = 0.435\\nsamples = 5092\\nvalue = [3463, 1629]'),\n",
       " Text(85.08576158940397, 190.26, 'X[0] <= 1.5\\ngini = 0.487\\nsamples = 1146\\nvalue = [480, 666]'),\n",
       " Text(32.42682119205298, 172.14, 'X[2] <= 0.5\\ngini = 0.365\\nsamples = 79\\nvalue = [19, 60]'),\n",
       " Text(22.726490066225164, 154.01999999999998, 'X[1] <= 15.0\\ngini = 0.299\\nsamples = 60\\nvalue = [11, 49]'),\n",
       " Text(14.411920529801325, 135.89999999999998, 'X[4] <= 0.5\\ngini = 0.24\\nsamples = 43\\nvalue = [6, 37]'),\n",
       " Text(8.86887417218543, 117.77999999999999, 'X[1] <= 13.0\\ngini = 0.251\\nsamples = 34\\nvalue = [5, 29]'),\n",
       " Text(4.434437086092715, 99.66, 'X[3] <= 0.5\\ngini = 0.278\\nsamples = 18\\nvalue = [3, 15]'),\n",
       " Text(2.2172185430463576, 81.53999999999999, 'gini = 0.0\\nsamples = 2\\nvalue = [0, 2]'),\n",
       " Text(6.651655629139073, 81.53999999999999, 'gini = 0.305\\nsamples = 16\\nvalue = [3, 13]'),\n",
       " Text(13.303311258278146, 99.66, 'X[3] <= 0.5\\ngini = 0.219\\nsamples = 16\\nvalue = [2, 14]'),\n",
       " Text(11.086092715231787, 81.53999999999999, 'gini = 0.375\\nsamples = 4\\nvalue = [1, 3]'),\n",
       " Text(15.520529801324503, 81.53999999999999, 'gini = 0.153\\nsamples = 12\\nvalue = [1, 11]'),\n",
       " Text(19.954966887417218, 117.77999999999999, 'X[1] <= 13.0\\ngini = 0.198\\nsamples = 9\\nvalue = [1, 8]'),\n",
       " Text(17.73774834437086, 99.66, 'gini = 0.0\\nsamples = 3\\nvalue = [0, 3]'),\n",
       " Text(22.172185430463575, 99.66, 'gini = 0.278\\nsamples = 6\\nvalue = [1, 5]'),\n",
       " Text(31.041059602649007, 135.89999999999998, 'X[3] <= 0.5\\ngini = 0.415\\nsamples = 17\\nvalue = [5, 12]'),\n",
       " Text(28.82384105960265, 117.77999999999999, 'X[4] <= 0.5\\ngini = 0.391\\nsamples = 15\\nvalue = [4, 11]'),\n",
       " Text(26.606622516556293, 99.66, 'gini = 0.0\\nsamples = 1\\nvalue = [0, 1]'),\n",
       " Text(31.041059602649007, 99.66, 'X[1] <= 16.5\\ngini = 0.408\\nsamples = 14\\nvalue = [4, 10]'),\n",
       " Text(28.82384105960265, 81.53999999999999, 'gini = 0.375\\nsamples = 4\\nvalue = [1, 3]'),\n",
       " Text(33.258278145695364, 81.53999999999999, 'X[1] <= 18.5\\ngini = 0.42\\nsamples = 10\\nvalue = [3, 7]'),\n",
       " Text(31.041059602649007, 63.41999999999999, 'gini = 0.444\\nsamples = 6\\nvalue = [2, 4]'),\n",
       " Text(35.47549668874172, 63.41999999999999, 'gini = 0.375\\nsamples = 4\\nvalue = [1, 3]'),\n",
       " Text(33.258278145695364, 117.77999999999999, 'gini = 0.5\\nsamples = 2\\nvalue = [1, 1]'),\n",
       " Text(42.12715231788079, 154.01999999999998, 'X[1] <= 15.5\\ngini = 0.488\\nsamples = 19\\nvalue = [8, 11]'),\n",
       " Text(39.909933774834435, 135.89999999999998, 'X[1] <= 10.5\\ngini = 0.475\\nsamples = 18\\nvalue = [7, 11]'),\n",
       " Text(37.69271523178808, 117.77999999999999, 'gini = 0.444\\nsamples = 3\\nvalue = [1, 2]'),\n",
       " Text(42.12715231788079, 117.77999999999999, 'X[1] <= 13.0\\ngini = 0.48\\nsamples = 15\\nvalue = [6, 9]'),\n",
       " Text(39.909933774834435, 99.66, 'gini = 0.486\\nsamples = 12\\nvalue = [5, 7]'),\n",
       " Text(44.34437086092715, 99.66, 'gini = 0.444\\nsamples = 3\\nvalue = [1, 2]'),\n",
       " Text(44.34437086092715, 135.89999999999998, 'gini = 0.0\\nsamples = 1\\nvalue = [1, 0]'),\n",
       " Text(137.74470198675496, 172.14, 'X[5] <= 0.5\\ngini = 0.491\\nsamples = 1067\\nvalue = [461, 606]'),\n",
       " Text(106.42649006622517, 154.01999999999998, 'X[3] <= 0.5\\ngini = 0.494\\nsamples = 931\\nvalue = [414, 517]'),\n",
       " Text(74.27682119205298, 135.89999999999998, 'X[0] <= 2.5\\ngini = 0.5\\nsamples = 415\\nvalue = [201, 214]'),\n",
       " Text(54.87615894039735, 117.77999999999999, 'X[6] <= 0.5\\ngini = 0.471\\nsamples = 103\\nvalue = [39, 64]'),\n",
       " Text(48.778807947019864, 99.66, 'X[1] <= 13.0\\ngini = 0.477\\nsamples = 97\\nvalue = [38, 59]'),\n",
       " Text(43.23576158940397, 81.53999999999999, 'X[4] <= 0.5\\ngini = 0.493\\nsamples = 25\\nvalue = [11, 14]'),\n",
       " Text(41.018543046357614, 63.41999999999999, 'gini = 0.495\\nsamples = 20\\nvalue = [9, 11]'),\n",
       " Text(45.45298013245033, 63.41999999999999, 'gini = 0.48\\nsamples = 5\\nvalue = [2, 3]'),\n",
       " Text(54.321854304635764, 81.53999999999999, 'X[4] <= 0.5\\ngini = 0.469\\nsamples = 72\\nvalue = [27, 45]'),\n",
       " Text(49.88741721854304, 63.41999999999999, 'X[1] <= 16.5\\ngini = 0.388\\nsamples = 19\\nvalue = [5, 14]'),\n",
       " Text(47.670198675496685, 45.29999999999998, 'X[1] <= 15.0\\ngini = 0.43\\nsamples = 16\\nvalue = [5, 11]'),\n",
       " Text(45.45298013245033, 27.17999999999998, 'gini = 0.355\\nsamples = 13\\nvalue = [3, 10]'),\n",
       " Text(49.88741721854304, 27.17999999999998, 'gini = 0.444\\nsamples = 3\\nvalue = [2, 1]'),\n",
       " Text(52.1046357615894, 45.29999999999998, 'gini = 0.0\\nsamples = 3\\nvalue = [0, 3]'),\n",
       " Text(58.75629139072848, 63.41999999999999, 'X[1] <= 15.0\\ngini = 0.486\\nsamples = 53\\nvalue = [22, 31]'),\n",
       " Text(56.53907284768212, 45.29999999999998, 'gini = 0.475\\nsamples = 18\\nvalue = [7, 11]'),\n",
       " Text(60.973509933774835, 45.29999999999998, 'X[1] <= 18.5\\ngini = 0.49\\nsamples = 35\\nvalue = [15, 20]'),\n",
       " Text(58.75629139072848, 27.17999999999998, 'X[1] <= 16.5\\ngini = 0.488\\nsamples = 26\\nvalue = [11, 15]'),\n",
       " Text(56.53907284768212, 9.059999999999974, 'gini = 0.49\\nsamples = 21\\nvalue = [9, 12]'),\n",
       " Text(60.973509933774835, 9.059999999999974, 'gini = 0.48\\nsamples = 5\\nvalue = [2, 3]'),\n",
       " Text(63.19072847682119, 27.17999999999998, 'gini = 0.494\\nsamples = 9\\nvalue = [4, 5]'),\n",
       " Text(60.973509933774835, 99.66, 'X[1] <= 18.0\\ngini = 0.278\\nsamples = 6\\nvalue = [1, 5]'),\n",
       " Text(58.75629139072848, 81.53999999999999, 'gini = 0.0\\nsamples = 2\\nvalue = [0, 2]'),\n",
       " Text(63.19072847682119, 81.53999999999999, 'gini = 0.375\\nsamples = 4\\nvalue = [1, 3]'),\n",
       " Text(93.67748344370861, 117.77999999999999, 'X[4] <= 0.5\\ngini = 0.499\\nsamples = 312\\nvalue = [162, 150]'),\n",
       " Text(80.92847682119205, 99.66, 'X[1] <= 16.5\\ngini = 0.495\\nsamples = 125\\nvalue = [69, 56]'),\n",
       " Text(72.05960264900662, 81.53999999999999, 'X[2] <= 0.5\\ngini = 0.498\\nsamples = 106\\nvalue = [56, 50]'),\n",
       " Text(67.6251655629139, 63.41999999999999, 'X[1] <= 15.0\\ngini = 0.408\\nsamples = 7\\nvalue = [5, 2]'),\n",
       " Text(65.40794701986755, 45.29999999999998, 'gini = 0.0\\nsamples = 3\\nvalue = [3, 0]'),\n",
       " Text(69.84238410596026, 45.29999999999998, 'X[6] <= 0.5\\ngini = 0.5\\nsamples = 4\\nvalue = [2, 2]'),\n",
       " Text(67.6251655629139, 27.17999999999998, 'gini = 0.0\\nsamples = 1\\nvalue = [1, 0]'),\n",
       " Text(72.05960264900662, 27.17999999999998, 'gini = 0.444\\nsamples = 3\\nvalue = [1, 2]'),\n",
       " Text(76.49403973509934, 63.41999999999999, 'X[1] <= 10.5\\ngini = 0.5\\nsamples = 99\\nvalue = [51, 48]'),\n",
       " Text(74.27682119205298, 45.29999999999998, 'gini = 0.49\\nsamples = 7\\nvalue = [4, 3]'),\n",
       " Text(78.71125827814569, 45.29999999999998, 'X[1] <= 13.0\\ngini = 0.5\\nsamples = 92\\nvalue = [47, 45]'),\n",
       " Text(76.49403973509934, 27.17999999999998, 'gini = 0.5\\nsamples = 60\\nvalue = [30, 30]'),\n",
       " Text(80.92847682119205, 27.17999999999998, 'X[1] <= 15.0\\ngini = 0.498\\nsamples = 32\\nvalue = [17, 15]'),\n",
       " Text(78.71125827814569, 9.059999999999974, 'gini = 0.497\\nsamples = 28\\nvalue = [15, 13]'),\n",
       " Text(83.1456953642384, 9.059999999999974, 'gini = 0.5\\nsamples = 4\\nvalue = [2, 2]'),\n",
       " Text(89.79735099337748, 81.53999999999999, 'X[1] <= 18.5\\ngini = 0.432\\nsamples = 19\\nvalue = [13, 6]'),\n",
       " Text(85.36291390728476, 63.41999999999999, 'X[2] <= 0.5\\ngini = 0.32\\nsamples = 10\\nvalue = [8, 2]'),\n",
       " Text(83.1456953642384, 45.29999999999998, 'gini = 0.0\\nsamples = 3\\nvalue = [3, 0]'),\n",
       " Text(87.58013245033112, 45.29999999999998, 'gini = 0.408\\nsamples = 7\\nvalue = [5, 2]'),\n",
       " Text(94.23178807947019, 63.41999999999999, 'X[6] <= 0.5\\ngini = 0.494\\nsamples = 9\\nvalue = [5, 4]'),\n",
       " Text(92.01456953642383, 45.29999999999998, 'gini = 0.0\\nsamples = 1\\nvalue = [1, 0]'),\n",
       " Text(96.44900662251655, 45.29999999999998, 'gini = 0.5\\nsamples = 8\\nvalue = [4, 4]'),\n",
       " Text(106.42649006622517, 99.66, 'X[1] <= 13.0\\ngini = 0.5\\nsamples = 187\\nvalue = [93, 94]'),\n",
       " Text(100.88344370860926, 81.53999999999999, 'X[1] <= 10.5\\ngini = 0.476\\nsamples = 23\\nvalue = [9, 14]'),\n",
       " Text(98.6662251655629, 63.41999999999999, 'gini = 0.5\\nsamples = 2\\nvalue = [1, 1]'),\n",
       " Text(103.10066225165562, 63.41999999999999, 'gini = 0.472\\nsamples = 21\\nvalue = [8, 13]'),\n",
       " Text(111.96953642384106, 81.53999999999999, 'X[1] <= 16.5\\ngini = 0.5\\nsamples = 164\\nvalue = [84, 80]'),\n",
       " Text(107.53509933774835, 63.41999999999999, 'X[1] <= 15.0\\ngini = 0.496\\nsamples = 103\\nvalue = [56, 47]'),\n",
       " Text(105.31788079470198, 45.29999999999998, 'gini = 0.499\\nsamples = 42\\nvalue = [20, 22]'),\n",
       " Text(109.7523178807947, 45.29999999999998, 'gini = 0.484\\nsamples = 61\\nvalue = [36, 25]'),\n",
       " Text(116.40397350993378, 63.41999999999999, 'X[1] <= 18.5\\ngini = 0.497\\nsamples = 61\\nvalue = [28, 33]'),\n",
       " Text(114.18675496688742, 45.29999999999998, 'gini = 0.498\\nsamples = 34\\nvalue = [16, 18]'),\n",
       " Text(118.62119205298013, 45.29999999999998, 'gini = 0.494\\nsamples = 27\\nvalue = [12, 15]'),\n",
       " Text(138.57615894039733, 135.89999999999998, 'X[1] <= 18.5\\ngini = 0.485\\nsamples = 516\\nvalue = [213, 303]'),\n",
       " Text(136.35894039735098, 117.77999999999999, 'X[1] <= 15.0\\ngini = 0.485\\nsamples = 515\\nvalue = [213, 302]'),\n",
       " Text(127.49006622516556, 99.66, 'X[1] <= 10.5\\ngini = 0.486\\nsamples = 470\\nvalue = [196, 274]'),\n",
       " Text(125.2728476821192, 81.53999999999999, 'gini = 0.444\\nsamples = 3\\nvalue = [1, 2]'),\n",
       " Text(129.7072847682119, 81.53999999999999, 'X[1] <= 13.0\\ngini = 0.486\\nsamples = 467\\nvalue = [195, 272]'),\n",
       " Text(125.2728476821192, 63.41999999999999, 'X[0] <= 2.5\\ngini = 0.488\\nsamples = 230\\nvalue = [97, 133]'),\n",
       " Text(123.05562913907285, 45.29999999999998, 'gini = 0.473\\nsamples = 65\\nvalue = [25, 40]'),\n",
       " Text(127.49006622516556, 45.29999999999998, 'gini = 0.492\\nsamples = 165\\nvalue = [72, 93]'),\n",
       " Text(134.14172185430462, 63.41999999999999, 'X[0] <= 2.5\\ngini = 0.485\\nsamples = 237\\nvalue = [98, 139]'),\n",
       " Text(131.92450331125826, 45.29999999999998, 'gini = 0.493\\nsamples = 68\\nvalue = [30, 38]'),\n",
       " Text(136.35894039735098, 45.29999999999998, 'gini = 0.481\\nsamples = 169\\nvalue = [68, 101]'),\n",
       " Text(145.22781456953643, 99.66, 'X[0] <= 2.5\\ngini = 0.47\\nsamples = 45\\nvalue = [17, 28]'),\n",
       " Text(140.7933774834437, 81.53999999999999, 'X[1] <= 16.5\\ngini = 0.346\\nsamples = 9\\nvalue = [2, 7]'),\n",
       " Text(138.57615894039733, 63.41999999999999, 'gini = 0.278\\nsamples = 6\\nvalue = [1, 5]'),\n",
       " Text(143.01059602649008, 63.41999999999999, 'gini = 0.444\\nsamples = 3\\nvalue = [1, 2]'),\n",
       " Text(149.66225165562915, 81.53999999999999, 'X[1] <= 16.5\\ngini = 0.486\\nsamples = 36\\nvalue = [15, 21]'),\n",
       " Text(147.4450331125828, 63.41999999999999, 'gini = 0.482\\nsamples = 32\\nvalue = [13, 19]'),\n",
       " Text(151.8794701986755, 63.41999999999999, 'gini = 0.5\\nsamples = 4\\nvalue = [2, 2]'),\n",
       " Text(140.7933774834437, 117.77999999999999, 'gini = 0.0\\nsamples = 1\\nvalue = [0, 1]'),\n",
       " Text(169.06291390728475, 154.01999999999998, 'X[1] <= 16.5\\ngini = 0.452\\nsamples = 136\\nvalue = [47, 89]'),\n",
       " Text(161.8569536423841, 135.89999999999998, 'X[1] <= 13.0\\ngini = 0.435\\nsamples = 125\\nvalue = [40, 85]'),\n",
       " Text(154.09668874172186, 117.77999999999999, 'X[1] <= 10.5\\ngini = 0.397\\nsamples = 44\\nvalue = [12, 32]'),\n",
       " Text(151.8794701986755, 99.66, 'gini = 0.5\\nsamples = 2\\nvalue = [1, 1]'),\n",
       " Text(156.31390728476822, 99.66, 'X[0] <= 2.5\\ngini = 0.387\\nsamples = 42\\nvalue = [11, 31]'),\n",
       " Text(154.09668874172186, 81.53999999999999, 'gini = 0.397\\nsamples = 11\\nvalue = [3, 8]'),\n",
       " Text(158.53112582781458, 81.53999999999999, 'gini = 0.383\\nsamples = 31\\nvalue = [8, 23]'),\n",
       " Text(169.61721854304636, 117.77999999999999, 'X[1] <= 15.0\\ngini = 0.452\\nsamples = 81\\nvalue = [28, 53]'),\n",
       " Text(165.18278145695365, 99.66, 'X[0] <= 2.5\\ngini = 0.448\\nsamples = 62\\nvalue = [21, 41]'),\n",
       " Text(162.9655629139073, 81.53999999999999, 'gini = 0.473\\nsamples = 13\\nvalue = [5, 8]'),\n",
       " Text(167.4, 81.53999999999999, 'gini = 0.44\\nsamples = 49\\nvalue = [16, 33]'),\n",
       " Text(174.05165562913908, 99.66, 'X[0] <= 2.5\\ngini = 0.465\\nsamples = 19\\nvalue = [7, 12]'),\n",
       " Text(171.83443708609272, 81.53999999999999, 'gini = 0.0\\nsamples = 2\\nvalue = [0, 2]'),\n",
       " Text(176.26887417218543, 81.53999999999999, 'gini = 0.484\\nsamples = 17\\nvalue = [7, 10]'),\n",
       " Text(176.26887417218543, 135.89999999999998, 'X[1] <= 18.5\\ngini = 0.463\\nsamples = 11\\nvalue = [7, 4]'),\n",
       " Text(174.05165562913908, 117.77999999999999, 'gini = 0.48\\nsamples = 10\\nvalue = [6, 4]'),\n",
       " Text(178.4860927152318, 117.77999999999999, 'gini = 0.0\\nsamples = 1\\nvalue = [1, 0]'),\n",
       " Text(267.86771523178805, 190.26, 'X[0] <= 4.5\\ngini = 0.369\\nsamples = 3946\\nvalue = [2983, 963]'),\n",
       " Text(235.2330298013245, 172.14, 'X[5] <= 0.5\\ngini = 0.439\\nsamples = 1798\\nvalue = [1214, 584]'),\n",
       " Text(213.26870860927153, 154.01999999999998, 'X[1] <= 15.0\\ngini = 0.426\\nsamples = 1587\\nvalue = [1098, 489]'),\n",
       " Text(192.8980132450331, 135.89999999999998, 'X[2] <= 0.5\\ngini = 0.443\\nsamples = 1122\\nvalue = [750, 372]'),\n",
       " Text(187.35496688741722, 117.77999999999999, 'X[1] <= 10.5\\ngini = 0.452\\nsamples = 906\\nvalue = [593, 313]'),\n",
       " Text(182.9205298013245, 99.66, 'X[4] <= 0.5\\ngini = 0.49\\nsamples = 7\\nvalue = [3, 4]'),\n",
       " Text(180.70331125827815, 81.53999999999999, 'gini = 0.5\\nsamples = 4\\nvalue = [2, 2]'),\n",
       " Text(185.13774834437086, 81.53999999999999, 'gini = 0.444\\nsamples = 3\\nvalue = [1, 2]'),\n",
       " Text(191.78940397350993, 99.66, 'X[6] <= 0.5\\ngini = 0.451\\nsamples = 899\\nvalue = [590, 309]'),\n",
       " Text(189.57218543046358, 81.53999999999999, 'X[4] <= 0.5\\ngini = 0.45\\nsamples = 894\\nvalue = [588, 306]'),\n",
       " Text(184.02913907284767, 63.41999999999999, 'X[1] <= 13.0\\ngini = 0.454\\nsamples = 721\\nvalue = [470, 251]'),\n",
       " Text(179.59470198675496, 45.29999999999998, 'X[3] <= 0.5\\ngini = 0.458\\nsamples = 343\\nvalue = [221, 122]'),\n",
       " Text(177.3774834437086, 27.17999999999998, 'gini = 0.0\\nsamples = 1\\nvalue = [0, 1]'),\n",
       " Text(181.8119205298013, 27.17999999999998, 'gini = 0.457\\nsamples = 342\\nvalue = [221, 121]'),\n",
       " Text(188.46357615894038, 45.29999999999998, 'X[3] <= 0.5\\ngini = 0.45\\nsamples = 378\\nvalue = [249, 129]'),\n",
       " Text(186.24635761589403, 27.17999999999998, 'gini = 0.375\\nsamples = 8\\nvalue = [6, 2]'),\n",
       " Text(190.68079470198674, 27.17999999999998, 'gini = 0.451\\nsamples = 370\\nvalue = [243, 127]'),\n",
       " Text(195.11523178807946, 63.41999999999999, 'X[1] <= 13.0\\ngini = 0.434\\nsamples = 173\\nvalue = [118, 55]'),\n",
       " Text(192.8980132450331, 45.29999999999998, 'gini = 0.459\\nsamples = 42\\nvalue = [27, 15]'),\n",
       " Text(197.3324503311258, 45.29999999999998, 'gini = 0.424\\nsamples = 131\\nvalue = [91, 40]'),\n",
       " Text(194.0066225165563, 81.53999999999999, 'gini = 0.48\\nsamples = 5\\nvalue = [2, 3]'),\n",
       " Text(198.441059602649, 117.77999999999999, 'X[1] <= 10.5\\ngini = 0.397\\nsamples = 216\\nvalue = [157, 59]'),\n",
       " Text(196.22384105960265, 99.66, 'gini = 0.245\\nsamples = 7\\nvalue = [6, 1]'),\n",
       " Text(200.65827814569536, 99.66, 'X[1] <= 13.0\\ngini = 0.401\\nsamples = 209\\nvalue = [151, 58]'),\n",
       " Text(198.441059602649, 81.53999999999999, 'gini = 0.404\\nsamples = 135\\nvalue = [97, 38]'),\n",
       " Text(202.87549668874172, 81.53999999999999, 'gini = 0.394\\nsamples = 74\\nvalue = [54, 20]'),\n",
       " Text(233.63940397350993, 135.89999999999998, 'X[6] <= 0.5\\ngini = 0.377\\nsamples = 465\\nvalue = [348, 117]'),\n",
       " Text(225.60198675496687, 117.77999999999999, 'X[3] <= 0.5\\ngini = 0.368\\nsamples = 445\\nvalue = [337, 108]'),\n",
       " Text(216.17880794701986, 99.66, 'X[1] <= 18.5\\ngini = 0.357\\nsamples = 370\\nvalue = [284, 86]'),\n",
       " Text(208.4185430463576, 81.53999999999999, 'X[4] <= 0.5\\ngini = 0.363\\nsamples = 310\\nvalue = [236, 74]'),\n",
       " Text(203.98410596026488, 63.41999999999999, 'X[1] <= 16.5\\ngini = 0.332\\nsamples = 19\\nvalue = [15, 4]'),\n",
       " Text(201.76688741721853, 45.29999999999998, 'gini = 0.426\\nsamples = 13\\nvalue = [9, 4]'),\n",
       " Text(206.20132450331124, 45.29999999999998, 'gini = 0.0\\nsamples = 6\\nvalue = [6, 0]'),\n",
       " Text(212.85298013245034, 63.41999999999999, 'X[1] <= 16.5\\ngini = 0.365\\nsamples = 291\\nvalue = [221, 70]'),\n",
       " Text(210.63576158940396, 45.29999999999998, 'gini = 0.357\\nsamples = 185\\nvalue = [142, 43]'),\n",
       " Text(215.0701986754967, 45.29999999999998, 'gini = 0.38\\nsamples = 106\\nvalue = [79, 27]'),\n",
       " Text(223.93907284768213, 81.53999999999999, 'X[2] <= 0.5\\ngini = 0.32\\nsamples = 60\\nvalue = [48, 12]'),\n",
       " Text(221.72185430463577, 63.41999999999999, 'X[4] <= 0.5\\ngini = 0.293\\nsamples = 56\\nvalue = [46, 10]'),\n",
       " Text(219.5046357615894, 45.29999999999998, 'gini = 0.0\\nsamples = 1\\nvalue = [1, 0]'),\n",
       " Text(223.93907284768213, 45.29999999999998, 'gini = 0.298\\nsamples = 55\\nvalue = [45, 10]'),\n",
       " Text(226.15629139072848, 63.41999999999999, 'gini = 0.5\\nsamples = 4\\nvalue = [2, 2]'),\n",
       " Text(235.0251655629139, 99.66, 'X[1] <= 18.5\\ngini = 0.415\\nsamples = 75\\nvalue = [53, 22]'),\n",
       " Text(232.80794701986756, 81.53999999999999, 'X[1] <= 16.5\\ngini = 0.398\\nsamples = 73\\nvalue = [53, 20]'),\n",
       " Text(230.5907284768212, 63.41999999999999, 'gini = 0.375\\nsamples = 64\\nvalue = [48, 16]'),\n",
       " Text(235.0251655629139, 63.41999999999999, 'gini = 0.494\\nsamples = 9\\nvalue = [5, 4]'),\n",
       " Text(237.24238410596027, 81.53999999999999, 'gini = 0.0\\nsamples = 2\\nvalue = [0, 2]'),\n",
       " Text(241.67682119205298, 117.77999999999999, 'X[1] <= 16.5\\ngini = 0.495\\nsamples = 20\\nvalue = [11, 9]'),\n",
       " Text(239.45960264900663, 99.66, 'gini = 0.0\\nsamples = 1\\nvalue = [0, 1]'),\n",
       " Text(243.89403973509934, 99.66, 'X[1] <= 18.5\\ngini = 0.488\\nsamples = 19\\nvalue = [11, 8]'),\n",
       " Text(241.67682119205298, 81.53999999999999, 'gini = 0.5\\nsamples = 4\\nvalue = [2, 2]'),\n",
       " Text(246.1112582781457, 81.53999999999999, 'gini = 0.48\\nsamples = 15\\nvalue = [9, 6]'),\n",
       " Text(257.1973509933775, 154.01999999999998, 'X[1] <= 15.0\\ngini = 0.495\\nsamples = 211\\nvalue = [116, 95]'),\n",
       " Text(252.76291390728477, 135.89999999999998, 'X[1] <= 13.0\\ngini = 0.5\\nsamples = 153\\nvalue = [75, 78]'),\n",
       " Text(250.5456953642384, 117.77999999999999, 'X[1] <= 10.5\\ngini = 0.499\\nsamples = 59\\nvalue = [28, 31]'),\n",
       " Text(248.32847682119206, 99.66, 'gini = 0.5\\nsamples = 2\\nvalue = [1, 1]'),\n",
       " Text(252.76291390728477, 99.66, 'gini = 0.499\\nsamples = 57\\nvalue = [27, 30]'),\n",
       " Text(254.98013245033113, 117.77999999999999, 'gini = 0.5\\nsamples = 94\\nvalue = [47, 47]'),\n",
       " Text(261.6317880794702, 135.89999999999998, 'X[1] <= 18.5\\ngini = 0.414\\nsamples = 58\\nvalue = [41, 17]'),\n",
       " Text(259.4145695364238, 117.77999999999999, 'X[1] <= 16.5\\ngini = 0.426\\nsamples = 52\\nvalue = [36, 16]'),\n",
       " Text(257.1973509933775, 99.66, 'gini = 0.438\\nsamples = 37\\nvalue = [25, 12]'),\n",
       " Text(261.6317880794702, 99.66, 'gini = 0.391\\nsamples = 15\\nvalue = [11, 4]'),\n",
       " Text(263.8490066225165, 117.77999999999999, 'gini = 0.278\\nsamples = 6\\nvalue = [5, 1]'),\n",
       " Text(300.50240066225166, 172.14, 'X[1] <= 15.0\\ngini = 0.291\\nsamples = 2148\\nvalue = [1769, 379]'),\n",
       " Text(280.4781456953642, 154.01999999999998, 'X[1] <= 13.0\\ngini = 0.314\\nsamples = 1392\\nvalue = [1121, 271]'),\n",
       " Text(272.71788079470195, 135.89999999999998, 'X[2] <= 0.5\\ngini = 0.28\\nsamples = 660\\nvalue = [549, 111]'),\n",
       " Text(268.28344370860924, 117.77999999999999, 'X[5] <= 0.5\\ngini = 0.302\\nsamples = 502\\nvalue = [409, 93]'),\n",
       " Text(266.0662251655629, 99.66, 'X[6] <= 0.5\\ngini = 0.288\\nsamples = 425\\nvalue = [351, 74]'),\n",
       " Text(263.8490066225165, 81.53999999999999, 'X[1] <= 10.5\\ngini = 0.286\\nsamples = 423\\nvalue = [350, 73]'),\n",
       " Text(261.6317880794702, 63.41999999999999, 'gini = 0.0\\nsamples = 2\\nvalue = [2, 0]'),\n",
       " Text(266.0662251655629, 63.41999999999999, 'X[4] <= 0.5\\ngini = 0.287\\nsamples = 421\\nvalue = [348, 73]'),\n",
       " Text(263.8490066225165, 45.29999999999998, 'X[3] <= 0.5\\ngini = 0.282\\nsamples = 365\\nvalue = [303, 62]'),\n",
       " Text(261.6317880794702, 27.17999999999998, 'gini = 0.0\\nsamples = 1\\nvalue = [1, 0]'),\n",
       " Text(266.0662251655629, 27.17999999999998, 'gini = 0.283\\nsamples = 364\\nvalue = [302, 62]'),\n",
       " Text(268.28344370860924, 45.29999999999998, 'gini = 0.316\\nsamples = 56\\nvalue = [45, 11]'),\n",
       " Text(268.28344370860924, 81.53999999999999, 'gini = 0.5\\nsamples = 2\\nvalue = [1, 1]'),\n",
       " Text(270.5006622516556, 99.66, 'gini = 0.372\\nsamples = 77\\nvalue = [58, 19]'),\n",
       " Text(277.15231788079467, 117.77999999999999, 'X[1] <= 10.5\\ngini = 0.202\\nsamples = 158\\nvalue = [140, 18]'),\n",
       " Text(274.93509933774834, 99.66, 'gini = 0.375\\nsamples = 4\\nvalue = [3, 1]'),\n",
       " Text(279.36953642384105, 99.66, 'gini = 0.196\\nsamples = 154\\nvalue = [137, 17]'),\n",
       " Text(288.2384105960265, 135.89999999999998, 'X[5] <= 0.5\\ngini = 0.342\\nsamples = 732\\nvalue = [572, 160]'),\n",
       " Text(286.02119205298015, 117.77999999999999, 'X[6] <= 0.5\\ngini = 0.335\\nsamples = 638\\nvalue = [502, 136]'),\n",
       " Text(283.80397350993377, 99.66, 'X[4] <= 0.5\\ngini = 0.334\\nsamples = 632\\nvalue = [498, 134]'),\n",
       " Text(281.5867549668874, 81.53999999999999, 'X[3] <= 0.5\\ngini = 0.33\\nsamples = 479\\nvalue = [379, 100]'),\n",
       " Text(279.36953642384105, 63.41999999999999, 'X[2] <= 0.5\\ngini = 0.328\\nsamples = 92\\nvalue = [73, 19]'),\n",
       " Text(277.15231788079467, 45.29999999999998, 'gini = 0.298\\nsamples = 11\\nvalue = [9, 2]'),\n",
       " Text(281.5867549668874, 45.29999999999998, 'gini = 0.332\\nsamples = 81\\nvalue = [64, 17]'),\n",
       " Text(283.80397350993377, 63.41999999999999, 'gini = 0.331\\nsamples = 387\\nvalue = [306, 81]'),\n",
       " Text(286.02119205298015, 81.53999999999999, 'gini = 0.346\\nsamples = 153\\nvalue = [119, 34]'),\n",
       " Text(288.2384105960265, 99.66, 'gini = 0.444\\nsamples = 6\\nvalue = [4, 2]'),\n",
       " Text(290.45562913907287, 117.77999999999999, 'gini = 0.38\\nsamples = 94\\nvalue = [70, 24]'),\n",
       " Text(320.52665562913904, 154.01999999999998, 'X[4] <= 0.5\\ngini = 0.245\\nsamples = 756\\nvalue = [648, 108]'),\n",
       " Text(312.90496688741723, 135.89999999999998, 'X[1] <= 18.5\\ngini = 0.307\\nsamples = 275\\nvalue = [223, 52]'),\n",
       " Text(304.3132450331126, 117.77999999999999, 'X[5] <= 0.5\\ngini = 0.28\\nsamples = 232\\nvalue = [193, 39]'),\n",
       " Text(298.2158940397351, 99.66, 'X[2] <= 0.5\\ngini = 0.25\\nsamples = 164\\nvalue = [140, 24]'),\n",
       " Text(292.6728476821192, 81.53999999999999, 'X[1] <= 16.5\\ngini = 0.266\\nsamples = 133\\nvalue = [112, 21]'),\n",
       " Text(288.2384105960265, 63.41999999999999, 'X[3] <= 0.5\\ngini = 0.257\\nsamples = 112\\nvalue = [95, 17]'),\n",
       " Text(286.02119205298015, 45.29999999999998, 'gini = 0.245\\nsamples = 7\\nvalue = [6, 1]'),\n",
       " Text(290.45562913907287, 45.29999999999998, 'gini = 0.258\\nsamples = 105\\nvalue = [89, 16]'),\n",
       " Text(297.1072847682119, 63.41999999999999, 'X[6] <= 0.5\\ngini = 0.308\\nsamples = 21\\nvalue = [17, 4]'),\n",
       " Text(294.8900662251656, 45.29999999999998, 'X[3] <= 0.5\\ngini = 0.278\\nsamples = 18\\nvalue = [15, 3]'),\n",
       " Text(292.6728476821192, 27.17999999999998, 'gini = 0.0\\nsamples = 2\\nvalue = [2, 0]'),\n",
       " Text(297.1072847682119, 27.17999999999998, 'gini = 0.305\\nsamples = 16\\nvalue = [13, 3]'),\n",
       " Text(299.3245033112583, 45.29999999999998, 'gini = 0.444\\nsamples = 3\\nvalue = [2, 1]'),\n",
       " Text(303.758940397351, 81.53999999999999, 'X[1] <= 16.5\\ngini = 0.175\\nsamples = 31\\nvalue = [28, 3]'),\n",
       " Text(301.5417218543046, 63.41999999999999, 'gini = 0.142\\nsamples = 26\\nvalue = [24, 2]'),\n",
       " Text(305.97615894039734, 63.41999999999999, 'gini = 0.32\\nsamples = 5\\nvalue = [4, 1]'),\n",
       " Text(310.41059602649005, 99.66, 'X[1] <= 16.5\\ngini = 0.344\\nsamples = 68\\nvalue = [53, 15]'),\n",
       " Text(308.1933774834437, 81.53999999999999, 'gini = 0.335\\nsamples = 47\\nvalue = [37, 10]'),\n",
       " Text(312.62781456953644, 81.53999999999999, 'gini = 0.363\\nsamples = 21\\nvalue = [16, 5]'),\n",
       " Text(321.49668874172187, 117.77999999999999, 'X[3] <= 0.5\\ngini = 0.422\\nsamples = 43\\nvalue = [30, 13]'),\n",
       " Text(319.2794701986755, 99.66, 'X[2] <= 0.5\\ngini = 0.426\\nsamples = 39\\nvalue = [27, 12]'),\n",
       " Text(317.06225165562915, 81.53999999999999, 'X[6] <= 0.5\\ngini = 0.431\\nsamples = 35\\nvalue = [24, 11]'),\n",
       " Text(314.84503311258277, 63.41999999999999, 'X[5] <= 0.5\\ngini = 0.469\\nsamples = 8\\nvalue = [5, 3]'),\n",
       " Text(312.62781456953644, 45.29999999999998, 'gini = 0.0\\nsamples = 1\\nvalue = [0, 1]'),\n",
       " Text(317.06225165562915, 45.29999999999998, 'gini = 0.408\\nsamples = 7\\nvalue = [5, 2]'),\n",
       " Text(319.2794701986755, 63.41999999999999, 'gini = 0.417\\nsamples = 27\\nvalue = [19, 8]'),\n",
       " Text(321.49668874172187, 81.53999999999999, 'gini = 0.375\\nsamples = 4\\nvalue = [3, 1]'),\n",
       " Text(323.7139072847682, 99.66, 'gini = 0.375\\nsamples = 4\\nvalue = [3, 1]'),\n",
       " Text(328.1483443708609, 135.89999999999998, 'X[1] <= 16.5\\ngini = 0.206\\nsamples = 481\\nvalue = [425, 56]'),\n",
       " Text(325.9311258278146, 117.77999999999999, 'gini = 0.202\\nsamples = 254\\nvalue = [225, 29]'),\n",
       " Text(330.3655629139073, 117.77999999999999, 'X[1] <= 18.5\\ngini = 0.21\\nsamples = 227\\nvalue = [200, 27]'),\n",
       " Text(328.1483443708609, 99.66, 'gini = 0.214\\nsamples = 148\\nvalue = [130, 18]'),\n",
       " Text(332.5827814569536, 99.66, 'gini = 0.202\\nsamples = 79\\nvalue = [70, 9]')]"
      ]
     },
     "execution_count": 33,
     "metadata": {},
     "output_type": "execute_result"
    },
    {
     "data": {
      "image/png": "[encoded data removed]",
      "text/plain": [
       "<Figure size 432x288 with 1 Axes>"
      ]
     },
     "metadata": {
      "needs_background": "light"
     },
     "output_type": "display_data"
    }
   ],
   "source": [
    "tree.plot_tree(model)"
   ]
  },
  {
   "cell_type": "markdown",
   "metadata": {},
   "source": [
    "### Question 6. Now try using max_depth = 2, 3, 4 and crierion = 'gini' and 'entropy' to build 3 X 2 = 6 different models"
   ]
  },
  {
   "cell_type": "code",
   "execution_count": 34,
   "metadata": {
    "scrolled": true
   },
   "outputs": [
    {
     "name": "stdout",
     "output_type": "stream",
     "text": [
      "---------------------------------\n",
      "depth: 2\\tcriteriongini\\n\n",
      "[[732 118]\n",
      " [248 176]]\n",
      "              precision    recall  f1-score   support\n",
      "\n",
      "           0       0.75      0.86      0.80       850\n",
      "           1       0.60      0.42      0.49       424\n",
      "\n",
      "    accuracy                           0.71      1274\n",
      "   macro avg       0.67      0.64      0.65      1274\n",
      "weighted avg       0.70      0.71      0.70      1274\n",
      "\n",
      "0.7127158555729984\n",
      "---------------------------------\n",
      "depth: 2\\tcriterionentropy\\n\n",
      "[[732 118]\n",
      " [248 176]]\n",
      "              precision    recall  f1-score   support\n",
      "\n",
      "           0       0.75      0.86      0.80       850\n",
      "           1       0.60      0.42      0.49       424\n",
      "\n",
      "    accuracy                           0.71      1274\n",
      "   macro avg       0.67      0.64      0.65      1274\n",
      "weighted avg       0.70      0.71      0.70      1274\n",
      "\n",
      "0.7127158555729984\n",
      "---------------------------------\n",
      "depth: 3\\tcriteriongini\\n\n",
      "[[732 118]\n",
      " [248 176]]\n",
      "              precision    recall  f1-score   support\n",
      "\n",
      "           0       0.75      0.86      0.80       850\n",
      "           1       0.60      0.42      0.49       424\n",
      "\n",
      "    accuracy                           0.71      1274\n",
      "   macro avg       0.67      0.64      0.65      1274\n",
      "weighted avg       0.70      0.71      0.70      1274\n",
      "\n",
      "0.7127158555729984\n",
      "---------------------------------\n",
      "depth: 3\\tcriterionentropy\\n\n",
      "[[732 118]\n",
      " [248 176]]\n",
      "              precision    recall  f1-score   support\n",
      "\n",
      "           0       0.75      0.86      0.80       850\n",
      "           1       0.60      0.42      0.49       424\n",
      "\n",
      "    accuracy                           0.71      1274\n",
      "   macro avg       0.67      0.64      0.65      1274\n",
      "weighted avg       0.70      0.71      0.70      1274\n",
      "\n",
      "0.7127158555729984\n",
      "---------------------------------\n",
      "depth: 4\\tcriteriongini\\n\n",
      "[[713 137]\n",
      " [232 192]]\n",
      "              precision    recall  f1-score   support\n",
      "\n",
      "           0       0.75      0.84      0.79       850\n",
      "           1       0.58      0.45      0.51       424\n",
      "\n",
      "    accuracy                           0.71      1274\n",
      "   macro avg       0.67      0.65      0.65      1274\n",
      "weighted avg       0.70      0.71      0.70      1274\n",
      "\n",
      "0.7103610675039247\n",
      "---------------------------------\n",
      "depth: 4\\tcriterionentropy\\n\n",
      "[[713 137]\n",
      " [232 192]]\n",
      "              precision    recall  f1-score   support\n",
      "\n",
      "           0       0.75      0.84      0.79       850\n",
      "           1       0.58      0.45      0.51       424\n",
      "\n",
      "    accuracy                           0.71      1274\n",
      "   macro avg       0.67      0.65      0.65      1274\n",
      "weighted avg       0.70      0.71      0.70      1274\n",
      "\n",
      "0.7103610675039247\n"
     ]
    }
   ],
   "source": [
    "depths=[2,3,4]\n",
    "criterias=['gini','entropy']\n",
    "for d in depths:\n",
    "    for c in criterias:\n",
    "        model = DecisionTreeClassifier(max_depth=d, criterion=c)\n",
    "        model.fit(X_train,Y_train)\n",
    "        predictions = model.predict(X_test)\n",
    "        print('---------------------------------')\n",
    "        print('depth: '+str(d) + '\\\\t' + 'criterion' + c +'\\\\n')\n",
    "        print(confusion_matrix(Y_test,predictions))\n",
    "        print(classification_report(Y_test,predictions))\n",
    "        print(accuracy_score(Y_test, predictions))\n",
    "        #tree.plot_tree(model)"
   ]
  },
  {
   "cell_type": "markdown",
   "metadata": {},
   "source": [
    "### Question 7. What is your obsevation from Question 6? Does the choice of the criterion important in this case? What about the max_depth? What is the best choice of max_depth and criterion?"
   ]
  },
  {
   "cell_type": "markdown",
   "metadata": {},
   "source": [
    "Type your answer and code here"
   ]
  },
  {
   "cell_type": "markdown",
   "metadata": {},
   "source": [
    "### Question 8, now pick three models, with max_depth = 2, 3 and 4. You can pick the which ever criterions you want and visual the three trees"
   ]
  },
  {
   "cell_type": "markdown",
   "metadata": {},
   "source": [
    "Type your answer and code here"
   ]
  },
  {
   "cell_type": "code",
   "execution_count": 36,
   "metadata": {},
   "outputs": [
    {
     "data": {
      "text/plain": [
       "DecisionTreeClassifier(max_depth=3)"
      ]
     },
     "execution_count": 36,
     "metadata": {},
     "output_type": "execute_result"
    }
   ],
   "source": [
    "# Hint \n",
    "model1 = DecisionTreeClassifier(max_depth=1, criterion='gini')\n",
    "model1.fit(X_train, Y_train)\n",
    "model2 = DecisionTreeClassifier(max_depth=2, criterion='gini')\n",
    "model2.fit(X_train, Y_train)\n",
    "model3 = DecisionTreeClassifier(max_depth=3, criterion='gini')\n",
    "model3.fit(X_train, Y_train)\n",
    "# Then display all 3 trees"
   ]
  },
  {
   "cell_type": "code",
   "execution_count": 37,
   "metadata": {},
   "outputs": [
    {
     "data": {
      "text/plain": [
       "[Text(167.4, 163.07999999999998, 'X[0] <= 3.5\\ngini = 0.435\\nsamples = 5092\\nvalue = [3463, 1629]'),\n",
       " Text(83.7, 54.360000000000014, 'gini = 0.487\\nsamples = 1146\\nvalue = [480, 666]'),\n",
       " Text(251.10000000000002, 54.360000000000014, 'gini = 0.369\\nsamples = 3946\\nvalue = [2983, 963]')]"
      ]
     },
     "execution_count": 37,
     "metadata": {},
     "output_type": "execute_result"
    },
    {
     "data": {
      "image/png": "[encoded data removed]",
      "text/plain": [
       "<Figure size 432x288 with 1 Axes>"
      ]
     },
     "metadata": {
      "needs_background": "light"
     },
     "output_type": "display_data"
    }
   ],
   "source": [
    "tree.plot_tree(model1)"
   ]
  },
  {
   "cell_type": "code",
   "execution_count": 38,
   "metadata": {},
   "outputs": [
    {
     "data": {
      "text/plain": [
       "[Text(167.4, 181.2, 'X[0] <= 3.5\\ngini = 0.435\\nsamples = 5092\\nvalue = [3463, 1629]'),\n",
       " Text(83.7, 108.72, 'X[0] <= 1.5\\ngini = 0.487\\nsamples = 1146\\nvalue = [480, 666]'),\n",
       " Text(41.85, 36.23999999999998, 'gini = 0.365\\nsamples = 79\\nvalue = [19, 60]'),\n",
       " Text(125.55000000000001, 36.23999999999998, 'gini = 0.491\\nsamples = 1067\\nvalue = [461, 606]'),\n",
       " Text(251.10000000000002, 108.72, 'X[0] <= 4.5\\ngini = 0.369\\nsamples = 3946\\nvalue = [2983, 963]'),\n",
       " Text(209.25, 36.23999999999998, 'gini = 0.439\\nsamples = 1798\\nvalue = [1214, 584]'),\n",
       " Text(292.95, 36.23999999999998, 'gini = 0.291\\nsamples = 2148\\nvalue = [1769, 379]')]"
      ]
     },
     "execution_count": 38,
     "metadata": {},
     "output_type": "execute_result"
    },
    {
     "data": {
      "image/png": "[encoded data removed]",
      "text/plain": [
       "<Figure size 432x288 with 1 Axes>"
      ]
     },
     "metadata": {
      "needs_background": "light"
     },
     "output_type": "display_data"
    }
   ],
   "source": [
    "tree.plot_tree(model2)"
   ]
  },
  {
   "cell_type": "code",
   "execution_count": 39,
   "metadata": {},
   "outputs": [
    {
     "data": {
      "text/plain": [
       "[Text(167.4, 190.26, 'X[0] <= 3.5\\ngini = 0.435\\nsamples = 5092\\nvalue = [3463, 1629]'),\n",
       " Text(83.7, 135.9, 'X[0] <= 1.5\\ngini = 0.487\\nsamples = 1146\\nvalue = [480, 666]'),\n",
       " Text(41.85, 81.53999999999999, 'X[2] <= 0.5\\ngini = 0.365\\nsamples = 79\\nvalue = [19, 60]'),\n",
       " Text(20.925, 27.180000000000007, 'gini = 0.299\\nsamples = 60\\nvalue = [11, 49]'),\n",
       " Text(62.775000000000006, 27.180000000000007, 'gini = 0.488\\nsamples = 19\\nvalue = [8, 11]'),\n",
       " Text(125.55000000000001, 81.53999999999999, 'X[5] <= 0.5\\ngini = 0.491\\nsamples = 1067\\nvalue = [461, 606]'),\n",
       " Text(104.625, 27.180000000000007, 'gini = 0.494\\nsamples = 931\\nvalue = [414, 517]'),\n",
       " Text(146.475, 27.180000000000007, 'gini = 0.452\\nsamples = 136\\nvalue = [47, 89]'),\n",
       " Text(251.10000000000002, 135.9, 'X[0] <= 4.5\\ngini = 0.369\\nsamples = 3946\\nvalue = [2983, 963]'),\n",
       " Text(209.25, 81.53999999999999, 'X[5] <= 0.5\\ngini = 0.439\\nsamples = 1798\\nvalue = [1214, 584]'),\n",
       " Text(188.32500000000002, 27.180000000000007, 'gini = 0.426\\nsamples = 1587\\nvalue = [1098, 489]'),\n",
       " Text(230.175, 27.180000000000007, 'gini = 0.495\\nsamples = 211\\nvalue = [116, 95]'),\n",
       " Text(292.95, 81.53999999999999, 'X[1] <= 15.0\\ngini = 0.291\\nsamples = 2148\\nvalue = [1769, 379]'),\n",
       " Text(272.02500000000003, 27.180000000000007, 'gini = 0.314\\nsamples = 1392\\nvalue = [1121, 271]'),\n",
       " Text(313.875, 27.180000000000007, 'gini = 0.245\\nsamples = 756\\nvalue = [648, 108]')]"
      ]
     },
     "execution_count": 39,
     "metadata": {},
     "output_type": "execute_result"
    },
    {
     "data": {
      "image/png": "[encoded data removed]",
      "text/plain": [
       "<Figure size 432x288 with 1 Axes>"
      ]
     },
     "metadata": {
      "needs_background": "light"
     },
     "output_type": "display_data"
    }
   ],
   "source": [
    "tree.plot_tree(model3)"
   ]
  },
  {
   "cell_type": "markdown",
   "metadata": {},
   "source": [
    "### Question 9. Now build a Random Forest Classifier with, say, 100 trees. Check the model performance "
   ]
  },
  {
   "cell_type": "markdown",
   "metadata": {},
   "source": [
    "Type your answer and code here"
   ]
  },
  {
   "cell_type": "code",
   "execution_count": 40,
   "metadata": {},
   "outputs": [
    {
     "name": "stdout",
     "output_type": "stream",
     "text": [
      "              precision    recall  f1-score   support\n",
      "\n",
      "           0       0.74      0.85      0.79       850\n",
      "           1       0.58      0.42      0.48       424\n",
      "\n",
      "    accuracy                           0.70      1274\n",
      "   macro avg       0.66      0.63      0.64      1274\n",
      "weighted avg       0.69      0.70      0.69      1274\n",
      "\n",
      "0.7048665620094191\n"
     ]
    }
   ],
   "source": [
    "rfc = RandomForestClassifier(n_estimators=100)\n",
    "rfc.fit(X_train, Y_train)\n",
    "rfc_pred = rfc.predict(X_test)\n",
    "print(classification_report(Y_test, rfc_pred))\n",
    "print(accuracy_score(Y_test, rfc_pred))"
   ]
  }
 ],
 "metadata": {
  "kernelspec": {
   "display_name": "Python 3",
   "language": "python",
   "name": "python3"
  },
  "language_info": {
   "codemirror_mode": {
    "name": "ipython",
    "version": 3
   },
   "file_extension": ".py",
   "mimetype": "text/x-python",
   "name": "python",
   "nbconvert_exporter": "python",
   "pygments_lexer": "ipython3",
   "version": "3.8.5"
  }
 },
 "nbformat": 4,
 "nbformat_minor": 2
}
