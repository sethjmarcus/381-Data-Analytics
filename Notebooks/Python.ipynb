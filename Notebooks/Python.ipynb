{
 "cells": [
  {
   "cell_type": "markdown",
   "metadata": {},
   "source": [
    "# Python Crash Course\n",
    "\n",
    "## Quick reminders for basic Python syntax and concepts\n",
    "\n",
    "### hello world"
   ]
  },
  {
   "cell_type": "markdown",
   "metadata": {},
   "source": [
    "**import built-in libaries**"
   ]
  },
  {
   "cell_type": "code",
   "execution_count": 2,
   "metadata": {},
   "outputs": [
    {
     "name": "stdout",
     "output_type": "stream",
     "text": [
      "['#lendingclub_loan_data.csv#', '.ipynb_checkpoints', '.log', '01-Decision Trees and Random Forests in Python.ipynb', '01-Logistic Regression with Python.ipynb', '01-NLP (Natural Language Processing) with Python.ipynb', '02-Decision Trees and Random Forest Project.ipynb', '02-Logistic Regression Project.ipynb', '02-NLP Project.ipynb', '03-Decision Trees and Random Forest Project - Solutions.ipynb', '03-Logistic Regression Project - Solutions.ipynb', '03-NLP Project - Solutions.ipynb', '3-Sentiment-Analysis.ipynb', '5-Text-Generation.ipynb', 'adult.data.csv', 'adult_income2.csv~', 'adult_income_modified.csv', 'adult_income_modified.csv~', 'affairs.csv', 'affairs2.csv', 'affairs2.csv~', 'AlexPang2019Profile.jpg', 'AlexPang2019Profile.png', 'AlexPang2019SmallProfile.png', 'boston_data.csv', 'car_crashes.csv', 'car_crashes2.csv', 'car_crashes2.csv~', 'Clustering.ipynb', 'Datasets.ipynb', 'DataVisualization.ipynb', 'DA_HW_0_Alex_Pang.ipynb', 'DA_HW_0_Mark_Ruffalo.ipynb', 'debug.log', 'Decision Trees.ipynb', 'Exploration and analysis - Auto-MPG.ipynb', 'ExploratoryDataAnalysis.ipynb', 'FinalProject_Fall2020.ipynb', 'FinalProject_Mark_Xia.ipynb', 'FinalProject_Spring2020.ipynb', 'Folium.ipynb', 'golf.csv', 'HW0.ipynb', 'HW1_Fall2020.ipynb', 'HW1_Fall2020_Solution.ipynb', 'HW1_Spring2020.ipynb', 'HW1_Spring2020_Solution.ipynb', 'HW2_Fall2020.ipynb', 'HW2_Fall2020_with_answers.ipynb', 'HW2_Spring2020.ipynb', 'HW2_Spring2020_with_answers.ipynb', 'HW3_Fall2020.ipynb', 'HW3_Fall2020_with_answers.ipynb', 'HW3_Spring2020.ipynb', 'HW3_Spring2020_with_answers.ipynb', 'HWFromStudents', 'iris.csv', 'kyphosis.csv', 'lendingclub_loan_data.csv', 'lendingclub_loan_data.csv~', 'lendingclub_loan_data_orig.csv', 'Logistic Regression.ipynb', 'MarkRuffalo.png', 'mpg.csv', 'mpg.xlsx', 'mpg2.csv', 'mpg2.csv~', 'mpg3.csv', 'mpg3.csv~', 'muffin_vs_cupcake_demo.ipynb', 'My First Python Notebook.ipynb', 'MyFirstNotebook.ipynb', 'MyFirstPythonNotebook.ipynb', 'Naive Bayes Classifier.ipynb', 'NaiveBayes.ipynb', 'NLP (Natural Language Processing).ipynb', 'old', 'Pandas.ipynb', 'petal.png', 'Polynomial Regression.ipynb', 'Preprocessing.ipynb', 'ProbAndStat.ipynb', 'Python.ipynb', 'QuizzQuestions.ipynb', 'recipes_muffins_cupcakes.csv', 'region.csv', 'region.csv~', 'Regression.ipynb', 'smsspamcollection', 'smsspamcollection.zip', 'SpamMailClassifer.ipynb', 'starwars', 'Supervised Learning -  Linear Regression.ipynb', 'Supervised Learning - Logistic Regression - LiveCode.ipynb', 'Supervised Learning - Logistic Regression.ipynb', 'Supervised Learning - Naive Bayes.ipynb', 'Supervised Learning LiveCode.ipynb', 'Support Vector Machines.ipynb', 'SVM.ipynb', 'TD Streaming API.ipynb', 'TextMining.ipynb', 'tips.csv', 'tips.xlsx', 'tips2.csv', 'tips2.csv~', 'titanic.csv', 'Untitled.ipynb', 'Untitled1.ipynb', 'USA_Housing.csv', 'Wholesale customers data.csv', 'yelp.csv', 'zillow_forrent_queens_college.csv', 'zillow_parsed_forrent.csv']\n"
     ]
    }
   ],
   "source": [
    "import os\n",
    "print(os.listdir())"
   ]
  },
  {
   "cell_type": "code",
   "execution_count": 2,
   "metadata": {},
   "outputs": [
    {
     "name": "stdout",
     "output_type": "stream",
     "text": [
      "Current Directory c:\\Users\\panga\\OneDrive\\QC\\DataAnalyticsSpring2020\\notebooks\n"
     ]
    }
   ],
   "source": [
    "print(\"Current Directory\", os.getcwd())"
   ]
  },
  {
   "cell_type": "code",
   "execution_count": 3,
   "metadata": {},
   "outputs": [
    {
     "data": {
      "text/plain": [
       "'panga'"
      ]
     },
     "execution_count": 3,
     "metadata": {},
     "output_type": "execute_result"
    }
   ],
   "source": [
    "import getpass\n",
    "getpass.getuser()"
   ]
  },
  {
   "cell_type": "markdown",
   "metadata": {},
   "source": [
    "## standard libaries for DataFrame and Data Visualization"
   ]
  },
  {
   "cell_type": "code",
   "execution_count": 5,
   "metadata": {},
   "outputs": [],
   "source": [
    "import pandas as pd\n",
    "import numpy as np\n",
    "import seaborn as sns"
   ]
  },
  {
   "cell_type": "markdown",
   "metadata": {},
   "source": [
    "## Data Types: string, int, float, boolean"
   ]
  },
  {
   "cell_type": "code",
   "execution_count": 4,
   "metadata": {},
   "outputs": [],
   "source": [
    "name = \"Alex\"\n",
    "greetings = \"I am your professor\"\n",
    "course = \"Data Analytics\"\n",
    "number_of_hw = 3"
   ]
  },
  {
   "cell_type": "code",
   "execution_count": 5,
   "metadata": {},
   "outputs": [
    {
     "name": "stdout",
     "output_type": "stream",
     "text": [
      "Hello my name is Alex. I am your professor in Data Analytics course.There will be 3 homework\n"
     ]
    }
   ],
   "source": [
    "message = \"Hello my name is {}. {} in {} course.\".format(name, greetings, course)\n",
    "message += \"There will be {} homework\".format(number_of_hw)\n",
    "print(message)"
   ]
  },
  {
   "cell_type": "code",
   "execution_count": 6,
   "metadata": {},
   "outputs": [],
   "source": [
    "hw = 0.4\n",
    "mid_term = 0.2\n",
    "final_project = 0.2\n",
    "final_exam = 0.2"
   ]
  },
  {
   "cell_type": "code",
   "execution_count": 8,
   "metadata": {},
   "outputs": [
    {
     "name": "stdout",
     "output_type": "stream",
     "text": [
      "1.0\n"
     ]
    }
   ],
   "source": [
    "total = hw + mid_term + final_project + final_exam\n",
    "print(total)"
   ]
  },
  {
   "cell_type": "code",
   "execution_count": 10,
   "metadata": {},
   "outputs": [
    {
     "name": "stdout",
     "output_type": "stream",
     "text": [
      "yes\n"
     ]
    }
   ],
   "source": [
    "flag = 3 > 2\n",
    "if flag:\n",
    "    print(\"yes\")\n",
    "else:\n",
    "    print(\"no\")"
   ]
  },
  {
   "cell_type": "code",
   "execution_count": 11,
   "metadata": {},
   "outputs": [
    {
     "data": {
      "text/plain": [
       "True"
      ]
     },
     "execution_count": 11,
     "metadata": {},
     "output_type": "execute_result"
    }
   ],
   "source": [
    "flag = (1 + 1 == 2)\n",
    "flag"
   ]
  },
  {
   "cell_type": "markdown",
   "metadata": {},
   "source": [
    "## List"
   ]
  },
  {
   "cell_type": "code",
   "execution_count": 12,
   "metadata": {},
   "outputs": [],
   "source": [
    "current_students = [ \"Alex\", \"Joe\", \"Mary\"]"
   ]
  },
  {
   "cell_type": "code",
   "execution_count": 13,
   "metadata": {},
   "outputs": [],
   "source": [
    "new_students = [\"Henry\", \"Chris\"]"
   ]
  },
  {
   "cell_type": "code",
   "execution_count": 14,
   "metadata": {},
   "outputs": [
    {
     "data": {
      "text/plain": [
       "['Alex', 'Joe', 'Mary', 'Henry', 'Chris']"
      ]
     },
     "execution_count": 14,
     "metadata": {},
     "output_type": "execute_result"
    }
   ],
   "source": [
    "all_students = current_students + new_students\n",
    "all_students"
   ]
  },
  {
   "cell_type": "code",
   "execution_count": 17,
   "metadata": {},
   "outputs": [
    {
     "data": {
      "text/plain": [
       "['Alex', 'Joe', 'Mary', 'Henry', 'Chris', 'Donald', 'Donald', 'Donald']"
      ]
     },
     "execution_count": 17,
     "metadata": {},
     "output_type": "execute_result"
    }
   ],
   "source": [
    "all_students.append(\"Donald\")\n",
    "all_students"
   ]
  },
  {
   "cell_type": "code",
   "execution_count": 18,
   "metadata": {},
   "outputs": [
    {
     "name": "stdout",
     "output_type": "stream",
     "text": [
      "Alex\n",
      "Henry\n"
     ]
    }
   ],
   "source": [
    "print(all_students[0])\n",
    "print(all_students[3])"
   ]
  },
  {
   "cell_type": "markdown",
   "metadata": {},
   "source": [
    "**list comprehension**"
   ]
  },
  {
   "cell_type": "code",
   "execution_count": 19,
   "metadata": {},
   "outputs": [
    {
     "name": "stdout",
     "output_type": "stream",
     "text": [
      "['hong kong', 'usa', 'china', 'india']\n",
      "['HONG KONG', 'USA', 'CHINA', 'INDIA']\n"
     ]
    }
   ],
   "source": [
    "city = [\"hong kong\", \"usa\", \"china\", \"india\"]\n",
    "CITY = [ v.upper() for v in city]\n",
    "print(city)\n",
    "print(CITY)"
   ]
  },
  {
   "cell_type": "code",
   "execution_count": 3,
   "metadata": {},
   "outputs": [
    {
     "name": "stdout",
     "output_type": "stream",
     "text": [
      "<class 'str'>\n",
      "<class 'float'>\n",
      "<class 'int'>\n"
     ]
    }
   ],
   "source": [
    "x = 'Alex'\n",
    "print(type(x))\n",
    "\n",
    "x = 1.3\n",
    "print(type(x))\n",
    "x = 4\n",
    "print(type(x))"
   ]
  },
  {
   "cell_type": "markdown",
   "metadata": {},
   "source": [
    "## Dictionaries"
   ]
  },
  {
   "cell_type": "code",
   "execution_count": 20,
   "metadata": {},
   "outputs": [],
   "source": [
    "d = {'key1':'item1','key2':'item2'}"
   ]
  },
  {
   "cell_type": "code",
   "execution_count": 21,
   "metadata": {},
   "outputs": [
    {
     "data": {
      "text/plain": [
       "{'key1': 'item1', 'key2': 'item2'}"
      ]
     },
     "execution_count": 21,
     "metadata": {},
     "output_type": "execute_result"
    }
   ],
   "source": [
    "d"
   ]
  },
  {
   "cell_type": "code",
   "execution_count": 22,
   "metadata": {},
   "outputs": [
    {
     "data": {
      "text/plain": [
       "dict"
      ]
     },
     "execution_count": 22,
     "metadata": {},
     "output_type": "execute_result"
    }
   ],
   "source": [
    "type(d)"
   ]
  },
  {
   "cell_type": "code",
   "execution_count": 23,
   "metadata": {},
   "outputs": [
    {
     "data": {
      "text/plain": [
       "list"
      ]
     },
     "execution_count": 23,
     "metadata": {},
     "output_type": "execute_result"
    }
   ],
   "source": [
    "type(city)"
   ]
  },
  {
   "cell_type": "code",
   "execution_count": 24,
   "metadata": {},
   "outputs": [
    {
     "data": {
      "text/plain": [
       "'item1'"
      ]
     },
     "execution_count": 24,
     "metadata": {},
     "output_type": "execute_result"
    }
   ],
   "source": [
    "d['key1']"
   ]
  },
  {
   "cell_type": "markdown",
   "metadata": {},
   "source": [
    "## if else statements, logical operators, for loop"
   ]
  },
  {
   "cell_type": "code",
   "execution_count": 32,
   "metadata": {},
   "outputs": [
    {
     "name": "stdout",
     "output_type": "stream",
     "text": [
      "Yes\n"
     ]
    }
   ],
   "source": [
    "if 3 > 2:\n",
    "    print(\"Yes\")\n",
    "else:\n",
    "    print(\"No\")"
   ]
  },
  {
   "cell_type": "code",
   "execution_count": 25,
   "metadata": {},
   "outputs": [
    {
     "name": "stdout",
     "output_type": "stream",
     "text": [
      "x less than 9\n"
     ]
    }
   ],
   "source": [
    "x = 7\n",
    "if x < 3:\n",
    "    print(\"x less than 3\")\n",
    "elif x <= 6:\n",
    "    print(\"x equal or less than 6\")\n",
    "elif x < 9:\n",
    "    print(\"x less than 9\")\n",
    "else:\n",
    "    print(\"x is equal or larger than 9\")"
   ]
  },
  {
   "cell_type": "code",
   "execution_count": 26,
   "metadata": {},
   "outputs": [
    {
     "data": {
      "text/plain": [
       "{'key1': 'item1', 'key2': 'item2'}"
      ]
     },
     "execution_count": 26,
     "metadata": {},
     "output_type": "execute_result"
    }
   ],
   "source": [
    "d"
   ]
  },
  {
   "cell_type": "code",
   "execution_count": 27,
   "metadata": {},
   "outputs": [
    {
     "name": "stdout",
     "output_type": "stream",
     "text": [
      "key1 is mapped to item1\n",
      "key2 is mapped to item2\n"
     ]
    }
   ],
   "source": [
    "for k, v in d.items():\n",
    "    print(\"{} is mapped to {}\".format(k, v))"
   ]
  },
  {
   "cell_type": "code",
   "execution_count": 28,
   "metadata": {},
   "outputs": [
    {
     "data": {
      "text/plain": [
       "False"
      ]
     },
     "execution_count": 28,
     "metadata": {},
     "output_type": "execute_result"
    }
   ],
   "source": [
    "'key3' in d"
   ]
  },
  {
   "cell_type": "code",
   "execution_count": 29,
   "metadata": {},
   "outputs": [
    {
     "data": {
      "text/plain": [
       "True"
      ]
     },
     "execution_count": 29,
     "metadata": {},
     "output_type": "execute_result"
    }
   ],
   "source": [
    "'key1' in d"
   ]
  },
  {
   "cell_type": "code",
   "execution_count": null,
   "metadata": {},
   "outputs": [],
   "source": []
  }
 ],
 "metadata": {
  "kernelspec": {
   "display_name": "Python 3",
   "language": "python",
   "name": "python3"
  },
  "language_info": {
   "codemirror_mode": {
    "name": "ipython",
    "version": 3
   },
   "file_extension": ".py",
   "mimetype": "text/x-python",
   "name": "python",
   "nbconvert_exporter": "python",
   "pygments_lexer": "ipython3",
   "version": "3.7.4"
  }
 },
 "nbformat": 4,
 "nbformat_minor": 2
}
